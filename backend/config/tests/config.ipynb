{
 "cells": [
  {
   "cell_type": "code",
   "execution_count": null,
   "metadata": {},
   "outputs": [],
   "source": [
    "# 用于生成 Django生产环境的密钥\n",
    "import secrets; \n",
    "print(secrets.token_urlsafe(18))"
   ]
  },
  {
   "cell_type": "code",
   "execution_count": null,
   "metadata": {},
   "outputs": [],
   "source": [
    "import os, sys, django\n",
    "current_path = os.path.abspath(\"./\")\n",
    "project_root = os.path.abspath(\"../../\")\n",
    "print(current_path)\n",
    "print(project_root)\n",
    "sys.path.append(project_root) # 添加项目根目录到Python路径，这样导入根目录下的Django_setup.py了\n"
   ]
  },
  {
   "cell_type": "code",
   "execution_count": 5,
   "metadata": {},
   "outputs": [],
   "source": [
    "import django_setup"
   ]
  },
  {
   "cell_type": "code",
   "execution_count": null,
   "metadata": {},
   "outputs": [],
   "source": [
    "# 在Django 查看SimpleJWT的默认设置字典\n",
    "from rest_framework_simplejwt.settings import api_settings\n",
    "from pprint import pprint\n",
    "pprint(api_settings.defaults)  # 这应该显示所有可用的设置项"
   ]
  },
  {
   "cell_type": "code",
   "execution_count": null,
   "metadata": {},
   "outputs": [],
   "source": [
    "# 或者使用如下方式：\n",
    "import inspect\n",
    "from rest_framework_simplejwt import settings\n",
    "\n",
    "# 打印settings模块中的DEFAULTS字典\n",
    "print(inspect.getsource(settings))"
   ]
  },
  {
   "cell_type": "code",
   "execution_count": null,
   "metadata": {},
   "outputs": [],
   "source": []
  }
 ],
 "metadata": {
  "kernelspec": {
   "display_name": "bid_dev",
   "language": "python",
   "name": "python3"
  },
  "language_info": {
   "codemirror_mode": {
    "name": "ipython",
    "version": 3
   },
   "file_extension": ".py",
   "mimetype": "text/x-python",
   "name": "python",
   "nbconvert_exporter": "python",
   "pygments_lexer": "ipython3",
   "version": "3.12.9"
  }
 },
 "nbformat": 4,
 "nbformat_minor": 2
}
