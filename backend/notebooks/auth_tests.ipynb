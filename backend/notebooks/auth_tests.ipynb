{
 "cells": [
  {
   "cell_type": "markdown",
   "metadata": {},
   "source": [
    "<font color=orange>1. Django的初始化配置</font>"
   ]
  },
  {
   "cell_type": "code",
   "execution_count": 1,
   "metadata": {},
   "outputs": [
    {
     "name": "stdout",
     "output_type": "stream",
     "text": [
      "Development settings loaded\n",
      "INSTALLED_APPS: ['django.contrib.admin', 'django.contrib.auth', 'django.contrib.contenttypes', 'django.contrib.sessions', 'django.contrib.messages', 'django.contrib.staticfiles', 'rest_framework', 'corsheaders', 'apps.authentication', 'apps.files', 'drf_spectacular', 'rest_framework_simplejwt.token_blacklist', 'storages']\n",
      "Using settings from: config.settings.development\n",
      "Project root: C:\\Users\\huiwa\\Documents\\_All_Projects\\BidPilot_new\\backend\n",
      "\n",
      "Installed Apps:\n",
      "- django.contrib.admin\n",
      "- django.contrib.auth\n",
      "- django.contrib.contenttypes\n",
      "- django.contrib.sessions\n",
      "- django.contrib.messages\n",
      "- django.contrib.staticfiles\n",
      "- rest_framework\n",
      "- corsheaders\n",
      "- apps.authentication\n",
      "- apps.files\n",
      "- drf_spectacular\n",
      "- rest_framework_simplejwt.token_blacklist\n",
      "- storages\n"
     ]
    }
   ],
   "source": [
    "# 运行django_setup.py，进行配置。\n",
    "# 检查settings module是否正确? 我的项目结构里，应该是是config/settings/development.py，\n",
    "# 检查project_root是否正确?\n",
    "# 检查INSTALLED_APPS是否正确?\n",
    "%run django_setup.py\n"
   ]
  },
  {
   "cell_type": "markdown",
   "metadata": {},
   "source": [
    "<font color=orange>2. 测试models.py中模型？</font>"
   ]
  },
  {
   "cell_type": "code",
   "execution_count": null,
   "metadata": {},
   "outputs": [],
   "source": [
    "# 测试是否能成功导入模型？ \n",
    "from apps.authentication.models import User, VerificationCode\n",
    "from django.utils import timezone\n",
    "from datetime import timedelta\n",
    "from helpers import queryset_to_dataframe\n",
    "\n",
    "print(\"Django环境已成功加载！\")"
   ]
  },
  {
   "cell_type": "code",
   "execution_count": 3,
   "metadata": {},
   "outputs": [],
   "source": [
    "# 测试用户模型 - 创建用户 （使用自定义的create_user方法）\n",
    "# phone是唯一的必填项\n",
    "test_user = User.objects.create_user(\n",
    "    phone='13800138000',\n",
    "    email='test@example.com',\n",
    "    password='testpass123'\n",
    ")\n",
    "test_superuser = User.objects.create_superuser(\n",
    "    phone='13800138001',\n",
    "    email='test@example.com',\n",
    "    password='testpass123'\n",
    ")\n"
   ]
  },
  {
   "cell_type": "code",
   "execution_count": null,
   "metadata": {},
   "outputs": [],
   "source": [
    "from pprint import pprint\n",
    "pprint(test_user.__dict__)\n",
    "pprint(test_superuser.__dict__)\n"
   ]
  },
  {
   "cell_type": "code",
   "execution_count": 5,
   "metadata": {},
   "outputs": [],
   "source": [
    "# 修改用户参数\n",
    "test_user.is_staff = True  #这个改完以后，test_user也能够登录系统后台。\n",
    "test_user.save()"
   ]
  },
  {
   "cell_type": "markdown",
   "metadata": {},
   "source": [
    "<font color=orange>3.序列化测试</font>\n",
    "\n",
    "\n"
   ]
  },
  {
   "cell_type": "code",
   "execution_count": null,
   "metadata": {},
   "outputs": [],
   "source": [
    "#test_user.delete()\n",
    "User.objects.all().delete() #删除所有用户\n"
   ]
  },
  {
   "cell_type": "code",
   "execution_count": 7,
   "metadata": {},
   "outputs": [],
   "source": [
    "# 导入序列化器\n",
    "from apps.authentication.serializers import UserSerializer, UserCreateSerializer"
   ]
  },
  {
   "cell_type": "code",
   "execution_count": 8,
   "metadata": {},
   "outputs": [],
   "source": [
    "# 测试用户序列化\n",
    "test_user_data = {\n",
    "    'phone': '13800138000',\n",
    "    'password': 'testpass123',\n",
    "    'confirm_password': 'testpass123',\n",
    "    'agree_to_terms': True\n",
    "}"
   ]
  },
  {
   "cell_type": "code",
   "execution_count": null,
   "metadata": {},
   "outputs": [],
   "source": [
    "# 测试创建序列化器 （反序列化，用户输入到后端JSON 到 Python 对象）\n",
    "serializer = UserCreateSerializer(data=test_user_data)\n",
    "# 1. 序列化并验证数据\n",
    "if serializer.is_valid():\n",
    "    print(\"数据验证通过\")\n",
    "    print(\"验证后的数据:\", serializer.validated_data)\n",
    "    \n",
    "    # 2. 保存数据到数据库， 序列化后需要添加serializer.save()保存数据到数据库\n",
    "    user = serializer.save()\n",
    "    print(\"\\n用户创建成功:\")\n",
    "    print(f\"ID: {user.id}\")\n",
    "    print(f\"Phone: {user.phone}\")\n",
    "    print(f\"Role: {user.role}\")\n",
    "    \n",
    "    # 验证用户是否可以登录\n",
    "    from django.contrib.auth import authenticate\n",
    "    auth_user = authenticate(phone=test_user_data['phone'], password=test_user_data['password'])\n",
    "    if auth_user:\n",
    "        print(\"\\n用户认证成功!\")\n",
    "    else:\n",
    "        print(\"\\n用户认证失败!\")\n",
    "else:\n",
    "    print(\"验证错误:\", serializer.errors)"
   ]
  },
  {
   "cell_type": "code",
   "execution_count": null,
   "metadata": {},
   "outputs": [],
   "source": [
    "# 测试用户对象序列化 （反序列化，后端返回给前端）\n",
    "user = User.objects.first()  # 获取之前创建的测试用户\n",
    "user_serializer = UserSerializer(user)\n",
    "print(\"\\n序列化后的用户数据:\")\n",
    "print(user_serializer.data)"
   ]
  },
  {
   "cell_type": "code",
   "execution_count": null,
   "metadata": {},
   "outputs": [],
   "source": [
    "from pprint import pprint\n",
    "pprint(user_serializer.data)"
   ]
  },
  {
   "cell_type": "markdown",
   "metadata": {},
   "source": [
    "<font color=orange>4. 测试services.py</font>"
   ]
  },
  {
   "cell_type": "code",
   "execution_count": null,
   "metadata": {},
   "outputs": [],
   "source": [
    "#test_user.delete()\n",
    "User.objects.all().delete() #删除所有用户"
   ]
  },
  {
   "cell_type": "code",
   "execution_count": null,
   "metadata": {},
   "outputs": [],
   "source": [
    "from apps.authentication.services import AuthService\n",
    "\n",
    "# 测试验证码生成\n",
    "try:\n",
    "    AuthService.generate_captcha('13800138000', 'register')\n",
    "    print(\"验证码生成成功\")\n",
    "except Exception as e:\n",
    "    print(f\"验证码生成失败: {str(e)}\")"
   ]
  },
  {
   "cell_type": "code",
   "execution_count": null,
   "metadata": {},
   "outputs": [],
   "source": [
    "# 打印最新的验证码\n",
    "verification = VerificationCode.objects.filter(phone='13800138000', type='register').last()\n",
    "print(f\"验证码: {verification.code}\")\n"
   ]
  },
  {
   "cell_type": "code",
   "execution_count": null,
   "metadata": {},
   "outputs": [],
   "source": [
    "verifications = VerificationCode.objects.all()\n",
    "for verification in verifications:\n",
    "    pprint(f\"验证码: {verification}\")\n",
    "    pprint(verification.__dict__)\n",
    "    print(\"--------------------------------\")"
   ]
  },
  {
   "cell_type": "code",
   "execution_count": null,
   "metadata": {},
   "outputs": [],
   "source": [
    "# 测试用户注册\n",
    "try:\n",
    "    result = AuthService.register_user(\n",
    "        phone='13800138000',\n",
    "        password='testpass123',\n",
    "        captcha='669217'  # 使用实际生成的验证码\n",
    "    )\n",
    "    print(\"注册成功:\", result)\n",
    "except Exception as e:\n",
    "    print(f\"注册失败: {str(e)}\")\n"
   ]
  },
  {
   "cell_type": "code",
   "execution_count": null,
   "metadata": {},
   "outputs": [],
   "source": [
    "# 测试密码登录\n",
    "try:\n",
    "    result = AuthService.login_with_password('13800138000', 'testpass123')\n",
    "    print(\"登录成功:\", result)\n",
    "except Exception as e:\n",
    "    print(f\"登录失败: {str(e)}\")"
   ]
  },
  {
   "cell_type": "code",
   "execution_count": null,
   "metadata": {},
   "outputs": [],
   "source": [
    "test_user = User.objects.get(phone='13800138000')\n",
    "pprint(test_user.__dict__)\n"
   ]
  },
  {
   "cell_type": "code",
   "execution_count": null,
   "metadata": {},
   "outputs": [],
   "source": [
    "# 3. 生成重置验证码\n",
    "try:\n",
    "    AuthService.generate_captcha('13800138000', 'resetPassword')\n",
    "    print(\"重置验证码生成成功\")\n",
    "except Exception as e:\n",
    "    print(f\"重置验证码生成失败: {str(e)}\")"
   ]
  },
  {
   "cell_type": "code",
   "execution_count": null,
   "metadata": {},
   "outputs": [],
   "source": [
    "# 测试密码重置\n",
    "try:\n",
    "    reset_result = AuthService.reset_password(\n",
    "        phone='13800138000',\n",
    "        new_password='newpassword123',\n",
    "        captcha='123456'  # 使用实际生成的重置验证码\n",
    "    )\n",
    "    print(\"密码重置成功:\", reset_result)\n",
    "except Exception as e:\n",
    "    print(f\"密码重置失败: {str(e)}\")"
   ]
  },
  {
   "cell_type": "code",
   "execution_count": null,
   "metadata": {},
   "outputs": [],
   "source": [
    "# 打印最新的验证码\n",
    "verification = VerificationCode.objects.filter(phone='13800138000', type='resetPassword').last()\n",
    "print(f\"验证码: {verification.code}\")"
   ]
  },
  {
   "cell_type": "code",
   "execution_count": null,
   "metadata": {},
   "outputs": [],
   "source": [
    "# 4. 重置密码\n",
    "try:\n",
    "    reset_result = AuthService.reset_password(\n",
    "        phone='13800138000',\n",
    "        new_password='newpassword123',\n",
    "        captcha='918627'  # 使用实际生成的重置验证码\n",
    "    )\n",
    "    print(\"密码重置成功:\", reset_result)\n",
    "except Exception as e:\n",
    "    print(f\"密码重置失败: {str(e)}\")"
   ]
  },
  {
   "cell_type": "code",
   "execution_count": null,
   "metadata": {},
   "outputs": [],
   "source": [
    "# 5. 测试新密码登录\n",
    "try:\n",
    "    login_result = AuthService.login_with_password('13800138000', 'newpassword123')\n",
    "    print(\"新密码登录成功:\", login_result)\n",
    "except Exception as e:\n",
    "    print(f\"新密码登录失败: {str(e)}\")"
   ]
  },
  {
   "cell_type": "code",
   "execution_count": null,
   "metadata": {},
   "outputs": [],
   "source": [
    "# 清除所有验证码\n",
    "VerificationCode.objects.all().delete()\n",
    "# 清除所有用户\n",
    "User.objects.all().delete()\n"
   ]
  },
  {
   "cell_type": "markdown",
   "metadata": {},
   "source": [
    "<font color=orange>5. 测试views.py</font>"
   ]
  },
  {
   "cell_type": "markdown",
   "metadata": {},
   "source": [
    "<font color=red>注意事项：以下测试需确保时间间隔，特别是再测试RegisterView, CaptchaLoginView, PasswordResetView的时候，由于我们验证码发送限制了60秒一次，否则会出错 </font>"
   ]
  },
  {
   "cell_type": "code",
   "execution_count": 3,
   "metadata": {},
   "outputs": [],
   "source": [
    "# 导入所需模块\n",
    "from rest_framework.test import APIRequestFactory  ## 使用 DRF 的 APIRequestFactory\n",
    "from rest_framework.test import force_authenticate\n",
    "from apps.authentication.views import (\n",
    "    RegisterView, LoginView, CaptchaRequestView,\n",
    "    CaptchaLoginView, PasswordResetView, UserProfileView\n",
    ")\n",
    "from apps.authentication.models import User, VerificationCode\n",
    "import json"
   ]
  },
  {
   "cell_type": "code",
   "execution_count": 4,
   "metadata": {},
   "outputs": [],
   "source": [
    "# 创建请求工厂\n",
    "# 使用 APIRequestFactory 替代 RequestFactory\n",
    "factory = APIRequestFactory()"
   ]
  },
  {
   "cell_type": "code",
   "execution_count": 20,
   "metadata": {},
   "outputs": [],
   "source": [
    "# -----------  请求验证码视图 测试函数   -------------\n",
    "def test_captcha_request(type):\n",
    "    print(\"测试验证码请求:\")\n",
    "    data = {\n",
    "        'phone': '13800138000',\n",
    "        'type': type\n",
    "    }\n",
    "    request = factory.post(\n",
    "        '/api/auth/captcha/',\n",
    "        data,  # 不需要 json.dumps()\n",
    "        format='json'  # 使用 format='json' 替代 content_type\n",
    "    )\n",
    "    \n",
    "    print('Request:', request)\n",
    "    print('Request body:', request.body)  # 查看请求体\n",
    "\n",
    "    response = CaptchaRequestView.as_view()(request)\n",
    "    print(f\"状态码: {response.status_code}\")\n",
    "    print(f\"响应: {response.data}\\n\")\n",
    "    return response"
   ]
  },
  {
   "cell_type": "code",
   "execution_count": 21,
   "metadata": {},
   "outputs": [],
   "source": [
    "# -----------  用户注册视图 测试函数   -------------\n",
    "def test_register():\n",
    "    print(\"====\\n测试用户注册: notebooks/auth_tests.ipynb=====\")\n",
    "    # 获取最新的验证码\n",
    "    verification = VerificationCode.objects.filter(\n",
    "        phone='13800138000',\n",
    "        type='register'\n",
    "    ).latest('created_at')\n",
    "\n",
    "    captcha = str(verification.code)\n",
    "\n",
    "    data = {\n",
    "        'phone': '13800138000',\n",
    "        'password': 'testpass123',\n",
    "        'confirm_password': 'testpass123',\n",
    "        'captcha': captcha,\n",
    "        'agree_to_terms': True\n",
    "    }\n",
    "    \n",
    "    print(\"\\n发送的注册数据:\", data)\n",
    "    print(\"\\n\")\n",
    "\n",
    "    \n",
    "    request = factory.post(\n",
    "        '/api/auth/register/',\n",
    "        data=data,\n",
    "        format='json'\n",
    "    )\n",
    "    \n",
    "    response = RegisterView.as_view()(request)\n",
    "    print(\"====  最终注册响应 notebooks/auth_tests.ipynb=====\")\n",
    "    print(f\"\\n注册响应状态码: {response.status_code}\")\n",
    "    print(f\"注册响应数据: {response.data}\")\n",
    "    return response # 确保验证码是字符串类型"
   ]
  },
  {
   "cell_type": "code",
   "execution_count": null,
   "metadata": {},
   "outputs": [],
   "source": [
    "# -----------  清理测试数据 done test   -------------\n",
    "print(\"=== 清理测试数据 ===\")\n",
    "User.objects.filter(phone='13800138000').delete()\n",
    "VerificationCode.objects.filter(phone='13800138000').delete()\n",
    "\n",
    "print(\"\\n=== 请求验证码 ===\")\n",
    "captcha_response = test_captcha_request('register')\n",
    "\n",
    "print(\"\\n=== 执行注册 ===\")\n",
    "register_response = test_register()"
   ]
  },
  {
   "cell_type": "code",
   "execution_count": 23,
   "metadata": {},
   "outputs": [],
   "source": [
    "# -----------  密码登录视图 测试函数   -------------\n",
    "def test_password_login():\n",
    "    print(\"\\n=== 测试密码登录 ===\")\n",
    "    data = {\n",
    "        'phone_or_email': '13800138000',\n",
    "        'password': 'testpass123',\n",
    "        'agree_to_terms': True\n",
    "    }\n",
    "    \n",
    "    print(\"登录数据:\", data)\n",
    "    \n",
    "    request = factory.post(\n",
    "        '/api/auth/login/',\n",
    "        data=data,\n",
    "        format='json'\n",
    "    )\n",
    "    \n",
    "    response = LoginView.as_view()(request)\n",
    "    print(f\"登录响应状态码: {response.status_code}\")\n",
    "    print(f\"登录响应数据: {response.data}\")\n",
    "    return response"
   ]
  },
  {
   "cell_type": "code",
   "execution_count": null,
   "metadata": {},
   "outputs": [],
   "source": [
    "if register_response.status_code == 201:\n",
    "    password_login_response = test_password_login()"
   ]
  },
  {
   "cell_type": "code",
   "execution_count": 25,
   "metadata": {},
   "outputs": [],
   "source": [
    "# -----------  验证码登录视图 测试函数   -------------\n",
    "def test_captcha_login():\n",
    "    print(\"\\n=== 测试验证码登录 ===\")\n",
    "    # 1. 先请求验证码\n",
    "    captcha_response = test_captcha_request('login')\n",
    "    \n",
    "    # 2. 获取最新的验证码\n",
    "    verification = VerificationCode.objects.filter(\n",
    "        phone='13800138000',\n",
    "        type='login'\n",
    "    ).latest('created_at')\n",
    "    \n",
    "    captcha = str(verification.code)\n",
    "    \n",
    "    # 3. 使用验证码登录\n",
    "    data = {\n",
    "        'phone': '13800138000',\n",
    "        'captcha': captcha,\n",
    "        'agree_to_terms': True\n",
    "    }\n",
    "\n",
    "    \n",
    "    print(\"验证码登录数据:\", data)\n",
    "    \n",
    "    request = factory.post(\n",
    "        '/api/auth/login/captcha/',\n",
    "        data=data,\n",
    "        format='json'\n",
    "    )\n",
    "    \n",
    "    response = CaptchaLoginView.as_view()(request)\n",
    "    print(f\"验证码登录响应状态码: {response.status_code}\")\n",
    "    print(f\"验证码登录响应数据: {response.data}\")\n",
    "    return response"
   ]
  },
  {
   "cell_type": "code",
   "execution_count": null,
   "metadata": {},
   "outputs": [],
   "source": [
    "if register_response.status_code == 201:\n",
    "    # 3. 测试验证码登录\n",
    "    captcha_login_response = test_captcha_login()"
   ]
  },
  {
   "cell_type": "code",
   "execution_count": 29,
   "metadata": {},
   "outputs": [],
   "source": [
    "# -----------  密码重置视图 测试函数   -------------\n",
    "def test_password_reset():\n",
    "    print(\"\\n=== 测试密码重置 ===\")\n",
    "    # 1. 请求重置密码验证码\n",
    "    data = {\n",
    "        'phone': '13800138000',\n",
    "        'type': 'resetPassword'\n",
    "    }\n",
    "    \n",
    "    request = factory.post(\n",
    "        '/api/auth/captcha/',\n",
    "        data=data,\n",
    "        format='json'\n",
    "    )\n",
    "    \n",
    "    CaptchaRequestView.as_view()(request)\n",
    "    \n",
    "    # 2. 获取最新的验证码\n",
    "    verification = VerificationCode.objects.filter(\n",
    "        phone='13800138000',\n",
    "        type='resetPassword'\n",
    "    ).latest('created_at')\n",
    "    \n",
    "    captcha = str(verification.code)\n",
    "    \n",
    "    # 3. 重置密码\n",
    "    reset_data = {\n",
    "        'phone': '13800138000',\n",
    "        'new_password': 'newpassword123',\n",
    "        'confirm_password': 'newpassword123',\n",
    "        'captcha': captcha\n",
    "    }\n",
    "    \n",
    "    print(\"密码重置数据:\", reset_data)\n",
    "    \n",
    "    request = factory.post(\n",
    "        '/api/auth/password/reset/',\n",
    "        data=reset_data,\n",
    "        format='json'\n",
    "    )\n",
    "    \n",
    "    response = PasswordResetView.as_view()(request)\n",
    "    print(f\"密码重置响应状态码: {response.status_code}\")\n",
    "    print(f\"密码重置响应数据: {response.data}\")\n",
    "    \n",
    "    # 4. 使用新密码测试登录\n",
    "    if response.status_code == 200:\n",
    "        print(\"\\n=== 测试新密码登录 ===\")\n",
    "        login_data = {\n",
    "            'phone_or_email': '13800138000',\n",
    "            'password': 'newpassword123',\n",
    "            'agree_to_terms': True\n",
    "        }\n",
    "        \n",
    "        request = factory.post(\n",
    "            '/api/auth/login/',\n",
    "            data=login_data,\n",
    "            format='json'\n",
    "        )\n",
    "        \n",
    "        login_response = LoginView.as_view()(request)\n",
    "        print(f\"新密码登录响应状态码: {login_response.status_code}\")\n",
    "        print(f\"新密码登录响应数据: {login_response.data}\")\n",
    "    \n",
    "    return response"
   ]
  },
  {
   "cell_type": "code",
   "execution_count": null,
   "metadata": {},
   "outputs": [],
   "source": [
    "if register_response.status_code == 201:\n",
    "    # 测试密码重置\n",
    "    password_reset_response = test_password_reset()"
   ]
  },
  {
   "cell_type": "markdown",
   "metadata": {},
   "source": [
    "<font color=orange>5. 测试urls.py</font>"
   ]
  },
  {
   "cell_type": "markdown",
   "metadata": {},
   "source": []
  }
 ],
 "metadata": {
  "kernelspec": {
   "display_name": "BidPilot_new_env",
   "language": "python",
   "name": "python3"
  },
  "language_info": {
   "codemirror_mode": {
    "name": "ipython",
    "version": 3
   },
   "file_extension": ".py",
   "mimetype": "text/x-python",
   "name": "python",
   "nbconvert_exporter": "python",
   "pygments_lexer": "ipython3",
   "version": "3.12.1"
  }
 },
 "nbformat": 4,
 "nbformat_minor": 2
}
