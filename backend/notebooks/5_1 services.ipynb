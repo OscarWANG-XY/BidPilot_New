{
 "cells": [
  {
   "cell_type": "markdown",
   "metadata": {},
   "source": [
    "模型初始化测试"
   ]
  },
  {
   "cell_type": "code",
   "execution_count": null,
   "metadata": {},
   "outputs": [],
   "source": [
    "import os\n",
    "from openai import OpenAI\n",
    "from langchain.chat_models import ChatOpenAI\n",
    "\n",
    "client = ChatOpenAI(\n",
    "        model_name=\"qwen-plus\",\n",
    "        temperature=0.7,\n",
    "        streaming=True,\n",
    "        api_key='sk-1549cf0b1379406fa0d73e3b3d910074', \n",
    "        base_url=\"https://dashscope.aliyuncs.com/compatible-mode/v1\"\n",
    ")\n",
    "\n",
    "result = client.invoke(\"你是谁？\")\n"
   ]
  },
  {
   "cell_type": "code",
   "execution_count": null,
   "metadata": {},
   "outputs": [],
   "source": [
    "print(result)"
   ]
  },
  {
   "cell_type": "markdown",
   "metadata": {},
   "source": [
    "Chat应用基础层测试"
   ]
  },
  {
   "cell_type": "code",
   "execution_count": 1,
   "metadata": {},
   "outputs": [
    {
     "name": "stdout",
     "output_type": "stream",
     "text": [
      "Development settings loaded\n",
      "INSTALLED_APPS: ['django.contrib.admin', 'django.contrib.auth', 'django.contrib.contenttypes', 'django.contrib.sessions', 'django.contrib.messages', 'django.contrib.staticfiles', 'rest_framework', 'corsheaders', 'storages', 'apps.authentication', 'apps.files', 'apps.projects', 'apps.doc_analysis', 'apps.chat', 'django_filters', 'drf_spectacular', 'rest_framework_simplejwt.token_blacklist']\n"
     ]
    },
    {
     "name": "stderr",
     "output_type": "stream",
     "text": [
      "INFO 2025-02-09 00:51:48,037 storage 使用 COSStorage 初始化存储\n",
      "INFO 2025-02-09 00:51:48,037 storage 初始化 COSStorage\n",
      "INFO 2025-02-09 00:51:48,037 storage Storage backend initialization with args: (), kwargs: {}\n",
      "INFO 2025-02-09 00:51:48,038 storage ✅ 成功初始化 COSStorage\n",
      "INFO 2025-02-09 00:51:48,038 storage default_storage 的类型: COSStorage\n"
     ]
    },
    {
     "name": "stdout",
     "output_type": "stream",
     "text": [
      "Settings从哪里加载？: config.settings.development\n",
      "项目根目录对么？: C:\\Users\\huiwa\\Documents\\_All_Projects\\BidPilot_new\\backend\n",
      "文件存储settings对么？: apps.files.storage.COSStorage\n",
      "文件default_storage对么？: COSStorage\n",
      "\n",
      "已经安装的应用 Installed Apps 完整了么？:\n",
      "- django.contrib.admin\n",
      "- django.contrib.auth\n",
      "- django.contrib.contenttypes\n",
      "- django.contrib.sessions\n",
      "- django.contrib.messages\n",
      "- django.contrib.staticfiles\n",
      "- rest_framework\n",
      "- corsheaders\n",
      "- storages\n",
      "- apps.authentication\n",
      "- apps.files\n",
      "- apps.projects\n",
      "- apps.doc_analysis\n",
      "- apps.chat\n",
      "- django_filters\n",
      "- drf_spectacular\n",
      "- rest_framework_simplejwt.token_blacklist\n"
     ]
    }
   ],
   "source": [
    "import django_setup"
   ]
  },
  {
   "cell_type": "code",
   "execution_count": 2,
   "metadata": {},
   "outputs": [
    {
     "name": "stdout",
     "output_type": "stream",
     "text": [
      "用户: 18501771516\n"
     ]
    }
   ],
   "source": [
    "# 准备测试所需的 user, project, file_record  (其中project与file_record关联)\n",
    "from django.contrib.auth import get_user_model\n",
    "User = get_user_model()\n",
    "\n",
    "# 获取已存在的测试数据\n",
    "\n",
    "# 获取已存在的用户\n",
    "test_user = User.objects.get(phone='18501771516')\n",
    "print(f\"用户: {test_user.phone}\")\n"
   ]
  },
  {
   "cell_type": "code",
   "execution_count": 3,
   "metadata": {},
   "outputs": [
    {
     "name": "stdout",
     "output_type": "stream",
     "text": [
      "会话: bd8fd44d-ce2c-49c2-91a1-3a6a92ffd097\n"
     ]
    }
   ],
   "source": [
    "# 1. 测试模型操作\n",
    "from apps.chat.models import ChatSession, ChatMessage\n",
    "\n",
    "# 测试会话创建\n",
    "session = ChatSession.objects.create(created_by=test_user)\n",
    "print(f\"会话: {session.id}\")\n"
   ]
  },
  {
   "cell_type": "code",
   "execution_count": 4,
   "metadata": {},
   "outputs": [
    {
     "name": "stdout",
     "output_type": "stream",
     "text": [
      "{'_state': <django.db.models.base.ModelState object at 0x000002069A591A00>,\n",
      " 'created_at': datetime.datetime(2025, 2, 8, 16, 51, 50, 753057, tzinfo=datetime.timezone.utc),\n",
      " 'created_by_id': UUID('1ca30c09-2647-4b8e-b61f-a7ebed81327c'),\n",
      " 'id': UUID('bd8fd44d-ce2c-49c2-91a1-3a6a92ffd097'),\n",
      " 'updated_at': datetime.datetime(2025, 2, 8, 16, 51, 50, 753057, tzinfo=datetime.timezone.utc)}\n"
     ]
    }
   ],
   "source": [
    "from pprint import pprint\n",
    "pprint(session.__dict__)"
   ]
  },
  {
   "cell_type": "code",
   "execution_count": 5,
   "metadata": {},
   "outputs": [
    {
     "name": "stdout",
     "output_type": "stream",
     "text": [
      "消息: 2c3472dc-d628-4668-a91c-5b57169d502c\n"
     ]
    }
   ],
   "source": [
    "message = ChatMessage.objects.create(\n",
    "    session=session,\n",
    "    role='user',\n",
    "    content='Hello'\n",
    ")\n",
    "print(f\"消息: {message.id}\")"
   ]
  },
  {
   "cell_type": "code",
   "execution_count": 6,
   "metadata": {},
   "outputs": [
    {
     "name": "stdout",
     "output_type": "stream",
     "text": [
      "{'_state': <django.db.models.base.ModelState object at 0x000002069A840F50>,\n",
      " 'content': 'Hello',\n",
      " 'created_at': datetime.datetime(2025, 2, 8, 16, 51, 55, 283703, tzinfo=datetime.timezone.utc),\n",
      " 'id': UUID('2c3472dc-d628-4668-a91c-5b57169d502c'),\n",
      " 'role': 'user',\n",
      " 'sequence': 1,\n",
      " 'session_id': UUID('bd8fd44d-ce2c-49c2-91a1-3a6a92ffd097')}\n"
     ]
    }
   ],
   "source": [
    "pprint(message.__dict__)"
   ]
  },
  {
   "cell_type": "code",
   "execution_count": 7,
   "metadata": {},
   "outputs": [
    {
     "name": "stdout",
     "output_type": "stream",
     "text": [
      "{'id': 'bd8fd44d-ce2c-49c2-91a1-3a6a92ffd097', 'created_at': '2025-02-08T16:51:50.753057Z', 'updated_at': '2025-02-08T16:51:50.753057Z', 'created_by': {'id': '1ca30c09-2647-4b8e-b61f-a7ebed81327c', 'phone': '18501771516', 'email': None, 'role': 'user'}}\n",
      "{'id': '2c3472dc-d628-4668-a91c-5b57169d502c', 'session': UUID('bd8fd44d-ce2c-49c2-91a1-3a6a92ffd097'), 'sequence': 1, 'content': 'Hello', 'role': 'user', 'created_at': '2025-02-08T16:51:55.283703Z'}\n"
     ]
    }
   ],
   "source": [
    "# 2. 测试序列化器\n",
    "from apps.chat.serializers import ChatSessionSerializer, ChatMessageSerializer\n",
    "\n",
    "# 测试序列化\n",
    "session_serializer = ChatSessionSerializer(session)\n",
    "print(session_serializer.data)\n",
    "\n",
    "# 测试消息序列化\n",
    "message_serializer = ChatMessageSerializer(message)\n",
    "print(message_serializer.data)\n",
    "\n"
   ]
  },
  {
   "cell_type": "code",
   "execution_count": 8,
   "metadata": {},
   "outputs": [
    {
     "name": "stdout",
     "output_type": "stream",
     "text": [
      "HTTP Request: POST https://dashscope.aliyuncs.com/compatible-mode/v1/chat/completions \"HTTP/1.1 200 OK\"\n",
      "HTTP Request: POST https://dashscope.aliyuncs.com/compatible-mode/v1/chat/completions \"HTTP/1.1 200 OK\"\n",
      "{'response': \"Hello! Python is a high-level, interpreted programming language known for its clear syntax and readability. It was created by Guido van Rossum and first released in 1991. Python is designed to be easy to read while still being very powerful, which makes it an excellent choice for beginners as well as experienced developers.\\n\\nPython supports multiple programming paradigms, including procedural, object-oriented, and functional programming. It's widely used in many areas such as web development, data analysis, artificial intelligence, scientific computing, automation, and more. Libraries and frameworks like Django, Flask, Pandas, NumPy, TensorFlow, and PyTorch have further expanded Python's utility across different domains.\\n\\nOne of the key features of Python is its large and active community, which contributes to a vast ecosystem of modules and packages that can be easily integrated into projects. This community support also means there are plenty of resources available for learning and troubleshooting.\\n\\nWould you like to know more about any specific aspect of Python?\", 'metadata': {'analysis': '### Analysis of User Input:\\n\\n1. **Main Topics:**\\n   - Python (programming language)\\n\\n2. **Sentiment:**\\n   - Neutral. The user is asking a straightforward question without expressing any particular emotion or opinion.\\n\\n3. **Key Questions or Requests:**\\n   - The user is requesting a definition or explanation of what Python is. Specifically, they want to understand the nature or purpose of Python, likely in the context of it being a programming language.', 'rag_used': False, 'timestamp': '2025-02-08T16:52:18.673317+00:00'}}\n"
     ]
    }
   ],
   "source": [
    "# 3. 测试 LLM 服务\n",
    "from apps.chat.services import EnhancedLLMService, ChainBasedChatService\n",
    "\n",
    "# 测试基本对话\n",
    "llm_service = EnhancedLLMService()\n",
    "chat_service = ChainBasedChatService()\n",
    "\n",
    "# 测试简单对话\n",
    "response = await chat_service.process_message(\n",
    "    session_id=str(session.id),\n",
    "    content=\"What is Python?\"\n",
    ")\n",
    "print(response)"
   ]
  }
 ],
 "metadata": {
  "kernelspec": {
   "display_name": "BidPilot_new_env",
   "language": "python",
   "name": "python3"
  },
  "language_info": {
   "codemirror_mode": {
    "name": "ipython",
    "version": 3
   },
   "file_extension": ".py",
   "mimetype": "text/x-python",
   "name": "python",
   "nbconvert_exporter": "python",
   "pygments_lexer": "ipython3",
   "version": "3.12.1"
  }
 },
 "nbformat": 4,
 "nbformat_minor": 2
}
