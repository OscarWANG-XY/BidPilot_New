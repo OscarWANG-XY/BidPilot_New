{
 "cells": [
  {
   "cell_type": "markdown",
   "metadata": {},
   "source": [
    "业务测试：context_providers.py, pipelines.py, tasks.py"
   ]
  },
  {
   "cell_type": "markdown",
   "metadata": {},
   "source": [
    "context_providers.py测试\n"
   ]
  },
  {
   "cell_type": "code",
   "execution_count": 1,
   "metadata": {},
   "outputs": [
    {
     "name": "stdout",
     "output_type": "stream",
     "text": [
      "Development settings loaded\n",
      "INSTALLED_APPS: ['django.contrib.admin', 'django.contrib.auth', 'django.contrib.contenttypes', 'django.contrib.sessions', 'django.contrib.messages', 'django.contrib.staticfiles', 'rest_framework', 'corsheaders', 'storages', 'apps.authentication', 'apps.files', 'apps.projects', 'apps.doc_analysis', 'apps.chat', 'django_filters', 'drf_spectacular', 'rest_framework_simplejwt.token_blacklist', 'django_celery_results', 'django_celery_beat']\n"
     ]
    },
    {
     "name": "stderr",
     "output_type": "stream",
     "text": [
      "INFO 2025-02-10 01:58:36,470 storage 使用 COSStorage 初始化存储\n",
      "INFO 2025-02-10 01:58:36,470 storage 初始化 COSStorage\n",
      "INFO 2025-02-10 01:58:36,471 storage Storage backend initialization with args: (), kwargs: {}\n",
      "INFO 2025-02-10 01:58:36,471 storage ✅ 成功初始化 COSStorage\n",
      "INFO 2025-02-10 01:58:36,472 storage default_storage 的类型: COSStorage\n"
     ]
    },
    {
     "name": "stdout",
     "output_type": "stream",
     "text": [
      "Settings从哪里加载？: config.settings.development\n",
      "项目根目录对么？: C:\\Users\\huiwa\\Documents\\_All_Projects\\BidPilot_new\\backend\n",
      "文件存储settings对么？: apps.files.storage.COSStorage\n",
      "文件default_storage对么？: COSStorage\n",
      "\n",
      "已经安装的应用 Installed Apps 完整了么？:\n",
      "- django.contrib.admin\n",
      "- django.contrib.auth\n",
      "- django.contrib.contenttypes\n",
      "- django.contrib.sessions\n",
      "- django.contrib.messages\n",
      "- django.contrib.staticfiles\n",
      "- rest_framework\n",
      "- corsheaders\n",
      "- storages\n",
      "- apps.authentication\n",
      "- apps.files\n",
      "- apps.projects\n",
      "- apps.doc_analysis\n",
      "- apps.chat\n",
      "- django_filters\n",
      "- drf_spectacular\n",
      "- rest_framework_simplejwt.token_blacklist\n",
      "- django_celery_results\n",
      "- django_celery_beat\n"
     ]
    }
   ],
   "source": [
    "import django_setup"
   ]
  },
  {
   "cell_type": "code",
   "execution_count": 2,
   "metadata": {},
   "outputs": [
    {
     "name": "stdout",
     "output_type": "stream",
     "text": [
      "用户: 18501771516\n"
     ]
    }
   ],
   "source": [
    "# 准备测试所需的 user, project, file_record  (其中project与file_record关联)\n",
    "from django.contrib.auth import get_user_model\n",
    "User = get_user_model()\n",
    "\n",
    "# 获取已存在的测试数据\n",
    "\n",
    "# 获取已存在的用户\n",
    "test_user = User.objects.get(phone='18501771516')\n",
    "print(f\"用户: {test_user.phone}\")\n"
   ]
  },
  {
   "cell_type": "code",
   "execution_count": 3,
   "metadata": {},
   "outputs": [],
   "source": [
    "# 导入测试模块\n",
    "from apps.chat.context_providers import ContextManager, UserContextProvider, ConversationContextProvider, RAGContextProvider\n",
    "from apps.chat.pipelines import ChatPipeline\n",
    "#from apps.chat.tasks import process_chat_message_task, batch_process_messages_task\n",
    "from apps.chat.models import ChatSession, ChatMessage\n",
    "from django.contrib.auth import get_user_model\n",
    "import uuid\n",
    "from pprint import pprint\n"
   ]
  },
  {
   "cell_type": "markdown",
   "metadata": {},
   "source": [
    "1. 测试上下文管理器"
   ]
  },
  {
   "cell_type": "code",
   "execution_count": null,
   "metadata": {},
   "outputs": [],
   "source": [
    "async def test_context_providers():\n",
    "    # 创建测试会话\n",
    "    test_session_id = str(uuid.uuid4())\n",
    "    \n",
    "    # 测试单个提供者\n",
    "    user_provider = UserContextProvider()\n",
    "    user_context = await user_provider.get_context(test_session_id)\n",
    "    print(\"User Context:\", user_context)\n",
    "    \n",
    "    conv_provider = ConversationContextProvider()\n",
    "    conv_context = await conv_provider.get_context(test_session_id)\n",
    "    print(\"\\nConversation Context:\", conv_context)\n",
    "    \n",
    "    rag_provider = RAGContextProvider()\n",
    "    rag_context = await rag_provider.get_context(test_session_id)\n",
    "    print(\"\\nRAG Context:\", rag_context)\n",
    "    \n",
    "    # 测试组合上下文\n",
    "    context_manager = ContextManager()\n",
    "    combined_context = await context_manager.get_combined_context(test_session_id)\n",
    "    print(\"\\nCombined Context:\", combined_context)\n",
    "\n",
    "    pprint(combined_context)\n",
    "# 运行测试\n",
    "await test_context_providers()\n"
   ]
  },
  {
   "cell_type": "markdown",
   "metadata": {},
   "source": [
    "2. 测试管道处理 pipeline()"
   ]
  },
  {
   "cell_type": "code",
   "execution_count": 5,
   "metadata": {},
   "outputs": [],
   "source": [
    "# 创建测试会话和消息\n",
    "test_session_id = str(uuid.uuid4())\n",
    "test_message = \"你好，请介绍一下你自己。\"\n",
    " "
   ]
  },
  {
   "cell_type": "code",
   "execution_count": 6,
   "metadata": {},
   "outputs": [],
   "source": [
    "# 创建管道实例\n",
    "pipeline = ChatPipeline()"
   ]
  },
  {
   "cell_type": "code",
   "execution_count": null,
   "metadata": {},
   "outputs": [],
   "source": [
    "# 测试单条消息处理\n",
    "print(\"Testing single message processing...\")\n",
    "response = await pipeline.process_message(test_session_id, test_message, test_user)\n",
    "print(\"Pipeline Response:\", response)"
   ]
  },
  {
   "cell_type": "code",
   "execution_count": null,
   "metadata": {},
   "outputs": [],
   "source": [
    "# 测试批量消息处理\n",
    "print(\"\\nTesting batch message processing...\")\n",
    "test_messages = [\n",
    "    {\"session_id\": test_session_id, \"content\": \"第一条测试消息\"},\n",
    "    {\"session_id\": test_session_id, \"content\": \"第二条测试消息\"}\n",
    "]\n",
    "batch_responses = await pipeline.process_batch(test_messages,test_user)\n",
    "print(\"Batch Responses:\", batch_responses)"
   ]
  },
  {
   "cell_type": "markdown",
   "metadata": {},
   "source": [
    "3. 测试异步任务 tasks.py"
   ]
  },
  {
   "cell_type": "code",
   "execution_count": 9,
   "metadata": {},
   "outputs": [],
   "source": [
    "# Celery 安装和配置测试 (需要和tasks.py测试代码配套使用)\n",
    "# 导入任务\n",
    "from apps.chat.tasks import test_task\n",
    "\n"
   ]
  },
  {
   "cell_type": "code",
   "execution_count": 11,
   "metadata": {},
   "outputs": [
    {
     "name": "stdout",
     "output_type": "stream",
     "text": [
      "<@task: chat.test_task of config at 0x18daeaa8dd0>\n",
      "<class 'celery.local.celery.local'>\n",
      "<@task: chat.process_chat_message_task of config at 0x18daeaa8dd0>\n",
      "<class 'celery.local.celery.local'>\n",
      "<@task: chat.batch_process_messages_task of config at 0x18daeaa8dd0>\n",
      "<class 'celery.local.celery.local'>\n",
      "test_task_result:Hello from Celery!\n"
     ]
    }
   ],
   "source": [
    "from apps.chat.tasks import test_task, process_chat_message_task, batch_process_messages_task\n",
    "# 打印查看 task 的属性\n",
    "print(test_task)\n",
    "print(type(test_task))\n",
    "print(process_chat_message_task)\n",
    "print(type(process_chat_message_task))\n",
    "print(batch_process_messages_task)\n",
    "print(type(batch_process_messages_task))\n",
    "\n",
    "# 执行任务\n",
    "result = test_task.delay()\n",
    "print(f\"test_task_result:{result.get()}\")"
   ]
  },
  {
   "cell_type": "code",
   "execution_count": null,
   "metadata": {},
   "outputs": [],
   "source": [
    "# 测试单条消息处理任务\n",
    "print(\"Testing single message processing task...\")\n",
    "test_session_id = str(uuid.uuid4())\n",
    "\n",
    "result = process_chat_message_task.delay(session_id = test_session_id, content=\"这是一条测试消息\", user_phone=\"18501771516\")\n",
    "print(\"Task ID:\", result.id)\n",
    "print(\"Task Result:\", result.get())"
   ]
  },
  {
   "cell_type": "code",
   "execution_count": null,
   "metadata": {},
   "outputs": [],
   "source": [
    "    # 测试批量消息处理任务\n",
    "print(\"\\nTesting batch message processing task...\")\n",
    "test_messages = [\n",
    "    {\"session_id\": test_session_id, \"content\": \"批量测试消息1\"},\n",
    "    {\"session_id\": test_session_id, \"content\": \"批量测试消息2\"}\n",
    "]\n",
    "batch_result = batch_process_messages_task.delay(test_messages, user_phone=\"18501771516\")\n",
    "print(\"Batch Task ID:\", batch_result.id)\n",
    "print(\"Batch Task Result:\", batch_result.get())"
   ]
  },
  {
   "cell_type": "markdown",
   "metadata": {},
   "source": [
    "端到端的测试"
   ]
  },
  {
   "cell_type": "code",
   "execution_count": null,
   "metadata": {},
   "outputs": [],
   "source": [
    "# 创建测试用户和会话  #要用await 需要psycopg3+, 配置，acreate\n",
    "test_session = await ChatSession.objects.acreate(created_by=test_user)"
   ]
  },
  {
   "cell_type": "code",
   "execution_count": 7,
   "metadata": {},
   "outputs": [
    {
     "name": "stdout",
     "output_type": "stream",
     "text": [
      "Initial Context: {'context': {'user_preferences': {'language': 'zh', 'expertise_level': 'intermediate'}, 'session_start_time': '2025-02-09T18:01:00.945801+00:00', 'conversation_metadata': {'total_messages': 0, 'conversation_summary': 'No previous conversation', 'last_interaction_time': None}, 'knowledge_base_info': {'status': 'available', 'last_updated': None}}, 'documents': []}\n"
     ]
    }
   ],
   "source": [
    "    # 1. 获取上下文\n",
    "context_manager = ContextManager()\n",
    "context = await context_manager.get_combined_context(str(test_session.id))\n",
    "print(\"Initial Context:\", context)"
   ]
  },
  {
   "cell_type": "code",
   "execution_count": 8,
   "metadata": {},
   "outputs": [
    {
     "name": "stdout",
     "output_type": "stream",
     "text": [
      "[Pipelines-Process_message]开始处理会话 daf36a65-6a0e-4b61-8c02-539b2abe5e94 的管道流程\n",
      "[Pipelines-Process_message]正在执行步骤: PreprocessStep\n",
      "处理前数据：{'session_id': 'daf36a65-6a0e-4b61-8c02-539b2abe5e94', 'content': '你能帮我解释一下什么是机器学习吗？'}\n",
      "[Pipelines-PreprocessStep] 开始预处理会话 daf36a65-6a0e-4b61-8c02-539b2abe5e94 的消息\n",
      "[Pipelines-PreprocessStep]预处理完成，处理后的内容长度: 17\n",
      "处理后数据：{'session_id': 'daf36a65-6a0e-4b61-8c02-539b2abe5e94', 'content': '你能帮我解释一下什么是机器学习吗？', 'timestamp': '2025-02-09T18:01:50.973247+00:00', 'processed_content': '你能帮我解释一下什么是机器学习吗？'}\n",
      "[Pipelines-Process_message]正在执行步骤: ContextEnrichmentStep\n",
      "处理前数据：{'session_id': 'daf36a65-6a0e-4b61-8c02-539b2abe5e94', 'content': '你能帮我解释一下什么是机器学习吗？', 'timestamp': '2025-02-09T18:01:50.973247+00:00', 'processed_content': '你能帮我解释一下什么是机器学习吗？'}\n",
      "[Pipelines-ContextEnrichmentStep]开始为会话 daf36a65-6a0e-4b61-8c02-539b2abe5e94 进行上下文富集\n",
      "[Pipelines-ContextEnrichmentStep]上下文富集完成，上下文数据包含以下键: ['context', 'documents']\n",
      "处理后数据：{'session_id': 'daf36a65-6a0e-4b61-8c02-539b2abe5e94', 'content': '你能帮我解释一下什么是机器学习吗？', 'timestamp': '2025-02-09T18:01:50.973247+00:00', 'processed_content': '你能帮我解释一下什么是机器学习吗？', 'context': {'user_preferences': {'language': 'zh', 'expertise_level': 'intermediate'}, 'session_start_time': '2025-02-09T18:01:50.975251+00:00', 'conversation_metadata': {'total_messages': 0, 'conversation_summary': 'No previous conversation', 'last_interaction_time': None}, 'knowledge_base_info': {'status': 'available', 'last_updated': None}}, 'documents': []}\n",
      "[Pipelines-Process_message]正在执行步骤: LLMProcessingStep\n",
      "处理前数据：{'session_id': 'daf36a65-6a0e-4b61-8c02-539b2abe5e94', 'content': '你能帮我解释一下什么是机器学习吗？', 'timestamp': '2025-02-09T18:01:50.973247+00:00', 'processed_content': '你能帮我解释一下什么是机器学习吗？', 'context': {'user_preferences': {'language': 'zh', 'expertise_level': 'intermediate'}, 'session_start_time': '2025-02-09T18:01:50.975251+00:00', 'conversation_metadata': {'total_messages': 0, 'conversation_summary': 'No previous conversation', 'last_interaction_time': None}, 'knowledge_base_info': {'status': 'available', 'last_updated': None}}, 'documents': []}\n",
      "[Pipelines-LLMProcessingStep]开始为会话 daf36a65-6a0e-4b61-8c02-539b2abe5e94 进行LLM处理\n",
      "HTTP Request: POST https://dashscope.aliyuncs.com/compatible-mode/v1/chat/completions \"HTTP/1.1 200 OK\"\n",
      "HTTP Request: POST https://dashscope.aliyuncs.com/compatible-mode/v1/chat/completions \"HTTP/1.1 200 OK\"\n",
      "[Pipelines-LLMProcessingStep]LLM处理完成，响应长度: 909\n",
      "处理后数据：{'session_id': 'daf36a65-6a0e-4b61-8c02-539b2abe5e94', 'content': '你能帮我解释一下什么是机器学习吗？', 'timestamp': '2025-02-09T18:01:50.973247+00:00', 'processed_content': '你能帮我解释一下什么是机器学习吗？', 'context': {'user_preferences': {'language': 'zh', 'expertise_level': 'intermediate'}, 'session_start_time': '2025-02-09T18:01:50.975251+00:00', 'conversation_metadata': {'total_messages': 0, 'conversation_summary': 'No previous conversation', 'last_interaction_time': None}, 'knowledge_base_info': {'status': 'available', 'last_updated': None}}, 'documents': [], 'llm_response': {'response': '当然可以！机器学习是人工智能（AI）的一个分支，它使计算机能够在没有明确编程的情况下从数据中学习并改进其性能。简单来说，机器学习是让计算机通过经验（即数据）自动学习和适应新信息的过程。\\n\\n机器学习的核心在于算法，这些算法能够解析数据、从中学习，然后对某些任务做出决策或预测。根据学习方式的不同，机器学习主要分为三大类：\\n\\n1. **监督学习**：在这种模式下，算法通过一组已知的输入和输出数据进行训练，目的是学会如何将输入映射到输出。常见的应用场景包括分类问题（如垃圾邮件检测）和回归问题（如房价预测）。\\n\\n2. **无监督学习**：与监督学习不同，无监督学习使用的是没有标签的数据。算法试图从未标注的数据中发现隐藏的结构或模式。例如，聚类分析可以用来识别客户群体中的不同类别。\\n\\n3. **强化学习**：这种学习方式通过奖励和惩罚机制来训练模型，使其在特定环境中做出一系列决策以最大化累积奖励。一个典型的例子是AlphaGo，它通过大量的自我对弈来提高棋艺。\\n\\n机器学习的应用非常广泛，从推荐系统、图像识别到自动驾驶汽车等各个领域都有它的身影。随着技术的进步，机器学习正在改变我们处理复杂问题的方式，并为许多行业带来创新和效率提升。', 'metadata': {'analysis': '### 分析结果：\\n\\n1. **主要话题**：\\n   - 机器学习（Machine Learning）\\n\\n2. **情感倾向**：\\n   - 中性。用户在请求帮助解释一个概念，没有表现出明显的情感色彩。\\n\\n3. **关键问题或请求**：\\n   - 用户希望了解“什么是机器学习”。具体来说，用户可能需要一个简单易懂的定义或解释，帮助他们理解机器学习的基本概念。\\n\\n### 回应建议：\\n可以提供一个简明扼要的机器学习定义，并根据用户的背景适当调整解释的深度。例如，可以从机器学习的基本原理、应用场景等方面进行说明。', 'rag_used': False, 'timestamp': '2025-02-09T18:02:08.739580+00:00'}}}\n",
      "[Pipelines-Process_message]正在执行步骤: PostprocessStep\n",
      "处理前数据：{'session_id': 'daf36a65-6a0e-4b61-8c02-539b2abe5e94', 'content': '你能帮我解释一下什么是机器学习吗？', 'timestamp': '2025-02-09T18:01:50.973247+00:00', 'processed_content': '你能帮我解释一下什么是机器学习吗？', 'context': {'user_preferences': {'language': 'zh', 'expertise_level': 'intermediate'}, 'session_start_time': '2025-02-09T18:01:50.975251+00:00', 'conversation_metadata': {'total_messages': 0, 'conversation_summary': 'No previous conversation', 'last_interaction_time': None}, 'knowledge_base_info': {'status': 'available', 'last_updated': None}}, 'documents': [], 'llm_response': {'response': '当然可以！机器学习是人工智能（AI）的一个分支，它使计算机能够在没有明确编程的情况下从数据中学习并改进其性能。简单来说，机器学习是让计算机通过经验（即数据）自动学习和适应新信息的过程。\\n\\n机器学习的核心在于算法，这些算法能够解析数据、从中学习，然后对某些任务做出决策或预测。根据学习方式的不同，机器学习主要分为三大类：\\n\\n1. **监督学习**：在这种模式下，算法通过一组已知的输入和输出数据进行训练，目的是学会如何将输入映射到输出。常见的应用场景包括分类问题（如垃圾邮件检测）和回归问题（如房价预测）。\\n\\n2. **无监督学习**：与监督学习不同，无监督学习使用的是没有标签的数据。算法试图从未标注的数据中发现隐藏的结构或模式。例如，聚类分析可以用来识别客户群体中的不同类别。\\n\\n3. **强化学习**：这种学习方式通过奖励和惩罚机制来训练模型，使其在特定环境中做出一系列决策以最大化累积奖励。一个典型的例子是AlphaGo，它通过大量的自我对弈来提高棋艺。\\n\\n机器学习的应用非常广泛，从推荐系统、图像识别到自动驾驶汽车等各个领域都有它的身影。随着技术的进步，机器学习正在改变我们处理复杂问题的方式，并为许多行业带来创新和效率提升。', 'metadata': {'analysis': '### 分析结果：\\n\\n1. **主要话题**：\\n   - 机器学习（Machine Learning）\\n\\n2. **情感倾向**：\\n   - 中性。用户在请求帮助解释一个概念，没有表现出明显的情感色彩。\\n\\n3. **关键问题或请求**：\\n   - 用户希望了解“什么是机器学习”。具体来说，用户可能需要一个简单易懂的定义或解释，帮助他们理解机器学习的基本概念。\\n\\n### 回应建议：\\n可以提供一个简明扼要的机器学习定义，并根据用户的背景适当调整解释的深度。例如，可以从机器学习的基本原理、应用场景等方面进行说明。', 'rag_used': False, 'timestamp': '2025-02-09T18:02:08.739580+00:00'}}}\n",
      "[Pipelines-PostProcessStep]开始为会话 daf36a65-6a0e-4b61-8c02-539b2abe5e94 进行后处理\n",
      "[Pipelines-PostProcessStep]后处理成功完成\n",
      "处理后数据：{'session_id': 'daf36a65-6a0e-4b61-8c02-539b2abe5e94', 'content': '你能帮我解释一下什么是机器学习吗？', 'timestamp': '2025-02-09T18:01:50.973247+00:00', 'processed_content': '你能帮我解释一下什么是机器学习吗？', 'context': {'user_preferences': {'language': 'zh', 'expertise_level': 'intermediate'}, 'session_start_time': '2025-02-09T18:01:50.975251+00:00', 'conversation_metadata': {'total_messages': 0, 'conversation_summary': 'No previous conversation', 'last_interaction_time': None}, 'knowledge_base_info': {'status': 'available', 'last_updated': None}}, 'documents': [], 'llm_response': {'response': '当然可以！机器学习是人工智能（AI）的一个分支，它使计算机能够在没有明确编程的情况下从数据中学习并改进其性能。简单来说，机器学习是让计算机通过经验（即数据）自动学习和适应新信息的过程。\\n\\n机器学习的核心在于算法，这些算法能够解析数据、从中学习，然后对某些任务做出决策或预测。根据学习方式的不同，机器学习主要分为三大类：\\n\\n1. **监督学习**：在这种模式下，算法通过一组已知的输入和输出数据进行训练，目的是学会如何将输入映射到输出。常见的应用场景包括分类问题（如垃圾邮件检测）和回归问题（如房价预测）。\\n\\n2. **无监督学习**：与监督学习不同，无监督学习使用的是没有标签的数据。算法试图从未标注的数据中发现隐藏的结构或模式。例如，聚类分析可以用来识别客户群体中的不同类别。\\n\\n3. **强化学习**：这种学习方式通过奖励和惩罚机制来训练模型，使其在特定环境中做出一系列决策以最大化累积奖励。一个典型的例子是AlphaGo，它通过大量的自我对弈来提高棋艺。\\n\\n机器学习的应用非常广泛，从推荐系统、图像识别到自动驾驶汽车等各个领域都有它的身影。随着技术的进步，机器学习正在改变我们处理复杂问题的方式，并为许多行业带来创新和效率提升。', 'metadata': {'analysis': '### 分析结果：\\n\\n1. **主要话题**：\\n   - 机器学习（Machine Learning）\\n\\n2. **情感倾向**：\\n   - 中性。用户在请求帮助解释一个概念，没有表现出明显的情感色彩。\\n\\n3. **关键问题或请求**：\\n   - 用户希望了解“什么是机器学习”。具体来说，用户可能需要一个简单易懂的定义或解释，帮助他们理解机器学习的基本概念。\\n\\n### 回应建议：\\n可以提供一个简明扼要的机器学习定义，并根据用户的背景适当调整解释的深度。例如，可以从机器学习的基本原理、应用场景等方面进行说明。', 'rag_used': False, 'timestamp': '2025-02-09T18:02:08.739580+00:00'}}, 'final_response': {'response': '当然可以！机器学习是人工智能（AI）的一个分支，它使计算机能够在没有明确编程的情况下从数据中学习并改进其性能。简单来说，机器学习是让计算机通过经验（即数据）自动学习和适应新信息的过程。\\n\\n机器学习的核心在于算法，这些算法能够解析数据、从中学习，然后对某些任务做出决策或预测。根据学习方式的不同，机器学习主要分为三大类：\\n\\n1. **监督学习**：在这种模式下，算法通过一组已知的输入和输出数据进行训练，目的是学会如何将输入映射到输出。常见的应用场景包括分类问题（如垃圾邮件检测）和回归问题（如房价预测）。\\n\\n2. **无监督学习**：与监督学习不同，无监督学习使用的是没有标签的数据。算法试图从未标注的数据中发现隐藏的结构或模式。例如，聚类分析可以用来识别客户群体中的不同类别。\\n\\n3. **强化学习**：这种学习方式通过奖励和惩罚机制来训练模型，使其在特定环境中做出一系列决策以最大化累积奖励。一个典型的例子是AlphaGo，它通过大量的自我对弈来提高棋艺。\\n\\n机器学习的应用非常广泛，从推荐系统、图像识别到自动驾驶汽车等各个领域都有它的身影。随着技术的进步，机器学习正在改变我们处理复杂问题的方式，并为许多行业带来创新和效率提升。', 'metadata': {'timestamp': '2025-02-09T18:01:50.973247+00:00', 'processing_info': {'analysis': '### 分析结果：\\n\\n1. **主要话题**：\\n   - 机器学习（Machine Learning）\\n\\n2. **情感倾向**：\\n   - 中性。用户在请求帮助解释一个概念，没有表现出明显的情感色彩。\\n\\n3. **关键问题或请求**：\\n   - 用户希望了解“什么是机器学习”。具体来说，用户可能需要一个简单易懂的定义或解释，帮助他们理解机器学习的基本概念。\\n\\n### 回应建议：\\n可以提供一个简明扼要的机器学习定义，并根据用户的背景适当调整解释的深度。例如，可以从机器学习的基本原理、应用场景等方面进行说明。', 'rag_used': False, 'timestamp': '2025-02-09T18:02:08.739580+00:00'}}}}\n",
      "[Pipelines-Process_message]会话 daf36a65-6a0e-4b61-8c02-539b2abe5e94 的管道处理已完成\n",
      "\n",
      "Pipeline Response: {'response': '当然可以！机器学习是人工智能（AI）的一个分支，它使计算机能够在没有明确编程的情况下从数据中学习并改进其性能。简单来说，机器学习是让计算机通过经验（即数据）自动学习和适应新信息的过程。\\n\\n机器学习的核心在于算法，这些算法能够解析数据、从中学习，然后对某些任务做出决策或预测。根据学习方式的不同，机器学习主要分为三大类：\\n\\n1. **监督学习**：在这种模式下，算法通过一组已知的输入和输出数据进行训练，目的是学会如何将输入映射到输出。常见的应用场景包括分类问题（如垃圾邮件检测）和回归问题（如房价预测）。\\n\\n2. **无监督学习**：与监督学习不同，无监督学习使用的是没有标签的数据。算法试图从未标注的数据中发现隐藏的结构或模式。例如，聚类分析可以用来识别客户群体中的不同类别。\\n\\n3. **强化学习**：这种学习方式通过奖励和惩罚机制来训练模型，使其在特定环境中做出一系列决策以最大化累积奖励。一个典型的例子是AlphaGo，它通过大量的自我对弈来提高棋艺。\\n\\n机器学习的应用非常广泛，从推荐系统、图像识别到自动驾驶汽车等各个领域都有它的身影。随着技术的进步，机器学习正在改变我们处理复杂问题的方式，并为许多行业带来创新和效率提升。', 'metadata': {'timestamp': '2025-02-09T18:01:50.973247+00:00', 'processing_info': {'analysis': '### 分析结果：\\n\\n1. **主要话题**：\\n   - 机器学习（Machine Learning）\\n\\n2. **情感倾向**：\\n   - 中性。用户在请求帮助解释一个概念，没有表现出明显的情感色彩。\\n\\n3. **关键问题或请求**：\\n   - 用户希望了解“什么是机器学习”。具体来说，用户可能需要一个简单易懂的定义或解释，帮助他们理解机器学习的基本概念。\\n\\n### 回应建议：\\n可以提供一个简明扼要的机器学习定义，并根据用户的背景适当调整解释的深度。例如，可以从机器学习的基本原理、应用场景等方面进行说明。', 'rag_used': False, 'timestamp': '2025-02-09T18:02:08.739580+00:00'}}}\n"
     ]
    }
   ],
   "source": [
    "# 2. 通过管道处理消息\n",
    "pipeline = ChatPipeline()\n",
    "response = await pipeline.process_message(\n",
    "    str(test_session.id),\n",
    "    \"你能帮我解释一下什么是机器学习吗？\",\n",
    "    test_user\n",
    ")\n",
    "print(\"\\nPipeline Response:\", response)"
   ]
  },
  {
   "cell_type": "code",
   "execution_count": 12,
   "metadata": {},
   "outputs": [
    {
     "name": "stdout",
     "output_type": "stream",
     "text": [
      "\n",
      "Task Result: {'response': '当然，深度学习是机器学习的一个子领域，它通过构建和训练多层的神经网络模型来处理复杂的数据模式。这些模型被称为“深度”是因为它们包含多个隐藏层（通常超过两层），这使得它们能够捕捉数据中的复杂特征和抽象概念。\\n\\n### 深度学习的核心概念\\n\\n1. **神经网络**：\\n   - **结构**：一个典型的神经网络由输入层、一个或多个隐藏层和输出层组成。每一层都包含若干个节点（或称为神经元），这些节点通过权重连接起来。\\n   - **功能**：每个神经元接收来自前一层的输入，对其进行加权求和，并通过一个激活函数进行非线性变换，然后将结果传递给下一层。\\n\\n2. **深度架构**：\\n   - **卷积神经网络（CNN）**：主要用于图像识别任务。CNN通过卷积层提取图像的空间层次特征，如边缘、纹理等，适用于视觉识别、图像分类等领域。\\n   - **循环神经网络（RNN）**：用于处理序列数据，如时间序列分析、自然语言处理。RNN具有记忆功能，可以记住之前的信息，从而更好地处理顺序信息。\\n   - **长短期记忆网络（LSTM）和门控循环单元（GRU）**：这两种改进型的RNN解决了传统RNN在处理长序列时遇到的梯度消失问题，更擅长捕捉长时间依赖关系。\\n   - **Transformer**：近年来兴起的一种架构，广泛应用于自然语言处理任务，如翻译、文本生成等。它摒弃了传统的循环结构，采用自注意力机制来并行处理序列中的所有位置。\\n\\n3. **训练过程**：\\n   - **反向传播算法**：这是深度学习中最常用的优化方法。它通过计算损失函数相对于网络参数的梯度，并使用梯度下降法更新这些参数，以最小化预测误差。\\n   - **大数据与高性能计算**：深度学习模型通常需要大量的数据进行训练，并且计算量巨大。因此，GPU（图形处理单元）和TPU（张量处理单元）等硬件加速技术以及分布式计算框架对于提高训练效率至关重要。\\n\\n4. **应用领域**：\\n   - **计算机视觉**：包括图像分类、目标检测、人脸识别等。\\n   - **自然语言处理（NLP）**：涉及文本理解、情感分析、机器翻译等。\\n   - **语音识别**：将音频信号转换为文本，支持智能助手等功能。\\n   - **推荐系统**：根据用户行为提供个性化推荐，如电影推荐、商品推荐等。\\n   - **自动驾驶**：利用传感器数据进行环境感知、路径规划等。\\n\\n深度学习的强大之处在于其能够自动从大量数据中提取特征，而无需人工设计复杂的特征工程。随着算法的进步和计算资源的增加，深度学习正在推动人工智能领域的快速发展，成为解决许多复杂问题的关键技术。', 'metadata': {'timestamp': '2025-02-09T18:06:38.064033+00:00', 'processing_info': {'analysis': '### 分析结果：\\n\\n1. **主要话题**：\\n   - 深度学习的概念\\n\\n2. **情感倾向**：\\n   - 中性。用户只是请求进一步解释深度学习的概念，没有明显的情感表达。\\n\\n3. **关键问题或请求**：\\n   - 用户希望继续了解或深入解释深度学习的概念。具体来说，用户可能需要更详细的解释、例子或应用场景来更好地理解深度学习。\\n\\n### 回应建议：\\n可以提供一个简明但全面的深度学习概念解释，包括其定义、工作原理、常见模型（如神经网络）以及实际应用案例，以帮助用户更好地理解这一领域。', 'rag_used': False, 'timestamp': '2025-02-09T18:07:05.747729+00:00'}}}\n"
     ]
    }
   ],
   "source": [
    "# 3. 创建异步任务\n",
    "task_result = process_chat_message_task.delay(\n",
    "    str(test_session.id),\n",
    "    \"继续解释深度学习的概念\",\n",
    "    user_phone=\"18501771516\"\n",
    ")\n",
    "print(\"\\nTask Result:\", task_result.get())"
   ]
  },
  {
   "cell_type": "code",
   "execution_count": 20,
   "metadata": {},
   "outputs": [
    {
     "name": "stdout",
     "output_type": "stream",
     "text": [
      "当然，深度学习是机器学习的一个子领域，它通过构建和训练多层的神经网络模型来处理复杂的数据模式。这些模型被称为“深度”是因为它们包含多个隐藏层（通常超过两层），这使得它们能够捕捉数据中的复杂特征和抽象概念。\n",
      "\n",
      "### 深度学习的核心概念\n",
      "\n",
      "1. **神经网络**：\n",
      "   - **结构**：一个典型的神经网络由输入层、一个或多个隐藏层和输出层组成。每一层都包含若干个节点（或称为神经元），这些节点通过权重连接起来。\n",
      "   - **功能**：每个神经元接收来自前一层的输入，对其进行加权求和，并通过一个激活函数进行非线性变换，然后将结果传递给下一层。\n",
      "\n",
      "2. **深度架构**：\n",
      "   - **卷积神经网络（CNN）**：主要用于图像识别任务。CNN通过卷积层提取图像的空间层次特征，如边缘、纹理等，适用于视觉识别、图像分类等领域。\n",
      "   - **循环神经网络（RNN）**：用于处理序列数据，如时间序列分析、自然语言处理。RNN具有记忆功能，可以记住之前的信息，从而更好地处理顺序信息。\n",
      "   - **长短期记忆网络（LSTM）和门控循环单元（GRU）**：这两种改进型的RNN解决了传统RNN在处理长序列时遇到的梯度消失问题，更擅长捕捉长时间依赖关系。\n",
      "   - **Transformer**：近年来兴起的一种架构，广泛应用于自然语言处理任务，如翻译、文本生成等。它摒弃了传统的循环结构，采用自注意力机制来并行处理序列中的所有位置。\n",
      "\n",
      "3. **训练过程**：\n",
      "   - **反向传播算法**：这是深度学习中最常用的优化方法。它通过计算损失函数相对于网络参数的梯度，并使用梯度下降法更新这些参数，以最小化预测误差。\n",
      "   - **大数据与高性能计算**：深度学习模型通常需要大量的数据进行训练，并且计算量巨大。因此，GPU（图形处理单元）和TPU（张量处理单元）等硬件加速技术以及分布式计算框架对于提高训练效率至关重要。\n",
      "\n",
      "4. **应用领域**：\n",
      "   - **计算机视觉**：包括图像分类、目标检测、人脸识别等。\n",
      "   - **自然语言处理（NLP）**：涉及文本理解、情感分析、机器翻译等。\n",
      "   - **语音识别**：将音频信号转换为文本，支持智能助手等功能。\n",
      "   - **推荐系统**：根据用户行为提供个性化推荐，如电影推荐、商品推荐等。\n",
      "   - **自动驾驶**：利用传感器数据进行环境感知、路径规划等。\n",
      "\n",
      "深度学习的强大之处在于其能够自动从大量数据中提取特征，而无需人工设计复杂的特征工程。随着算法的进步和计算资源的增加，深度学习正在推动人工智能领域的快速发展，成为解决许多复杂问题的关键技术。\n"
     ]
    }
   ],
   "source": [
    "task_result_content = task_result.get()\n",
    "print(task_result_content['response'])"
   ]
  },
  {
   "cell_type": "code",
   "execution_count": null,
   "metadata": {},
   "outputs": [],
   "source": []
  }
 ],
 "metadata": {
  "kernelspec": {
   "display_name": "BidPilot_new_env",
   "language": "python",
   "name": "python3"
  },
  "language_info": {
   "codemirror_mode": {
    "name": "ipython",
    "version": 3
   },
   "file_extension": ".py",
   "mimetype": "text/x-python",
   "name": "python",
   "nbconvert_exporter": "python",
   "pygments_lexer": "ipython3",
   "version": "3.12.1"
  }
 },
 "nbformat": 4,
 "nbformat_minor": 2
}
