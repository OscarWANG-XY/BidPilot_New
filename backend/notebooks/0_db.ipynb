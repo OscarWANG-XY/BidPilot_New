{
 "cells": [
  {
   "cell_type": "markdown",
   "metadata": {},
   "source": [
    "# Django 初始化"
   ]
  },
  {
   "cell_type": "code",
   "execution_count": 1,
   "metadata": {},
   "outputs": [
    {
     "name": "stdout",
     "output_type": "stream",
     "text": [
      "Development settings loaded\n",
      "INSTALLED_APPS: ['django.contrib.admin', 'django.contrib.auth', 'django.contrib.contenttypes', 'django.contrib.sessions', 'django.contrib.messages', 'django.contrib.staticfiles', 'rest_framework', 'corsheaders', 'storages', 'apps.authentication', 'apps.files', 'apps.projects', 'apps.doc_analysis', 'apps.chat', 'django_filters', 'drf_spectacular', 'rest_framework_simplejwt.token_blacklist', 'django_celery_results', 'django_celery_beat']\n"
     ]
    },
    {
     "name": "stderr",
     "output_type": "stream",
     "text": [
      "INFO 2025-03-03 12:27:18,304 storage default_storage 的类型: COSStorage\n"
     ]
    },
    {
     "name": "stdout",
     "output_type": "stream",
     "text": [
      "Settings从哪里加载？: config.settings.development\n",
      "项目根目录对么？: C:\\Users\\huiwa\\Documents\\_All_Projects\\BidPilot_new\\backend\n",
      "文件存储settings对么？: apps.files.storage.COSStorage\n",
      "文件default_storage对么？: COSStorage\n",
      "\n",
      "已经安装的应用 Installed Apps 完整了么？:\n",
      "- django.contrib.admin\n",
      "- django.contrib.auth\n",
      "- django.contrib.contenttypes\n",
      "- django.contrib.sessions\n",
      "- django.contrib.messages\n",
      "- django.contrib.staticfiles\n",
      "- rest_framework\n",
      "- corsheaders\n",
      "- storages\n",
      "- apps.authentication\n",
      "- apps.files\n",
      "- apps.projects\n",
      "- apps.doc_analysis\n",
      "- apps.chat\n",
      "- django_filters\n",
      "- drf_spectacular\n",
      "- rest_framework_simplejwt.token_blacklist\n",
      "- django_celery_results\n",
      "- django_celery_beat\n"
     ]
    }
   ],
   "source": [
    "import django_setup"
   ]
  },
  {
   "cell_type": "code",
   "execution_count": 2,
   "metadata": {},
   "outputs": [],
   "source": [
    "#导入所有模型\n",
    "from django.contrib.auth import get_user_model\n",
    "from apps.files.models import FileRecord\n",
    "from apps.projects.models import Project, ProjectHistory\n",
    "from apps.doc_analysis.models import DocumentAnalysis\n",
    "\n",
    "User = get_user_model()\n",
    "projects = Project.objects.all()  #事实上可以直接使用\n",
    "files = FileRecord.objects.all()\n",
    "analyses = DocumentAnalysis.objects.all()\n"
   ]
  },
  {
   "cell_type": "markdown",
   "metadata": {},
   "source": [
    "数据库数据清理，只保留18501771516用户的数据\n"
   ]
  },
  {
   "cell_type": "code",
   "execution_count": 3,
   "metadata": {},
   "outputs": [
    {
     "name": "stdout",
     "output_type": "stream",
     "text": [
      "已删除 0 个其他项目\n",
      "已删除 0 个其他文件\n",
      "已删除 0 个其他分析\n",
      "已删除 0 个其他用户\n"
     ]
    }
   ],
   "source": [
    "# 删除18501771516用户以外的项目\n",
    "deleted_count = Project.objects.exclude(creator__phone='18501771516').delete()\n",
    "print(f\"已删除 {deleted_count[0]} 个其他项目\")\n",
    "\n",
    "\n",
    "# 删除18501771516用户以外的文件\n",
    "deleted_count = FileRecord.objects.exclude(owner__phone='18501771516').delete()\n",
    "print(f\"已删除 {deleted_count[0]} 个其他文件\")\n",
    "\n",
    "# 删除18501771516用户以外的分析\n",
    "deleted_count = DocumentAnalysis.objects.exclude(created_by__phone='18501771516').delete()\n",
    "print(f\"已删除 {deleted_count[0]} 个其他分析\")\n",
    "\n",
    "# 删除18501771516用户以外的用户\n",
    "deleted_count = User.objects.exclude(phone='18501771516').delete()\n",
    "print(f\"已删除 {deleted_count[0]} 个其他用户\")"
   ]
  },
  {
   "cell_type": "markdown",
   "metadata": {},
   "source": [
    "# <font color=\"red\">Part 1 - 用户管理</font>\n"
   ]
  },
  {
   "cell_type": "code",
   "execution_count": 4,
   "metadata": {},
   "outputs": [
    {
     "name": "stdout",
     "output_type": "stream",
     "text": [
      "User\n",
      "-----------常规字段--------------\n",
      "- password: CharField\n",
      "- last_login: DateTimeField\n",
      "- is_superuser: BooleanField\n",
      "- id: UUIDField\n",
      "- phone: CharField\n",
      "- email: EmailField\n",
      "- username: CharField\n",
      "- wechat_id: CharField\n",
      "- role: CharField\n",
      "- is_active: BooleanField\n",
      "- is_staff: BooleanField\n",
      "- created_at: DateTimeField\n",
      "- updated_at: DateTimeField\n",
      "\n",
      "-----------反向关系字段-------------\n",
      "- logentry_set: ManyToOneRel (来自 LogEntry)\n",
      "- owned_files: ManyToOneRel (来自 FileRecord)\n",
      "- created_projects: ManyToOneRel (来自 Project)\n",
      "- created_analyses: ManyToOneRel (来自 DocumentAnalysis)\n",
      "- confirmed_analyses: ManyToOneRel (来自 DocumentAnalysis)\n",
      "- chat_sessions: ManyToOneRel (来自 ChatSession)\n",
      "- outstandingtoken_set: ManyToOneRel (来自 OutstandingToken)\n",
      "\n",
      "-----------多对多字段-------------\n",
      "- groups: ManyToManyField\n",
      "- user_permissions: ManyToManyField\n"
     ]
    }
   ],
   "source": [
    "# 用户模型所有字段\n",
    "print(\"User\")\n",
    "print(\"-----------常规字段--------------\")\n",
    "for field in User._meta.fields:\n",
    "    print(f\"- {field.name}: {field.__class__.__name__}\")\n",
    "\n",
    "print(\"\\n-----------反向关系字段-------------\")\n",
    "# 反向关系字段\n",
    "for field in User._meta.get_fields():\n",
    "    # 检查是否是反向关系字段\n",
    "    if field.is_relation and field.auto_created:\n",
    "        related_name = field.related_name or f\"{field.name}_set\"\n",
    "        print(f\"- {related_name}: {field.__class__.__name__} (来自 {field.related_model.__name__})\")\n",
    "\n",
    "print(\"\\n-----------多对多字段-------------\")\n",
    "for field in User._meta.many_to_many:\n",
    "    print(f\"- {field.name}: {field.__class__.__name__}\")\n",
    "\n"
   ]
  },
  {
   "cell_type": "markdown",
   "metadata": {},
   "source": [
    "### 打印所有用户"
   ]
  },
  {
   "cell_type": "code",
   "execution_count": 5,
   "metadata": {},
   "outputs": [
    {
     "name": "stdout",
     "output_type": "stream",
     "text": [
      "用户：18501771516,项目数：3,文件数：0 分析数：0\n"
     ]
    }
   ],
   "source": [
    "# 打印用户列表\n",
    "users = User.objects.all()\n",
    "for user in users:\n",
    "    print(f\"用户：{user.phone},\" \n",
    "          f\"项目数：{user.created_projects.all().count()},\" \n",
    "          f\"文件数：{user.owned_files.all().count()}\",\n",
    "          f\"分析数：{user.created_analyses.all().count()}\"\n",
    "          )\n"
   ]
  },
  {
   "cell_type": "markdown",
   "metadata": {},
   "source": [
    "### 过滤用户"
   ]
  },
  {
   "cell_type": "code",
   "execution_count": 6,
   "metadata": {},
   "outputs": [
    {
     "name": "stdout",
     "output_type": "stream",
     "text": [
      "用户ID: bc58212c-453f-415f-8614-bef6d3f11923, 用户名: None\n",
      "  password: \n",
      "  last_login: None\n",
      "  is_superuser: False\n",
      "  id: bc58212c-453f-415f-8614-bef6d3f11923\n",
      "  phone: 18501771516\n",
      "  email: None\n",
      "  username: None\n",
      "  wechat_id: None\n",
      "  role: user\n",
      "  is_active: True\n",
      "  is_staff: False\n",
      "  created_at: 2025-02-28 16:26:16.203678+00:00\n",
      "  updated_at: 2025-02-28 16:26:16.203825+00:00\n",
      "---\n"
     ]
    }
   ],
   "source": [
    "# 打印用户的所有字段值\n",
    "for user in User.objects.filter(phone='18501771516'):\n",
    "    print(f\"用户ID: {user.id}, 用户名: {user.username}\")\n",
    "    # 打印用户的所有字段值\n",
    "\n",
    "    for field in User._meta.fields:\n",
    "        print(f\"  {field.name}: {getattr(user, field.name)}\")\n",
    "    print(\"---\")\n",
    "\n"
   ]
  },
  {
   "cell_type": "code",
   "execution_count": 7,
   "metadata": {},
   "outputs": [
    {
     "name": "stdout",
     "output_type": "stream",
     "text": [
      "已删除 0 个其他用户\n"
     ]
    }
   ],
   "source": [
    "# 删除selected之外的所有用户\n",
    "selected_phones = ['18501771516', '13800138000']\n",
    "deleted_count = User.objects.exclude(phone__in=selected_phones).delete()\n",
    "print(f\"已删除 {deleted_count[0]} 个其他用户\")\n"
   ]
  },
  {
   "cell_type": "code",
   "execution_count": 8,
   "metadata": {},
   "outputs": [],
   "source": [
    "# 清空所有上传的文件\n",
    "#delete_count = User.objects.all().delete()\n",
    "#print(delete_count[0])"
   ]
  },
  {
   "cell_type": "markdown",
   "metadata": {},
   "source": [
    "# <font color=\"red\">Part 2 - 项目管理</font>\n"
   ]
  },
  {
   "cell_type": "code",
   "execution_count": 6,
   "metadata": {},
   "outputs": [
    {
     "name": "stdout",
     "output_type": "stream",
     "text": [
      "Project\n",
      "-----------常规字段--------------\n",
      "- id: UUIDField\n",
      "- project_code: CharField\n",
      "- project_name: CharField\n",
      "- tenderee: CharField\n",
      "- bidder: CharField\n",
      "- project_type: CharField\n",
      "- bid_deadline: DateTimeField\n",
      "- status: CharField\n",
      "- current_stage: CharField\n",
      "- is_urgent: BooleanField\n",
      "- creator: ForeignKey\n",
      "- create_time: DateTimeField\n",
      "- last_update_time: DateTimeField\n",
      "\n",
      "-----------反向关系字段-------------\n",
      "- files: ManyToOneRel (来自 FileRecord)\n",
      "- stage_histories: ManyToOneRel (来自 ProjectHistory)\n",
      "- document_analyses: ManyToOneRel (来自 DocumentAnalysis)\n",
      "\n",
      "-----------多对多字段-------------\n"
     ]
    }
   ],
   "source": [
    "# 项目模型所有字段\n",
    "print(\"Project\")\n",
    "print(\"-----------常规字段--------------\")\n",
    "for field in Project._meta.fields:\n",
    "    print(f\"- {field.name}: {field.__class__.__name__}\")\n",
    "\n",
    "print(\"\\n-----------反向关系字段-------------\")\n",
    "# 反向关系字段\n",
    "for field in Project._meta.get_fields():\n",
    "    # 检查是否是反向关系字段\n",
    "    if field.is_relation and field.auto_created:\n",
    "        related_name = field.related_name or f\"{field.name}_set\"\n",
    "        print(f\"- {related_name}: {field.__class__.__name__} (来自 {field.related_model.__name__})\")\n",
    "\n",
    "print(\"\\n-----------多对多字段-------------\")\n",
    "for field in Project._meta.many_to_many:\n",
    "    print(f\"- {field.name}: {field.__class__.__name__}\")"
   ]
  },
  {
   "cell_type": "code",
   "execution_count": 8,
   "metadata": {},
   "outputs": [
    {
     "name": "stdout",
     "output_type": "stream",
     "text": [
      "项目编号:BP-2025-OTHER-0001 项目名：阿里巴巴年节福利2,创建者：18501771516,关联分析数：0\n",
      "项目编号:BP-2025-FSD-0001 项目名：xiangmu 1,创建者：18501771516,关联分析数：0\n",
      "项目编号:BP-2025-WELFARE-0001 项目名：测试项目1,创建者：18501771516,关联分析数：0\n"
     ]
    }
   ],
   "source": [
    "# 打印项目列表\n",
    "projects = Project.objects.all()\n",
    "for project in projects:\n",
    "    print(f\"项目编号:{project.project_code}\",\n",
    "          f\"项目名：{project.project_name},\" \n",
    "          f\"创建者：{project.creator.phone},\" \n",
    "          f\"关联分析数：{project.document_analyses.all().count()}\"\n",
    "          )"
   ]
  },
  {
   "cell_type": "code",
   "execution_count": 11,
   "metadata": {},
   "outputs": [],
   "source": [
    "# 清空所有上传的文件\n",
    "#delete_count = Project.objects.all().delete()\n",
    "#print(delete_count[0])"
   ]
  },
  {
   "cell_type": "code",
   "execution_count": 9,
   "metadata": {},
   "outputs": [
    {
     "name": "stdout",
     "output_type": "stream",
     "text": [
      "项目ID: aae5a639-a4f7-4f01-91f1-b810672b1d9e, 项目名: 测试项目1\n",
      "  id: aae5a639-a4f7-4f01-91f1-b810672b1d9e\n",
      "  project_code: BP-2025-WELFARE-0001\n",
      "  project_name: 测试项目1\n",
      "  tenderee: 执智者\n",
      "  bidder: \n",
      "  project_type: WELFARE\n",
      "  bid_deadline: None\n",
      "  status: IN_PROGRESS\n",
      "  current_stage: INITIALIZATION\n",
      "  is_urgent: False\n",
      "  creator: 18501771516\n",
      "  create_time: 2025-02-28 16:34:13.928284+00:00\n",
      "  last_update_time: 2025-02-28 16:34:13.928284+00:00\n",
      "---\n"
     ]
    }
   ],
   "source": [
    "# 打印特定用户的所有项目的所有字段值\n",
    "for project in Project.objects.filter(creator__phone='18501771516',project_code='BP-2025-WELFARE-0001'):\n",
    "    print(f\"项目ID: {project.id}, 项目名: {project.project_name}\")\n",
    "    # 打印项目的所有字段值\n",
    "\n",
    "    for field in project._meta.fields:\n",
    "        print(f\"  {field.name}: {getattr(project, field.name)}\")\n",
    "    print(\"---\")\n",
    "\n"
   ]
  },
  {
   "cell_type": "markdown",
   "metadata": {},
   "source": [
    "# <font color=\"red\">Part 3 - 文件管理</font>\n"
   ]
  },
  {
   "cell_type": "code",
   "execution_count": 13,
   "metadata": {},
   "outputs": [
    {
     "name": "stdout",
     "output_type": "stream",
     "text": [
      "FileRecord\n",
      "-----------常规字段--------------\n",
      "- id: UUIDField\n",
      "- created_at: DateTimeField\n",
      "- created_by: CharField\n",
      "- updated_at: DateTimeField\n",
      "- updated_by: CharField\n",
      "- version: IntegerField\n",
      "- name: CharField\n",
      "- file: FileField\n",
      "- size: BigIntegerField\n",
      "- type: CharField\n",
      "- mime_type: CharField\n",
      "- processing_status: CharField\n",
      "- processing_progress: IntegerField\n",
      "- error_message: TextField\n",
      "- owner: ForeignKey\n",
      "- metadata: JSONField\n",
      "- remarks: TextField\n",
      "- project: ForeignKey\n",
      "\n",
      "-----------反向关系字段-------------\n",
      "- document_analyses: ManyToOneRel (来自 DocumentAnalysis)\n",
      "\n",
      "-----------多对多字段-------------\n"
     ]
    }
   ],
   "source": [
    "# 文件所有字段\n",
    "# 文件的所有常规字段\n",
    "print(\"FileRecord\")\n",
    "print(\"-----------常规字段--------------\")\n",
    "for field in FileRecord._meta.fields:\n",
    "    print(f\"- {field.name}: {field.__class__.__name__}\")\n",
    "\n",
    "print(\"\\n-----------反向关系字段-------------\")\n",
    "# 反向关系字段\n",
    "for field in FileRecord._meta.get_fields():\n",
    "    # 检查是否是反向关系字段\n",
    "    if field.is_relation and field.auto_created:\n",
    "        related_name = field.related_name or f\"{field.name}_set\"\n",
    "\n",
    "        print(f\"- {related_name}: {field.__class__.__name__} (来自 {field.related_model.__name__})\")\n",
    "\n",
    "print(\"\\n-----------多对多字段-------------\")\n",
    "for field in FileRecord._meta.many_to_many:\n",
    "    print(f\"- {field.name}: {field.__class__.__name__}\")"
   ]
  },
  {
   "cell_type": "code",
   "execution_count": 15,
   "metadata": {},
   "outputs": [
    {
     "name": "stdout",
     "output_type": "stream",
     "text": [
      "文件ID:cf182d9b-b3ff-4422-92f1-47eb3ff0f5ce 文件类型:WORD 文件名：实战：招标文件-第1包：一级压榨花生油.docx,拥有者：18501771516,关联分析数：1\n"
     ]
    }
   ],
   "source": [
    "# 打印项目列表\n",
    "files = FileRecord.objects.all()\n",
    "for file in files:\n",
    "    print(f\"文件ID:{file.id}\",\n",
    "          f\"文件类型:{file.type}\",\n",
    "          f\"文件名：{file.name},\" \n",
    "          f\"拥有者：{file.owner.phone},\" \n",
    "          f\"关联分析数：{file.document_analyses.all().count()}\"\n",
    "          )"
   ]
  },
  {
   "cell_type": "code",
   "execution_count": 18,
   "metadata": {},
   "outputs": [],
   "source": [
    "# 清空所有上传的文件\n",
    "#delete_count = FileRecord.objects.all().delete()\n",
    "#print(delete_count[0])"
   ]
  },
  {
   "cell_type": "code",
   "execution_count": 19,
   "metadata": {},
   "outputs": [],
   "source": [
    "# 打印特定用户的所有项目的所有字段值\n",
    "for file in FileRecord.objects.filter(owner__phone='18501771516',name='Test 文本.docx'):\n",
    "    print(f\"文件ID: {file.id}, 文件名: {file.name}\")\n",
    "    # 打印文件的所有字段值\n",
    "\n",
    "\n",
    "    for field in file._meta.fields:\n",
    "        print(f\"  {field.name}: {getattr(file, field.name)}\")\n",
    "    print(\"---\")"
   ]
  },
  {
   "cell_type": "markdown",
   "metadata": {},
   "source": [
    "<font color=\"red\">将文件关联到项目</font>\n"
   ]
  },
  {
   "cell_type": "code",
   "execution_count": 17,
   "metadata": {},
   "outputs": [],
   "source": [
    "#delete_count = FileProjectLink.objects.filter(project=project).delete()\n",
    "#print(deleted_count[0])"
   ]
  },
  {
   "cell_type": "markdown",
   "metadata": {},
   "source": [
    "# <font color=red>Part 4 - 分析管理 </font>"
   ]
  },
  {
   "cell_type": "code",
   "execution_count": 13,
   "metadata": {},
   "outputs": [
    {
     "name": "stdout",
     "output_type": "stream",
     "text": [
      "DocumentAnalysis\n",
      "-----------常规字段--------------\n",
      "- id: UUIDField\n",
      "- project: ForeignKey\n",
      "- file_record: ForeignKey\n",
      "- title: CharField\n",
      "- status: CharField\n",
      "- analysis_questions: JSONField\n",
      "- analysis_result: JSONField\n",
      "- extracted_elements: JSONField\n",
      "- outline_analysis_result: JSONField\n",
      "- improved_docx_elements: JSONField\n",
      "- docxtree: JSONField\n",
      "- more_subtitles: JSONField\n",
      "- error_message: TextField\n",
      "- raw_xml: TextField\n",
      "- processing_time: DurationField\n",
      "- analysis_version: CharField\n",
      "- created_at: DateTimeField\n",
      "- updated_at: DateTimeField\n",
      "- analyzed_at: DateTimeField\n",
      "- confirmed_at: DateTimeField\n",
      "- created_by: ForeignKey\n",
      "- confirmed_by: ForeignKey\n",
      "\n",
      "-----------反向关系字段-------------\n",
      "\n",
      "-----------多对多字段-------------\n"
     ]
    }
   ],
   "source": [
    "# 文档分析的所有字段\n",
    "# 常规字段\n",
    "print(\"DocumentAnalysis\")\n",
    "print(\"-----------常规字段--------------\")\n",
    "for field in DocumentAnalysis._meta.fields:\n",
    "    print(f\"- {field.name}: {field.__class__.__name__}\")\n",
    "\n",
    "print(\"\\n-----------反向关系字段-------------\")\n",
    "# 反向关系字段\n",
    "for field in DocumentAnalysis._meta.get_fields():\n",
    "    # 检查是否是反向关系字段\n",
    "    if field.is_relation and field.auto_created:\n",
    "        related_name = field.related_name or f\"{field.name}_set\"\n",
    "\n",
    "        print(f\"- {related_name}: {field.__class__.__name__} (来自 {field.related_model.__name__})\")\n",
    "\n",
    "print(\"\\n-----------多对多字段-------------\")\n",
    "for field in DocumentAnalysis._meta.many_to_many:\n",
    "    print(f\"- {field.name}: {field.__class__.__name__}\")"
   ]
  },
  {
   "cell_type": "code",
   "execution_count": 14,
   "metadata": {},
   "outputs": [],
   "source": [
    "analyses = DocumentAnalysis.objects.all()"
   ]
  },
  {
   "cell_type": "code",
   "execution_count": 15,
   "metadata": {},
   "outputs": [
    {
     "name": "stdout",
     "output_type": "stream",
     "text": [
      "<QuerySet []>\n"
     ]
    }
   ],
   "source": [
    "print(analyses)"
   ]
  },
  {
   "cell_type": "code",
   "execution_count": 16,
   "metadata": {},
   "outputs": [],
   "source": [
    "# 打印项目列表\n",
    "analyses = DocumentAnalysis.objects.all()\n",
    "for analysis in analyses:\n",
    "    print(f\"分析号:{analysis.id}\\n\")"
   ]
  },
  {
   "cell_type": "code",
   "execution_count": 22,
   "metadata": {},
   "outputs": [],
   "source": [
    "# 打印项目列表\n",
    "analyses = DocumentAnalysis.objects.all()\n",
    "for analysis in analyses:\n",
    "    print(f\"分析号:{analysis.id}\\n\",\n",
    "          f\"分析名称：{analysis.title}\\n\",\n",
    "          f\"分析所在项目：{analysis.project.project_name}\\n\", \n",
    "          f\"分析的文件：{analysis.file_record.name}\\n\" ,\n",
    "         # f\"分析的阶段：{analysis.status}\\n\",\n",
    "         # f\"分析的问题：{analysis.analysis_questions}\\n\",\n",
    "         # f\"分析结果：{analysis.analysis_result}\\n\",\n",
    "         # f\"分析创建者：{analysis.created_by.phone}\\n\",\n",
    "         # f\"分析用时：{analysis.processing_time}\\n\",\n",
    "          )"
   ]
  },
  {
   "cell_type": "code",
   "execution_count": 23,
   "metadata": {},
   "outputs": [
    {
     "name": "stdout",
     "output_type": "stream",
     "text": [
      "0\n"
     ]
    }
   ],
   "source": [
    "delete_count = DocumentAnalysis.objects.all().delete()\n",
    "print(delete_count[0])"
   ]
  }
 ],
 "metadata": {
  "kernelspec": {
   "display_name": "BidPilot_new_env",
   "language": "python",
   "name": "python3"
  },
  "language_info": {
   "codemirror_mode": {
    "name": "ipython",
    "version": 3
   },
   "file_extension": ".py",
   "mimetype": "text/x-python",
   "name": "python",
   "nbconvert_exporter": "python",
   "pygments_lexer": "ipython3",
   "version": "3.12.1"
  }
 },
 "nbformat": 4,
 "nbformat_minor": 2
}
