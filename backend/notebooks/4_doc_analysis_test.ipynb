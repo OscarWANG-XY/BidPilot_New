{
 "cells": [
  {
   "cell_type": "markdown",
   "metadata": {},
   "source": [
    "<font color=red>测试初始化<font>"
   ]
  },
  {
   "cell_type": "code",
   "execution_count": null,
   "metadata": {},
   "outputs": [],
   "source": [
    "import django_setup"
   ]
  },
  {
   "cell_type": "code",
   "execution_count": 2,
   "metadata": {},
   "outputs": [],
   "source": [
    "# 导入相关模型：get_user_model, Project, FileRecord, DocumentAnalysis, FileProjectLink, ProjectHistory\n",
    "from django.contrib.auth import get_user_model\n",
    "from apps.doc_analysis.models import DocumentAnalysis, InvalidStatusTransition\n",
    "from apps.projects.models import Project\n",
    "from apps.files.models import FileRecord\n",
    "from django.core.files.uploadedfile import SimpleUploadedFile\n"
   ]
  },
  {
   "cell_type": "code",
   "execution_count": null,
   "metadata": {},
   "outputs": [],
   "source": [
    "# 准备测试所需的 user, project, file_record  (其中project与file_record关联)\n",
    "User = get_user_model()\n",
    "\n",
    "# 获取已存在的测试数据\n",
    "\n",
    "# 获取已存在的用户\n",
    "user = User.objects.get(phone='18501771516')\n",
    "print(f\"用户: {user.phone}\")\n",
    "        \n",
    "# 获取已存在的项目\n",
    "project = Project.objects.get(project_name='测试项目1')\n",
    "print(f\"项目: {project.project_name}\")\n",
    "        \n",
    "# 获取已存在的文件\n",
    "file_record = FileRecord.objects.get(id='3')\n",
    "print(f\"文件: {file_record.name}\")\n",
    "\n"
   ]
  },
  {
   "cell_type": "code",
   "execution_count": 4,
   "metadata": {},
   "outputs": [],
   "source": [
    "# 创建测试文件\n",
    "file_content = b\"This is a test file content\"\n",
    "test_file = SimpleUploadedFile(\n",
    "    \"test_file.txt\",\n",
    "    file_content,\n",
    "    content_type=\"text/plain\"\n",
    ")"
   ]
  },
  {
   "cell_type": "markdown",
   "metadata": {},
   "source": [
    "场景1：创建分析并关联已有文件"
   ]
  },
  {
   "cell_type": "code",
   "execution_count": null,
   "metadata": {},
   "outputs": [],
   "source": [
    "#清除‘测试分析1”\n",
    "DocumentAnalysis.objects.filter(title=\"测试分析1\").delete()\n"
   ]
  },
  {
   "cell_type": "code",
   "execution_count": null,
   "metadata": {},
   "outputs": [],
   "source": [
    "# 场景1：创建分析并关联已有文件\n",
    "print(\"===== 测试场景1：创建分析并关联已有文件 =====\")\n",
    "\n",
    "# 1. 创建文档分析实例\n",
    "doc_analysis = DocumentAnalysis.objects.create(\n",
    "    project=project,\n",
    "    title=\"测试分析1\",\n",
    "    created_by=user,\n",
    "    #analysis_questions=[\"资质要求\", \"技术参数\"]  # 示例分析问题\n",
    ")\n",
    "print(f\"创建文档分析: {doc_analysis.title} (ID: {doc_analysis.id})\")\n",
    "print(f\"初始状态: {doc_analysis.status}\")\n",
    "\n",
    "\n",
    "\n"
   ]
  },
  {
   "cell_type": "code",
   "execution_count": null,
   "metadata": {},
   "outputs": [],
   "source": [
    "# 2. 关联已有文件并触发内容提取\n",
    "try:\n",
    "    doc_analysis.update_file_record(file_record)\n",
    "    print(f\"成功关联文件: {file_record.name}\")\n",
    "    print(f\"提取的XML长度: {len(doc_analysis.raw_xml) if doc_analysis.raw_xml else 0}\")\n",
    "except Exception as e:\n",
    "    print(f\"关联文件失败: {str(e)}\")\n",
    "\n",
    "print(\"\\n\")"
   ]
  },
  {
   "cell_type": "code",
   "execution_count": null,
   "metadata": {},
   "outputs": [],
   "source": [
    "Analysis1 = DocumentAnalysis.objects.get(id=doc_analysis.id)\n",
    "print(Analysis1.raw_xml)\n"
   ]
  },
  {
   "cell_type": "code",
   "execution_count": null,
   "metadata": {},
   "outputs": [],
   "source": [
    "# 场景2：创建分析并上传新文件\n",
    "print(\"===== 测试场景2：创建分析并上传新文件 =====\")\n",
    "\n",
    "# 1. 创建新的文档分析实例\n",
    "doc_analysis2 = DocumentAnalysis.objects.create(\n",
    "    project=project,\n",
    "    title=\"测试分析2\",\n",
    "    created_by=user,\n",
    "    analysis_questions=[\"投标要求\", \"评分标准\"]  # 示例分析问题\n",
    ")\n",
    "print(f\"创建文档分析: {doc_analysis2.title} (ID: {doc_analysis2.id})\")\n",
    "\n",
    "# 2. 创建新的文件记录\n",
    "new_file_record = FileRecord.objects.create(\n",
    "    name=\"test_doc.docx\",\n",
    "    file=test_file,  # 使用之前准备的测试文件\n",
    "    uploaded_by=user\n",
    ")\n",
    "print(f\"创建文件记录: {new_file_record.name}\")\n",
    "\n",
    "# 3. 关联新文件并触发内容提取\n",
    "try:\n",
    "    doc_analysis2.update_file_record(new_file_record)\n",
    "    print(f\"成功关联文件: {new_file_record.name}\")\n",
    "    print(f\"提取的XML长度: {len(doc_analysis2.raw_xml) if doc_analysis2.raw_xml else 0}\")\n",
    "except Exception as e:\n",
    "    print(f\"关联文件失败: {str(e)}\")\n",
    "\n",
    "# 检查两个分析实例的状态\n",
    "print(\"\\n===== 最终状态检查 =====\")\n",
    "print(f\"分析1状态: {doc_analysis.status}\")\n",
    "print(f\"分析2状态: {doc_analysis2.status}\")"
   ]
  },
  {
   "cell_type": "markdown",
   "metadata": {},
   "source": [
    "<font color=red>1. 测试分析模型 Models.py：创建和状态自动更新<font>"
   ]
  },
  {
   "cell_type": "code",
   "execution_count": null,
   "metadata": {},
   "outputs": [],
   "source": [
    "# 创建文档分析\n",
    "analyses = DocumentAnalysis.objects.filter(project=project, file_record=file_record)\n",
    "isAnalysisExist = analyses.exists()\n",
    "if isAnalysisExist:\n",
    "    print(f\"分析已存在，跳过创建\")\n",
    "    this_analysis = analyses.filter(title=\"测试分析\")\n",
    "    this_analysis.update(status=DocumentAnalysis.AnalysisStatus.PENDING)\n",
    "    print(f\"初始化文档分析为PENDING状态: {this_analysis.first().status}\")\n",
    "\n",
    "else:\n",
    "    analysis = DocumentAnalysis.objects.create(\n",
    "        title=\"测试分析\",\n",
    "        project=project,\n",
    "        file_record=file_record,\n",
    "        created_by=user\n",
    "    )\n"
   ]
  },
  {
   "cell_type": "code",
   "execution_count": null,
   "metadata": {},
   "outputs": [],
   "source": [
    "# 打印分析列表\n",
    "analyses = DocumentAnalysis.objects.filter(title__startswith='测试分析')\n",
    "for analysis in analyses:\n",
    "    print(f\"分析号:{analysis.id}\\n\",\n",
    "          f\"分析名称：{analysis.title}\\n\",\n",
    "          f\"分析所在项目：{analysis.project.project_name}\\n\", \n",
    "          f\"分析的文件：{analysis.file_record.name}\\n\" ,\n",
    "          f\"分析的阶段：{analysis.status}\\n\",\n",
    "          f\"分析的问题：{analysis.analysis_questions}\\n\",\n",
    "          f\"分析结果：{analysis.analysis_result}\\n\",\n",
    "          f\"分析创建者：{analysis.created_by.phone}\\n\",\n",
    "          f\"分析用时：{analysis.processing_time}\\n\",\n",
    "          )"
   ]
  },
  {
   "cell_type": "code",
   "execution_count": null,
   "metadata": {},
   "outputs": [],
   "source": [
    "# 测试状态转换流程\n",
    "if analysis.status == DocumentAnalysis.AnalysisStatus.PENDING:\n",
    "    print(\"1.可以测试文档分析从PENDING到PROCESSING的流转：\")\n",
    "    analysis.start_analysis()\n",
    "    print(f\"开始分析后状态: {analysis.status}\")\n",
    "else:\n",
    "    print(f\"1. 测试文档分析状态在{analysis.status}，不能使用start_analysis()方法\")\n"
   ]
  },
  {
   "cell_type": "code",
   "execution_count": null,
   "metadata": {},
   "outputs": [],
   "source": [
    "# 模拟分析结果\n",
    "sample_result = [\n",
    "    {\n",
    "        \"question\": \"资质要求\",\n",
    "        \"answer\": \"需要具备建筑施工总承包特级资质\"\n",
    "    },\n",
    "    {\n",
    "        \"question\": \"技术参数\",\n",
    "        \"answer\": \"项目规模：建筑面积50000平方米\"\n",
    "    }\n",
    "]\n",
    "# 完成分析\n",
    "if analysis.status == DocumentAnalysis.AnalysisStatus.PROCESSING:\n",
    "    print(\"2.可以测试文档分析从PROCESSING到COMPLETED的流转：\")\n",
    "    analysis.complete_analysis(result=sample_result)\n",
    "    print(f\"完成分析后状态: {analysis.status}\")\n",
    "\n",
    "else:\n",
    "    print(f\"2. 测试文档分析状态在{analysis.status}，不能使用complete_analysis()方法\")\n"
   ]
  },
  {
   "cell_type": "code",
   "execution_count": null,
   "metadata": {},
   "outputs": [],
   "source": [
    "# 确认分析结果\n",
    "confirmed_results = [\n",
    "    {\n",
    "        \"question\": \"资质要求\",\n",
    "        \"answer\": \"需要具备建筑施工总承包特级资质\",\n",
    "        \"comment\": \"确认无误\"\n",
    "    },\n",
    "    {\n",
    "        \"question\": \"技术参数\",\n",
    "        \"answer\": \"项目规模：建筑面积50000平方米\",\n",
    "        \"comment\": \"数据已核实\"\n",
    "    }\n",
    "]\n",
    "\n",
    "# 完成分析\n",
    "if analysis.status == DocumentAnalysis.AnalysisStatus.COMPLETED:\n",
    "    print(\"3.可以测试文档分析从COMPLETED到CONFIRMED的流转：\")\n",
    "    analysis.confirm_analysis(user=user, confirmed_results=confirmed_results)\n",
    "    print(f\"完成分析后状态: {analysis.status}\")\n",
    "\n",
    "else:\n",
    "    print(f\"3. 测试文档分析状态在{analysis.status}，不能使用confirm_analysis()方法\")\n"
   ]
  },
  {
   "cell_type": "code",
   "execution_count": null,
   "metadata": {},
   "outputs": [],
   "source": [
    "# 测试错误状态转换\n",
    "print(\"\\n2. 测试错误状态转换处理：\")\n",
    "try:\n",
    "    # 创建新的分析实例用于测试失败场景\n",
    "    failed_analysis = DocumentAnalysis.objects.create(\n",
    "        title=\"测试失败分析\",\n",
    "        project=project,\n",
    "        file_record=file_record,\n",
    "        created_by=user\n",
    "    )\n",
    "    print(f\"创建失败分析的状态: {failed_analysis.status}\")\n",
    "    # 直接尝试确认一个未完成的分析\n",
    "    failed_analysis.confirm_analysis(user=user, confirmed_results=[])\n",
    "except InvalidStatusTransition as e:\n",
    "    print(f\"预期的错误捕获: {str(e)}\")"
   ]
  },
  {
   "cell_type": "code",
   "execution_count": null,
   "metadata": {},
   "outputs": [],
   "source": [
    "# failed_analysis.delete()"
   ]
  },
  {
   "cell_type": "code",
   "execution_count": null,
   "metadata": {},
   "outputs": [],
   "source": [
    "# 测试失败流程\n",
    "failed_analysis.start_analysis()\n",
    "failed_analysis.fail_analysis(error_message=\"文档格式不支持\")\n",
    "print(f\"失败分析状态: {failed_analysis.status}\")\n",
    "print(f\"错误信息: {failed_analysis.error_message}\")"
   ]
  },
  {
   "cell_type": "code",
   "execution_count": null,
   "metadata": {},
   "outputs": [],
   "source": [
    "# 查看分析结果\n",
    "print(\"\\n3. 查看最终分析结果：\")\n",
    "final_analysis = DocumentAnalysis.objects.get(id=analysis.id)\n",
    "print(f\"分析标题: {final_analysis.title}\")\n",
    "print(f\"当前状态: {final_analysis.status}\")\n",
    "print(f\"分析结果: {final_analysis.analysis_result}\")\n",
    "print(f\"确认时间: {final_analysis.confirmed_at}\")\n",
    "print(f\"确认用户: {final_analysis.confirmed_by.phone}\")"
   ]
  },
  {
   "cell_type": "markdown",
   "metadata": {},
   "source": [
    "<font color=red>2.Serializers.py测试<font>"
   ]
  },
  {
   "cell_type": "code",
   "execution_count": 5,
   "metadata": {},
   "outputs": [],
   "source": [
    "from apps.doc_analysis.serializers import ( \n",
    "    DocumentAnalysisBaseSerializer, \n",
    "    DocumentAnalysisCreateSerializer,\n",
    "    AnalysisResultUpdateSerializer,\n",
    "    AnalysisConfirmationSerializer,\n",
    "    DocumentAnalysisDisplaySerializer\n",
    ")"
   ]
  },
  {
   "cell_type": "code",
   "execution_count": 21,
   "metadata": {},
   "outputs": [],
   "source": [
    "# 准备测试数据\n",
    "test_file = FileRecord.objects.get(id='2')\n",
    "test_project = Project.objects.get(project_name='测试项目1')\n",
    "test_user = User.objects.get(phone='18501771516')"
   ]
  },
  {
   "cell_type": "code",
   "execution_count": 22,
   "metadata": {},
   "outputs": [],
   "source": [
    "# 模拟请求类\n",
    "class MockRequest:\n",
    "    def __init__(self, user=None):\n",
    "        self.user = test_user\n",
    "        self.method = 'POST'  # 可以根据需要设置请求方法\n",
    "        self.META = {}        # 请求元数据\n",
    "        self.session = {}     # 会话数据\n",
    "\n",
    "# 创建模拟请求实例\n",
    "mock_request = MockRequest(user=test_user)\n"
   ]
  },
  {
   "cell_type": "code",
   "execution_count": null,
   "metadata": {},
   "outputs": [],
   "source": [
    "# 1. 测试创建序列化器\n",
    "print(\"=== 测试创建序列化器 ===\")\n",
    "create_data = {\n",
    "    \"project_id\": test_project.id,\n",
    "    \"file_record_id\": test_file.id,\n",
    "    \"title\": \"序列化器测试分析\",\n",
    "    \"analysis_questions\": [\"资质要求\", \"技术参数\"]\n",
    "}\n",
    "\n",
    "create_serializer = DocumentAnalysisCreateSerializer(\n",
    "    data=create_data,\n",
    "    context={'request': MockRequest()}\n",
    ")\n",
    "\n",
    "if create_serializer.is_valid():\n",
    "    new_analysis = create_serializer.save()\n",
    "    print(f\"✅ 创建成功 - ID: {new_analysis.id}\")\n",
    "else:\n",
    "    print(f\"❌ 创建失败 - 错误: {create_serializer.errors}\")"
   ]
  },
  {
   "cell_type": "code",
   "execution_count": null,
   "metadata": {},
   "outputs": [],
   "source": [
    "# 打印new_analysis\n",
    "for analysis in [new_analysis]:\n",
    "    print(f\"分析号:{analysis.id}\\n\",\n",
    "          f\"分析名称：{analysis.title}\\n\",\n",
    "          f\"分析所在项目：{analysis.project.project_name}\\n\", \n",
    "          f\"分析的文件：{analysis.file_record.name}\\n\" ,\n",
    "          f\"分析的阶段：{analysis.status}\\n\",\n",
    "          f\"分析的问题：{analysis.analysis_questions}\\n\",\n",
    "          f\"分析结果：{analysis.analysis_result}\\n\",\n",
    "          f\"分析创建者：{analysis.created_by.phone}\\n\",\n",
    "          f\"分析用时：{analysis.processing_time}\\n\",\n",
    "          )"
   ]
  },
  {
   "cell_type": "code",
   "execution_count": null,
   "metadata": {},
   "outputs": [],
   "source": [
    "# 测试无效文件类型\n",
    "print(\"\\n测试无效文件类型:\")\n",
    "invalid_file = FileRecord.objects.create(\n",
    "    name=\"test.txt\",\n",
    "    type=\"TXT\",\n",
    "    size=1024,\n",
    "    owner=test_user,  # 添加必需的owner字段\n",
    "    version=1,        # 添加必需的version字段\n",
    "    processing_status='NONE',  # 添加必需的processing_status字段\n",
    "    created_by=test_user.phone  # 添加必需的created_by字段\n",
    ")\n",
    "\n",
    "invalid_data = create_data.copy()\n",
    "invalid_data[\"file_record_id\"] = invalid_file.id\n",
    "\n",
    "invalid_serializer = DocumentAnalysisCreateSerializer(\n",
    "    data=invalid_data,\n",
    "    context={'request': mock_request}\n",
    ")\n",
    "\n",
    "if not invalid_serializer.is_valid():\n",
    "    print(f\"✅ 正确捕获错误: {invalid_serializer.errors}\")"
   ]
  },
  {
   "cell_type": "code",
   "execution_count": null,
   "metadata": {},
   "outputs": [],
   "source": [
    "# 2. 测试结果更新序列化器\n",
    "print(\"\\n=== 测试结果更新序列化器 ===\")\n",
    "update_data = {\n",
    "\n",
    "            \"question\": \"资质要求\",\n",
    "            \"answer\": \"需要具备建筑施工总承包特级资质\",\n",
    "            \"context\": [\"上下文段落1\", \"上下文段落2\"],\n",
    "            \"confidence\": 0.95\n",
    "        }\n",
    "\n",
    "result_serializer = AnalysisResultUpdateSerializer(\n",
    "    instance=new_analysis,\n",
    "    data=update_data,\n",
    "    context={'request': mock_request}\n",
    ")\n",
    "\n",
    "if result_serializer.is_valid():\n",
    "    updated = result_serializer.save()\n",
    "    print(f\"✅ 结果更新成功 - 最新结果: {updated.analysis_result[-1]}\")\n",
    "else:\n",
    "    print(f\"❌ 更新失败 - 错误: {result_serializer.errors}\")"
   ]
  },
  {
   "cell_type": "code",
   "execution_count": null,
   "metadata": {},
   "outputs": [],
   "source": [
    "# 3. 测试确认序列化器\n",
    "print(\"\\n=== 测试确认序列化器 ===\")\n",
    "confirmation_data = {\n",
    "            \"question\": \"资质要求\",\n",
    "            \"answer\": \"需要具备建筑施工总承包特级资质\",\n",
    "            \"comment\": \"测试确认\"\n",
    "        }\n",
    "\n",
    "\n",
    "confirmation_serializer = AnalysisConfirmationSerializer(\n",
    "    instance=new_analysis,\n",
    "    data=confirmation_data,\n",
    "    context={'request': mock_request}\n",
    ")\n",
    "\n",
    "if confirmation_serializer.is_valid():\n",
    "    confirmed = confirmation_serializer.save()\n",
    "    print(f\"✅ 确认成功 - 状态: {confirmed.status}\")\n",
    "    print(f\"确认信息: {confirmed.analysis_result[0].get('confirmation')}\")\n",
    "else:\n",
    "    print(f\"❌ 确认失败 - 错误: {confirmation_serializer.errors}\")"
   ]
  }
 ],
 "metadata": {
  "kernelspec": {
   "display_name": "BidPilot_new_env",
   "language": "python",
   "name": "python3"
  },
  "language_info": {
   "codemirror_mode": {
    "name": "ipython",
    "version": 3
   },
   "file_extension": ".py",
   "mimetype": "text/x-python",
   "name": "python",
   "nbconvert_exporter": "python",
   "pygments_lexer": "ipython3",
   "version": "3.12.1"
  }
 },
 "nbformat": 4,
 "nbformat_minor": 2
}
