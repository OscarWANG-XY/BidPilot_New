{
 "cells": [
  {
   "cell_type": "code",
   "execution_count": 1,
   "metadata": {},
   "outputs": [
    {
     "name": "stdout",
     "output_type": "stream",
     "text": [
      "Development settings loaded\n",
      "INSTALLED_APPS: ['django.contrib.admin', 'django.contrib.auth', 'django.contrib.contenttypes', 'django.contrib.sessions', 'django.contrib.messages', 'django.contrib.staticfiles', 'rest_framework', 'corsheaders', 'storages', 'apps.authentication', 'apps.files', 'apps.projects', 'django_filters', 'drf_spectacular', 'rest_framework_simplejwt.token_blacklist']\n"
     ]
    },
    {
     "name": "stderr",
     "output_type": "stream",
     "text": [
      "INFO 2025-02-03 23:15:54,434 storage 使用 COSStorage 初始化存储\n",
      "INFO 2025-02-03 23:15:54,435 storage 初始化 COSStorage\n",
      "INFO 2025-02-03 23:15:54,435 storage Storage backend initialization with args: (), kwargs: {}\n",
      "INFO 2025-02-03 23:15:54,435 storage ✅ 成功初始化 COSStorage\n",
      "INFO 2025-02-03 23:15:54,436 storage default_storage 的类型: COSStorage\n"
     ]
    },
    {
     "name": "stdout",
     "output_type": "stream",
     "text": [
      "Settings从哪里加载？: config.settings.development\n",
      "项目根目录对么？: C:\\Users\\huiwa\\Documents\\_All_Projects\\BidPilot_new\\backend\n",
      "文件存储settings对么？: apps.files.storage.COSStorage\n",
      "文件default_storage对么？: COSStorage\n",
      "\n",
      "已经安装的应用 Installed Apps 完整了么？:\n",
      "- django.contrib.admin\n",
      "- django.contrib.auth\n",
      "- django.contrib.contenttypes\n",
      "- django.contrib.sessions\n",
      "- django.contrib.messages\n",
      "- django.contrib.staticfiles\n",
      "- rest_framework\n",
      "- corsheaders\n",
      "- storages\n",
      "- apps.authentication\n",
      "- apps.files\n",
      "- apps.projects\n",
      "- django_filters\n",
      "- drf_spectacular\n",
      "- rest_framework_simplejwt.token_blacklist\n"
     ]
    }
   ],
   "source": [
    "import django_setup"
   ]
  },
  {
   "cell_type": "code",
   "execution_count": 2,
   "metadata": {},
   "outputs": [],
   "source": [
    "# 导入通过模块\n",
    "from django.contrib.auth import get_user_model\n",
    "from django.utils import timezone\n",
    "from datetime import datetime, timedelta\n",
    "import json \n",
    "from pprint import pprint\n"
   ]
  },
  {
   "cell_type": "code",
   "execution_count": 3,
   "metadata": {},
   "outputs": [],
   "source": [
    "def print_json(data):\n",
    "    \"\"\"格式化打印JSON数据\"\"\"\n",
    "    print(json.dumps(data, ensure_ascii=False, indent=2))"
   ]
  },
  {
   "cell_type": "markdown",
   "metadata": {},
   "source": [
    "<font color=\"orange\"> 1. 测试models.py </font>\n"
   ]
  },
  {
   "cell_type": "code",
   "execution_count": 3,
   "metadata": {},
   "outputs": [],
   "source": [
    "# 导入模型\n",
    "from apps.projects.models import Project, ProjectHistory"
   ]
  },
  {
   "cell_type": "code",
   "execution_count": null,
   "metadata": {},
   "outputs": [],
   "source": [
    "# 创建测试用户（如果不存在）\n",
    "User = get_user_model()\n",
    "\n",
    "def get_or_create_test_user():\n",
    "    try:\n",
    "        user = User.objects.get(phone='13800138000')\n",
    "    except User.DoesNotExist:\n",
    "        user = User.objects.create_user(\n",
    "            phone='13800138000',\n",
    "            password='testpass123',\n",
    "            username='测试用户'\n",
    "        )\n",
    "    return user\n",
    "\n",
    "user = get_or_create_test_user()\n",
    "print(user)\n"
   ]
  },
  {
   "cell_type": "markdown",
   "metadata": {},
   "source": [
    "1.1 基础字段验证： 验证字段值是否正确保存？  验证默认值是否正确？<br>\n",
    "1.2 自动生成字段验证： 验证字段值是否自动生成？ 验证生成规则是否正确？"
   ]
  },
  {
   "cell_type": "code",
   "execution_count": 17,
   "metadata": {},
   "outputs": [],
   "source": [
    "    # 2. 创建项目\n",
    "project = Project.objects.create(\n",
    "    # id 在模型里未定义，默认采用django 自增主键 (待验证)\n",
    "    # project_code='TEST-2024-001',  # 自动生成(待验证)\n",
    "    project_name='测试项目',\n",
    "    tenderee='测试招标单位',\n",
    "    bidder='测试投标单位',\n",
    "    project_type=Project.ProjectType.FSD,\n",
    "    bid_deadline=timezone.now() + timedelta(days=30),\n",
    "    # current_stage=Project.ProjectStage.DRAFT,  # 默认值待验证\n",
    "    # is_urgent=True,  # 默认值未False 待验证\n",
    "    creator=user\n",
    "    # create_time=timezone.now(),  # 自动生成(待验证) \n",
    "    # last_update_time=timezone.now(),  # 自动生成(待验证)\n",
    "    )\n",
    "\n"
   ]
  },
  {
   "cell_type": "code",
   "execution_count": null,
   "metadata": {},
   "outputs": [],
   "source": [
    "print(f\"\\n创建项目成功: {project}\")  # print(project.__str__())\n",
    "print(f\"项目id: {project.id}\")\n",
    "print(f\"项目编号: {project.project_code}\")\n",
    "print(f\"项目名称: {project.project_name}\")\n",
    "print(f\"招标单位: {project.tenderee}\")\n",
    "print(f\"投标单位: {project.bidder}\")\n",
    "print(f\"项目类型: {project.get_project_type_display()}\")\n",
    "print(f\"当前阶段: {project.get_current_stage_display()}\")\n",
    "print(f\"是否紧急: {project.is_urgent}\")\n",
    "print(f\"创建时间: {project.create_time}\")\n",
    "print(f\"最后更新: {project.last_update_time}\")\n",
    "print(f\"创建者: {project.creator}\")\n"
   ]
  },
  {
   "cell_type": "code",
   "execution_count": 19,
   "metadata": {},
   "outputs": [],
   "source": [
    "# 验证字段值是否正确保存\n",
    "assert project.project_name == \"测试项目\"\n",
    "assert project.project_type == Project.ProjectType.FSD\n",
    "# 验证默认值是否正确\n",
    "assert project.current_stage == Project.ProjectStage.DRAFT\n",
    "assert project.is_urgent == False\n",
    "# 验证UUID是否自动生成\n",
    "assert project.id is not None\n",
    "# 验证项目编号格式\n",
    "assert project.project_code.startswith(f'BP-{timezone.now().year}')\n",
    "# 验证时间字段是否自动设置\n",
    "assert project.create_time is not None\n",
    "assert project.last_update_time is not None"
   ]
  },
  {
   "cell_type": "markdown",
   "metadata": {},
   "source": [
    "1.3 模型的方法测试： 测试状态自动变更， 验证历史记录。 "
   ]
  },
  {
   "cell_type": "code",
   "execution_count": 20,
   "metadata": {},
   "outputs": [],
   "source": [
    "# 测试状态变更\n",
    "old_stage = project.current_stage\n",
    "project.current_stage = Project.ProjectStage.ANALYZING\n",
    "project.save()"
   ]
  },
  {
   "cell_type": "code",
   "execution_count": null,
   "metadata": {},
   "outputs": [],
   "source": [
    "print(f\"状态更新成功: {old_stage} -> {project.current_stage}\")\n",
    "print(f\"历史记录: {ProjectHistory.objects.filter(project=project)}\")\n",
    "print(f\"操作时间: {ProjectHistory.objects.filter(project=project).first().operation_time}\")\n",
    "print(f\"备注: {ProjectHistory.objects.filter(project=project).first().remarks}\")"
   ]
  },
  {
   "cell_type": "code",
   "execution_count": 23,
   "metadata": {},
   "outputs": [],
   "source": [
    "# 验证历史记录\n",
    "history = ProjectHistory.objects.filter(project=project).first()\n",
    "assert history.from_stage == old_stage\n",
    "assert history.to_stage == Project.ProjectStage.ANALYZING"
   ]
  },
  {
   "cell_type": "code",
   "execution_count": null,
   "metadata": {},
   "outputs": [],
   "source": [
    "# 清理测试数据\n",
    "def cleanup_test_data():\n",
    "    print(\"\\n=== 清理测试数据 ===\")\n",
    "    Project.objects.filter(project_code='TEST-2024-001').delete()\n",
    "    User.objects.filter(username='testuser').delete()\n",
    "    print(\"测试数据已清理\")\n",
    "\n",
    "# 执行清理\n",
    "cleanup_test_data()"
   ]
  },
  {
   "cell_type": "markdown",
   "metadata": {},
   "source": [
    "<font color=\"orange\"> 2. 测试serializers.py </font>"
   ]
  },
  {
   "cell_type": "code",
   "execution_count": 39,
   "metadata": {},
   "outputs": [],
   "source": [
    "# 导入所需的模型和序列化器\n",
    "from apps.projects.models import Project, ProjectHistory\n",
    "from apps.projects.serializers import (\n",
    "    UserBriefSerializer,\n",
    "    ProjectHistorySerializer,\n",
    "    ProjectListSerializer,\n",
    "    ProjectDetailSerializer,\n",
    "    ProjectCreateSerializer,\n",
    "    ProjectUpdateSerializer,\n",
    "    ProjectStageUpdateSerializer\n",
    ")\n",
    "from django.contrib.auth import get_user_model\n",
    "from rest_framework.test import APIRequestFactory\n",
    "from rest_framework.request import Request\n"
   ]
  },
  {
   "cell_type": "markdown",
   "metadata": {},
   "source": [
    "2.1 序列化测试"
   ]
  },
  {
   "cell_type": "code",
   "execution_count": 31,
   "metadata": {},
   "outputs": [],
   "source": [
    "#2.1 序列化测试\n",
    "\n",
    "serializer = ProjectDetailSerializer(project)\n",
    "data = serializer.data"
   ]
  },
  {
   "cell_type": "code",
   "execution_count": null,
   "metadata": {},
   "outputs": [],
   "source": [
    "print(data['id'])\n",
    "print(data['project_code'])\n",
    "print(data['project_name'])\n",
    "print(data['tenderee'])\n",
    "print(data['bidder'])\n",
    "print(data['project_type_display']) \n",
    "print(data['bid_deadline'])\n",
    "print(data['current_stage_display'])\n",
    "print(data['is_urgent'])\n",
    "print(data['creator'])\n",
    "print(data['create_time'])\n",
    "print(data['last_update_time'])\n",
    "#---------------------------------\n",
    "print(data['stage_histories'])\n",
    "print(data['stage_histories'][0]['id'])\n",
    "print(data['stage_histories'][0]['project'])\n",
    "print(data['stage_histories'][0]['from_stage_display'])\n",
    "print(data['stage_histories'][0]['to_stage_display'])\n",
    "print(data['stage_histories'][0]['operation_time'])\n",
    "print(data['stage_histories'][0]['remarks'])\n"
   ]
  },
  {
   "cell_type": "code",
   "execution_count": 38,
   "metadata": {},
   "outputs": [],
   "source": [
    "# 验证序列化后的数据\n",
    "assert data['project_name'] == project.project_name\n",
    "assert data['project_type_display'] == project.get_project_type_display()\n",
    "assert 'stage_histories' in data\n"
   ]
  },
  {
   "cell_type": "markdown",
   "metadata": {},
   "source": [
    "2.2 反序列化和验证测试"
   ]
  },
  {
   "cell_type": "code",
   "execution_count": 40,
   "metadata": {},
   "outputs": [],
   "source": [
    "# 创建模拟请求的辅助函数\n",
    "def create_request(url='/', user=None, presigned=False):\n",
    "    factory = APIRequestFactory()\n",
    "    if presigned:\n",
    "        wsgi_request = factory.get(url + '?presigned=true')\n",
    "    else:\n",
    "        wsgi_request = factory.get(url)\n",
    "    \n",
    "    if user:\n",
    "        wsgi_request.user = user\n",
    "    else:\n",
    "        # 如果没有提供用户，设置为 AnonymousUser  - 匿名用户 意味着没有登录，报错的原因\n",
    "        from django.contrib.auth.models import AnonymousUser\n",
    "        wsgi_request.user = AnonymousUser()    \n",
    "\n",
    "    # 将 WSGIRequest 转换为 DRF Request，并确保用户信息被保留\n",
    "    drf_request = Request(wsgi_request)\n",
    "    drf_request.user = wsgi_request.user  # 显式设置用户\n",
    "    \n",
    "    # 将 WSGIRequest 转换为 DRF Request\n",
    "    return drf_request\n",
    "\n",
    "# 创建测试用户和基本请求\n",
    "test_user = get_or_create_test_user()\n",
    "request = create_request(user=test_user)"
   ]
  },
  {
   "cell_type": "code",
   "execution_count": 41,
   "metadata": {},
   "outputs": [],
   "source": [
    "#2.2 反序列化测试\n",
    "data = {\n",
    "        'project_name': '测试项目',\n",
    "        'tenderee': '测试招标单位',\n",
    "        'bidder': '测试投标单位',\n",
    "        'project_type': Project.ProjectType.FSD,\n",
    "        'bid_deadline': timezone.now() + timedelta(days=30),\n",
    "        'is_urgent': True\n",
    "    }\n",
    "\n",
    "serializer = ProjectCreateSerializer(\n",
    "    data=data, \n",
    "    context={'request': request}\n",
    ")"
   ]
  },
  {
   "cell_type": "code",
   "execution_count": null,
   "metadata": {},
   "outputs": [],
   "source": [
    "print(serializer.is_valid())\n",
    "project = serializer.save()\n",
    "print(project)\n",
    "print(project.creator)\n"
   ]
  },
  {
   "cell_type": "markdown",
   "metadata": {},
   "source": [
    "2.3 更新序列化测试"
   ]
  },
  {
   "cell_type": "code",
   "execution_count": 45,
   "metadata": {},
   "outputs": [],
   "source": [
    "update_data = {\n",
    "    'project_name': '更新后的名称',\n",
    "    'is_urgent': True\n",
    "}"
   ]
  },
  {
   "cell_type": "code",
   "execution_count": 46,
   "metadata": {},
   "outputs": [],
   "source": [
    "serializer = ProjectUpdateSerializer(\n",
    "    project,\n",
    "    data=update_data,\n",
    "    partial=True\n",
    ")\n",
    "assert serializer.is_valid()\n",
    "updated_project = serializer.save()\n",
    "assert updated_project.project_name == update_data['project_name']"
   ]
  },
  {
   "cell_type": "code",
   "execution_count": null,
   "metadata": {},
   "outputs": [],
   "source": [
    "print(updated_project)\n"
   ]
  },
  {
   "cell_type": "markdown",
   "metadata": {},
   "source": [
    "2.4 状态更新序列化测试"
   ]
  },
  {
   "cell_type": "code",
   "execution_count": null,
   "metadata": {},
   "outputs": [],
   "source": [
    "stage_data = {\n",
    "    'current_stage': Project.ProjectStage.ANALYZING,\n",
    "    'remarks': '开始分析文档'\n",
    "}\n",
    "serializer = ProjectStageUpdateSerializer(\n",
    "    project,\n",
    "    data=stage_data,\n",
    "    partial=True\n",
    ")\n",
    "assert serializer.is_valid()\n",
    "updated_project = serializer.save()\n",
    "assert updated_project.current_stage == stage_data['current_stage']\n",
    "print(updated_project)\n"
   ]
  },
  {
   "cell_type": "code",
   "execution_count": null,
   "metadata": {},
   "outputs": [],
   "source": [
    "print(f\"状态更新成功: {old_stage} -> {updated_project.current_stage}\")\n",
    "print(f\"历史记录: {ProjectHistory.objects.filter(project=updated_project)}\")\n",
    "print(f\"操作时间: {ProjectHistory.objects.filter(project=updated_project).first().operation_time}\")\n",
    "print(f\"备注: {ProjectHistory.objects.filter(project=updated_project).first().remarks}\")"
   ]
  },
  {
   "cell_type": "code",
   "execution_count": null,
   "metadata": {},
   "outputs": [],
   "source": [
    "def cleanup_test_data():\n",
    "    print(\"\\n=== 清理测试数据 ===\")\n",
    "    Project.objects.filter(project_code__startswith='TEST-').delete()\n",
    "    User.objects.filter(username='testuser').delete()\n",
    "    print(\"测试数据已清理\")\n",
    "\n",
    "\n",
    "cleanup_test_data()"
   ]
  },
  {
   "cell_type": "markdown",
   "metadata": {},
   "source": [
    "<font color=\"orange\"> 3. 测试views.py </font>\n"
   ]
  },
  {
   "cell_type": "code",
   "execution_count": 4,
   "metadata": {},
   "outputs": [],
   "source": [
    "# 导入所需的模型和工具\n",
    "from apps.projects.models import Project, ProjectHistory\n",
    "from apps.projects.views import ProjectViewSet\n",
    "from rest_framework.test import APIClient # 模拟API请求\n",
    "from rest_framework import status"
   ]
  },
  {
   "cell_type": "code",
   "execution_count": 5,
   "metadata": {},
   "outputs": [
    {
     "name": "stdout",
     "output_type": "stream",
     "text": [
      "13800138000\n"
     ]
    }
   ],
   "source": [
    "# 创建测试用户（如果不存在）\n",
    "User = get_user_model()\n",
    "\n",
    "def get_or_create_test_user():\n",
    "    try:\n",
    "        user = User.objects.get(phone='13800138000')\n",
    "    except User.DoesNotExist:\n",
    "        user = User.objects.create_user(\n",
    "            phone='13800138000',\n",
    "            password='testpass123',\n",
    "            username='测试用户'\n",
    "        )\n",
    "    return user\n",
    "\n",
    "user = get_or_create_test_user()\n",
    "print(user)"
   ]
  },
  {
   "cell_type": "code",
   "execution_count": 6,
   "metadata": {},
   "outputs": [
    {
     "name": "stdout",
     "output_type": "stream",
     "text": [
      "\n",
      "=== 测试创建项目 ===\n",
      "项目创建成功！\n"
     ]
    }
   ],
   "source": [
    "# 创建API客户端, 创建模拟请求\n",
    "client = APIClient()\n",
    "client.force_authenticate(user=user)\n",
    "\n",
    "print(\"\\n=== 测试创建项目 ===\")\n",
    "project_data = {\n",
    "        'project_name': '测试项目3',\n",
    "        'tenderee': '测试招标单位',\n",
    "        'bidder': '测试投标单位',\n",
    "        #'project_type': Project.ProjectType.FSD,\n",
    "        'bid_deadline': (timezone.now() + timedelta(days=30)).isoformat(),\n",
    "        'is_urgent': True\n",
    "}\n",
    "    \n",
    "response = client.post('/api/projects/', project_data, format='json')\n",
    "\n",
    "if response.status_code == status.HTTP_201_CREATED:\n",
    "    print(\"项目创建成功！\")\n",
    "    project_id = response.data['id']\n",
    "else:\n",
    "    print(\"创建失败:\", response.data)\n",
    "        "
   ]
  },
  {
   "cell_type": "code",
   "execution_count": 7,
   "metadata": {},
   "outputs": [
    {
     "name": "stdout",
     "output_type": "stream",
     "text": [
      "{'id': 12, 'project_code': 'BP-2025-OTHER-0010', 'project_name': '测试项目3', 'tenderee': '测试招标单位', 'bidder': '测试投标单位', 'project_type': 'OTHER', 'bid_deadline': '2025-03-05T15:16:03.284477Z', 'is_urgent': True}\n"
     ]
    }
   ],
   "source": [
    "print(response.data)"
   ]
  },
  {
   "cell_type": "code",
   "execution_count": 8,
   "metadata": {},
   "outputs": [
    {
     "name": "stdout",
     "output_type": "stream",
     "text": [
      "\n",
      "=== 测试获取项目列表 ===\n",
      "获取到 10 个项目\n",
      "[\n",
      "  {\n",
      "    \"id\": 12,\n",
      "    \"project_code\": \"BP-2025-OTHER-0010\",\n",
      "    \"project_name\": \"测试项目3\",\n",
      "    \"tenderee\": \"测试招标单位\",\n",
      "    \"bidder\": \"测试投标单位\",\n",
      "    \"project_type\": \"OTHER\",\n",
      "    \"project_type_display\": \"其他\",\n",
      "    \"bid_deadline\": \"2025-03-05T15:16:03.284477Z\",\n",
      "    \"current_stage\": \"DRAFT\",\n",
      "    \"current_stage_display\": \"草稿\",\n",
      "    \"is_urgent\": true,\n",
      "    \"creator\": {\n",
      "      \"id\": \"38a2f8fd-abd3-4d66-97eb-19e1531c6577\",\n",
      "      \"phone\": \"13800138000\",\n",
      "      \"email\": null,\n",
      "      \"role\": \"user\"\n",
      "    },\n",
      "    \"create_time\": \"2025-02-03T15:16:03.328673Z\",\n",
      "    \"last_update_time\": \"2025-02-03T15:16:03.328673Z\"\n",
      "  },\n",
      "  {\n",
      "    \"id\": 11,\n",
      "    \"project_code\": \"BP-2025-OTHER-0009\",\n",
      "    \"project_name\": \"测试项目3\",\n",
      "    \"tenderee\": \"测试招标单位\",\n",
      "    \"bidder\": \"测试投标单位\",\n",
      "    \"project_type\": \"OTHER\",\n",
      "    \"project_type_display\": \"其他\",\n",
      "    \"bid_deadline\": \"2025-03-05T15:01:37.367371Z\",\n",
      "    \"current_stage\": \"DRAFT\",\n",
      "    \"current_stage_display\": \"草稿\",\n",
      "    \"is_urgent\": true,\n",
      "    \"creator\": {\n",
      "      \"id\": \"38a2f8fd-abd3-4d66-97eb-19e1531c6577\",\n",
      "      \"phone\": \"13800138000\",\n",
      "      \"email\": null,\n",
      "      \"role\": \"user\"\n",
      "    },\n",
      "    \"create_time\": \"2025-02-03T15:01:37.406912Z\",\n",
      "    \"last_update_time\": \"2025-02-03T15:01:37.406912Z\"\n",
      "  },\n",
      "  {\n",
      "    \"id\": 10,\n",
      "    \"project_code\": \"BP-2025-FSD-0008\",\n",
      "    \"project_name\": \"测试项目3\",\n",
      "    \"tenderee\": \"测试招标单位\",\n",
      "    \"bidder\": \"测试投标单位\",\n",
      "    \"project_type\": \"FSD\",\n",
      "    \"project_type_display\": \"食材配送\",\n",
      "    \"bid_deadline\": \"2025-03-05T15:00:56.393290Z\",\n",
      "    \"current_stage\": \"DRAFT\",\n",
      "    \"current_stage_display\": \"草稿\",\n",
      "    \"is_urgent\": true,\n",
      "    \"creator\": {\n",
      "      \"id\": \"38a2f8fd-abd3-4d66-97eb-19e1531c6577\",\n",
      "      \"phone\": \"13800138000\",\n",
      "      \"email\": null,\n",
      "      \"role\": \"user\"\n",
      "    },\n",
      "    \"create_time\": \"2025-02-03T15:00:56.446903Z\",\n",
      "    \"last_update_time\": \"2025-02-03T15:00:56.446903Z\"\n",
      "  },\n",
      "  {\n",
      "    \"id\": 9,\n",
      "    \"project_code\": \"BP-2025-FSD-0007\",\n",
      "    \"project_name\": \"更新后的名称\",\n",
      "    \"tenderee\": \"测试招标单位\",\n",
      "    \"bidder\": \"测试投标单位\",\n",
      "    \"project_type\": \"FSD\",\n",
      "    \"project_type_display\": \"食材配送\",\n",
      "    \"bid_deadline\": \"2025-03-05T14:51:58.433972Z\",\n",
      "    \"current_stage\": \"ANALYZING\",\n",
      "    \"current_stage_display\": \"分析中\",\n",
      "    \"is_urgent\": true,\n",
      "    \"creator\": {\n",
      "      \"id\": \"38a2f8fd-abd3-4d66-97eb-19e1531c6577\",\n",
      "      \"phone\": \"13800138000\",\n",
      "      \"email\": null,\n",
      "      \"role\": \"user\"\n",
      "    },\n",
      "    \"create_time\": \"2025-02-03T14:53:22.362581Z\",\n",
      "    \"last_update_time\": \"2025-02-03T14:57:43.195520Z\"\n",
      "  },\n",
      "  {\n",
      "    \"id\": 8,\n",
      "    \"project_code\": \"BP-2025-FSD-0006\",\n",
      "    \"project_name\": \"测试项目\",\n",
      "    \"tenderee\": \"测试招标单位\",\n",
      "    \"bidder\": \"测试投标单位\",\n",
      "    \"project_type\": \"FSD\",\n",
      "    \"project_type_display\": \"食材配送\",\n",
      "    \"bid_deadline\": \"2025-03-05T13:58:54.819934Z\",\n",
      "    \"current_stage\": \"ANALYZING\",\n",
      "    \"current_stage_display\": \"分析中\",\n",
      "    \"is_urgent\": false,\n",
      "    \"creator\": {\n",
      "      \"id\": \"38a2f8fd-abd3-4d66-97eb-19e1531c6577\",\n",
      "      \"phone\": \"13800138000\",\n",
      "      \"email\": null,\n",
      "      \"role\": \"user\"\n",
      "    },\n",
      "    \"create_time\": \"2025-02-03T13:58:54.820934Z\",\n",
      "    \"last_update_time\": \"2025-02-03T13:59:00.075323Z\"\n",
      "  },\n",
      "  {\n",
      "    \"id\": 7,\n",
      "    \"project_code\": \"BP-2025-FSD-0005\",\n",
      "    \"project_name\": \"测试项目\",\n",
      "    \"tenderee\": \"测试招标单位\",\n",
      "    \"bidder\": \"测试投标单位\",\n",
      "    \"project_type\": \"FSD\",\n",
      "    \"project_type_display\": \"食材配送\",\n",
      "    \"bid_deadline\": \"2025-03-05T13:51:42.220305Z\",\n",
      "    \"current_stage\": \"ANALYZING\",\n",
      "    \"current_stage_display\": \"分析中\",\n",
      "    \"is_urgent\": false,\n",
      "    \"creator\": {\n",
      "      \"id\": \"38a2f8fd-abd3-4d66-97eb-19e1531c6577\",\n",
      "      \"phone\": \"13800138000\",\n",
      "      \"email\": null,\n",
      "      \"role\": \"user\"\n",
      "    },\n",
      "    \"create_time\": \"2025-02-03T13:51:42.223313Z\",\n",
      "    \"last_update_time\": \"2025-02-03T13:51:49.261946Z\"\n",
      "  },\n",
      "  {\n",
      "    \"id\": 6,\n",
      "    \"project_code\": \"BP-2025-FSD-0004\",\n",
      "    \"project_name\": \"测试项目\",\n",
      "    \"tenderee\": \"测试招标单位\",\n",
      "    \"bidder\": \"测试投标单位\",\n",
      "    \"project_type\": \"FSD\",\n",
      "    \"project_type_display\": \"食材配送\",\n",
      "    \"bid_deadline\": \"2025-03-05T13:36:09.037737Z\",\n",
      "    \"current_stage\": \"ANALYZING\",\n",
      "    \"current_stage_display\": \"分析中\",\n",
      "    \"is_urgent\": false,\n",
      "    \"creator\": {\n",
      "      \"id\": \"38a2f8fd-abd3-4d66-97eb-19e1531c6577\",\n",
      "      \"phone\": \"13800138000\",\n",
      "      \"email\": null,\n",
      "      \"role\": \"user\"\n",
      "    },\n",
      "    \"create_time\": \"2025-02-03T13:36:09.038740Z\",\n",
      "    \"last_update_time\": \"2025-02-03T13:47:40.840423Z\"\n",
      "  },\n",
      "  {\n",
      "    \"id\": 5,\n",
      "    \"project_code\": \"BP-2025-FSD-0003\",\n",
      "    \"project_name\": \"测试项目\",\n",
      "    \"tenderee\": \"测试招标单位\",\n",
      "    \"bidder\": \"测试投标单位\",\n",
      "    \"project_type\": \"FSD\",\n",
      "    \"project_type_display\": \"食材配送\",\n",
      "    \"bid_deadline\": \"2025-03-05T13:34:37.100389Z\",\n",
      "    \"current_stage\": \"DRAFT\",\n",
      "    \"current_stage_display\": \"草稿\",\n",
      "    \"is_urgent\": false,\n",
      "    \"creator\": {\n",
      "      \"id\": \"38a2f8fd-abd3-4d66-97eb-19e1531c6577\",\n",
      "      \"phone\": \"13800138000\",\n",
      "      \"email\": null,\n",
      "      \"role\": \"user\"\n",
      "    },\n",
      "    \"create_time\": \"2025-02-03T13:34:37.101387Z\",\n",
      "    \"last_update_time\": \"2025-02-03T13:34:37.101387Z\"\n",
      "  },\n",
      "  {\n",
      "    \"id\": 4,\n",
      "    \"project_code\": \"BP-2025-FSD-0002\",\n",
      "    \"project_name\": \"测试项目\",\n",
      "    \"tenderee\": \"测试招标单位\",\n",
      "    \"bidder\": \"测试投标单位\",\n",
      "    \"project_type\": \"FSD\",\n",
      "    \"project_type_display\": \"食材配送\",\n",
      "    \"bid_deadline\": \"2025-03-05T13:23:10.060380Z\",\n",
      "    \"current_stage\": \"DRAFT\",\n",
      "    \"current_stage_display\": \"草稿\",\n",
      "    \"is_urgent\": false,\n",
      "    \"creator\": {\n",
      "      \"id\": \"38a2f8fd-abd3-4d66-97eb-19e1531c6577\",\n",
      "      \"phone\": \"13800138000\",\n",
      "      \"email\": null,\n",
      "      \"role\": \"user\"\n",
      "    },\n",
      "    \"create_time\": \"2025-02-03T13:23:10.063927Z\",\n",
      "    \"last_update_time\": \"2025-02-03T13:23:10.063927Z\"\n",
      "  },\n",
      "  {\n",
      "    \"id\": 3,\n",
      "    \"project_code\": \"TEST-2024-003\",\n",
      "    \"project_name\": \"更新后的项目名称\",\n",
      "    \"tenderee\": \"测试招标单位\",\n",
      "    \"bidder\": \"测试投标单位\",\n",
      "    \"project_type\": \"FSD\",\n",
      "    \"project_type_display\": \"食材配送\",\n",
      "    \"bid_deadline\": \"2025-03-05T12:43:43.896735Z\",\n",
      "    \"current_stage\": \"ANALYZING\",\n",
      "    \"current_stage_display\": \"分析中\",\n",
      "    \"is_urgent\": false,\n",
      "    \"creator\": {\n",
      "      \"id\": \"38a2f8fd-abd3-4d66-97eb-19e1531c6577\",\n",
      "      \"phone\": \"13800138000\",\n",
      "      \"email\": null,\n",
      "      \"role\": \"user\"\n",
      "    },\n",
      "    \"create_time\": \"2025-02-03T12:43:43.935984Z\",\n",
      "    \"last_update_time\": \"2025-02-03T15:10:48.320167Z\"\n",
      "  }\n",
      "]\n"
     ]
    }
   ],
   "source": [
    " # 3. 测试获取项目列表\n",
    "print(\"\\n=== 测试获取项目列表 ===\")\n",
    "response = client.get('/api/projects/')\n",
    "    \n",
    "if response.status_code == status.HTTP_200_OK:\n",
    "    print(f\"获取到 {len(response.data)} 个项目\")\n",
    "    print_json(response.data)\n",
    "else:\n",
    "    print(\"获取列表失败:\", response.data)\n"
   ]
  },
  {
   "cell_type": "code",
   "execution_count": 9,
   "metadata": {},
   "outputs": [
    {
     "name": "stdout",
     "output_type": "stream",
     "text": [
      "\n",
      "=== 测试获取项目详情 ===\n",
      "200\n",
      "200\n",
      "{'id': 3, 'project_code': 'TEST-2024-003', 'project_name': '更新后的项目名称', 'tenderee': '测试招标单位', 'bidder': '测试投标单位', 'project_type': 'FSD', 'project_type_display': '食材配送', 'bid_deadline': '2025-03-05T12:43:43.896735Z', 'current_stage': 'ANALYZING', 'current_stage_display': '分析中', 'is_urgent': False, 'creator': {'id': '38a2f8fd-abd3-4d66-97eb-19e1531c6577', 'phone': '13800138000', 'email': None, 'role': 'user'}, 'create_time': '2025-02-03T12:43:43.935984Z', 'last_update_time': '2025-02-03T15:10:48.320167Z', 'stage_histories': [{'id': 8, 'project': 3, 'from_stage': 'DRAFT', 'to_stage': 'ANALYZING', 'from_stage_display': '草稿', 'to_stage_display': '分析中', 'operation_time': '2025-02-03T15:10:48.318154Z', 'remarks': ''}, {'id': 7, 'project': 3, 'from_stage': 'DRAFT', 'to_stage': 'ANALYZING', 'from_stage_display': '草稿', 'to_stage_display': '分析中', 'operation_time': '2025-02-03T15:10:48.314591Z', 'remarks': '开始分析文档'}]}\n"
     ]
    }
   ],
   "source": [
    "    # 4. 测试获取项目详情\n",
    "project_id = 3\n",
    "print(\"\\n=== 测试获取项目详情 ===\")\n",
    "response = client.get(f'/api/projects/{project_id}/')\n",
    "\n",
    "print(response.status_code)\n",
    "print(status.HTTP_200_OK)\n",
    "print(response.data)\n",
    "\n",
    "\n"
   ]
  },
  {
   "cell_type": "code",
   "execution_count": 10,
   "metadata": {},
   "outputs": [
    {
     "name": "stdout",
     "output_type": "stream",
     "text": [
      "\n",
      "=== 测试更新项目 ===\n",
      "项目更新成功！\n",
      "{\n",
      "  \"project_name\": \"更新后的项目名称\",\n",
      "  \"tenderee\": \"测试招标单位\",\n",
      "  \"bidder\": \"测试投标单位\",\n",
      "  \"project_type\": \"FSD\",\n",
      "  \"bid_deadline\": \"2025-03-05T12:43:43.896735Z\",\n",
      "  \"is_urgent\": false\n",
      "}\n"
     ]
    }
   ],
   "source": [
    "# 5. 测试更新项目\n",
    "print(\"\\n=== 测试更新项目 ===\")\n",
    "update_data = {\n",
    "    'project_name': '更新后的项目名称',\n",
    "    'is_urgent': False\n",
    "}\n",
    "response = client.patch(f'/api/projects/{project_id}/', update_data, format='json')\n",
    "    \n",
    "if response.status_code == status.HTTP_200_OK:\n",
    "    print(\"项目更新成功！\")\n",
    "    print_json(response.data)\n",
    "else:\n",
    "    print(\"更新失败:\", response.data)"
   ]
  },
  {
   "cell_type": "code",
   "execution_count": 11,
   "metadata": {},
   "outputs": [
    {
     "name": "stdout",
     "output_type": "stream",
     "text": [
      "\n",
      "=== 测试更新项目状态 ===\n",
      "{\n",
      "  \"id\": 3,\n",
      "  \"project_code\": \"TEST-2024-003\",\n",
      "  \"project_name\": \"更新后的项目名称\",\n",
      "  \"tenderee\": \"测试招标单位\",\n",
      "  \"bidder\": \"测试投标单位\",\n",
      "  \"project_type\": \"FSD\",\n",
      "  \"project_type_display\": \"食材配送\",\n",
      "  \"bid_deadline\": \"2025-03-05T12:43:43.896735Z\",\n",
      "  \"current_stage\": \"ANALYZING\",\n",
      "  \"current_stage_display\": \"分析中\",\n",
      "  \"is_urgent\": false,\n",
      "  \"creator\": {\n",
      "    \"id\": \"38a2f8fd-abd3-4d66-97eb-19e1531c6577\",\n",
      "    \"phone\": \"13800138000\",\n",
      "    \"email\": null,\n",
      "    \"role\": \"user\"\n",
      "  },\n",
      "  \"create_time\": \"2025-02-03T12:43:43.935984Z\",\n",
      "  \"last_update_time\": \"2025-02-03T15:16:13.903778Z\",\n",
      "  \"stage_histories\": [\n",
      "    {\n",
      "      \"id\": 8,\n",
      "      \"project\": 3,\n",
      "      \"from_stage\": \"DRAFT\",\n",
      "      \"to_stage\": \"ANALYZING\",\n",
      "      \"from_stage_display\": \"草稿\",\n",
      "      \"to_stage_display\": \"分析中\",\n",
      "      \"operation_time\": \"2025-02-03T15:10:48.318154Z\",\n",
      "      \"remarks\": \"\"\n",
      "    },\n",
      "    {\n",
      "      \"id\": 7,\n",
      "      \"project\": 3,\n",
      "      \"from_stage\": \"DRAFT\",\n",
      "      \"to_stage\": \"ANALYZING\",\n",
      "      \"from_stage_display\": \"草稿\",\n",
      "      \"to_stage_display\": \"分析中\",\n",
      "      \"operation_time\": \"2025-02-03T15:10:48.314591Z\",\n",
      "      \"remarks\": \"开始分析文档\"\n",
      "    }\n",
      "  ]\n",
      "}\n"
     ]
    }
   ],
   "source": [
    "    # 6. 测试更新项目状态\n",
    "print(\"\\n=== 测试更新项目状态 ===\")\n",
    "stage_data = {\n",
    "    'current_stage': Project.ProjectStage.ANALYZING,\n",
    "    'remarks': '开始分析文档'\n",
    "}\n",
    "response = client.patch(f'/api/projects/{project_id}/update_stage/', stage_data, format='json')\n",
    "print_json(response.data)\n"
   ]
  },
  {
   "cell_type": "code",
   "execution_count": 13,
   "metadata": {},
   "outputs": [
    {
     "name": "stdout",
     "output_type": "stream",
     "text": [
      "\n",
      "=== 测试获取项目历史记录 ===\n",
      "[\n",
      "  {\n",
      "    \"id\": 8,\n",
      "    \"project\": 3,\n",
      "    \"from_stage\": \"DRAFT\",\n",
      "    \"to_stage\": \"ANALYZING\",\n",
      "    \"from_stage_display\": \"草稿\",\n",
      "    \"to_stage_display\": \"分析中\",\n",
      "    \"operation_time\": \"2025-02-03T15:10:48.318154Z\",\n",
      "    \"remarks\": \"\"\n",
      "  },\n",
      "  {\n",
      "    \"id\": 7,\n",
      "    \"project\": 3,\n",
      "    \"from_stage\": \"DRAFT\",\n",
      "    \"to_stage\": \"ANALYZING\",\n",
      "    \"from_stage_display\": \"草稿\",\n",
      "    \"to_stage_display\": \"分析中\",\n",
      "    \"operation_time\": \"2025-02-03T15:10:48.314591Z\",\n",
      "    \"remarks\": \"开始分析文档\"\n",
      "  }\n",
      "]\n"
     ]
    }
   ],
   "source": [
    "    # 7. 测试获取项目历史记录\n",
    "print(\"\\n=== 测试获取项目历史记录 ===\")\n",
    "response = client.get(f'/api/projects/{project_id}/histories/')\n",
    "print_json(response.data)\n"
   ]
  },
  {
   "cell_type": "code",
   "execution_count": 14,
   "metadata": {},
   "outputs": [
    {
     "name": "stderr",
     "output_type": "stream",
     "text": [
      "Bad Request: /api/projects/3/\n"
     ]
    },
    {
     "name": "stdout",
     "output_type": "stream",
     "text": [
      "\n",
      "=== 测试删除项目 ===\n",
      "Bad Request: /api/projects/3/\n",
      "删除失败: {'detail': '只能删除草稿或已取消的项目'}\n"
     ]
    }
   ],
   "source": [
    "# 8. 测试删除项目\n",
    "print(\"\\n=== 测试删除项目 ===\")\n",
    "response = client.delete(f'/api/projects/{project_id}/')\n",
    "    \n",
    "if response.status_code == status.HTTP_204_NO_CONTENT:\n",
    "    print(\"项目删除成功！\")\n",
    "else:\n",
    "    print(\"删除失败:\", response.data)"
   ]
  }
 ],
 "metadata": {
  "kernelspec": {
   "display_name": "BidPilot_new_env",
   "language": "python",
   "name": "python3"
  },
  "language_info": {
   "codemirror_mode": {
    "name": "ipython",
    "version": 3
   },
   "file_extension": ".py",
   "mimetype": "text/x-python",
   "name": "python",
   "nbconvert_exporter": "python",
   "pygments_lexer": "ipython3",
   "version": "3.12.1"
  }
 },
 "nbformat": 4,
 "nbformat_minor": 2
}
