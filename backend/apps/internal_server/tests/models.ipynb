{
 "cells": [
  {
   "cell_type": "code",
   "execution_count": 4,
   "metadata": {},
   "outputs": [
    {
     "name": "stdout",
     "output_type": "stream",
     "text": [
      "/home/oscarwang/BidPilot_new/backend/apps/internal_server/tests\n",
      "/home/oscarwang/BidPilot_new/backend\n"
     ]
    }
   ],
   "source": [
    "import os, sys, django\n",
    "current_path = os.path.abspath(\"./\")\n",
    "project_root = os.path.abspath(\"../../../\")\n",
    "print(current_path)\n",
    "print(project_root)\n",
    "sys.path.append(project_root) # 添加项目根目录到Python路径，这样导入根目录下的Django_setup.py了\n"
   ]
  },
  {
   "cell_type": "code",
   "execution_count": 5,
   "metadata": {},
   "outputs": [],
   "source": [
    "import django_setup"
   ]
  },
  {
   "cell_type": "code",
   "execution_count": 6,
   "metadata": {},
   "outputs": [],
   "source": [
    "# 准备数据： 项目和document\n",
    "from apps.internal_server.models import ProjectAgentStorage"
   ]
  },
  {
   "cell_type": "code",
   "execution_count": 7,
   "metadata": {},
   "outputs": [
    {
     "name": "stdout",
     "output_type": "stream",
     "text": [
      "project_agent_storage\n"
     ]
    }
   ],
   "source": [
    "# 测试ProjectAgentStorage的models对应的PostgreSQL的表\n",
    "print(ProjectAgentStorage._meta.db_table)"
   ]
  },
  {
   "cell_type": "code",
   "execution_count": 9,
   "metadata": {},
   "outputs": [
    {
     "name": "stdout",
     "output_type": "stream",
     "text": [
      "10\n",
      "<class 'django.db.models.query.QuerySet'>\n"
     ]
    }
   ],
   "source": [
    "# 查询表里有几个项目\n",
    "from apps.internal_server.models import ProjectAgentStorage\n",
    "\n",
    "objs = ProjectAgentStorage.objects.all()\n",
    "print(objs.count())\n",
    "print(type(objs))"
   ]
  },
  {
   "cell_type": "code",
   "execution_count": 12,
   "metadata": {},
   "outputs": [
    {
     "name": "stdout",
     "output_type": "stream",
     "text": [
      "c977faef-df99-4d54-959e-2b813ad5ece4 agent_stage\n",
      "c977faef-df99-4d54-959e-2b813ad5ece4 agent_stage\n",
      "18df7556-31a3-4107-9b76-35ecaafcb6f1 Agent\n",
      "399ced1c-e9d1-4f80-8092-3ee6f824041f 测试项目1\n",
      "f7b86d3b-8fb6-425c-bd1c-29dcfb5482fe test3_pic\n",
      "eccf7601-3f68-4f70-8bc4-e9fbb0783edd 11111\n",
      "f6db0cbe-e7af-4300-8335-01ba4ffdbb93 small_test\n",
      "eccf7601-3f68-4f70-8bc4-e9fbb0783edd 11111\n",
      "20563b61-7818-474b-9641-c40757bbd3fe test1\n",
      "cc6bca8a-df5d-43d5-a931-875113df1f50 test2\n"
     ]
    }
   ],
   "source": [
    "from apps.internal_server.models import ProjectAgentStorage\n",
    "\n",
    "objs = ProjectAgentStorage.objects.all()\n",
    "for obj in objs:\n",
    "    print(obj.project.id, obj.project.project_name)"
   ]
  },
  {
   "cell_type": "code",
   "execution_count": 15,
   "metadata": {},
   "outputs": [
    {
     "data": {
      "text/plain": [
       "(1, {'internal_server.ProjectAgentStorage': 1})"
      ]
     },
     "execution_count": 15,
     "metadata": {},
     "output_type": "execute_result"
    }
   ],
   "source": [
    "# 清空所有项目agents的存储\n",
    "ProjectAgentStorage.objects.all().delete()\n"
   ]
  },
  {
   "cell_type": "code",
   "execution_count": 14,
   "metadata": {},
   "outputs": [
    {
     "name": "stdout",
     "output_type": "stream",
     "text": [
      "LogEntry -> django_admin_log\n",
      "Permission -> auth_permission\n",
      "Group -> auth_group\n",
      "ContentType -> django_content_type\n",
      "Session -> django_session\n",
      "User -> authentication_user\n",
      "VerificationCode -> authentication_verificationcode\n",
      "FileRecord -> file_records\n",
      "ProjectStage -> projects_projectstage\n",
      "Project -> projects_project\n",
      "Task -> projects_task\n",
      "ProjectChangeHistory -> projects_projectchangehistory\n",
      "StageChangeHistory -> projects_stagechangehistory\n",
      "TaskChangeHistory -> projects_taskchangehistory\n",
      "StructuringAgentState -> structuring_agent_state\n",
      "StructuringAgentDocument -> structuring_agent_document\n",
      "ProjectAgentStorage -> project_agent_storage\n",
      "testground -> testground_testground\n",
      "SubscriptionPlan -> subscription_subscriptionplan\n",
      "UserSubscription -> subscription_usersubscription\n",
      "Payment -> subscription_payment\n",
      "SubscriptionLog -> subscription_subscriptionlog\n",
      "OutstandingToken -> token_blacklist_outstandingtoken\n",
      "BlacklistedToken -> token_blacklist_blacklistedtoken\n",
      "TaskResult -> django_celery_results_taskresult\n",
      "ChordCounter -> django_celery_results_chordcounter\n",
      "GroupResult -> django_celery_results_groupresult\n",
      "SolarSchedule -> django_celery_beat_solarschedule\n",
      "IntervalSchedule -> django_celery_beat_intervalschedule\n",
      "ClockedSchedule -> django_celery_beat_clockedschedule\n",
      "CrontabSchedule -> django_celery_beat_crontabschedule\n",
      "PeriodicTasks -> django_celery_beat_periodictasks\n",
      "PeriodicTask -> django_celery_beat_periodictask\n"
     ]
    }
   ],
   "source": [
    "# 查询当前models.py所有对应的表\n",
    "from django.apps import apps\n",
    "\n",
    "for model in apps.get_models():\n",
    "    print(f\"{model.__name__} -> {model._meta.db_table}\")\n"
   ]
  }
 ],
 "metadata": {
  "kernelspec": {
   "display_name": "bid_dev",
   "language": "python",
   "name": "python3"
  },
  "language_info": {
   "codemirror_mode": {
    "name": "ipython",
    "version": 3
   },
   "file_extension": ".py",
   "mimetype": "text/x-python",
   "name": "python",
   "nbconvert_exporter": "python",
   "pygments_lexer": "ipython3",
   "version": "3.12.9"
  }
 },
 "nbformat": 4,
 "nbformat_minor": 2
}
