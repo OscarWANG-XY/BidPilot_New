{
 "cells": [
  {
   "cell_type": "markdown",
   "metadata": {},
   "source": [
    "# <font color=\"red\">STEP 1: 文档提取测试</font>"
   ]
  },
  {
   "cell_type": "code",
   "execution_count": 33,
   "metadata": {},
   "outputs": [],
   "source": [
    "# 初始化\n",
    "import django_setup"
   ]
  },
  {
   "cell_type": "code",
   "execution_count": 34,
   "metadata": {},
   "outputs": [],
   "source": [
    "# 导入相关模型：get_user_model, Project, FileRecord, DocumentAnalysis, FileProjectLink, ProjectHistory\n",
    "from django.contrib.auth import get_user_model\n",
    "from apps.doc_analysis.models import DocumentAnalysis, InvalidStatusTransition\n",
    "from apps.projects.models import Project\n",
    "from apps.files.models import FileRecord\n",
    "from django.core.files.uploadedfile import SimpleUploadedFile\n",
    "from django.core.exceptions import ValidationError\n",
    "from apps.doc_analysis.steps._01_extract_docx_elements import DocxExtractorStep\n",
    "from apps.doc_analysis.pipeline.types import ModelData, DocxElements, OutlineAnalysisResult"
   ]
  },
  {
   "cell_type": "code",
   "execution_count": null,
   "metadata": {},
   "outputs": [],
   "source": [
    "# 准备测试所需的 user, project, file_record  (其中project与file_record关联)\n",
    "User = get_user_model()\n",
    "\n",
    "# 获取已存在的测试数据\n",
    "\n",
    "# 获取已存在的用户\n",
    "user = User.objects.get(phone='18501771516')\n",
    "print(f\"用户: {user.phone}\")\n",
    "        \n",
    "# 获取已存在的项目\n",
    "project = Project.objects.get(project_name='测试项目1')\n",
    "print(f\"项目: {project.project_name}\")\n",
    "        \n",
    "# 获取已存在的文件\n",
    "file_record = FileRecord.objects.get(id='3')\n",
    "print(f\"文件: {file_record.name}\")"
   ]
  },
  {
   "cell_type": "code",
   "execution_count": null,
   "metadata": {},
   "outputs": [],
   "source": [
    "# 清除‘测试分析A”，用于接下去的测试\n",
    "DocumentAnalysis.objects.filter(title=\"测试分析A\").delete()"
   ]
  },
  {
   "cell_type": "code",
   "execution_count": null,
   "metadata": {},
   "outputs": [],
   "source": [
    "# 1. 创建新的文档分析实例 - 测试分析A\n",
    "docx_analysis = DocumentAnalysis.objects.create(\n",
    "    project=project,\n",
    "    title=\"测试分析A\",\n",
    "    created_by=user,\n",
    "    analysis_questions=[\"投标要求\", \"评分标准\"]  # 示例分析问题\n",
    ")\n",
    "print(f\"创建文档分析: {docx_analysis.title} (ID: {docx_analysis.id})\")"
   ]
  },
  {
   "cell_type": "code",
   "execution_count": null,
   "metadata": {},
   "outputs": [],
   "source": [
    "# 2.上传真实的 DOCX文件\n",
    "\n",
    "# 2.1 准备文件路径\n",
    "doc_path = \"C:/Users/huiwa/Downloads/文本分析测试/CaseTest/case8：招标文件-第1包：一级压榨花生油.docx\"\n",
    "\n",
    "# 2.2 读取文件内容\n",
    "with open(doc_path, 'rb') as f:\n",
    "    file_content = f.read()\n",
    "test_file = SimpleUploadedFile(\n",
    "    \"test_doc.docx\",\n",
    "    file_content,\n",
    "    content_type=\"application/vnd.openxmlformats-officedocument.wordprocessingml.document\"\n",
    ")\n",
    "print(f\"文件大小: {test_file.size}\")\n",
    "\n",
    "# 2. 创建新的文件记录 并 存储文件对象\n",
    "new_file_record = FileRecord.objects.create(\n",
    "    name=\"test_doc.docx\",\n",
    "    file=test_file,  # 使用之前准备的测试文件\n",
    "    owner=user,\n",
    "    size = test_file.size\n",
    ")\n",
    "print(f\"创建文件记录: {new_file_record.name}\")"
   ]
  },
  {
   "cell_type": "code",
   "execution_count": 39,
   "metadata": {},
   "outputs": [],
   "source": [
    "# 3. 关联新文件\n",
    "try:\n",
    "    docx_analysis.update_file_record(new_file_record)\n",
    "except Exception as e:\n",
    "    print(f\"关联文件失败: {str(e)}\")"
   ]
  },
  {
   "cell_type": "code",
   "execution_count": null,
   "metadata": {},
   "outputs": [],
   "source": [
    "# 4. 触发开始分析，并提取文档元素 elements 存入数据库\n",
    "print(\"\\n===== 最终状态检查 =====\")\n",
    "print(f\"开始分析前-状态: {docx_analysis.status}\")\n",
    "#docx_analysis.start_analysis()\n",
    "print(f\"开始分析后-状态: {docx_analysis.status}\")\n",
    "\n",
    "# 初始化DocxExtractorStep\n",
    "docx_extractor=DocxExtractorStep()\n",
    "\n",
    "try:\n",
    "    # 准备输入数据, 好比 DocumentAnalysis.instance.data\n",
    "    input_data = ModelData(model= DocumentAnalysis, instance=docx_analysis)\n",
    "    \n",
    "    # 执行文档提取\n",
    "    docx_elements = docx_extractor.process(input_data)\n",
    "    \n",
    "    # 打印提取结果\n",
    "    print(\"文档提取成功！提取到的元素数量:\", len(docx_elements))\n",
    "    print(\"第一个元素示例:\", docx_elements[0])\n",
    "    \n",
    "    # 检查保存到数据库的结果\n",
    "    saved_analysis = DocumentAnalysis.objects.get(id=docx_analysis.id)\n",
    "    print(\"保存的提取结果:\", saved_analysis.extracted_elements)\n",
    "    \n",
    "except ValidationError as e:\n",
    "    print(\"文档提取失败:\", str(e))\n",
    "    # 检查分析状态\n",
    "    failed_analysis = DocumentAnalysis.objects.get(id=docx_analysis.id)\n",
    "    print(\"分析状态:\", failed_analysis.status)\n",
    "    print(\"错误信息:\", failed_analysis.error_message)\n"
   ]
  },
  {
   "cell_type": "markdown",
   "metadata": {},
   "source": [
    "# <font color=\"red\">STEP 2: outline 分析测试</font>"
   ]
  },
  {
   "cell_type": "code",
   "execution_count": null,
   "metadata": {},
   "outputs": [],
   "source": [
    "# 初始化\n",
    "import django_setup"
   ]
  },
  {
   "cell_type": "code",
   "execution_count": 2,
   "metadata": {},
   "outputs": [],
   "source": [
    "# 导入相关模型：get_user_model, Project, FileRecord, DocumentAnalysis, FileProjectLink, ProjectHistory\n",
    "from django.contrib.auth import get_user_model\n",
    "from apps.doc_analysis.models import DocumentAnalysis, InvalidStatusTransition\n",
    "from apps.projects.models import Project\n",
    "from apps.files.models import FileRecord\n",
    "from django.core.files.uploadedfile import SimpleUploadedFile\n",
    "from django.core.exceptions import ValidationError\n",
    "from apps.doc_analysis.steps._01_extract_docx_elements import DocxExtractorStep\n",
    "from apps.doc_analysis.pipeline.types import ModelData, DocxElements, OutlineAnalysisResult\n",
    "from apps.doc_analysis.steps._02_outline_analysis import DocxOutlineAnalyzerStep\n",
    "from pprint import pprint "
   ]
  },
  {
   "cell_type": "code",
   "execution_count": null,
   "metadata": {},
   "outputs": [],
   "source": [
    "# 直接引用\"测试分析A\", 并获取其extracted_elements\n",
    "\n",
    "saved_analysis = DocumentAnalysis.objects.get(title=\"测试分析A\")\n",
    "extracted_elements = saved_analysis.extracted_elements\n",
    "pprint(extracted_elements['elements'][10])"
   ]
  },
  {
   "cell_type": "code",
   "execution_count": 4,
   "metadata": {},
   "outputs": [],
   "source": [
    "# 创建 DocxElements 实例 from models.py 的 extracted_elements\n",
    "docx_elements = DocxElements.from_model(extracted_elements)"
   ]
  },
  {
   "cell_type": "code",
   "execution_count": 5,
   "metadata": {},
   "outputs": [],
   "source": [
    "# 直接测试 outline_analyzer.py\n",
    "outline_analyzer = DocxOutlineAnalyzerStep()\n"
   ]
  },
  {
   "cell_type": "code",
   "execution_count": 6,
   "metadata": {},
   "outputs": [],
   "source": [
    "input_datas = outline_analyzer.prepare_requests_data(docx_elements)"
   ]
  },
  {
   "cell_type": "code",
   "execution_count": null,
   "metadata": {},
   "outputs": [],
   "source": [
    "print(type(input_datas))\n",
    "print(input_datas[0])\n",
    "print(input_datas[1])\n"
   ]
  },
  {
   "cell_type": "code",
   "execution_count": null,
   "metadata": {},
   "outputs": [],
   "source": [
    "simulated_prompt, formatted_messages = outline_analyzer.simulate_prompt(input_datas[0])\n",
    "pprint(formatted_messages)\n"
   ]
  },
  {
   "cell_type": "code",
   "execution_count": null,
   "metadata": {},
   "outputs": [],
   "source": [
    "analysis_result = outline_analyzer.process(docx_elements)"
   ]
  },
  {
   "cell_type": "code",
   "execution_count": null,
   "metadata": {},
   "outputs": [],
   "source": [
    "# 打印输出的结果\n",
    "print(type(analysis_result))\n",
    "print(type(analysis_result.analysis_result))\n",
    "print(type(analysis_result.analysis_result.result))\n",
    "print(type(analysis_result.analysis_result.result[0]))\n",
    "pprint(analysis_result)\n"
   ]
  },
  {
   "cell_type": "code",
   "execution_count": null,
   "metadata": {},
   "outputs": [],
   "source": [
    "saved_analysis = DocumentAnalysis.objects.get(title=\"测试分析A\")\n",
    "pprint(saved_analysis.outline_analysis_result)\n"
   ]
  },
  {
   "cell_type": "markdown",
   "metadata": {},
   "source": [
    "# <font color=\"red\">STEP 3: 测试outline_improvement.py</font>\n"
   ]
  },
  {
   "cell_type": "code",
   "execution_count": null,
   "metadata": {},
   "outputs": [],
   "source": [
    "# 初始化\n",
    "import django_setup"
   ]
  },
  {
   "cell_type": "code",
   "execution_count": 2,
   "metadata": {},
   "outputs": [],
   "source": [
    "# 导入相关模型\n",
    "from django.contrib.auth import get_user_model\n",
    "from apps.doc_analysis.models import DocumentAnalysis, InvalidStatusTransition\n",
    "from apps.projects.models import Project\n",
    "from apps.files.models import FileRecord\n",
    "from django.core.files.uploadedfile import SimpleUploadedFile\n",
    "from django.core.exceptions import ValidationError\n",
    "from apps.doc_analysis.steps._01_extract_docx_elements import DocxExtractorStep\n",
    "from apps.doc_analysis.pipeline.types import ModelData, DocxElements, OutlineAnalysisResult\n",
    "from apps.doc_analysis.steps._02_outline_analysis import DocxOutlineAnalyzerStep\n",
    "from apps.doc_analysis.steps._03_outline_improvement import OutlineImprovementStep\n",
    "from pprint import pprint "
   ]
  },
  {
   "cell_type": "code",
   "execution_count": 3,
   "metadata": {},
   "outputs": [],
   "source": [
    "# 直接引用\"测试分析A\", 并获取其docx_elements 和 outline_analysis_result\n",
    "\n",
    "saved_analysis = DocumentAnalysis.objects.get(title=\"测试分析A\")\n",
    "docx_elements = DocxElements.from_model(saved_analysis.extracted_elements)\n",
    "outline_analysis_result = OutlineAnalysisResult.from_model(saved_analysis.outline_analysis_result)"
   ]
  },
  {
   "cell_type": "code",
   "execution_count": null,
   "metadata": {},
   "outputs": [],
   "source": [
    "# 打印输出的结果\n",
    "print(type(outline_analysis_result.analysis_result))\n",
    "print(type(outline_analysis_result.analysis_result.result))\n",
    "print(type(outline_analysis_result.analysis_result.result[0]))\n",
    "pprint(outline_analysis_result)\n"
   ]
  },
  {
   "cell_type": "markdown",
   "metadata": {},
   "source": [
    "## 分步骤测试"
   ]
  },
  {
   "cell_type": "code",
   "execution_count": 5,
   "metadata": {},
   "outputs": [],
   "source": [
    "# 构建实例\n",
    "outline_improver = OutlineImprovementStep()"
   ]
  },
  {
   "cell_type": "code",
   "execution_count": null,
   "metadata": {},
   "outputs": [],
   "source": [
    "# titles 提取\n",
    "titles_to_improve = outline_improver.extract_titles_from_analysis(outline_analysis_result)\n",
    "pprint(titles_to_improve)\n"
   ]
  },
  {
   "cell_type": "code",
   "execution_count": 8,
   "metadata": {},
   "outputs": [],
   "source": [
    "# 改进元素\n",
    "improved_elements = outline_improver.improve_document_elements(docx_elements, titles_to_improve)"
   ]
  },
  {
   "cell_type": "code",
   "execution_count": null,
   "metadata": {},
   "outputs": [],
   "source": [
    "# 打印改进后的数据\n",
    "pprint(improved_elements)"
   ]
  },
  {
   "cell_type": "markdown",
   "metadata": {},
   "source": [
    "## 集成测试"
   ]
  },
  {
   "cell_type": "code",
   "execution_count": null,
   "metadata": {},
   "outputs": [],
   "source": [
    "# 模拟用户确认\n",
    "outline_analysis_result.user_confirm = True\n",
    "\n",
    "pprint(outline_analysis_result)\n"
   ]
  },
  {
   "cell_type": "code",
   "execution_count": 6,
   "metadata": {},
   "outputs": [],
   "source": [
    "# 完整测试 _02_outline_analysis.py\n",
    "outline_improver = OutlineImprovementStep()\n",
    "improved_docx_elements = outline_improver.process((docx_elements, outline_analysis_result))"
   ]
  },
  {
   "cell_type": "code",
   "execution_count": null,
   "metadata": {},
   "outputs": [],
   "source": [
    "# 打印原来的数据\n",
    "pprint(docx_elements)"
   ]
  },
  {
   "cell_type": "code",
   "execution_count": null,
   "metadata": {},
   "outputs": [],
   "source": [
    "# 打印改进后的数据\n",
    "pprint(improved_docx_elements)"
   ]
  },
  {
   "cell_type": "markdown",
   "metadata": {},
   "source": [
    "# <font color=red>STEP 4: 构建文档树DocxTree <font>\n"
   ]
  },
  {
   "cell_type": "code",
   "execution_count": null,
   "metadata": {},
   "outputs": [],
   "source": [
    "# 初始化\n",
    "import django_setup"
   ]
  },
  {
   "cell_type": "code",
   "execution_count": 2,
   "metadata": {},
   "outputs": [],
   "source": [
    "# show_structure函数（）\n",
    "from pprint import pprint\n",
    "from typing import Any\n",
    "\n",
    "def show_structure(data: Any, name: str = \"data\", max_depth: int = None) -> None:\n",
    "    \"\"\"\n",
    "    显示数据的类型和结构的辅助函数\n",
    "    \n",
    "    参数:\n",
    "        data: 要检查的数据\n",
    "        name: 数据的名称/标签\n",
    "        max_depth: pprint的最大深度\n",
    "    \"\"\"\n",
    "    print(f\"\\n{'='*50}\")\n",
    "    print(f\"检查对象: {name}\")\n",
    "    print(f\"类型: {type(data)}\")\n",
    "    \n",
    "    if hasattr(data, '__len__'):\n",
    "        print(f\"长度: {len(data)}\")\n",
    "    \n",
    "    print(\"\\n结构:\")\n",
    "    pprint(data, depth=max_depth, width=100)\n",
    "    print(f\"{'='*50}\\n\")\n"
   ]
  },
  {
   "cell_type": "code",
   "execution_count": 3,
   "metadata": {},
   "outputs": [],
   "source": [
    "# 导入相关模型\n",
    "from apps.doc_analysis.models import DocumentAnalysis\n",
    "from apps.doc_analysis.pipeline.types import ModelData, ImprovedDocxElements, SimpleDocxNode, DocxTree\n",
    "from apps.doc_analysis.steps._04_build_docxtree import BuildDocxTree\n",
    "from pprint import pprint "
   ]
  },
  {
   "cell_type": "code",
   "execution_count": 4,
   "metadata": {},
   "outputs": [],
   "source": [
    "# 直接引用\"测试分析A\", 并获取 improved_docx_elements\n",
    "saved_analysis = DocumentAnalysis.objects.get(title=\"测试分析A\")\n",
    "improved_docx_elements = ImprovedDocxElements.from_model(saved_analysis.improved_docx_elements)\n",
    "#elements = improved_docx_elements.elements\n",
    "#show_structure(elements)\n"
   ]
  },
  {
   "cell_type": "markdown",
   "metadata": {},
   "source": [
    "## 构建文档树"
   ]
  },
  {
   "cell_type": "code",
   "execution_count": null,
   "metadata": {},
   "outputs": [],
   "source": [
    "# 构建文档树\n",
    "build_docx_tree = BuildDocxTree()\n",
    "docx_tree = build_docx_tree.process(improved_docx_elements)\n",
    "show_structure(docx_tree)\n"
   ]
  },
  {
   "cell_type": "code",
   "execution_count": null,
   "metadata": {},
   "outputs": [],
   "source": [
    "# 按顺序打印所有节点\n",
    "pprint(docx_tree._ordered_nodes)"
   ]
  },
  {
   "cell_type": "code",
   "execution_count": null,
   "metadata": {},
   "outputs": [],
   "source": [
    "# 按树结构打印所有节点\n",
    "docx_tree.print_tree()"
   ]
  },
  {
   "cell_type": "code",
   "execution_count": null,
   "metadata": {},
   "outputs": [],
   "source": [
    "print(docx_tree.format_titles())"
   ]
  },
  {
   "cell_type": "code",
   "execution_count": null,
   "metadata": {},
   "outputs": [],
   "source": [
    "# 检查文档树在models.py里的存储情况\n",
    "saved_analysis = DocumentAnalysis.objects.get(title=\"测试分析A\")\n",
    "print(type(saved_analysis.docxtree))\n",
    "pprint(saved_analysis.docxtree)\n"
   ]
  },
  {
   "cell_type": "markdown",
   "metadata": {},
   "source": [
    "## 测试从数据库提取文档树"
   ]
  },
  {
   "cell_type": "code",
   "execution_count": null,
   "metadata": {},
   "outputs": [],
   "source": [
    "# 还原：从models.py存储到doc_tree类型的还原\n",
    "docx_tree_from_model = DocxTree.from_model(saved_analysis.docxtree)\n",
    "print(type(docx_tree_from_model))\n",
    "pprint(docx_tree_from_model)"
   ]
  },
  {
   "cell_type": "code",
   "execution_count": null,
   "metadata": {},
   "outputs": [],
   "source": [
    "# 还原 ： 按顺序打印所有节点\n",
    "pprint(docx_tree_from_model._ordered_nodes)"
   ]
  },
  {
   "cell_type": "code",
   "execution_count": null,
   "metadata": {},
   "outputs": [],
   "source": [
    "# 还原： 按树结构打印所有节点\n",
    "docx_tree_from_model.print_tree()"
   ]
  },
  {
   "cell_type": "code",
   "execution_count": null,
   "metadata": {},
   "outputs": [],
   "source": [
    "print(docx_tree_from_model.format_titles())"
   ]
  },
  {
   "cell_type": "markdown",
   "metadata": {},
   "source": [
    "## 测试文档树方法：查找节点，打印树，标题格式化"
   ]
  },
  {
   "cell_type": "code",
   "execution_count": null,
   "metadata": {},
   "outputs": [],
   "source": [
    "# 查找某个节点 find_node()， 测试 .find_node() 方法，比如node_id = 78\n",
    "node = docx_tree.find_node(78)\n",
    "pprint(node)"
   ]
  },
  {
   "cell_type": "code",
   "execution_count": null,
   "metadata": {},
   "outputs": [],
   "source": [
    "# 打印某个节点以下的文档树结构\n",
    "docx_tree.print_tree(124)\n"
   ]
  },
  {
   "cell_type": "code",
   "execution_count": null,
   "metadata": {},
   "outputs": [],
   "source": [
    "# 格式化 标题结构 用于大模型分析\n",
    "titles_nodes = docx_tree.format_titles()\n",
    "pprint(titles_nodes)"
   ]
  },
  {
   "cell_type": "markdown",
   "metadata": {},
   "source": [
    "## 测试添加节点"
   ]
  },
  {
   "cell_type": "code",
   "execution_count": null,
   "metadata": {},
   "outputs": [],
   "source": [
    "# 添加 节点\n",
    "docx_tree.add_title_node(\n",
    "    content = '>>>> 插入新节点',\n",
    "    level = 2,\n",
    "    after_node_id = 150 \n",
    ")"
   ]
  },
  {
   "cell_type": "code",
   "execution_count": null,
   "metadata": {},
   "outputs": [],
   "source": [
    "# 打印结果 - 看顺序列表里是否有插入？\n",
    "pprint(docx_tree._ordered_nodes[140:160])"
   ]
  },
  {
   "cell_type": "code",
   "execution_count": null,
   "metadata": {},
   "outputs": [],
   "source": [
    "# 打印文档树\n",
    "docx_tree.print_tree(124)"
   ]
  },
  {
   "cell_type": "markdown",
   "metadata": {},
   "source": [
    "## 测试调整节点类型"
   ]
  },
  {
   "cell_type": "code",
   "execution_count": 19,
   "metadata": {},
   "outputs": [],
   "source": [
    "# 节点改变层级\n",
    "docx_tree.convert_to_title_node(156,2)"
   ]
  },
  {
   "cell_type": "code",
   "execution_count": null,
   "metadata": {},
   "outputs": [],
   "source": [
    "# 打印结果 - 看顺序列表里是否有插入？\n",
    "pprint(docx_tree._ordered_nodes[140:160])"
   ]
  },
  {
   "cell_type": "code",
   "execution_count": null,
   "metadata": {},
   "outputs": [],
   "source": [
    "# 打印文档树\n",
    "docx_tree.print_tree(124)"
   ]
  },
  {
   "cell_type": "markdown",
   "metadata": {},
   "source": [
    "# <font color=red>  STEP 5: 测试文档树的使用</font>"
   ]
  },
  {
   "cell_type": "code",
   "execution_count": 1,
   "metadata": {},
   "outputs": [
    {
     "name": "stdout",
     "output_type": "stream",
     "text": [
      "Development settings loaded\n",
      "INSTALLED_APPS: ['django.contrib.admin', 'django.contrib.auth', 'django.contrib.contenttypes', 'django.contrib.sessions', 'django.contrib.messages', 'django.contrib.staticfiles', 'rest_framework', 'corsheaders', 'storages', 'apps.authentication', 'apps.files', 'apps.projects', 'apps.doc_analysis', 'apps.chat', 'django_filters', 'drf_spectacular', 'rest_framework_simplejwt.token_blacklist', 'django_celery_results', 'django_celery_beat']\n"
     ]
    },
    {
     "name": "stderr",
     "output_type": "stream",
     "text": [
      "INFO 2025-02-25 01:59:53,492 storage default_storage 的类型: COSStorage\n"
     ]
    },
    {
     "name": "stdout",
     "output_type": "stream",
     "text": [
      "Settings从哪里加载？: config.settings.development\n",
      "项目根目录对么？: C:\\Users\\huiwa\\Documents\\_All_Projects\\BidPilot_new\\backend\n",
      "文件存储settings对么？: apps.files.storage.COSStorage\n",
      "文件default_storage对么？: COSStorage\n",
      "\n",
      "已经安装的应用 Installed Apps 完整了么？:\n",
      "- django.contrib.admin\n",
      "- django.contrib.auth\n",
      "- django.contrib.contenttypes\n",
      "- django.contrib.sessions\n",
      "- django.contrib.messages\n",
      "- django.contrib.staticfiles\n",
      "- rest_framework\n",
      "- corsheaders\n",
      "- storages\n",
      "- apps.authentication\n",
      "- apps.files\n",
      "- apps.projects\n",
      "- apps.doc_analysis\n",
      "- apps.chat\n",
      "- django_filters\n",
      "- drf_spectacular\n",
      "- rest_framework_simplejwt.token_blacklist\n",
      "- django_celery_results\n",
      "- django_celery_beat\n"
     ]
    }
   ],
   "source": [
    "# 初始化\n",
    "import django_setup"
   ]
  },
  {
   "cell_type": "code",
   "execution_count": 2,
   "metadata": {},
   "outputs": [],
   "source": [
    "# 导入相关模型\n",
    "from apps.doc_analysis.models import DocumentAnalysis\n",
    "from apps.doc_analysis.pipeline.types import ModelData,DocxTree, DocxTreeMoreTitles\n",
    "from apps.doc_analysis.steps._04_build_docxtree import BuildDocxTree\n",
    "from apps.doc_analysis.steps._05_more_subtitles import MoreSubTitlesStep\n",
    "from pprint import pprint "
   ]
  },
  {
   "cell_type": "code",
   "execution_count": 3,
   "metadata": {},
   "outputs": [
    {
     "name": "stdout",
     "output_type": "stream",
     "text": [
      "<class 'apps.doc_analysis.pipeline.types.DocxTree'>\n",
      "    第一章  招标公告 [Level:1] [ID:46] [Tokens:2316]\n",
      "    第二章 招标需求 [Level:1] [ID:95] [Tokens:1629]\n",
      "    第三章  投标人须知 [Level:1] [ID:124] [Tokens:10019]\n",
      "        前附表 [Level:2] [ID:125] [Tokens:2735]\n",
      "        一、总则 [Level:2] [ID:130] [Tokens:1197]\n",
      "        二、招标文件 [Level:2] [ID:159] [Tokens:635]\n",
      "        三、投标文件的编制 [Level:2] [ID:175] [Tokens:3227]\n",
      "        四、开标 [Level:2] [ID:256] [Tokens:379]\n",
      "        五、评标 [Level:2] [ID:267] [Tokens:1191]\n",
      "        六、定标 [Level:2] [ID:294] [Tokens:168]\n",
      "        七、合同授予 [Level:2] [ID:298] [Tokens:82]\n",
      "        八、履约保证金 [Level:2] [ID:300] [Tokens:54]\n",
      "        九、招标代理服务费的收取 [Level:2] [ID:302] [Tokens:340]\n",
      "    第四章  评标办法及评分标准 [Level:1] [ID:308] [Tokens:7041]\n",
      "        前言 [Level:2] [ID:1740419863] [Tokens:2090]\n",
      "        附件一：资格审查表 [Level:2] [ID:352] [Tokens:1031]\n",
      "        附件二：符合性审查表 [Level:2] [ID:355] [Tokens:498]\n",
      "        附件三：评分标准 [Level:2] [ID:357] [Tokens:3406]\n",
      "    第五章 合同条款及格式 [Level:1] [ID:366] [Tokens:7692]\n",
      "    第六章  投标文件格式 [Level:1] [ID:501] [Tokens:6846]\n",
      "        前言 [Level:2] [ID:1740419863] [Tokens:322]\n",
      "        附件 1 投标函 [Level:2] [ID:515] [Tokens:494]\n",
      "        附件 2 投标保证书 [Level:2] [ID:532] [Tokens:227]\n",
      "        附件 3 无违法记录声明 [Level:2] [ID:540] [Tokens:93]\n",
      "        附件 4 法定代表人授权书 [Level:2] [ID:548] [Tokens:244]\n",
      "        附件 5 投标人情况简介 [Level:2] [ID:556] [Tokens:1312]\n",
      "        附件 6 投标人 2021 年 1 月 1 日起至投标截止日止同类产品销售业绩表 [Level:2] [ID:559] [Tokens:193]\n",
      "        附件 7  投标一览表 [Level:2] [ID:562] [Tokens:425]\n",
      "        附件 8 分项报价表 [Level:2] [ID:570] [Tokens:378]\n",
      "        附件 9 投标方案 [Level:2] [ID:579] [Tokens:196]\n",
      "        附件 10 投标人资格声明 [Level:2] [ID:589] [Tokens:217]\n",
      "        附件 11  资格证明文件 [Level:2] [ID:596] [Tokens:449]\n",
      "        附件 12 与投标人存在“关系”的其他法人单位信息 [Level:2] [ID:607] [Tokens:172]\n",
      "        附件 13 投标人认为必要的其他证明文件 [Level:2] [ID:611] [Tokens:17]\n",
      "        附件 14 技术规格偏离表 [Level:2] [ID:612] [Tokens:363]\n",
      "        附件 15 商务条款偏离表 [Level:2] [ID:618] [Tokens:336]\n",
      "        附件 16 拟投入本项目的人员配备表 [Level:2] [ID:624] [Tokens:173]\n",
      "        附件 17 中标服务费承诺书 [Level:2] [ID:630] [Tokens:343]\n",
      "        附件 18 关于投标保证金的声明 [Level:2] [ID:636] [Tokens:369]\n",
      "        附件 19 开标会声明书 [Level:2] [ID:646] [Tokens:513]\n"
     ]
    }
   ],
   "source": [
    "# 直接引用\"测试分析A\", 并获取 doc_tree\n",
    "saved_analysis = DocumentAnalysis.objects.get(title=\"测试分析A\")\n",
    "docx_tree = DocxTree.from_model(saved_analysis.docxtree)\n",
    "print(type(docx_tree))\n",
    "print(docx_tree.format_titles())"
   ]
  },
  {
   "cell_type": "code",
   "execution_count": 4,
   "metadata": {},
   "outputs": [
    {
     "name": "stdout",
     "output_type": "stream",
     "text": [
      "[Node(46, '第一章  招标公告...', [title], [Lvl: 1], [48 children]),\n",
      " Node(95, '第二章 招标需求...', [title], [Lvl: 1], [28 children]),\n",
      " Node(125, '前附表...', [title], [Lvl: 2], [4 children]),\n",
      " Node(130, '一、总则...', [title], [Lvl: 2], [28 children]),\n",
      " Node(159, '二、招标文件...', [title], [Lvl: 2], [15 children]),\n",
      " Node(175, '三、投标文件的编制...', [title], [Lvl: 2], [80 children]),\n",
      " Node(256, '四、开标...', [title], [Lvl: 2], [10 children]),\n",
      " Node(267, '五、评标...', [title], [Lvl: 2], [26 children]),\n",
      " Node(294, '六、定标...', [title], [Lvl: 2], [3 children]),\n",
      " Node(298, '七、合同授予...', [title], [Lvl: 2], [1 children]),\n",
      " Node(300, '八、履约保证金...', [title], [Lvl: 2], [1 children]),\n",
      " Node(302, '九、招标代理服务费的收取...', [title], [Lvl: 2], [5 children]),\n",
      " Node(1740419863, '前言...', [title], [Lvl: 2], [43 children]),\n",
      " Node(352, '附件一：资格审查表...', [title], [Lvl: 2], [2 children]),\n",
      " Node(355, '附件二：符合性审查表...', [title], [Lvl: 2], [1 children]),\n",
      " Node(357, '附件三：评分标准...', [title], [Lvl: 2], [8 children]),\n",
      " Node(366, '第五章 合同条款及格式...', [title], [Lvl: 1], [134 children]),\n",
      " Node(1740419863, '前言...', [title], [Lvl: 2], [13 children]),\n",
      " Node(515, '附件 1 投标函...', [title], [Lvl: 2], [16 children]),\n",
      " Node(532, '附件 2 投标保证书...', [title], [Lvl: 2], [7 children]),\n",
      " Node(540, '附件 3 无违法记录声明...', [title], [Lvl: 2], [7 children]),\n",
      " Node(548, '附件 4 法定代表人授权书...', [title], [Lvl: 2], [7 children]),\n",
      " Node(556, '附件 5 投标人情况简介...', [title], [Lvl: 2], [2 children]),\n",
      " Node(559, '附件 6 投标人 2021 年 1 月 1 日起至投标截止日...', [title], [Lvl: 2], [2 children]),\n",
      " Node(562, '附件 7  投标一览表...', [title], [Lvl: 2], [7 children]),\n",
      " Node(570, '附件 8 分项报价表...', [title], [Lvl: 2], [8 children]),\n",
      " Node(579, '附件 9 投标方案...', [title], [Lvl: 2], [9 children]),\n",
      " Node(589, '附件 10 投标人资格声明...', [title], [Lvl: 2], [6 children]),\n",
      " Node(596, '附件 11  资格证明文件...', [title], [Lvl: 2], [10 children]),\n",
      " Node(607, '附件 12 与投标人存在“关系”的其他法人单位信息...', [title], [Lvl: 2], [3 children]),\n",
      " Node(611, '附件 13 投标人认为必要的其他证明文件...', [title], [Lvl: 2], [0 children]),\n",
      " Node(612, '附件 14 技术规格偏离表...', [title], [Lvl: 2], [5 children]),\n",
      " Node(618, '附件 15 商务条款偏离表...', [title], [Lvl: 2], [5 children]),\n",
      " Node(624, '附件 16 拟投入本项目的人员配备表...', [title], [Lvl: 2], [5 children]),\n",
      " Node(630, '附件 17 中标服务费承诺书...', [title], [Lvl: 2], [5 children]),\n",
      " Node(636, '附件 18 关于投标保证金的声明...', [title], [Lvl: 2], [9 children]),\n",
      " Node(646, '附件 19 开标会声明书...', [title], [Lvl: 2], [8 children])]\n"
     ]
    }
   ],
   "source": [
    "leaf_titles = docx_tree.get_leaf_titles()\n",
    "pprint(leaf_titles)"
   ]
  },
  {
   "cell_type": "code",
   "execution_count": 5,
   "metadata": {},
   "outputs": [
    {
     "name": "stdout",
     "output_type": "stream",
     "text": [
      "[{'role': 'system', 'content': '你是一个专业的招标文档分析助手，帮助用户分析文档的结构和内容。'}, {'role': 'human', 'content': '\\n# Task\\n识别文档中当前标题的直接下级子标题。\\n\\n# Requirements\\n判断依据:\\n- 段落表达完整的主题概念\\n- 与当前标题存在直接的从属关系\\n- 具有标题的特征格式\\n\\n注意:\\n- 仅识别直接下级标题\\n- 忽略更深层级的内容\\n- 保持原章节编号不变\\n\\n# Output\\n## Rules\\n- 输出JSON格式的层级结构\\n- 每个子标题包含其文本内容和层级信息\\n- 保留原始段落与新识别子标题的对应关系\\n- 空内容使用[]\\n\\n## Format\\n\\n请按以下JSON格式输出分析结果：\\n{\\n    \"titles_to_detail\": [\\n        {\\n            \"title\": \"标题内容\",\\n            \"ID\": \"标题ID\",\\n            \"level\": \"标题层级\"\\n        }\\n    ]\\n}\\n\\n\\n# Input\\n<h1>第一章  招标公告[ID:46]</h1>\\n<path> 第一章  招标公告</path>\\n<hr/>\\n<p>根据《中华人民共和国招标投标法》、《中华人民共和国招标投标法实施条 例》等规定， 北京中外建工程管理有限公司受招标人委托，就北京京铁运恒采购 供应站有限公司 2024 年端午节物资采购项目（第一包：一级压榨花生油）进行  国内公开招标采购，欢迎合格的投标人前来投标。 [ID:47]</p>\\n<p>一、项目编号：DLXM-2024-148-01 [ID:48]</p>\\n<p>二、采购组织类型：委托代理 [ID:49]</p>\\n<p>三、采购方式：公开招标 [ID:50]</p>\\n<p>四、招标最高限价：1840 万元 [ID:51]</p>\\n<p>五、采购内容、数量及简要技术要求 [ID:52]</p>\\n<table>[表格内容]</table>\\n<p>六、合格投标人的资格要求(本项目采用资格后审) [ID:54]</p>\\n<p>（1）在中华人民共和国境内注册的、具有独立承担民事责任的能力； [ID:55]</p>\\n<p>（2）具有依法缴纳税收和社会保险的良好记录； [ID:56]</p>\\n<p>（3）近三年内，在经营活动中没有重大违法记录； [ID:57]</p>\\n<p>（4）单位负责人为同一人或者存在直接控股、管理关系的不同投标人，不得 同时参加本项目的投标； [ID:58]</p>\\n<p>（5）信用中国网站（www.creditchina.gov.cn）和中国政府采购网 [ID:59]</p>\\n<p>（www.ccgp.gov.cn）查询信用记录中（查询时间为招标公告发布后至投标截止时 间期间），被列入失信被执行人、重大税收违法案件当事人名单或政府采购严重 违法失信行为记录名单的投标人，不得参加本项目投标； [ID:60]</p>\\n<p>（6）具有有效的《食品生产许可证》或《食品经营许可证》。若投标人为仅 销售预包装食品的企业，须具有包含“食品经营（仅销售预包装食品）”的有效 营业执照或仅销售预包装食品备案证明材料； [ID:61]</p>\\n<p>（7）投标人财务状况正常，须提供会计师事务所出具的上一年度（2023年度） 财务审计报告，投标人尚未完成2023年度财务审计的须提供2022年度经审计的财 [ID:62]</p>\\n<p>务报告；若投标人为2023年1月1日之后成立的公司，须提供财务状况说明； [ID:63]</p>\\n<p>（8）法律、行政法规规定的其他条件； [ID:64]</p>\\n<p>（9）本项目不接受联合体投标。 [ID:65]</p>\\n<p>七、招标公告的发布： [ID:66]</p>\\n<p>本项目招标公告同时在中国招标投标公共服务平台、国铁物资采购平台 https:// cg.95306.cn/上发布。 [ID:67]</p>\\n<p>八、招标文件的发售： [ID:68]</p>\\n<p>1.发售时间：2024 年 3 月 22 日至 2024 年 3 月 26 日，上午 9:00-11:00；下 午 1:30-4:30 （北京时间）。 [ID:69]</p>\\n<p>2.发售地点：北京中外建工程管理有限公司（地址： 北京市丰台区福宜街 5 号院 1 号楼新时代国际中心 A 座 15 层）。 [ID:70]</p>\\n<p>3.招标文件售价：人民币 500 元/包，招标文件售后不退。请投标人以电汇或 网上银行转账方式购买招标文件，无需到现场购买，汇款后请将以下资料的扫描 件发至招标代理机构指定邮箱（782144725@qq.com）：①汇款底单，②经办人的 法定代表人授权委托书原件（加盖公章和法人章或法人签字），③经办人身份证 复印件加盖公章。投标人将上述资料发至指定邮箱后电话联系采购代理机构填写 相关表格并获取电子版招标文件。汇款附言栏内请写明汇款用途及本项目项目编 号。购买招标文件汇款账号： [ID:71]</p>\\n<p>账户名称：北京中外建工程管理有限公司 [ID:72]</p>\\n<p>开户行：中国民生银行股份有限公司北京丽泽商务区支行 账  号：619201915 [ID:73]</p>\\n<p>4.凡有意参加投标者，请投标人登录 https:// cg.95306.cn/网站，按要求 和提示填写企业相关信息,完成注册并通过初审 (相关注册事宜可拨打 电话 010-51864501、010-51864508 咨询，联系人：石先生、赵女士)。 [ID:74]</p>\\n<p>5.招标文件发售联系人和联系电话： 江女士、王女士、魏先生，电话： 010-83928607、010-83928608、13071152980。 [ID:75]</p>\\n<p>九、投标保证金： [ID:76]</p>\\n<p>投标保证金金额：人民币贰拾万元整(¥200000） [ID:77]</p>\\n<p>投标人应于 2024 年 4 月 11 日 09 时 00 分前将投标保证金以银行汇票（电汇）、 支票等非现金形式交至北京中外建工程管理有限公司。 [ID:78]</p>\\n<p>十、投标截止时间和地点： [ID:79]</p>\\n<p>本项目投标文件采用邮寄方式或现场递交，如采用邮寄方式具体要求如下： 1.邮寄时间要求：请投标人采用正规快递货运公司（建议使用顺丰快递）邮寄 递交投标文件（不接受无邮寄单据的非正规闪送），并请于投标截止时间（2024 年 4 月 11 日 09 时 00 分）之前将投标文件邮寄到以下地点（北京市丰台区福宜 街 5 号院 1 号楼新时代国际中心 A 座 15 层（北京中外建工程管理有限公司)）， [ID:80]</p>\\n<p>逾期送达或未按规定邮寄的投标文件恕不接受。 2.投标文件邮寄包装及标记要求： [ID:81]</p>\\n<p>（ 2 ） 投 标 文 件 寄 出 后 ， 请 立 即 将 邮 寄 内 容 及 邮 寄 单 号 发 送 至 782144725@qq.com 。邮件标题格式须为“XXXX（投标人全称）DLXM-2024-148-01 邮寄单号”，并电话通知项目负责人：江女士、王女士、魏先生，电话：010-83928607、 010-83928608、13071152980。 [ID:82]</p>\\n<p>十一、开标时间及地点： [ID:83]</p>\\n<p>开标时间：本次招标将于 2024 年 4 月 11 日 09 时 00 分（北京时间） [ID:84]</p>\\n<p>开标地点：北京市丰台区福宜街 5 号院 1 号楼新时代国际中心 A 座 14 层 开标形式：本项目将采用线上方式组织开标。 [ID:85]</p>\\n<p>十二、评标办法：综合评分法。 [ID:86]</p>\\n<p>十三、业务咨询 [ID:87]</p>\\n<p>招标人：北京京铁运恒采购供应站有限公司 [ID:88]</p>\\n<p>地址：北京市丰台区北京西站东附楼瑞尔威写字楼 A1 座 A706 室 [ID:89]</p>\\n<p>联系方式：石先生  010-51864501 [ID:90]</p>\\n<p>招标代理机构：北京中外建工程管理有限公司 [ID:91]</p>\\n<p>地址：北京市丰台区福宜街 5 号院 1 号楼新时代国际中心 A 座 15 层 [ID:92]</p>\\n<p>联系人：江女士、王女士、魏先生 [ID:93]</p>\\n<p>联系电话：010-83928607、010-83928608、13071152980 E-mail：782144725@qq.com [ID:94]</p>\\n'}]\n"
     ]
    }
   ],
   "source": [
    "# 创建子标题分析 实例\n",
    "subtitles_analyzer = MoreSubTitlesStep()\n",
    "# 检查 data_inputs\n",
    "data_inputs = subtitles_analyzer.prepare_requests_data(docx_tree)\n",
    "# 检查prompt\n",
    "simulated_prompt, formatted_messages = subtitles_analyzer.simulate_prompt(data_inputs[0])\n",
    "print(formatted_messages)"
   ]
  },
  {
   "cell_type": "code",
   "execution_count": null,
   "metadata": {},
   "outputs": [],
   "source": [
    "analysis_reuslts = subtitles_analyzer.process(docx_tree)"
   ]
  },
  {
   "cell_type": "code",
   "execution_count": null,
   "metadata": {},
   "outputs": [],
   "source": [
    "print(type(analysis_reuslts))\n",
    "pprint(analysis_reuslts)"
   ]
  },
  {
   "cell_type": "code",
   "execution_count": null,
   "metadata": {},
   "outputs": [],
   "source": [
    "# 检查 more_subtitles 在models.py里的存储情况\n",
    "saved_analysis = DocumentAnalysis.objects.get(title=\"测试分析A\")\n",
    "print(type(saved_analysis.more_subtitles))\n",
    "pprint(saved_analysis.more_subtitles)"
   ]
  },
  {
   "cell_type": "code",
   "execution_count": 13,
   "metadata": {},
   "outputs": [],
   "source": [
    "# 测试 从models.py提取 more_subtitles, 并转换为DocxTreeMoreTitles格式\n",
    "more_subtitles_from_model = DocxTreeMoreTitles.from_model(saved_analysis.more_subtitles)\n",
    "print(type(more_subtitles_from_model))\n",
    "pprint(more_subtitles_from_model)"
   ]
  }
 ],
 "metadata": {
  "kernelspec": {
   "display_name": "BidPilot_new_env",
   "language": "python",
   "name": "python3"
  },
  "language_info": {
   "codemirror_mode": {
    "name": "ipython",
    "version": 3
   },
   "file_extension": ".py",
   "mimetype": "text/x-python",
   "name": "python",
   "nbconvert_exporter": "python",
   "pygments_lexer": "ipython3",
   "version": "3.12.1"
  }
 },
 "nbformat": 4,
 "nbformat_minor": 2
}
