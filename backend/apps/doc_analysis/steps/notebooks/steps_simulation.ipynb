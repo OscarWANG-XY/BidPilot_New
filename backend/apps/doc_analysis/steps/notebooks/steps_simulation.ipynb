{
 "cells": [
  {
   "cell_type": "markdown",
   "metadata": {},
   "source": [
    "# <font color=\"red\">STEP 1: 文档提取测试</font>"
   ]
  },
  {
   "cell_type": "code",
   "execution_count": 33,
   "metadata": {},
   "outputs": [],
   "source": [
    "# 初始化\n",
    "import django_setup"
   ]
  },
  {
   "cell_type": "code",
   "execution_count": 34,
   "metadata": {},
   "outputs": [],
   "source": [
    "# 导入相关模型：get_user_model, Project, FileRecord, DocumentAnalysis, FileProjectLink, ProjectHistory\n",
    "from django.contrib.auth import get_user_model\n",
    "from apps.doc_analysis.models import DocumentAnalysis, InvalidStatusTransition\n",
    "from apps.projects.models import Project\n",
    "from apps.files.models import FileRecord\n",
    "from django.core.files.uploadedfile import SimpleUploadedFile\n",
    "from django.core.exceptions import ValidationError\n",
    "from apps.doc_analysis.steps._01_extract_docx_elements import DocxExtractorStep\n",
    "from apps.doc_analysis.pipeline.types import ModelData, DocxElements, OutlineAnalysisResult"
   ]
  },
  {
   "cell_type": "code",
   "execution_count": null,
   "metadata": {},
   "outputs": [],
   "source": [
    "# 准备测试所需的 user, project, file_record  (其中project与file_record关联)\n",
    "User = get_user_model()\n",
    "\n",
    "# 获取已存在的测试数据\n",
    "\n",
    "# 获取已存在的用户\n",
    "user = User.objects.get(phone='18501771516')\n",
    "print(f\"用户: {user.phone}\")\n",
    "        \n",
    "# 获取已存在的项目\n",
    "project = Project.objects.get(project_name='测试项目1')\n",
    "print(f\"项目: {project.project_name}\")\n",
    "        \n",
    "# 获取已存在的文件\n",
    "file_record = FileRecord.objects.get(id='3')\n",
    "print(f\"文件: {file_record.name}\")"
   ]
  },
  {
   "cell_type": "code",
   "execution_count": null,
   "metadata": {},
   "outputs": [],
   "source": [
    "# 清除‘测试分析A”，用于接下去的测试\n",
    "DocumentAnalysis.objects.filter(title=\"测试分析A\").delete()"
   ]
  },
  {
   "cell_type": "code",
   "execution_count": null,
   "metadata": {},
   "outputs": [],
   "source": [
    "# 1. 创建新的文档分析实例 - 测试分析A\n",
    "docx_analysis = DocumentAnalysis.objects.create(\n",
    "    project=project,\n",
    "    title=\"测试分析A\",\n",
    "    created_by=user,\n",
    "    analysis_questions=[\"投标要求\", \"评分标准\"]  # 示例分析问题\n",
    ")\n",
    "print(f\"创建文档分析: {docx_analysis.title} (ID: {docx_analysis.id})\")"
   ]
  },
  {
   "cell_type": "code",
   "execution_count": null,
   "metadata": {},
   "outputs": [],
   "source": [
    "# 2.上传真实的 DOCX文件\n",
    "\n",
    "# 2.1 准备文件路径\n",
    "doc_path = \"C:/Users/huiwa/Downloads/文本分析测试/CaseTest/case8：招标文件-第1包：一级压榨花生油.docx\"\n",
    "\n",
    "# 2.2 读取文件内容\n",
    "with open(doc_path, 'rb') as f:\n",
    "    file_content = f.read()\n",
    "test_file = SimpleUploadedFile(\n",
    "    \"test_doc.docx\",\n",
    "    file_content,\n",
    "    content_type=\"application/vnd.openxmlformats-officedocument.wordprocessingml.document\"\n",
    ")\n",
    "print(f\"文件大小: {test_file.size}\")\n",
    "\n",
    "# 2. 创建新的文件记录 并 存储文件对象\n",
    "new_file_record = FileRecord.objects.create(\n",
    "    name=\"test_doc.docx\",\n",
    "    file=test_file,  # 使用之前准备的测试文件\n",
    "    owner=user,\n",
    "    size = test_file.size\n",
    ")\n",
    "print(f\"创建文件记录: {new_file_record.name}\")"
   ]
  },
  {
   "cell_type": "code",
   "execution_count": 39,
   "metadata": {},
   "outputs": [],
   "source": [
    "# 3. 关联新文件\n",
    "try:\n",
    "    docx_analysis.update_file_record(new_file_record)\n",
    "except Exception as e:\n",
    "    print(f\"关联文件失败: {str(e)}\")"
   ]
  },
  {
   "cell_type": "code",
   "execution_count": null,
   "metadata": {},
   "outputs": [],
   "source": [
    "# 4. 触发开始分析，并提取文档元素 elements 存入数据库\n",
    "print(\"\\n===== 最终状态检查 =====\")\n",
    "print(f\"开始分析前-状态: {docx_analysis.status}\")\n",
    "#docx_analysis.start_analysis()\n",
    "print(f\"开始分析后-状态: {docx_analysis.status}\")\n",
    "\n",
    "# 初始化DocxExtractorStep\n",
    "docx_extractor=DocxExtractorStep()\n",
    "\n",
    "try:\n",
    "    # 准备输入数据, 好比 DocumentAnalysis.instance.data\n",
    "    input_data = ModelData(model= DocumentAnalysis, instance=docx_analysis)\n",
    "    \n",
    "    # 执行文档提取\n",
    "    docx_elements = docx_extractor.process(input_data)\n",
    "    \n",
    "    # 打印提取结果\n",
    "    print(\"文档提取成功！提取到的元素数量:\", len(docx_elements))\n",
    "    print(\"第一个元素示例:\", docx_elements[0])\n",
    "    \n",
    "    # 检查保存到数据库的结果\n",
    "    saved_analysis = DocumentAnalysis.objects.get(id=docx_analysis.id)\n",
    "    print(\"保存的提取结果:\", saved_analysis.extracted_elements)\n",
    "    \n",
    "except ValidationError as e:\n",
    "    print(\"文档提取失败:\", str(e))\n",
    "    # 检查分析状态\n",
    "    failed_analysis = DocumentAnalysis.objects.get(id=docx_analysis.id)\n",
    "    print(\"分析状态:\", failed_analysis.status)\n",
    "    print(\"错误信息:\", failed_analysis.error_message)\n"
   ]
  },
  {
   "cell_type": "markdown",
   "metadata": {},
   "source": [
    "# <font color=\"red\">STEP 2: outline 分析测试</font>"
   ]
  },
  {
   "cell_type": "code",
   "execution_count": 1,
   "metadata": {},
   "outputs": [
    {
     "name": "stdout",
     "output_type": "stream",
     "text": [
      "Development settings loaded\n",
      "INSTALLED_APPS: ['django.contrib.admin', 'django.contrib.auth', 'django.contrib.contenttypes', 'django.contrib.sessions', 'django.contrib.messages', 'django.contrib.staticfiles', 'rest_framework', 'corsheaders', 'storages', 'apps.authentication', 'apps.files', 'apps.projects', 'apps.doc_analysis', 'apps.chat', 'django_filters', 'drf_spectacular', 'rest_framework_simplejwt.token_blacklist', 'django_celery_results', 'django_celery_beat']\n"
     ]
    },
    {
     "name": "stderr",
     "output_type": "stream",
     "text": [
      "INFO 2025-02-24 15:32:04,139 storage default_storage 的类型: COSStorage\n"
     ]
    },
    {
     "name": "stdout",
     "output_type": "stream",
     "text": [
      "Settings从哪里加载？: config.settings.development\n",
      "项目根目录对么？: C:\\Users\\huiwa\\Documents\\_All_Projects\\BidPilot_new\\backend\n",
      "文件存储settings对么？: apps.files.storage.COSStorage\n",
      "文件default_storage对么？: COSStorage\n",
      "\n",
      "已经安装的应用 Installed Apps 完整了么？:\n",
      "- django.contrib.admin\n",
      "- django.contrib.auth\n",
      "- django.contrib.contenttypes\n",
      "- django.contrib.sessions\n",
      "- django.contrib.messages\n",
      "- django.contrib.staticfiles\n",
      "- rest_framework\n",
      "- corsheaders\n",
      "- storages\n",
      "- apps.authentication\n",
      "- apps.files\n",
      "- apps.projects\n",
      "- apps.doc_analysis\n",
      "- apps.chat\n",
      "- django_filters\n",
      "- drf_spectacular\n",
      "- rest_framework_simplejwt.token_blacklist\n",
      "- django_celery_results\n",
      "- django_celery_beat\n"
     ]
    }
   ],
   "source": [
    "# 初始化\n",
    "import django_setup"
   ]
  },
  {
   "cell_type": "code",
   "execution_count": 2,
   "metadata": {},
   "outputs": [],
   "source": [
    "# 导入相关模型：get_user_model, Project, FileRecord, DocumentAnalysis, FileProjectLink, ProjectHistory\n",
    "from django.contrib.auth import get_user_model\n",
    "from apps.doc_analysis.models import DocumentAnalysis, InvalidStatusTransition\n",
    "from apps.projects.models import Project\n",
    "from apps.files.models import FileRecord\n",
    "from django.core.files.uploadedfile import SimpleUploadedFile\n",
    "from django.core.exceptions import ValidationError\n",
    "from apps.doc_analysis.steps._01_extract_docx_elements import DocxExtractorStep\n",
    "from apps.doc_analysis.pipeline.types import ModelData, DocxElements, OutlineAnalysisResult\n",
    "from apps.doc_analysis.steps._02_outline_analysis import DocxOutlineAnalyzerStep\n",
    "from pprint import pprint "
   ]
  },
  {
   "cell_type": "code",
   "execution_count": 3,
   "metadata": {},
   "outputs": [
    {
     "name": "stdout",
     "output_type": "stream",
     "text": [
      "{'content': '前附表',\n",
      " 'is_toc': True,\n",
      " 'position': 11,\n",
      " 'toc_level': 2,\n",
      " 'type': 'paragraph'}\n"
     ]
    }
   ],
   "source": [
    "# 直接引用\"测试分析A\", 并获取其extracted_elements\n",
    "\n",
    "saved_analysis = DocumentAnalysis.objects.get(title=\"测试分析A\")\n",
    "extracted_elements = saved_analysis.extracted_elements\n",
    "pprint(extracted_elements['elements'][10])"
   ]
  },
  {
   "cell_type": "code",
   "execution_count": 4,
   "metadata": {},
   "outputs": [],
   "source": [
    "# 创建 DocxElements 实例 from models.py 的 extracted_elements\n",
    "docx_elements = DocxElements.from_model(extracted_elements)"
   ]
  },
  {
   "cell_type": "code",
   "execution_count": 5,
   "metadata": {},
   "outputs": [],
   "source": [
    "# 直接测试 outline_analyzer.py\n",
    "outline_analyzer = DocxOutlineAnalyzerStep()\n"
   ]
  },
  {
   "cell_type": "code",
   "execution_count": 6,
   "metadata": {},
   "outputs": [],
   "source": [
    "input_datas = outline_analyzer.prepare_requests_data(docx_elements)"
   ]
  },
  {
   "cell_type": "code",
   "execution_count": 7,
   "metadata": {},
   "outputs": [
    {
     "name": "stdout",
     "output_type": "stream",
     "text": [
      "<class 'list'>\n",
      "\n",
      "## TOC TITLE LIST\n",
      "title:第一章 招标公告, level:1, position:8\n",
      "title:第二章 招标需求, level:1, position:9\n",
      "title:第三章 投标人须知, level:1, position:10\n",
      "title:第四章 评标办法及评分标准, level:1, position:21\n",
      "title:第五章 合同条款及格式, level:1, position:25\n",
      "title:第六章 投标文件格式, level:1, position:26\n",
      "\n",
      "## HEADING TITLE LIST\n",
      "title:北京京铁运恒采购供应站有限公司 2024 年端午节物资采购项目, level:1, position:1\n",
      "title:招标文件, level:1, position:2\n",
      "title:第一章 招标公告, level:1, position:46\n",
      "title:第二章 招标需求, level:1, position:95\n",
      "title:第三章 投标人须知, level:1, position:124\n",
      "title:第四章 评标办法及评分标准, level:1, position:308\n",
      "title:第五章 合同条款及格式, level:1, position:366\n",
      "title:第六章 投标文件格式, level:1, position:501\n",
      "\n",
      "\n",
      "## TOC TITLE LIST\n",
      "title:前附表, level:2, position:11\n",
      "title:一、总则, level:2, position:12\n",
      "title:二、招标文件, level:2, position:13\n",
      "title:三、投标文件的编制, level:2, position:14\n",
      "title:四、开标, level:2, position:15\n",
      "title:五、评标, level:2, position:16\n",
      "title:六、定标, level:2, position:17\n",
      "title:七、合同授予, level:2, position:18\n",
      "title:八、履约保证金, level:2, position:19\n",
      "title:九、招标代理服务费的收取, level:2, position:20\n",
      "title:附件一：资格审查表, level:2, position:22\n",
      "title:附件二：符合性审查表, level:2, position:23\n",
      "title:附件三：评分标准, level:2, position:24\n",
      "title:附件 1 投标函, level:2, position:27\n",
      "title:附件 2 投标保证书, level:2, position:28\n",
      "title:附件 3 无违法记录声明, level:2, position:29\n",
      "title:附件 4 法定代表人授权书, level:2, position:30\n",
      "title:附件 5 投标人情况简介, level:2, position:31\n",
      "title:附件 6 投标人 2021 年 1 月 1 日起至投标截止日止同类产品销售业绩表, level:2, position:32\n",
      "title:附件 7 投标一览表, level:2, position:33\n",
      "title:附件 8 分项报价表, level:2, position:34\n",
      "title:附件 9 投标方案, level:2, position:35\n",
      "title:附件 10 投标人资格声明, level:2, position:36\n",
      "title:附件 11 资格证明文件, level:2, position:37\n",
      "title:附件 12 与投标人存在“关系”的其他法人单位信息, level:2, position:38\n",
      "title:附件 13 投标人认为必要的其他证明文件, level:2, position:39\n",
      "title:附件 14 技术规格偏离表, level:2, position:40\n",
      "title:附件 15 商务条款偏离表, level:2, position:41\n",
      "title:附件 16 拟投入本项目的人员配备表, level:2, position:42\n",
      "title:附件 17 中标服务费承诺书, level:2, position:43\n",
      "title:附件 18 关于投标保证金的声明, level:2, position:44\n",
      "title:附件 19 开标会声明书, level:2, position:45\n",
      "\n",
      "## HEADING TITLE LIST\n",
      "title:前附表, level:2, position:125\n",
      "title:一、总则, level:2, position:130\n",
      "title:二、招标文件, level:2, position:159\n",
      "title:三、投标文件的编制, level:2, position:175\n",
      "title:四、开标, level:2, position:256\n",
      "title:五、评标, level:2, position:267\n",
      "title:六、定标, level:2, position:294\n",
      "title:七、合同授予, level:2, position:298\n",
      "title:八、履约保证金, level:2, position:300\n",
      "title:九、招标代理服务费的收取, level:2, position:302\n",
      "title:附件一：资格审查表, level:2, position:352\n",
      "title:附件二：符合性审查表, level:2, position:355\n",
      "title:附件三：评分标准, level:2, position:357\n",
      "title:附件 1 投标函, level:2, position:515\n",
      "title:附件 2 投标保证书, level:2, position:532\n",
      "title:附件 3 无违法记录声明, level:2, position:540\n",
      "title:附件 4 法定代表人授权书, level:2, position:548\n",
      "title:附件 5 投标人情况简介, level:2, position:556\n",
      "title:附件 6 投标人 2021 年 1 月 1 日起至投标截止日止同类产品销售业绩表, level:2, position:559\n",
      "title:附件 7 投标一览表, level:2, position:562\n",
      "title:附件 8 分项报价表, level:2, position:570\n",
      "title:附件 9 投标方案, level:2, position:579\n",
      "title:附件 10 投标人资格声明, level:2, position:589\n",
      "title:附件 11 资格证明文件, level:2, position:596\n",
      "title:附件 12 与投标人存在“关系”的其他法人单位信息, level:2, position:607\n",
      "title:附件 13 投标人认为必要的其他证明文件, level:2, position:611\n",
      "title:附件 14 技术规格偏离表, level:2, position:612\n",
      "title:附件 15 商务条款偏离表, level:2, position:618\n",
      "title:附件 16 拟投入本项目的人员配备表, level:2, position:624\n",
      "title:附件 17 中标服务费承诺书, level:2, position:630\n",
      "title:附件 18 关于投标保证金的声明, level:2, position:636\n",
      "title:附件 19 开标会声明书, level:2, position:646\n",
      "\n"
     ]
    }
   ],
   "source": [
    "print(type(input_datas))\n",
    "print(input_datas[0])\n",
    "print(input_datas[1])\n"
   ]
  },
  {
   "cell_type": "code",
   "execution_count": 8,
   "metadata": {},
   "outputs": [
    {
     "name": "stdout",
     "output_type": "stream",
     "text": [
      "[{'content': '你是一个专业的招标文档分析助手，帮助用户分析文档的结构和内容。', 'role': 'system'},\n",
      " {'content': '\\n'\n",
      "             '# Task\\n'\n",
      "             '分析招标文档的目录结构和正文标题之间的一致性\\n'\n",
      "             '\\n'\n",
      "             '# Requirements\\n'\n",
      "             '- 比对目录中的标题和正文中的实际标题\\n'\n",
      "             '- 忽略标点符号和空格的差异\\n'\n",
      "             '- 仅匹配标题的实际文本内容\\n'\n",
      "             '- 分别罗列出\"目录中存在但正文中不存在\"和\"正文中存在但目录中不存在\"的标题\\n'\n",
      "             '\\n'\n",
      "             '# Output\\n'\n",
      "             '## Rules\\n'\n",
      "             '- 只输出JSON格式的结果\\n'\n",
      "             '- 不使用Markdown格式\\n'\n",
      "             '- 确保JSON格式严格有效\\n'\n",
      "             '- 空元素使用[]\\n'\n",
      "             '\\n'\n",
      "             '## Format\\n'\n",
      "             '\\n'\n",
      "             '请严格按照以下JSON格式输出目录分析结果，不要包含任何额外的解释或说明：\\n'\n",
      "             '{\\n'\n",
      "             '    \"toc_only_titles\": [\\n'\n",
      "             '        {\\n'\n",
      "             '            \"title\": \"标题内容\",\\n'\n",
      "             '            \"position\": \"目录中的位置\",\\n'\n",
      "             '            \"level\": \"标题层级\"\\n'\n",
      "             '        }\\n'\n",
      "             '    ],\\n'\n",
      "             '    \"heading_only_titles\": [\\n'\n",
      "             '        {\\n'\n",
      "             '            \"title\": \"标题内容\",\\n'\n",
      "             '            \"position\": \"正文中的位置\",\\n'\n",
      "             '            \"level\": \"标题层级\"\\n'\n",
      "             '        }\\n'\n",
      "             '    ],\\n'\n",
      "             '}\\n'\n",
      "             '\\n'\n",
      "             '\\n'\n",
      "             '# Input\\n'\n",
      "             '\\n'\n",
      "             '## TOC TITLE LIST\\n'\n",
      "             'title:第一章 招标公告, level:1, position:8\\n'\n",
      "             'title:第二章 招标需求, level:1, position:9\\n'\n",
      "             'title:第三章 投标人须知, level:1, position:10\\n'\n",
      "             'title:第四章 评标办法及评分标准, level:1, position:21\\n'\n",
      "             'title:第五章 合同条款及格式, level:1, position:25\\n'\n",
      "             'title:第六章 投标文件格式, level:1, position:26\\n'\n",
      "             '\\n'\n",
      "             '## HEADING TITLE LIST\\n'\n",
      "             'title:北京京铁运恒采购供应站有限公司 2024 年端午节物资采购项目, level:1, position:1\\n'\n",
      "             'title:招标文件, level:1, position:2\\n'\n",
      "             'title:第一章 招标公告, level:1, position:46\\n'\n",
      "             'title:第二章 招标需求, level:1, position:95\\n'\n",
      "             'title:第三章 投标人须知, level:1, position:124\\n'\n",
      "             'title:第四章 评标办法及评分标准, level:1, position:308\\n'\n",
      "             'title:第五章 合同条款及格式, level:1, position:366\\n'\n",
      "             'title:第六章 投标文件格式, level:1, position:501\\n'\n",
      "             '\\n',\n",
      "  'role': 'human'}]\n"
     ]
    }
   ],
   "source": [
    "simulated_prompt, formatted_messages = outline_analyzer.simulate_prompt(input_datas[0])\n",
    "pprint(formatted_messages)\n"
   ]
  },
  {
   "cell_type": "code",
   "execution_count": 9,
   "metadata": {},
   "outputs": [
    {
     "name": "stdout",
     "output_type": "stream",
     "text": [
      "HTTP Request: POST https://dashscope.aliyuncs.com/compatible-mode/v1/chat/completions \"HTTP/1.1 200 OK\"\n",
      "HTTP Request: POST https://dashscope.aliyuncs.com/compatible-mode/v1/chat/completions \"HTTP/1.1 200 OK\"\n",
      "{\n",
      "{\n",
      "       \" \"toc_only_titles\":HTTP Request: POST https://dashscope.aliyuncs.com/compatible-mode/v1/chat/completions \"HTTP/1.1 200 OK\"\n",
      "{\n",
      "    [],\n",
      "    \"heading \"toc_only_titles\": [],\n",
      "    \"heading_only_titles\": []\n",
      "toc_only_titles\":}_only_titles\": [\n",
      "        {\n",
      "            \"title\": \"北京 [],\n",
      "    \"heading京铁运恒_only_titles\": []\n",
      "}采购供应站有限公司 2024 年端午节物资采购项目\",\n",
      "            \"position\": \"1\",\n",
      "            \"level\": \"1\"\n",
      "        },\n",
      "        {\n",
      "            \"title\": \"招标文件\",\n",
      "            \"position\": \"2\",\n",
      "            \"level\": \"1\"\n",
      "        }\n",
      "    ]\n",
      "}"
     ]
    }
   ],
   "source": [
    "analysis_result = outline_analyzer.process(docx_elements)"
   ]
  },
  {
   "cell_type": "code",
   "execution_count": 10,
   "metadata": {},
   "outputs": [
    {
     "name": "stdout",
     "output_type": "stream",
     "text": [
      "<class 'apps.doc_analysis.pipeline.types.OutlineAnalysisResult'>\n",
      "<class 'apps.doc_analysis.LLM_services._llm_data_types.BatchResult'>\n",
      "<class 'list'>\n",
      "<class 'dict'>\n",
      "OutlineAnalysisResult(document_analysis=ModelData(model=<class 'apps.doc_analysis.models.DocumentAnalysis'>,\n",
      "                                                  instance=<DocumentAnalysis: 测试分析A - 待分析>),\n",
      "                      analysis_result=BatchResult(result=[{'distribution': {'{\\n    \"toc_only_titles\": [],\\n    \"heading_only_titles\": [\\n        {\\n            \"title\": \"北京京铁运恒采购供应站有限公司 2024 年端午节物资采购项目\",\\n            \"position\": \"1\",\\n            \"level\": \"1\"\\n        },\\n        {\\n            \"title\": \"招标文件\",\\n            \"position\": \"2\",\\n            \"level\": \"1\"\\n        }\\n    ]\\n}': 1.0},\n",
      "                                                           'probability': 1.0,\n",
      "                                                           'sample_count': 1,\n",
      "                                                           'task_id': 0,\n",
      "                                                           'value': '{\\n'\n",
      "                                                                    '    '\n",
      "                                                                    '\"toc_only_titles\": '\n",
      "                                                                    '[],\\n'\n",
      "                                                                    '    '\n",
      "                                                                    '\"heading_only_titles\": '\n",
      "                                                                    '[\\n'\n",
      "                                                                    '        '\n",
      "                                                                    '{\\n'\n",
      "                                                                    '            '\n",
      "                                                                    '\"title\": '\n",
      "                                                                    '\"北京京铁运恒采购供应站有限公司 '\n",
      "                                                                    '2024 '\n",
      "                                                                    '年端午节物资采购项目\",\\n'\n",
      "                                                                    '            '\n",
      "                                                                    '\"position\": '\n",
      "                                                                    '\"1\",\\n'\n",
      "                                                                    '            '\n",
      "                                                                    '\"level\": '\n",
      "                                                                    '\"1\"\\n'\n",
      "                                                                    '        '\n",
      "                                                                    '},\\n'\n",
      "                                                                    '        '\n",
      "                                                                    '{\\n'\n",
      "                                                                    '            '\n",
      "                                                                    '\"title\": '\n",
      "                                                                    '\"招标文件\",\\n'\n",
      "                                                                    '            '\n",
      "                                                                    '\"position\": '\n",
      "                                                                    '\"2\",\\n'\n",
      "                                                                    '            '\n",
      "                                                                    '\"level\": '\n",
      "                                                                    '\"1\"\\n'\n",
      "                                                                    '        '\n",
      "                                                                    '}\\n'\n",
      "                                                                    '    ]\\n'\n",
      "                                                                    '}'},\n",
      "                                                          {'distribution': {'{\\n    \"toc_only_titles\": [],\\n    \"heading_only_titles\": []\\n}': 1.0},\n",
      "                                                           'probability': 1.0,\n",
      "                                                           'sample_count': 1,\n",
      "                                                           'task_id': 1,\n",
      "                                                           'value': '{\\n'\n",
      "                                                                    '    '\n",
      "                                                                    '\"toc_only_titles\": '\n",
      "                                                                    '[],\\n'\n",
      "                                                                    '    '\n",
      "                                                                    '\"heading_only_titles\": '\n",
      "                                                                    '[]\\n'\n",
      "                                                                    '}'},\n",
      "                                                          {'distribution': {'{\\n    \"toc_only_titles\": [],\\n    \"heading_only_titles\": []\\n}': 1.0},\n",
      "                                                           'probability': 1.0,\n",
      "                                                           'sample_count': 1,\n",
      "                                                           'task_id': 2,\n",
      "                                                           'value': '{\\n'\n",
      "                                                                    '    '\n",
      "                                                                    '\"toc_only_titles\": '\n",
      "                                                                    '[],\\n'\n",
      "                                                                    '    '\n",
      "                                                                    '\"heading_only_titles\": '\n",
      "                                                                    '[]\\n'\n",
      "                                                                    '}'}],\n",
      "                                                  success=True,\n",
      "                                                  error=None,\n",
      "                                                  request_index=-1,\n",
      "                                                  approach='asyncio',\n",
      "                                                  task_id=None,\n",
      "                                                  probability=None,\n",
      "                                                  repeat_count=None),\n",
      "                      user_confirm=False)\n"
     ]
    }
   ],
   "source": [
    "# 打印输出的结果\n",
    "print(type(analysis_result))\n",
    "print(type(analysis_result.analysis_result))\n",
    "print(type(analysis_result.analysis_result.result))\n",
    "print(type(analysis_result.analysis_result.result[0]))\n",
    "pprint(analysis_result)\n"
   ]
  },
  {
   "cell_type": "code",
   "execution_count": 11,
   "metadata": {},
   "outputs": [
    {
     "name": "stdout",
     "output_type": "stream",
     "text": [
      "{'analysis_result': {'approach': 'asyncio',\n",
      "                     'error': None,\n",
      "                     'probability': None,\n",
      "                     'repeat_count': None,\n",
      "                     'request_index': -1,\n",
      "                     'result': [{'distribution': {'{\\n    \"toc_only_titles\": [],\\n    \"heading_only_titles\": [\\n        {\\n            \"title\": \"北京京铁运恒采购供应站有限公司 2024 年端午节物资采购项目\",\\n            \"position\": \"1\",\\n            \"level\": \"1\"\\n        },\\n        {\\n            \"title\": \"招标文件\",\\n            \"position\": \"2\",\\n            \"level\": \"1\"\\n        }\\n    ]\\n}': 1.0},\n",
      "                                 'probability': 1.0,\n",
      "                                 'sample_count': 1,\n",
      "                                 'task_id': 0,\n",
      "                                 'value': '{\\n'\n",
      "                                          '    \"toc_only_titles\": [],\\n'\n",
      "                                          '    \"heading_only_titles\": [\\n'\n",
      "                                          '        {\\n'\n",
      "                                          '            \"title\": '\n",
      "                                          '\"北京京铁运恒采购供应站有限公司 2024 年端午节物资采购项目\",\\n'\n",
      "                                          '            \"position\": \"1\",\\n'\n",
      "                                          '            \"level\": \"1\"\\n'\n",
      "                                          '        },\\n'\n",
      "                                          '        {\\n'\n",
      "                                          '            \"title\": \"招标文件\",\\n'\n",
      "                                          '            \"position\": \"2\",\\n'\n",
      "                                          '            \"level\": \"1\"\\n'\n",
      "                                          '        }\\n'\n",
      "                                          '    ]\\n'\n",
      "                                          '}'},\n",
      "                                {'distribution': {'{\\n    \"toc_only_titles\": [],\\n    \"heading_only_titles\": []\\n}': 1.0},\n",
      "                                 'probability': 1.0,\n",
      "                                 'sample_count': 1,\n",
      "                                 'task_id': 1,\n",
      "                                 'value': '{\\n'\n",
      "                                          '    \"toc_only_titles\": [],\\n'\n",
      "                                          '    \"heading_only_titles\": []\\n'\n",
      "                                          '}'},\n",
      "                                {'distribution': {'{\\n    \"toc_only_titles\": [],\\n    \"heading_only_titles\": []\\n}': 1.0},\n",
      "                                 'probability': 1.0,\n",
      "                                 'sample_count': 1,\n",
      "                                 'task_id': 2,\n",
      "                                 'value': '{\\n'\n",
      "                                          '    \"toc_only_titles\": [],\\n'\n",
      "                                          '    \"heading_only_titles\": []\\n'\n",
      "                                          '}'}],\n",
      "                     'success': True,\n",
      "                     'task_id': None},\n",
      " 'document_analysis': {'instance': 65, 'model': 'DocumentAnalysis'},\n",
      " 'user_confirm': False}\n"
     ]
    }
   ],
   "source": [
    "saved_analysis = DocumentAnalysis.objects.get(title=\"测试分析A\")\n",
    "pprint(saved_analysis.outline_analysis_result)\n"
   ]
  },
  {
   "cell_type": "markdown",
   "metadata": {},
   "source": [
    "# <font color=\"red\">STEP 3: 测试outline_improvement.py</font>\n"
   ]
  },
  {
   "cell_type": "code",
   "execution_count": null,
   "metadata": {},
   "outputs": [],
   "source": [
    "# 初始化\n",
    "import django_setup"
   ]
  },
  {
   "cell_type": "code",
   "execution_count": 5,
   "metadata": {},
   "outputs": [],
   "source": [
    "# 导入相关模型\n",
    "from django.contrib.auth import get_user_model\n",
    "from apps.doc_analysis.models import DocumentAnalysis, InvalidStatusTransition\n",
    "from apps.projects.models import Project\n",
    "from apps.files.models import FileRecord\n",
    "from django.core.files.uploadedfile import SimpleUploadedFile\n",
    "from django.core.exceptions import ValidationError\n",
    "from apps.doc_analysis.steps._01_extract_docx_elements import DocxExtractorStep\n",
    "from apps.doc_analysis.pipeline.types import ModelData, DocxElements, OutlineAnalysisResult\n",
    "from apps.doc_analysis.steps._02_outline_analysis import DocxOutlineAnalyzerStep\n",
    "from apps.doc_analysis.steps._03_outline_improvement import OutlineImprovementStep\n",
    "from pprint import pprint "
   ]
  },
  {
   "cell_type": "code",
   "execution_count": 6,
   "metadata": {},
   "outputs": [],
   "source": [
    "# 直接引用\"测试分析A\", 并获取其docx_elements 和 outline_analysis_result\n",
    "\n",
    "saved_analysis = DocumentAnalysis.objects.get(title=\"测试分析A\")\n",
    "docx_elements = DocxElements.from_model(saved_analysis.extracted_elements)\n",
    "outline_analysis_result = OutlineAnalysisResult.from_model(saved_analysis.outline_analysis_result)"
   ]
  },
  {
   "cell_type": "code",
   "execution_count": null,
   "metadata": {},
   "outputs": [],
   "source": [
    "# 打印输出的结果\n",
    "print(type(outline_analysis_result.analysis_result))\n",
    "print(type(outline_analysis_result.analysis_result.result))\n",
    "print(type(outline_analysis_result.analysis_result.result[0]))\n",
    "pprint(outline_analysis_result)\n"
   ]
  },
  {
   "cell_type": "markdown",
   "metadata": {},
   "source": [
    "## 分步骤测试"
   ]
  },
  {
   "cell_type": "code",
   "execution_count": 6,
   "metadata": {},
   "outputs": [],
   "source": [
    "# 构建实例\n",
    "outline_improver = OutlineImprovementStep()"
   ]
  },
  {
   "cell_type": "code",
   "execution_count": null,
   "metadata": {},
   "outputs": [],
   "source": [
    "# titles 提取\n",
    "titles_to_improve = outline_improver.extract_titles_from_analysis(outline_analysis_result)\n",
    "pprint(titles_to_improve)\n"
   ]
  },
  {
   "cell_type": "code",
   "execution_count": 8,
   "metadata": {},
   "outputs": [],
   "source": [
    "# 改进元素\n",
    "improved_elements = outline_improver.improve_document_elements(docx_elements, titles_to_improve)"
   ]
  },
  {
   "cell_type": "code",
   "execution_count": null,
   "metadata": {},
   "outputs": [],
   "source": [
    "# 打印改进后的数据\n",
    "pprint(improved_elements)"
   ]
  },
  {
   "cell_type": "markdown",
   "metadata": {},
   "source": [
    "## 集成测试"
   ]
  },
  {
   "cell_type": "code",
   "execution_count": null,
   "metadata": {},
   "outputs": [],
   "source": [
    "# 模拟用户确认\n",
    "outline_analysis_result.user_confirm = True\n",
    "for element in outline_analysis_result.heading_only_elements:\n",
    "    element['user_confirm'] = True\n",
    "for element in outline_analysis_result.toc_only_elements:\n",
    "    element['user_confirm'] = True\n",
    "\n",
    "pprint(outline_analysis_result)\n"
   ]
  },
  {
   "cell_type": "code",
   "execution_count": 9,
   "metadata": {},
   "outputs": [],
   "source": [
    "# 完整测试 _02_outline_analysis.py\n",
    "outline_improver = OutlineImprovementStep()\n",
    "improved_docx_elements = outline_improver.process((docx_elements, outline_analysis_result))"
   ]
  },
  {
   "cell_type": "code",
   "execution_count": null,
   "metadata": {},
   "outputs": [],
   "source": [
    "# 打印原来的数据\n",
    "pprint(docx_elements)"
   ]
  },
  {
   "cell_type": "code",
   "execution_count": null,
   "metadata": {},
   "outputs": [],
   "source": [
    "# 打印改进后的数据\n",
    "pprint(improved_docx_elements)"
   ]
  },
  {
   "cell_type": "markdown",
   "metadata": {},
   "source": [
    "# <font color=red>STEP 4: 构建文档树DocxTree <font>\n"
   ]
  },
  {
   "cell_type": "code",
   "execution_count": 12,
   "metadata": {},
   "outputs": [],
   "source": [
    "# 初始化\n",
    "import django_setup"
   ]
  },
  {
   "cell_type": "code",
   "execution_count": 13,
   "metadata": {},
   "outputs": [],
   "source": [
    "# show_structure函数（）\n",
    "from pprint import pprint\n",
    "from typing import Any\n",
    "\n",
    "def show_structure(data: Any, name: str = \"data\", max_depth: int = None) -> None:\n",
    "    \"\"\"\n",
    "    显示数据的类型和结构的辅助函数\n",
    "    \n",
    "    参数:\n",
    "        data: 要检查的数据\n",
    "        name: 数据的名称/标签\n",
    "        max_depth: pprint的最大深度\n",
    "    \"\"\"\n",
    "    print(f\"\\n{'='*50}\")\n",
    "    print(f\"检查对象: {name}\")\n",
    "    print(f\"类型: {type(data)}\")\n",
    "    \n",
    "    if hasattr(data, '__len__'):\n",
    "        print(f\"长度: {len(data)}\")\n",
    "    \n",
    "    print(\"\\n结构:\")\n",
    "    pprint(data, depth=max_depth, width=100)\n",
    "    print(f\"{'='*50}\\n\")\n"
   ]
  },
  {
   "cell_type": "code",
   "execution_count": 14,
   "metadata": {},
   "outputs": [],
   "source": [
    "# 导入相关模型\n",
    "from apps.doc_analysis.models import DocumentAnalysis\n",
    "from apps.doc_analysis.pipeline.types import ModelData, ImprovedDocxElements, SimpleDocxNode, DocxTree\n",
    "from apps.doc_analysis.steps._04_build_docxtree import BuildDocxTree\n",
    "from pprint import pprint "
   ]
  },
  {
   "cell_type": "code",
   "execution_count": 15,
   "metadata": {},
   "outputs": [],
   "source": [
    "# 直接引用\"测试分析A\", 并获取 improved_docx_elements\n",
    "saved_analysis = DocumentAnalysis.objects.get(title=\"测试分析A\")\n",
    "improved_docx_elements = ImprovedDocxElements.from_model(saved_analysis.improved_docx_elements)\n",
    "#elements = improved_docx_elements.elements\n",
    "#show_structure(elements)\n"
   ]
  },
  {
   "cell_type": "markdown",
   "metadata": {},
   "source": [
    "## 构建文档树"
   ]
  },
  {
   "cell_type": "code",
   "execution_count": null,
   "metadata": {},
   "outputs": [],
   "source": [
    "# 构建文档树\n",
    "build_docx_tree = BuildDocxTree()\n",
    "docx_tree = build_docx_tree.process(improved_docx_elements)\n",
    "show_structure(docx_tree)\n"
   ]
  },
  {
   "cell_type": "code",
   "execution_count": null,
   "metadata": {},
   "outputs": [],
   "source": [
    "# 按顺序打印所有节点\n",
    "pprint(docx_tree._ordered_nodes)"
   ]
  },
  {
   "cell_type": "code",
   "execution_count": null,
   "metadata": {},
   "outputs": [],
   "source": [
    "# 按树结构打印所有节点\n",
    "docx_tree.print_tree()"
   ]
  },
  {
   "cell_type": "code",
   "execution_count": null,
   "metadata": {},
   "outputs": [],
   "source": [
    "# 检查文档树在models.py里的存储情况\n",
    "saved_analysis = DocumentAnalysis.objects.get(title=\"测试分析A\")\n",
    "print(type(saved_analysis.docxtree))\n",
    "pprint(saved_analysis.docxtree)\n"
   ]
  },
  {
   "cell_type": "markdown",
   "metadata": {},
   "source": [
    "## 测试从数据库提取文档树"
   ]
  },
  {
   "cell_type": "code",
   "execution_count": null,
   "metadata": {},
   "outputs": [],
   "source": [
    "# 还原：从models.py存储到doc_tree类型的还原\n",
    "docx_tree_from_model = DocxTree.from_model(saved_analysis.docxtree)\n",
    "print(type(docx_tree_from_model))\n",
    "pprint(docx_tree_from_model)"
   ]
  },
  {
   "cell_type": "code",
   "execution_count": null,
   "metadata": {},
   "outputs": [],
   "source": [
    "# 还原 ： 按顺序打印所有节点\n",
    "pprint(docx_tree_from_model._ordered_nodes)"
   ]
  },
  {
   "cell_type": "code",
   "execution_count": null,
   "metadata": {},
   "outputs": [],
   "source": [
    "# 还原： 按树结构打印所有节点\n",
    "docx_tree_from_model.print_tree()"
   ]
  },
  {
   "cell_type": "markdown",
   "metadata": {},
   "source": [
    "## 测试文档树方法：查找节点，打印树，标题格式化"
   ]
  },
  {
   "cell_type": "code",
   "execution_count": null,
   "metadata": {},
   "outputs": [],
   "source": [
    "# 查找某个节点 find_node()， 测试 .find_node() 方法，比如node_id = 78\n",
    "node = docx_tree.find_node(78)\n",
    "pprint(node)"
   ]
  },
  {
   "cell_type": "code",
   "execution_count": null,
   "metadata": {},
   "outputs": [],
   "source": [
    "# 打印某个节点以下的文档树结构\n",
    "docx_tree.print_tree(124)\n"
   ]
  },
  {
   "cell_type": "code",
   "execution_count": null,
   "metadata": {},
   "outputs": [],
   "source": [
    "# 格式化 标题结构 用于大模型分析\n",
    "titles_nodes = docx_tree.format_titles()\n",
    "pprint(titles_nodes)"
   ]
  },
  {
   "cell_type": "markdown",
   "metadata": {},
   "source": [
    "## 测试添加节点"
   ]
  },
  {
   "cell_type": "code",
   "execution_count": null,
   "metadata": {},
   "outputs": [],
   "source": [
    "# 添加 节点\n",
    "docx_tree.add_title_node(\n",
    "    content = '>>>> 插入新节点',\n",
    "    level = 2,\n",
    "    after_node_id = 150 \n",
    ")"
   ]
  },
  {
   "cell_type": "code",
   "execution_count": null,
   "metadata": {},
   "outputs": [],
   "source": [
    "# 打印结果 - 看顺序列表里是否有插入？\n",
    "pprint(docx_tree._ordered_nodes[140:160])"
   ]
  },
  {
   "cell_type": "code",
   "execution_count": null,
   "metadata": {},
   "outputs": [],
   "source": [
    "# 打印文档树\n",
    "docx_tree.print_tree(124)"
   ]
  },
  {
   "cell_type": "markdown",
   "metadata": {},
   "source": [
    "## 测试调整节点类型"
   ]
  },
  {
   "cell_type": "code",
   "execution_count": 19,
   "metadata": {},
   "outputs": [],
   "source": [
    "# 节点改变层级\n",
    "docx_tree.convert_to_title_node(156,2)"
   ]
  },
  {
   "cell_type": "code",
   "execution_count": null,
   "metadata": {},
   "outputs": [],
   "source": [
    "# 打印结果 - 看顺序列表里是否有插入？\n",
    "pprint(docx_tree._ordered_nodes[140:160])"
   ]
  },
  {
   "cell_type": "code",
   "execution_count": null,
   "metadata": {},
   "outputs": [],
   "source": [
    "# 打印文档树\n",
    "docx_tree.print_tree(124)"
   ]
  },
  {
   "cell_type": "markdown",
   "metadata": {},
   "source": [
    "# <font color=red>  STEP 5: 测试文档树的使用</font>"
   ]
  },
  {
   "cell_type": "code",
   "execution_count": null,
   "metadata": {},
   "outputs": [],
   "source": [
    "# 初始化\n",
    "import django_setup"
   ]
  },
  {
   "cell_type": "code",
   "execution_count": 2,
   "metadata": {},
   "outputs": [],
   "source": [
    "# 导入相关模型\n",
    "from apps.doc_analysis.models import DocumentAnalysis\n",
    "from apps.doc_analysis.pipeline.types import ModelData,DocxTree\n",
    "from apps.doc_analysis.steps._04_build_docxtree import BuildDocxTree\n",
    "from pprint import pprint "
   ]
  },
  {
   "cell_type": "code",
   "execution_count": null,
   "metadata": {},
   "outputs": [],
   "source": [
    "# 直接引用\"测试分析A\", 并获取 doc_tree\n",
    "saved_analysis = DocumentAnalysis.objects.get(title=\"测试分析A\")\n",
    "doc_tree = DocxTree.from_model(saved_analysis.docxtree)\n",
    "print(type(doc_tree))\n",
    "pprint(doc_tree)"
   ]
  },
  {
   "cell_type": "code",
   "execution_count": null,
   "metadata": {},
   "outputs": [],
   "source": [
    "llm_input = doc_tree.format_for_llm()\n",
    "print(type(llm_input))\n",
    "print(llm_input)\n"
   ]
  },
  {
   "cell_type": "code",
   "execution_count": null,
   "metadata": {},
   "outputs": [],
   "source": [
    "titles = doc_tree.format_titles()\n",
    "print(type(titles))\n",
    "print(titles)\n"
   ]
  },
  {
   "cell_type": "code",
   "execution_count": null,
   "metadata": {},
   "outputs": [],
   "source": [
    "titles_json = doc_tree.titles_to_json()\n",
    "print(type(titles_json))\n",
    "pprint(titles_json)\n"
   ]
  }
 ],
 "metadata": {
  "kernelspec": {
   "display_name": "BidPilot_new_env",
   "language": "python",
   "name": "python3"
  },
  "language_info": {
   "codemirror_mode": {
    "name": "ipython",
    "version": 3
   },
   "file_extension": ".py",
   "mimetype": "text/x-python",
   "name": "python",
   "nbconvert_exporter": "python",
   "pygments_lexer": "ipython3",
   "version": "3.12.1"
  }
 },
 "nbformat": 4,
 "nbformat_minor": 2
}
