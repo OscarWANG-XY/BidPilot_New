{
 "cells": [
  {
   "cell_type": "code",
   "execution_count": null,
   "metadata": {},
   "outputs": [],
   "source": [
    "import django_setup"
   ]
  },
  {
   "cell_type": "code",
   "execution_count": 22,
   "metadata": {},
   "outputs": [],
   "source": [
    "# 导入相关模型：get_user_model, Project, FileRecord, DocumentAnalysis, FileProjectLink, ProjectHistory\n",
    "from django.contrib.auth import get_user_model\n",
    "from apps.doc_analysis.models import DocumentAnalysis, InvalidStatusTransition\n",
    "from apps.projects.models import Project\n",
    "from apps.files.models import FileRecord\n",
    "from django.core.files.uploadedfile import SimpleUploadedFile\n",
    "from django.core.exceptions import ValidationError\n",
    "from apps.doc_analysis.steps.docx_extractor import DocxExtractorStep\n",
    "from apps.doc_analysis.pipeline.types import ModelData,DocxElements"
   ]
  },
  {
   "cell_type": "code",
   "execution_count": null,
   "metadata": {},
   "outputs": [],
   "source": [
    "# 准备测试所需的 user, project, file_record  (其中project与file_record关联)\n",
    "User = get_user_model()\n",
    "\n",
    "# 获取已存在的测试数据\n",
    "\n",
    "# 获取已存在的用户\n",
    "user = User.objects.get(phone='18501771516')\n",
    "print(f\"用户: {user.phone}\")\n",
    "        \n",
    "# 获取已存在的项目\n",
    "project = Project.objects.get(project_name='测试项目1')\n",
    "print(f\"项目: {project.project_name}\")\n",
    "        \n",
    "# 获取已存在的文件\n",
    "file_record = FileRecord.objects.get(id='3')\n",
    "print(f\"文件: {file_record.name}\")"
   ]
  },
  {
   "cell_type": "code",
   "execution_count": null,
   "metadata": {},
   "outputs": [],
   "source": [
    "#清除‘测试分析2”\n",
    "DocumentAnalysis.objects.filter(title=\"测试分析A\").delete()"
   ]
  },
  {
   "cell_type": "code",
   "execution_count": null,
   "metadata": {},
   "outputs": [],
   "source": [
    "# 1. 创建新的文档分析实例 - 测试分析2\n",
    "docx_analysis = DocumentAnalysis.objects.create(\n",
    "    project=project,\n",
    "    title=\"测试分析A\",\n",
    "    created_by=user,\n",
    "    analysis_questions=[\"投标要求\", \"评分标准\"]  # 示例分析问题\n",
    ")\n",
    "print(f\"创建文档分析: {docx_analysis.title} (ID: {docx_analysis.id})\")"
   ]
  },
  {
   "cell_type": "code",
   "execution_count": null,
   "metadata": {},
   "outputs": [],
   "source": [
    "# 2.上传真实的 DOCX文件\n",
    "\n",
    "# 2.1 准备文件路径\n",
    "doc_path = \"C:/Users/huiwa/Downloads/文本分析测试/CaseTest/case8：招标文件-第1包：一级压榨花生油.docx\"\n",
    "\n",
    "# 2.2 读取文件内容\n",
    "with open(doc_path, 'rb') as f:\n",
    "    file_content = f.read()\n",
    "test_file = SimpleUploadedFile(\n",
    "    \"test_doc.docx\",\n",
    "    file_content,\n",
    "    content_type=\"application/vnd.openxmlformats-officedocument.wordprocessingml.document\"\n",
    ")\n",
    "print(f\"文件大小: {test_file.size}\")\n",
    "\n",
    "# 2. 创建新的文件记录 并 存储文件对象\n",
    "new_file_record = FileRecord.objects.create(\n",
    "    name=\"test_doc.docx\",\n",
    "    file=test_file,  # 使用之前准备的测试文件\n",
    "    owner=user,\n",
    "    size = test_file.size\n",
    ")\n",
    "print(f\"创建文件记录: {new_file_record.name}\")"
   ]
  },
  {
   "cell_type": "code",
   "execution_count": 15,
   "metadata": {},
   "outputs": [],
   "source": [
    "# 3. 关联新文件\n",
    "try:\n",
    "    docx_analysis.update_file_record(new_file_record)\n",
    "except Exception as e:\n",
    "    print(f\"关联文件失败: {str(e)}\")"
   ]
  },
  {
   "cell_type": "code",
   "execution_count": null,
   "metadata": {},
   "outputs": [],
   "source": [
    "# 4. 触发开始分析，并提取文档元素 elements 存入数据库\n",
    "print(\"\\n===== 最终状态检查 =====\")\n",
    "print(f\"开始分析前-状态: {docx_analysis.status}\")\n",
    "#docx_analysis.start_analysis()\n",
    "print(f\"开始分析后-状态: {docx_analysis.status}\")\n",
    "\n",
    "# 初始化DocxExtractorStep\n",
    "docx_extractor=DocxExtractorStep()\n",
    "\n",
    "try:\n",
    "    # 准备输入数据, 好比 DocumentAnalysis.instance.data\n",
    "    input_data = ModelData(model= DocumentAnalysis, instance=docx_analysis)\n",
    "    \n",
    "    # 执行文档提取\n",
    "    extracted_elements = docx_extractor.process(input_data)\n",
    "    \n",
    "    # 打印提取结果\n",
    "    print(\"文档提取成功！提取到的元素数量:\", len(extracted_elements))\n",
    "    print(\"第一个元素示例:\", extracted_elements[0])\n",
    "    \n",
    "    # 检查保存到数据库的结果\n",
    "    saved_analysis = DocumentAnalysis.objects.get(id=docx_analysis.id)\n",
    "    print(\"保存的提取结果:\", saved_analysis.extracted_elements)\n",
    "    \n",
    "except ValidationError as e:\n",
    "    print(\"文档提取失败:\", str(e))\n",
    "    # 检查分析状态\n",
    "    failed_analysis = DocumentAnalysis.objects.get(id=docx_analysis.id)\n",
    "    print(\"分析状态:\", failed_analysis.status)\n",
    "    print(\"错误信息:\", failed_analysis.error_message)\n",
    "\n",
    "\n",
    "\n"
   ]
  },
  {
   "cell_type": "code",
   "execution_count": null,
   "metadata": {},
   "outputs": [],
   "source": [
    "from pprint import pprint \n",
    "pprint(saved_analysis.extracted_elements)"
   ]
  },
  {
   "cell_type": "code",
   "execution_count": null,
   "metadata": {},
   "outputs": [],
   "source": [
    "headings = DocxElements(saved_analysis.extracted_elements).get_headings()\n",
    "pprint(headings)"
   ]
  },
  {
   "cell_type": "code",
   "execution_count": 24,
   "metadata": {},
   "outputs": [],
   "source": []
  },
  {
   "cell_type": "code",
   "execution_count": null,
   "metadata": {},
   "outputs": [],
   "source": []
  }
 ],
 "metadata": {
  "kernelspec": {
   "display_name": "BidPilot_new_env",
   "language": "python",
   "name": "python3"
  },
  "language_info": {
   "codemirror_mode": {
    "name": "ipython",
    "version": 3
   },
   "file_extension": ".py",
   "mimetype": "text/x-python",
   "name": "python",
   "nbconvert_exporter": "python",
   "pygments_lexer": "ipython3",
   "version": "3.12.1"
  }
 },
 "nbformat": 4,
 "nbformat_minor": 2
}
