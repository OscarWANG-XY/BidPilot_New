{
 "cells": [
  {
   "cell_type": "markdown",
   "metadata": {},
   "source": [
    "# <font color=\"red\"> 1. 测试 GenericLLMService</font>"
   ]
  },
  {
   "cell_type": "code",
   "execution_count": 22,
   "metadata": {},
   "outputs": [],
   "source": [
    "# 初始化\n",
    "import django_setup"
   ]
  },
  {
   "cell_type": "code",
   "execution_count": 23,
   "metadata": {},
   "outputs": [],
   "source": [
    "# 导入相关模型\n",
    "from apps.doc_analysis.LLM_services._generic_llm_services import GenericLLMService\n",
    "from apps.doc_analysis.LLM_services._llm_data_types import LLMConfig, LLMRequest\n",
    "import os, nest_asyncio\n",
    "nest_asyncio.apply()"
   ]
  },
  {
   "cell_type": "code",
   "execution_count": 24,
   "metadata": {},
   "outputs": [],
   "source": [
    "# 配置 config\n",
    "config = LLMConfig(\n",
    "    llm_model_name = \"qwen-plus\",\n",
    "    temperature = 0.7,\n",
    "    top_p =  0.8,\n",
    "    streaming = True,\n",
    "    api_key = os.getenv(\"ALIBABA_API_KEY\"),\n",
    "    base_url = \"https://dashscope.aliyuncs.com/compatible-mode/v1\",\n",
    "    max_workers = 4,\n",
    "    timeout = 30,\n",
    "    retry_times = 3\n",
    ")"
   ]
  },
  {
   "cell_type": "code",
   "execution_count": 25,
   "metadata": {},
   "outputs": [],
   "source": [
    "# 2. 创建服务实例\n",
    "service = GenericLLMService(config)"
   ]
  },
  {
   "cell_type": "code",
   "execution_count": 26,
   "metadata": {},
   "outputs": [],
   "source": [
    "# 3. 设置prompt模板\n",
    "prompt_template = \"\"\"\n",
    "请根据以下内容回答问题：\n",
    "{context}\n",
    "\n",
    "问题：{requirement}\n",
    "\n",
    "输出格式：{output_format}\n",
    "\"\"\"\n",
    "\n",
    "service.prompt_template = prompt_template"
   ]
  },
  {
   "cell_type": "code",
   "execution_count": 27,
   "metadata": {},
   "outputs": [],
   "source": [
    "# 4. 准备测试数据\n",
    "context = \"\"\"\n",
    "人工智能（AI）是计算机科学的一个分支，它企图了解智能的实质，并生产出一种新的能以人类智能相似的方式做出反应的智能机器。\n",
    "\"\"\"\n",
    "requirement = \"请简要解释什么是人工智能\"\n",
    "\n",
    "output_format = \"请用中文回答问题\""
   ]
  },
  {
   "cell_type": "code",
   "execution_count": null,
   "metadata": {},
   "outputs": [],
   "source": [
    "# 5. 创建请求对象\n",
    "request = LLMRequest(context=context, requirement=requirement, output_format=output_format)"
   ]
  },
  {
   "cell_type": "code",
   "execution_count": 34,
   "metadata": {},
   "outputs": [],
   "source": [
    "# 6. 异步调用服务\n",
    "async def test_service():\n",
    "    try:\n",
    "        result = await service.process(request)\n",
    "        print(\"处理结果：\", result)\n",
    "    except Exception as e:\n",
    "        print(\"发生错误：\", str(e))"
   ]
  },
  {
   "cell_type": "code",
   "execution_count": null,
   "metadata": {},
   "outputs": [],
   "source": [
    "# 7. 运行测试\n",
    "await test_service()"
   ]
  },
  {
   "cell_type": "code",
   "execution_count": null,
   "metadata": {},
   "outputs": [],
   "source": [
    "\n"
   ]
  },
  {
   "cell_type": "markdown",
   "metadata": {},
   "source": [
    "# <font color=\"red\"> 2. 测试 Generic/BatchLLMService, _template</font>"
   ]
  },
  {
   "cell_type": "code",
   "execution_count": 1,
   "metadata": {},
   "outputs": [
    {
     "name": "stdout",
     "output_type": "stream",
     "text": [
      "Development settings loaded\n",
      "INSTALLED_APPS: ['django.contrib.admin', 'django.contrib.auth', 'django.contrib.contenttypes', 'django.contrib.sessions', 'django.contrib.messages', 'django.contrib.staticfiles', 'rest_framework', 'corsheaders', 'storages', 'apps.authentication', 'apps.files', 'apps.projects', 'apps.doc_analysis', 'apps.chat', 'django_filters', 'drf_spectacular', 'rest_framework_simplejwt.token_blacklist', 'django_celery_results', 'django_celery_beat']\n"
     ]
    },
    {
     "name": "stderr",
     "output_type": "stream",
     "text": [
      "INFO 2025-03-05 17:01:21,714 storage default_storage 的类型: COSStorage\n"
     ]
    },
    {
     "name": "stdout",
     "output_type": "stream",
     "text": [
      "Settings从哪里加载？: config.settings.development\n",
      "项目根目录对么？: C:\\Users\\huiwa\\Documents\\_All_Projects\\BidPilot_new\\backend\n",
      "文件存储settings对么？: apps.files.storage.COSStorage\n",
      "文件default_storage对么？: COSStorage\n",
      "\n",
      "已经安装的应用 Installed Apps 完整了么？:\n",
      "- django.contrib.admin\n",
      "- django.contrib.auth\n",
      "- django.contrib.contenttypes\n",
      "- django.contrib.sessions\n",
      "- django.contrib.messages\n",
      "- django.contrib.staticfiles\n",
      "- rest_framework\n",
      "- corsheaders\n",
      "- storages\n",
      "- apps.authentication\n",
      "- apps.files\n",
      "- apps.projects\n",
      "- apps.doc_analysis\n",
      "- apps.chat\n",
      "- django_filters\n",
      "- drf_spectacular\n",
      "- rest_framework_simplejwt.token_blacklist\n",
      "- django_celery_results\n",
      "- django_celery_beat\n"
     ]
    }
   ],
   "source": [
    "# 初始化\n",
    "import django_setup"
   ]
  },
  {
   "cell_type": "code",
   "execution_count": 2,
   "metadata": {},
   "outputs": [],
   "source": [
    "from django.contrib.auth import get_user_model\n",
    "from apps.projects.models import Project\n",
    "from apps.doc_analysis.models import DocumentAnalysis\n",
    "from apps.files.models import FileRecord"
   ]
  },
  {
   "cell_type": "code",
   "execution_count": 3,
   "metadata": {},
   "outputs": [
    {
     "name": "stdout",
     "output_type": "stream",
     "text": [
      "用户: 18501771516\n",
      "项目: 测试项目1\n"
     ]
    },
    {
     "ename": "DoesNotExist",
     "evalue": "FileRecord matching query does not exist.",
     "output_type": "error",
     "traceback": [
      "\u001b[1;31m---------------------------------------------------------------------------\u001b[0m",
      "\u001b[1;31mDoesNotExist\u001b[0m                              Traceback (most recent call last)",
      "Cell \u001b[1;32mIn[3], line 15\u001b[0m\n\u001b[0;32m     12\u001b[0m \u001b[38;5;28mprint\u001b[39m(\u001b[38;5;124mf\u001b[39m\u001b[38;5;124m\"\u001b[39m\u001b[38;5;124m项目: \u001b[39m\u001b[38;5;132;01m{\u001b[39;00mproject\u001b[38;5;241m.\u001b[39mproject_name\u001b[38;5;132;01m}\u001b[39;00m\u001b[38;5;124m\"\u001b[39m)\n\u001b[0;32m     14\u001b[0m \u001b[38;5;66;03m# 获取已存在的文件\u001b[39;00m\n\u001b[1;32m---> 15\u001b[0m file_record \u001b[38;5;241m=\u001b[39m \u001b[43mFileRecord\u001b[49m\u001b[38;5;241;43m.\u001b[39;49m\u001b[43mobjects\u001b[49m\u001b[38;5;241;43m.\u001b[39;49m\u001b[43mget\u001b[49m\u001b[43m(\u001b[49m\u001b[38;5;28;43mid\u001b[39;49m\u001b[38;5;241;43m=\u001b[39;49m\u001b[38;5;124;43m'\u001b[39;49m\u001b[38;5;124;43mcf182d9b-b3ff-4422-92f1-47eb3ff0f5ce\u001b[39;49m\u001b[38;5;124;43m'\u001b[39;49m\u001b[43m)\u001b[49m\n\u001b[0;32m     16\u001b[0m \u001b[38;5;28mprint\u001b[39m(\u001b[38;5;124mf\u001b[39m\u001b[38;5;124m\"\u001b[39m\u001b[38;5;124m文件: \u001b[39m\u001b[38;5;132;01m{\u001b[39;00mfile_record\u001b[38;5;241m.\u001b[39mname\u001b[38;5;132;01m}\u001b[39;00m\u001b[38;5;124m\"\u001b[39m)\n\u001b[0;32m     18\u001b[0m DocumentAnalysis\u001b[38;5;241m.\u001b[39mobjects\u001b[38;5;241m.\u001b[39mget(\n\u001b[0;32m     19\u001b[0m     project\u001b[38;5;241m=\u001b[39mproject,\n\u001b[0;32m     20\u001b[0m     title\u001b[38;5;241m=\u001b[39m\u001b[38;5;124m\"\u001b[39m\u001b[38;5;124m测试分析A\u001b[39m\u001b[38;5;124m\"\u001b[39m,\n\u001b[0;32m     21\u001b[0m     created_by\u001b[38;5;241m=\u001b[39muser,\n\u001b[0;32m     22\u001b[0m     file_record\u001b[38;5;241m=\u001b[39mfile_record\n\u001b[0;32m     23\u001b[0m )\n",
      "File \u001b[1;32mc:\\Users\\huiwa\\.conda\\envs\\BidPilot_new_env\\Lib\\site-packages\\django\\db\\models\\manager.py:87\u001b[0m, in \u001b[0;36mBaseManager._get_queryset_methods.<locals>.create_method.<locals>.manager_method\u001b[1;34m(self, *args, **kwargs)\u001b[0m\n\u001b[0;32m     85\u001b[0m \u001b[38;5;129m@wraps\u001b[39m(method)\n\u001b[0;32m     86\u001b[0m \u001b[38;5;28;01mdef\u001b[39;00m \u001b[38;5;21mmanager_method\u001b[39m(\u001b[38;5;28mself\u001b[39m, \u001b[38;5;241m*\u001b[39margs, \u001b[38;5;241m*\u001b[39m\u001b[38;5;241m*\u001b[39mkwargs):\n\u001b[1;32m---> 87\u001b[0m     \u001b[38;5;28;01mreturn\u001b[39;00m \u001b[38;5;28;43mgetattr\u001b[39;49m\u001b[43m(\u001b[49m\u001b[38;5;28;43mself\u001b[39;49m\u001b[38;5;241;43m.\u001b[39;49m\u001b[43mget_queryset\u001b[49m\u001b[43m(\u001b[49m\u001b[43m)\u001b[49m\u001b[43m,\u001b[49m\u001b[43m \u001b[49m\u001b[43mname\u001b[49m\u001b[43m)\u001b[49m\u001b[43m(\u001b[49m\u001b[38;5;241;43m*\u001b[39;49m\u001b[43margs\u001b[49m\u001b[43m,\u001b[49m\u001b[43m \u001b[49m\u001b[38;5;241;43m*\u001b[39;49m\u001b[38;5;241;43m*\u001b[39;49m\u001b[43mkwargs\u001b[49m\u001b[43m)\u001b[49m\n",
      "File \u001b[1;32mc:\\Users\\huiwa\\.conda\\envs\\BidPilot_new_env\\Lib\\site-packages\\django\\db\\models\\query.py:649\u001b[0m, in \u001b[0;36mQuerySet.get\u001b[1;34m(self, *args, **kwargs)\u001b[0m\n\u001b[0;32m    647\u001b[0m     \u001b[38;5;28;01mreturn\u001b[39;00m clone\u001b[38;5;241m.\u001b[39m_result_cache[\u001b[38;5;241m0\u001b[39m]\n\u001b[0;32m    648\u001b[0m \u001b[38;5;28;01mif\u001b[39;00m \u001b[38;5;129;01mnot\u001b[39;00m num:\n\u001b[1;32m--> 649\u001b[0m     \u001b[38;5;28;01mraise\u001b[39;00m \u001b[38;5;28mself\u001b[39m\u001b[38;5;241m.\u001b[39mmodel\u001b[38;5;241m.\u001b[39mDoesNotExist(\n\u001b[0;32m    650\u001b[0m         \u001b[38;5;124m\"\u001b[39m\u001b[38;5;132;01m%s\u001b[39;00m\u001b[38;5;124m matching query does not exist.\u001b[39m\u001b[38;5;124m\"\u001b[39m \u001b[38;5;241m%\u001b[39m \u001b[38;5;28mself\u001b[39m\u001b[38;5;241m.\u001b[39mmodel\u001b[38;5;241m.\u001b[39m_meta\u001b[38;5;241m.\u001b[39mobject_name\n\u001b[0;32m    651\u001b[0m     )\n\u001b[0;32m    652\u001b[0m \u001b[38;5;28;01mraise\u001b[39;00m \u001b[38;5;28mself\u001b[39m\u001b[38;5;241m.\u001b[39mmodel\u001b[38;5;241m.\u001b[39mMultipleObjectsReturned(\n\u001b[0;32m    653\u001b[0m     \u001b[38;5;124m\"\u001b[39m\u001b[38;5;124mget() returned more than one \u001b[39m\u001b[38;5;132;01m%s\u001b[39;00m\u001b[38;5;124m -- it returned \u001b[39m\u001b[38;5;132;01m%s\u001b[39;00m\u001b[38;5;124m!\u001b[39m\u001b[38;5;124m\"\u001b[39m\n\u001b[0;32m    654\u001b[0m     \u001b[38;5;241m%\u001b[39m (\n\u001b[1;32m   (...)\u001b[0m\n\u001b[0;32m    657\u001b[0m     )\n\u001b[0;32m    658\u001b[0m )\n",
      "\u001b[1;31mDoesNotExist\u001b[0m: FileRecord matching query does not exist."
     ]
    }
   ],
   "source": [
    "# 准备测试所需的 user, project, file_record  (其中project与file_record关联)\n",
    "User = get_user_model()\n",
    "\n",
    "# 获取已存在的测试数据\n",
    "\n",
    "# 获取已存在的用户\n",
    "user = User.objects.get(phone='18501771516')\n",
    "print(f\"用户: {user.phone}\")\n",
    "        \n",
    "# 获取已存在的项目\n",
    "project = Project.objects.get(project_name='测试项目1')\n",
    "print(f\"项目: {project.project_name}\")\n",
    "        \n",
    "# 获取已存在的文件\n",
    "file_record = FileRecord.objects.get(id='cf182d9b-b3ff-4422-92f1-47eb3ff0f5ce')\n",
    "print(f\"文件: {file_record.name}\")\n",
    "\n",
    "DocumentAnalysis.objects.get(\n",
    "    project=project,\n",
    "    title=\"测试分析A\",\n",
    "    created_by=user,\n",
    "    file_record=file_record\n",
    ")\n"
   ]
  },
  {
   "cell_type": "code",
   "execution_count": null,
   "metadata": {},
   "outputs": [],
   "source": [
    "# 获得docx_elements 用于 outline 分析测试\n",
    "# 导入相关模型：get_user_model, Project, FileRecord, DocumentAnalysis, FileProjectLink, ProjectHistory\n",
    "from apps.doc_analysis.models import DocumentAnalysis\n",
    "from apps.doc_analysis.pipeline.types import DocxElements, OutlineAnalysisResult\n",
    "from pprint import pprint \n",
    "import os, json\n",
    "\n",
    "# 直接引用\"测试分析A\", 并获取其extracted_elements\n",
    "saved_analysis = DocumentAnalysis.objects.get(title=\"测试分析A\")\n",
    "extracted_elements = saved_analysis.extracted_elements\n",
    "\n",
    "# 创建 DocxElements 实例 from models.py 的 extracted_elements\n",
    "docx_elements = DocxElements.from_model(extracted_elements)"
   ]
  },
  {
   "cell_type": "markdown",
   "metadata": {},
   "source": [
    "## GenericLLMService，_temaplate "
   ]
  },
  {
   "cell_type": "code",
   "execution_count": 8,
   "metadata": {},
   "outputs": [],
   "source": [
    "# call llm service\n",
    "from apps.doc_analysis.LLM_services._Template import TemplateLLMAnalyzer"
   ]
  },
  {
   "cell_type": "code",
   "execution_count": 5,
   "metadata": {},
   "outputs": [],
   "source": [
    "# 数据准备\n",
    "formatted_toc = docx_elements.format_toc_chapters()\n",
    "formatted_headings = docx_elements.format_heading_chapters()"
   ]
  },
  {
   "cell_type": "code",
   "execution_count": null,
   "metadata": {},
   "outputs": [],
   "source": [
    "# =========== build context, requirement, output_format ===========\n",
    "print(\"========= build context ==========\")\n",
    "def _build_context(formatted_toc: str, formatted_headings: str) -> str:\n",
    "    return f\"\"\"\n",
    "1. 目录标题列表：从文档目录中提取的标题\n",
    "2. 正文标题列表：从文档正文中提取的标题\n",
    "\n",
    "数据格式：\n",
    "\"[文档位置], 标题层级, 标题内容\"\n",
    "\n",
    "数据内容：\n",
    "1. <目录标题列表>：\n",
    "{formatted_toc}\n",
    "\n",
    "2. <正文标题列表>：\n",
    "{formatted_headings}\n",
    "\"\"\"\n",
    "\n",
    "context = _build_context(formatted_toc, formatted_headings)\n",
    "print(context)\n",
    "\n",
    "# ====================================================================\n",
    "print(\"========= build requirement ==========\")\n",
    "# build requirement， 参数 requirement\n",
    "def _build_requirement() -> str:\n",
    "    \"\"\"\n",
    "    构建大模型分析任务要求\n",
    "    \"\"\"\n",
    "    return \"\"\"\n",
    "请对比<目录标题列表>和<正文标题列表>的标题内容\n",
    "找出以下三类不同标题项：\n",
    "1. 目录列表里有，但正文里没有的标题项\n",
    "2. 目录列表里没有，但正文里有的标题项\n",
    "\n",
    "请注意：只比对标题内容，不比对[文档位置] 和 标题层级\n",
    "\"\"\"\n",
    "\n",
    "requirement = _build_requirement()\n",
    "print(requirement)\n",
    "\n",
    "# ====================================================================\n",
    "print(\"========= build output_format ==========\")\n",
    "# build output_format, 参数 output_format\n",
    "def _build_output_format() -> str:\n",
    "    \"\"\"\n",
    "    构建大模型分析的输出要求\n",
    "    \"\"\"\n",
    "    return OutlineAnalysisResult.get_prompt_specification()\n",
    "\n",
    "output_format = _build_output_format()\n",
    "print(output_format)\n"
   ]
  },
  {
   "cell_type": "code",
   "execution_count": null,
   "metadata": {},
   "outputs": [],
   "source": [
    "# 测试单独的分析 .analyze()\n",
    "result = await TemplateLLMAnalyzer.analyze(context, requirement, output_format)"
   ]
  },
  {
   "cell_type": "markdown",
   "metadata": {},
   "source": [
    "## BatchLLMService, _template"
   ]
  },
  {
   "cell_type": "code",
   "execution_count": 10,
   "metadata": {},
   "outputs": [],
   "source": [
    "#数据准备\n",
    "# 提取<目录标题列表>和<正文标题列表>, formatted的格式，而不是Json格式\n",
    "# 1. 目录标题列表\n",
    "toc_chapters = docx_elements.format_toc_chapters()\n",
    "toc_sections = docx_elements.format_toc_sections()\n",
    "toc_subsections = docx_elements.format_toc_subsections()\n",
    "\n",
    "# 2. 正文标题列表\n",
    "heading_chapters = docx_elements.format_heading_chapters()\n",
    "heading_sections = docx_elements.format_heading_sections()\n",
    "heading_subsections = docx_elements.format_heading_subsections()"
   ]
  },
  {
   "cell_type": "code",
   "execution_count": 11,
   "metadata": {},
   "outputs": [],
   "source": [
    "# build contexts, requirements, output_formats\n",
    "# contexts\n",
    "chapter_context = TemplateLLMAnalyzer.build_context(toc_chapters, heading_chapters)\n",
    "section_context = TemplateLLMAnalyzer.build_context(toc_sections, heading_sections)\n",
    "subsection_context = TemplateLLMAnalyzer.build_context(toc_subsections, heading_subsections)\n",
    "\n",
    "requirement = TemplateLLMAnalyzer.build_requirement()\n",
    "output_format = TemplateLLMAnalyzer.build_output_format()\n",
    "\n",
    "contexts = [chapter_context, chapter_context, chapter_context]\n",
    "requirements = [requirement, requirement, requirement]\n",
    "output_formats = [output_format, output_format, output_format]\n"
   ]
  },
  {
   "cell_type": "code",
   "execution_count": null,
   "metadata": {},
   "outputs": [],
   "source": [
    "# 测试批量分析 .batch_analyze()\n",
    "results = await TemplateLLMAnalyzer.batch_analyze(contexts, requirements, output_formats)"
   ]
  },
  {
   "cell_type": "code",
   "execution_count": null,
   "metadata": {},
   "outputs": [],
   "source": [
    "# 打印结果\n",
    "print(f\"结果类型：{type(results)}, 长度：{len(results)}个 {type(results[0])}\")\n",
    "pprint(results)"
   ]
  },
  {
   "cell_type": "markdown",
   "metadata": {},
   "source": [
    "### 模拟输入 requests"
   ]
  },
  {
   "cell_type": "code",
   "execution_count": 27,
   "metadata": {},
   "outputs": [],
   "source": [
    "from apps.doc_analysis.LLM_services._llm_data_types import BatchResult, LLMRequest"
   ]
  },
  {
   "cell_type": "code",
   "execution_count": null,
   "metadata": {},
   "outputs": [],
   "source": [
    "# 模拟 和 打印 requests \n",
    "requests = LLMRequest.create_batch(contexts,requirements,output_formats)\n",
    "print(f\"结果类型：{type(requests)}, 长度：{len(requests)}个 {type(requests[0])}\")\n",
    "pprint(requests)"
   ]
  },
  {
   "cell_type": "markdown",
   "metadata": {},
   "source": [
    "### 结果合并 BatchResult.merge() "
   ]
  },
  {
   "cell_type": "code",
   "execution_count": null,
   "metadata": {},
   "outputs": [],
   "source": [
    "# 打印 BatchResults\n",
    "print(f\"结果类型：{type(results)}, 长度：{len(results)}个 {type(results[0])}\")\n",
    "pprint(results)"
   ]
  },
  {
   "cell_type": "code",
   "execution_count": null,
   "metadata": {},
   "outputs": [],
   "source": [
    "# 打印合并的结果\n",
    "merged_result = BatchResult.merge(results)\n",
    "print(f\"结果类型：{type(merged_result)}\")\n",
    "pprint(merged_result)"
   ]
  },
  {
   "cell_type": "markdown",
   "metadata": {},
   "source": [
    "### 多路投票"
   ]
  },
  {
   "cell_type": "code",
   "execution_count": 38,
   "metadata": {},
   "outputs": [],
   "source": [
    "voted_result = BatchResult.merge_with_probability(results)"
   ]
  },
  {
   "cell_type": "code",
   "execution_count": null,
   "metadata": {},
   "outputs": [],
   "source": [
    "# 打印投票结果\n",
    "print(f\"结果类型：{type(voted_result)}\")\n",
    "pprint(voted_result)"
   ]
  },
  {
   "cell_type": "markdown",
   "metadata": {},
   "source": [
    "# <font color=\"red\"> 3. 测试 outline_llm_analyzer.py </font>\n"
   ]
  },
  {
   "cell_type": "code",
   "execution_count": null,
   "metadata": {},
   "outputs": [],
   "source": [
    "# 初始化\n",
    "import django_setup"
   ]
  },
  {
   "cell_type": "code",
   "execution_count": 9,
   "metadata": {},
   "outputs": [],
   "source": [
    "# 导入相关模型：get_user_model, Project, FileRecord, DocumentAnalysis, FileProjectLink, ProjectHistory\n",
    "from django.contrib.auth import get_user_model\n",
    "from apps.doc_analysis.models import DocumentAnalysis, InvalidStatusTransition\n",
    "from apps.projects.models import Project\n",
    "from apps.files.models import FileRecord\n",
    "from django.core.files.uploadedfile import SimpleUploadedFile"
   ]
  },
  {
   "cell_type": "code",
   "execution_count": null,
   "metadata": {},
   "outputs": [],
   "source": [
    "# 准备测试所需的 user, project, file_record  (其中project与file_record关联)\n",
    "User = get_user_model()\n",
    "\n",
    "# 获取已存在的测试数据\n",
    "\n",
    "# 获取已存在的用户\n",
    "user = User.objects.get(phone='18501771516')\n",
    "print(f\"用户: {user.phone}\")\n",
    "        \n",
    "# 获取已存在的项目\n",
    "project = Project.objects.get(project_name='测试项目1')\n",
    "print(f\"项目: {project.project_name}\")\n",
    "        \n",
    "# 获取已存在的文件\n",
    "file_record = FileRecord.objects.get(id='cf182d9b-b3ff-4422-92f1-47eb3ff0f5ce')\n",
    "print(f\"文件: {file_record.name}\")\n"
   ]
  },
  {
   "cell_type": "code",
   "execution_count": null,
   "metadata": {},
   "outputs": [],
   "source": [
    "# 获得docx_elements 用于 outline 分析测试\n",
    "# 导入相关模型：get_user_model, Project, FileRecord, DocumentAnalysis, FileProjectLink, ProjectHistory\n",
    "from apps.doc_analysis.models import DocumentAnalysis\n",
    "from apps.doc_analysis.pipeline.types import DocxElements, OutlineAnalysisResult\n",
    "from pprint import pprint \n",
    "import os, json\n",
    "\n",
    "# 直接引用\"测试分析A\", 并获取其extracted_elements\n",
    "saved_analysis = DocumentAnalysis.objects.get(title=\"测试分析A\")\n",
    "extracted_elements = saved_analysis.extracted_elements\n",
    "\n",
    "# 创建 DocxElements 实例 from models.py 的 extracted_elements\n",
    "docx_elements = DocxElements.from_model(extracted_elements)"
   ]
  },
  {
   "cell_type": "code",
   "execution_count": null,
   "metadata": {},
   "outputs": [],
   "source": [
    "# 1. 创建文档分析实例 - 测试分析1\n",
    "doc_analysis = DocumentAnalysis.objects.create(\n",
    "    project=project,\n",
    "    title=\"测试分析1\",\n",
    "    created_by=user,\n",
    "    #analysis_questions=[\"资质要求\", \"技术参数\"]  # 示例分析问题\n",
    ")\n",
    "print(f\"创建文档分析: {doc_analysis.title} (ID: {doc_analysis.id})\")\n",
    "print(f\"初始状态: {doc_analysis.status}\")"
   ]
  },
  {
   "cell_type": "code",
   "execution_count": 3,
   "metadata": {},
   "outputs": [],
   "source": [
    "# 导入 OutlineLLMAnalyzer\n",
    "from apps.doc_analysis.LLM_services._01_outline_llm_analyzer import OutlineLLMAnalyzer\n",
    "from apps.doc_analysis.LLM_services._llm_data_types import BatchResult\n",
    "from apps.doc_analysis.steps._02_outline_analysis import DocxOutlineAnalyzerStep"
   ]
  },
  {
   "cell_type": "code",
   "execution_count": 4,
   "metadata": {},
   "outputs": [],
   "source": [
    "outline_analyzer = DocxOutlineAnalyzerStep()"
   ]
  },
  {
   "cell_type": "code",
   "execution_count": 5,
   "metadata": {},
   "outputs": [],
   "source": [
    "input_datas = outline_analyzer.prepare_requests_data(docx_elements)"
   ]
  },
  {
   "cell_type": "code",
   "execution_count": null,
   "metadata": {},
   "outputs": [],
   "source": [
    "print(type(input_datas))\n",
    "print(input_datas[0])"
   ]
  },
  {
   "cell_type": "code",
   "execution_count": 7,
   "metadata": {},
   "outputs": [],
   "source": [
    "simulated_prompt, formatted_messages = OutlineLLMAnalyzer.simulate_prompt(input_datas[0])"
   ]
  },
  {
   "cell_type": "code",
   "execution_count": null,
   "metadata": {},
   "outputs": [],
   "source": [
    "pprint(formatted_messages)"
   ]
  },
  {
   "cell_type": "code",
   "execution_count": 4,
   "metadata": {},
   "outputs": [],
   "source": [
    "#数据准备\n",
    "# 提取<目录标题列表>和<正文标题列表>, formatted的格式，而不是Json格式\n",
    "# 1. 目录标题列表\n",
    "toc_chapters = docx_elements.format_toc_chapters()\n",
    "toc_sections = docx_elements.format_toc_sections()\n",
    "toc_subsections = docx_elements.format_toc_subsections()\n",
    "\n",
    "# 2. 正文标题列表\n",
    "heading_chapters = docx_elements.format_heading_chapters()\n",
    "heading_sections = docx_elements.format_heading_sections()\n",
    "heading_subsections = docx_elements.format_heading_subsections()"
   ]
  },
  {
   "cell_type": "code",
   "execution_count": 5,
   "metadata": {},
   "outputs": [],
   "source": [
    "# build contexts, requirements, output_formats\n",
    "# contexts\n",
    "chapter_context = OutlineLLMAnalyzer.build_context(toc_chapters, heading_chapters)\n",
    "section_context = OutlineLLMAnalyzer.build_context(toc_sections, heading_sections)\n",
    "subsection_context = OutlineLLMAnalyzer.build_context(toc_subsections, heading_subsections)\n",
    "\n",
    "requirement = OutlineLLMAnalyzer.build_requirement()\n",
    "output_format = OutlineLLMAnalyzer.build_output_format()\n",
    "\n",
    "contexts = [chapter_context, chapter_context, chapter_context]\n",
    "requirements = [requirement, requirement, requirement]\n",
    "output_formats = [output_format, output_format, output_format]"
   ]
  },
  {
   "cell_type": "code",
   "execution_count": null,
   "metadata": {},
   "outputs": [],
   "source": [
    "print(chapter_context)"
   ]
  },
  {
   "cell_type": "code",
   "execution_count": null,
   "metadata": {},
   "outputs": [],
   "source": [
    "# 测试批量分析 .batch_analyze()\n",
    "results = await OutlineLLMAnalyzer.batch_analyze(\n",
    "    contexts=contexts, \n",
    "    requirements=requirements, \n",
    "    output_formats=output_formats,\n",
    "    model_name = \"qwen-turbo\"\n",
    "    )"
   ]
  },
  {
   "cell_type": "code",
   "execution_count": null,
   "metadata": {},
   "outputs": [],
   "source": [
    "# 打印结果\n",
    "print(f\"结果类型：{type(results)}, 长度：{len(results)}个 {type(results[0])}\")\n",
    "pprint(results)"
   ]
  },
  {
   "cell_type": "code",
   "execution_count": null,
   "metadata": {},
   "outputs": [],
   "source": [
    "# 多路投票 1\n",
    "voted_result1 = BatchResult.merge_with_probability(results)\n",
    "# 打印投票结果\n",
    "print(f\"结果类型：{type(voted_result1)}\")\n",
    "pprint(voted_result1)"
   ]
  },
  {
   "cell_type": "code",
   "execution_count": null,
   "metadata": {},
   "outputs": [],
   "source": [
    "# 模拟 单个 PROMPT 输入\n",
    "\n",
    "# --------  构建用户输入  --------\n",
    "from apps.doc_analysis.LLM_services._llm_data_types import LLMRequest\n",
    "\n",
    "sim_request = LLMRequest(\n",
    "                context = chapter_context,\n",
    "                requirement = requirement,\n",
    "                output_format = output_format\n",
    "                )\n",
    "\n",
    "# ------- 模拟大模型prompt输入  -------\n",
    "from langchain.prompts import ChatPromptTemplate, SystemMessagePromptTemplate, HumanMessagePromptTemplate\n",
    "sim_prompt = ChatPromptTemplate.from_messages([\n",
    "    SystemMessagePromptTemplate.from_template(\n",
    "        \"你是一个专业的文档分析助手，需要严格按照用户要求处理和分析文档内容。\"\n",
    "    ),\n",
    "    HumanMessagePromptTemplate.from_template(\n",
    "        OutlineLLMAnalyzer.build_prompt_template(),  # 植入prompt模板\n",
    "        input_variables=[\"context\", \n",
    "                         \"requirement\", \n",
    "                        \"output_format\",\n",
    "                        ]\n",
    "    )\n",
    "])\n",
    "#print(request.__dict__)\n",
    "formatted_prompt = await sim_prompt.ainvoke(sim_request.__dict__)\n",
    "\n",
    "# ------  打印大模型的prompt输入  ------\n",
    "#pprint(formatted_prompt)\n",
    "formatted_messages = formatted_prompt.to_messages()\n",
    "# 转换为字典列表\n",
    "messages_dict = [\n",
    "    {\n",
    "        \"role\": message.type,\n",
    "        \"content\": message.content\n",
    "    } for message in formatted_messages\n",
    "]\n",
    "import json\n",
    "prompt_json = json.dumps(messages_dict, ensure_ascii=False, indent=2) \n",
    "pprint(prompt_json)\n"
   ]
  },
  {
   "cell_type": "markdown",
   "metadata": {},
   "source": [
    "# <font color=red>4. 测试 request重复三次组成group <font>"
   ]
  },
  {
   "cell_type": "code",
   "execution_count": null,
   "metadata": {},
   "outputs": [],
   "source": [
    "# 初始化\n",
    "import django_setup"
   ]
  },
  {
   "cell_type": "code",
   "execution_count": 2,
   "metadata": {},
   "outputs": [],
   "source": [
    "# 获得docx_elements 用于 outline 分析测试\n",
    "# 导入相关模型：get_user_model, Project, FileRecord, DocumentAnalysis, FileProjectLink, ProjectHistory\n",
    "from apps.doc_analysis.models import DocumentAnalysis\n",
    "from apps.doc_analysis.pipeline.types import DocxElements, OutlineAnalysisResult\n",
    "from pprint import pprint \n",
    "import os, json\n",
    "\n",
    "# 直接引用\"测试分析A\", 并获取其extracted_elements\n",
    "saved_analysis = DocumentAnalysis.objects.get(title=\"测试分析A\")\n",
    "extracted_elements = saved_analysis.extracted_elements\n",
    "\n",
    "# 创建 DocxElements 实例 from models.py 的 extracted_elements\n",
    "docx_elements = DocxElements.from_model(extracted_elements)"
   ]
  },
  {
   "cell_type": "code",
   "execution_count": 3,
   "metadata": {},
   "outputs": [],
   "source": [
    "# 导入 OutlineLLMAnalyzer\n",
    "from apps.doc_analysis.LLM_services.outline_llm_analyzer import OutlineLLMAnalyzer\n",
    "from apps.doc_analysis.LLM_services._llm_data_types import BatchResult, LLMRequest"
   ]
  },
  {
   "cell_type": "code",
   "execution_count": 4,
   "metadata": {},
   "outputs": [],
   "source": [
    "#数据准备\n",
    "# 提取<目录标题列表>和<正文标题列表>, formatted的格式，而不是Json格式\n",
    "# 1. 目录标题列表\n",
    "toc_chapters = docx_elements.format_toc_chapters()\n",
    "toc_sections = docx_elements.format_toc_sections()[:118]\n",
    "toc_subsections = docx_elements.format_toc_subsections()\n",
    "\n",
    "# 2. 正文标题列表\n",
    "heading_chapters = docx_elements.format_heading_chapters()\n",
    "heading_sections = docx_elements.format_heading_sections()[:120]\n",
    "heading_subsections = docx_elements.format_heading_subsections()"
   ]
  },
  {
   "cell_type": "code",
   "execution_count": null,
   "metadata": {},
   "outputs": [],
   "source": [
    "print(toc_sections)\n",
    "print(heading_sections)"
   ]
  },
  {
   "cell_type": "code",
   "execution_count": 6,
   "metadata": {},
   "outputs": [],
   "source": [
    "# build contexts, requirements, output_formats\n",
    "# contexts\n",
    "chapter_context = OutlineLLMAnalyzer.build_context(toc_chapters, heading_chapters)\n",
    "section_context = OutlineLLMAnalyzer.build_context(toc_sections, heading_sections)\n",
    "subsection_context = OutlineLLMAnalyzer.build_context(toc_subsections, heading_subsections)\n",
    "\n",
    "requirement = OutlineLLMAnalyzer.build_requirement()\n",
    "output_format = OutlineLLMAnalyzer.build_output_format()\n",
    "\n",
    "contexts = [chapter_context, section_context, subsection_context]\n",
    "requirements = [requirement, requirement, requirement]\n",
    "output_formats = [output_format, output_format, output_format]"
   ]
  },
  {
   "cell_type": "markdown",
   "metadata": {},
   "source": [
    "## Repeated Inputs"
   ]
  },
  {
   "cell_type": "code",
   "execution_count": 6,
   "metadata": {},
   "outputs": [],
   "source": [
    "# 构建带有repeat的requests groups\n",
    "requests = []\n",
    "for group_id, (context, requirement, output_format) in enumerate(zip(contexts, requirements, output_formats)):\n",
    "    for _ in range(3):  # 每组重复三次\n",
    "        request = LLMRequest(\n",
    "            context=context,\n",
    "            requirement=requirement,\n",
    "            output_format=output_format,\n",
    "            group_id=group_id  # 添加group_id\n",
    "        )\n",
    "        requests.append(request)\n",
    "                \n"
   ]
  },
  {
   "cell_type": "code",
   "execution_count": null,
   "metadata": {},
   "outputs": [],
   "source": [
    "# 打印requests的结果\n",
    "print(type(requests))\n",
    "requests_dict = []\n",
    "for requst in requests:\n",
    "    request_dict = request.__dict__\n",
    "    requests_dict.append(request_dict)\n",
    "pprint(requests_dict)"
   ]
  },
  {
   "cell_type": "markdown",
   "metadata": {},
   "source": [
    "## BatchLLMService 处理带group_id的LLMRequest"
   ]
  },
  {
   "cell_type": "code",
   "execution_count": null,
   "metadata": {},
   "outputs": [],
   "source": [
    "# 测试批量分析 .batch_analyze()\n",
    "results = await OutlineLLMAnalyzer.batch_analyze_with_repeats(\n",
    "    contexts=contexts, \n",
    "    requirements=requirements, \n",
    "    output_formats=output_formats,\n",
    "    repeats = 3\n",
    "    )"
   ]
  },
  {
   "cell_type": "code",
   "execution_count": null,
   "metadata": {},
   "outputs": [],
   "source": [
    "pprint(results)"
   ]
  },
  {
   "cell_type": "code",
   "execution_count": 13,
   "metadata": {},
   "outputs": [],
   "source": [
    "final_results = BatchResult.merge_hybrid(results)"
   ]
  },
  {
   "cell_type": "code",
   "execution_count": null,
   "metadata": {},
   "outputs": [],
   "source": [
    "pprint(final_results)"
   ]
  },
  {
   "cell_type": "code",
   "execution_count": null,
   "metadata": {},
   "outputs": [],
   "source": [
    "# 测试批量分析 .batch_analyze()\n",
    "results2 = await OutlineLLMAnalyzer.batch_analyze_with_repeats(\n",
    "    contexts=contexts, \n",
    "    requirements=requirements, \n",
    "    output_formats=output_formats,\n",
    "    repeats = 1\n",
    "    )"
   ]
  },
  {
   "cell_type": "code",
   "execution_count": null,
   "metadata": {},
   "outputs": [],
   "source": [
    "pprint(results2)"
   ]
  },
  {
   "cell_type": "code",
   "execution_count": 9,
   "metadata": {},
   "outputs": [],
   "source": [
    "final_results2 = BatchResult.merge_hybrid(results2)"
   ]
  },
  {
   "cell_type": "code",
   "execution_count": null,
   "metadata": {},
   "outputs": [],
   "source": [
    "pprint(final_results2)"
   ]
  },
  {
   "cell_type": "code",
   "execution_count": null,
   "metadata": {},
   "outputs": [],
   "source": [
    "final_results2.result"
   ]
  },
  {
   "cell_type": "markdown",
   "metadata": {},
   "source": []
  },
  {
   "cell_type": "code",
   "execution_count": null,
   "metadata": {},
   "outputs": [],
   "source": [
    "final_results2.success"
   ]
  },
  {
   "cell_type": "markdown",
   "metadata": {},
   "source": [
    "# 5.DocxTree分析"
   ]
  },
  {
   "cell_type": "code",
   "execution_count": null,
   "metadata": {},
   "outputs": [],
   "source": [
    "# 初始化\n",
    "import django_setup"
   ]
  },
  {
   "cell_type": "code",
   "execution_count": 2,
   "metadata": {},
   "outputs": [],
   "source": [
    "# 获得docx_elements 用于 outline 分析测试\n",
    "# 导入相关模型：get_user_model, Project, FileRecord, DocumentAnalysis, FileProjectLink, ProjectHistory\n",
    "from apps.doc_analysis.models import DocumentAnalysis\n",
    "from apps.doc_analysis.pipeline.types import DocxElements, DocxTree\n",
    "from pprint import pprint \n",
    "import os, json\n",
    "\n",
    "# 直接引用\"测试分析A\", 并获取其extracted_elements\n",
    "saved_analysis = DocumentAnalysis.objects.get(title=\"测试分析A\")\n",
    "extracted_docx_tree = saved_analysis.docxtree\n",
    "\n",
    "# 创建 DocxElements 实例 from models.py 的 extracted_elements\n",
    "docx_tree = DocxTree.from_model(extracted_docx_tree)"
   ]
  },
  {
   "cell_type": "code",
   "execution_count": null,
   "metadata": {},
   "outputs": [],
   "source": [
    "print(docx_tree.format_titles())"
   ]
  },
  {
   "cell_type": "markdown",
   "metadata": {},
   "source": [
    "添加前言标题"
   ]
  },
  {
   "cell_type": "code",
   "execution_count": 4,
   "metadata": {},
   "outputs": [],
   "source": [
    "docx_tree.add_introduction_titles()"
   ]
  },
  {
   "cell_type": "code",
   "execution_count": null,
   "metadata": {},
   "outputs": [],
   "source": [
    "print(docx_tree.format_titles())"
   ]
  },
  {
   "cell_type": "code",
   "execution_count": null,
   "metadata": {},
   "outputs": [],
   "source": [
    "print(docx_tree.format_for_llm())"
   ]
  },
  {
   "cell_type": "code",
   "execution_count": null,
   "metadata": {},
   "outputs": [],
   "source": [
    "import tiktoken\n",
    "def count_tokens(text: str) -> int:\n",
    "    \"\"\"计算文本的token数量\"\"\"\n",
    "    encoding = tiktoken.encoding_for_model(\"gpt-3.5-turbo\")\n",
    "    return len(encoding.encode(text))\n",
    "\n",
    "count_tokens(docx_tree.format_for_llm())"
   ]
  },
  {
   "cell_type": "markdown",
   "metadata": {},
   "source": [
    "获取叶标题"
   ]
  },
  {
   "cell_type": "code",
   "execution_count": null,
   "metadata": {},
   "outputs": [],
   "source": [
    "leaf_titles = docx_tree.format_leaf_titles()\n",
    "pprint(leaf_titles)"
   ]
  },
  {
   "cell_type": "code",
   "execution_count": null,
   "metadata": {},
   "outputs": [],
   "source": [
    "leaf_node = docx_tree.find_node(leaf_titles[0][\"ID\"])\n",
    "print(leaf_node.node_id)"
   ]
  },
  {
   "cell_type": "code",
   "execution_count": null,
   "metadata": {},
   "outputs": [],
   "source": [
    "leaf_content = docx_tree.format_leaf_node_content_markdown(leaf_node)\n",
    "print(leaf_content)"
   ]
  },
  {
   "cell_type": "code",
   "execution_count": null,
   "metadata": {},
   "outputs": [],
   "source": [
    "leaf_content_html = docx_tree.format_leaf_node_content_html(leaf_node)\n",
    "print(leaf_content_html)"
   ]
  },
  {
   "cell_type": "markdown",
   "metadata": {},
   "source": [
    "以下直接评估文档树标题列表"
   ]
  },
  {
   "cell_type": "code",
   "execution_count": null,
   "metadata": {},
   "outputs": [],
   "source": [
    "# 准备数据\n",
    "docx_tree_titles = docx_tree.format_titles()\n",
    "print(docx_tree_titles)"
   ]
  },
  {
   "cell_type": "code",
   "execution_count": 4,
   "metadata": {},
   "outputs": [],
   "source": [
    "from apps.doc_analysis.LLM_services.docx_titles_llm_analyzer import DocxTreeTitlesLLMAnalyzer"
   ]
  },
  {
   "cell_type": "code",
   "execution_count": 5,
   "metadata": {},
   "outputs": [],
   "source": [
    "simulated_prompt, formatted_messages = DocxTreeTitlesLLMAnalyzer.simulate_prompt(docx_tree_titles)"
   ]
  },
  {
   "cell_type": "code",
   "execution_count": null,
   "metadata": {},
   "outputs": [],
   "source": [
    "print(type(simulated_prompt), type(simulated_prompt[0]), type(simulated_prompt[1]))\n",
    "pprint(simulated_prompt)\n",
    "pprint(formatted_messages)"
   ]
  },
  {
   "cell_type": "code",
   "execution_count": null,
   "metadata": {},
   "outputs": [],
   "source": [
    "print(type(docx_tree_titles))"
   ]
  },
  {
   "cell_type": "code",
   "execution_count": null,
   "metadata": {},
   "outputs": [],
   "source": [
    "# 测试批量分析 .batch_analyze()\n",
    "results2 = await DocxTreeTitlesLLMAnalyzer.batch_analyze_with_repeats(\n",
    "    data_inputs= docx_tree_titles,\n",
    "    repeats = 1\n",
    "    )"
   ]
  }
 ],
 "metadata": {
  "kernelspec": {
   "display_name": "BidPilot_new_env",
   "language": "python",
   "name": "python3"
  },
  "language_info": {
   "codemirror_mode": {
    "name": "ipython",
    "version": 3
   },
   "file_extension": ".py",
   "mimetype": "text/x-python",
   "name": "python",
   "nbconvert_exporter": "python",
   "pygments_lexer": "ipython3",
   "version": "3.12.1"
  }
 },
 "nbformat": 4,
 "nbformat_minor": 2
}
