{
 "cells": [
  {
   "cell_type": "code",
   "execution_count": null,
   "metadata": {},
   "outputs": [],
   "source": [
    "# 初始化\n",
    "import django_setup"
   ]
  },
  {
   "cell_type": "code",
   "execution_count": 2,
   "metadata": {},
   "outputs": [],
   "source": [
    "from apps.doc_analysis.LLM_services._generic_llm_services import GenericLLMService\n",
    "from apps.doc_analysis.LLM_services._llm_types import LLMConfig, LLMRequest, AnalysisOutput\n",
    "import asyncio, os, nest_asyncio\n",
    "nest_asyncio.apply()"
   ]
  },
  {
   "cell_type": "code",
   "execution_count": 3,
   "metadata": {},
   "outputs": [],
   "source": [
    "config = LLMConfig(\n",
    "    llm_model_name = \"qwen-plus\",\n",
    "    temperature = 0.7,\n",
    "    top_p =  0.8,\n",
    "    streaming = True,\n",
    "    api_key = os.getenv(\"ALIBABA_API_KEY\"),\n",
    "    base_url = \"https://dashscope.aliyuncs.com/compatible-mode/v1\",\n",
    "    max_workers = 4,\n",
    "    timeout = 30,\n",
    "    retry_times = 3\n",
    ")"
   ]
  },
  {
   "cell_type": "code",
   "execution_count": 4,
   "metadata": {},
   "outputs": [],
   "source": [
    "# 2. 创建服务实例\n",
    "service = GenericLLMService(config)"
   ]
  },
  {
   "cell_type": "code",
   "execution_count": 5,
   "metadata": {},
   "outputs": [],
   "source": [
    "# 3. 设置prompt模板\n",
    "prompt_template = \"\"\"\n",
    "请根据以下内容回答问题：\n",
    "{context}\n",
    "\n",
    "问题：{requirement}\n",
    "\"\"\"\n",
    "service.prompt_template = prompt_template"
   ]
  },
  {
   "cell_type": "code",
   "execution_count": 6,
   "metadata": {},
   "outputs": [],
   "source": [
    "# 4. 准备测试数据\n",
    "context = \"\"\"\n",
    "人工智能（AI）是计算机科学的一个分支，它企图了解智能的实质，并生产出一种新的能以人类智能相似的方式做出反应的智能机器。\n",
    "\"\"\"\n",
    "requirement = \"请简要解释什么是人工智能\""
   ]
  },
  {
   "cell_type": "code",
   "execution_count": 7,
   "metadata": {},
   "outputs": [],
   "source": [
    "# 5. 创建请求对象\n",
    "request = LLMRequest(context=context, requirement=requirement)"
   ]
  },
  {
   "cell_type": "code",
   "execution_count": 8,
   "metadata": {},
   "outputs": [],
   "source": [
    "# 6. 异步调用服务\n",
    "async def test_service():\n",
    "    try:\n",
    "        result = await service.process(request, stream=True)\n",
    "        print(\"处理结果：\", result)\n",
    "    except Exception as e:\n",
    "        print(\"发生错误：\", str(e))"
   ]
  },
  {
   "cell_type": "code",
   "execution_count": null,
   "metadata": {},
   "outputs": [],
   "source": [
    "# 7. 运行测试\n",
    "await test_service()"
   ]
  },
  {
   "cell_type": "markdown",
   "metadata": {},
   "source": [
    "测试_02_example_analysis"
   ]
  },
  {
   "cell_type": "code",
   "execution_count": 1,
   "metadata": {},
   "outputs": [
    {
     "name": "stdout",
     "output_type": "stream",
     "text": [
      "Development settings loaded\n",
      "INSTALLED_APPS: ['django.contrib.admin', 'django.contrib.auth', 'django.contrib.contenttypes', 'django.contrib.sessions', 'django.contrib.messages', 'django.contrib.staticfiles', 'rest_framework', 'corsheaders', 'storages', 'apps.authentication', 'apps.files', 'apps.projects', 'apps.doc_analysis', 'apps.chat', 'django_filters', 'drf_spectacular', 'rest_framework_simplejwt.token_blacklist', 'django_celery_results', 'django_celery_beat']\n"
     ]
    },
    {
     "name": "stderr",
     "output_type": "stream",
     "text": [
      "INFO 2025-02-21 02:31:05,753 storage default_storage 的类型: COSStorage\n"
     ]
    },
    {
     "name": "stdout",
     "output_type": "stream",
     "text": [
      "Settings从哪里加载？: config.settings.development\n",
      "项目根目录对么？: C:\\Users\\huiwa\\Documents\\_All_Projects\\BidPilot_new\\backend\n",
      "文件存储settings对么？: apps.files.storage.COSStorage\n",
      "文件default_storage对么？: COSStorage\n",
      "\n",
      "已经安装的应用 Installed Apps 完整了么？:\n",
      "- django.contrib.admin\n",
      "- django.contrib.auth\n",
      "- django.contrib.contenttypes\n",
      "- django.contrib.sessions\n",
      "- django.contrib.messages\n",
      "- django.contrib.staticfiles\n",
      "- rest_framework\n",
      "- corsheaders\n",
      "- storages\n",
      "- apps.authentication\n",
      "- apps.files\n",
      "- apps.projects\n",
      "- apps.doc_analysis\n",
      "- apps.chat\n",
      "- django_filters\n",
      "- drf_spectacular\n",
      "- rest_framework_simplejwt.token_blacklist\n",
      "- django_celery_results\n",
      "- django_celery_beat\n"
     ]
    }
   ],
   "source": [
    "# 初始化\n",
    "import django_setup"
   ]
  },
  {
   "cell_type": "code",
   "execution_count": 2,
   "metadata": {},
   "outputs": [],
   "source": [
    "# 导入相关模型：get_user_model, Project, FileRecord, DocumentAnalysis, FileProjectLink, ProjectHistory\n",
    "from apps.doc_analysis.models import DocumentAnalysis\n",
    "from apps.doc_analysis.pipeline.types import DocxElements, OutlineAnalysisResult\n",
    "from pprint import pprint \n",
    "import os\n",
    "# call llm service\n",
    "from apps.doc_analysis.LLM_services._01_example import OutlineLLMAnalysis\n",
    "from apps.doc_analysis.LLM_services._generic_llm_services import GenericLLMService, LLMRequest\n",
    "from apps.doc_analysis.LLM_services._batch_llm_services import BatchLLMService"
   ]
  },
  {
   "cell_type": "code",
   "execution_count": 4,
   "metadata": {},
   "outputs": [
    {
     "name": "stdout",
     "output_type": "stream",
     "text": [
      "{'content': '前附表',\n",
      " 'is_toc': True,\n",
      " 'position': 11,\n",
      " 'toc_level': 2,\n",
      " 'type': 'paragraph'}\n"
     ]
    }
   ],
   "source": [
    "# 直接引用\"测试分析A\", 并获取其extracted_elements\n",
    "\n",
    "saved_analysis = DocumentAnalysis.objects.get(title=\"测试分析A\")\n",
    "extracted_elements = saved_analysis.extracted_elements\n",
    "pprint(extracted_elements['elements'][10])"
   ]
  },
  {
   "cell_type": "code",
   "execution_count": 5,
   "metadata": {},
   "outputs": [],
   "source": [
    "# 创建 DocxElements 实例 from models.py 的 extracted_elements\n",
    "docx_elements = DocxElements.from_model(extracted_elements)\n",
    "\n"
   ]
  },
  {
   "cell_type": "code",
   "execution_count": 6,
   "metadata": {},
   "outputs": [
    {
     "name": "stdout",
     "output_type": "stream",
     "text": [
      "\n",
      "1. 目录标题列表：从文档目录中提取的标题\n",
      "2. 正文标题列表：从文档正文中提取的标题\n",
      "\n",
      "数据格式：\n",
      "\"[文档位置], 标题层级, 标题内容\"\n",
      "\n",
      "数据内容：\n",
      "1. <目录标题列表>：\n",
      "[8], Lvl:1, 标题：第一章  招标公告\n",
      "[9], Lvl:1, 标题：第二章  招标需求\n",
      "[10], Lvl:1, 标题：第三章  投标人须知\n",
      "[21], Lvl:1, 标题：第四章  评标办法及评分标准\n",
      "[25], Lvl:1, 标题：第五章  合同条款及格式\n",
      "[26], Lvl:1, 标题：第六章  投标文件格式\n",
      "\n",
      "2. <正文标题列表>：\n",
      "[1], Lvl:1, 标题：北京京铁运恒采购供应站有限公司 2024 年端午节物资采购项目\n",
      "[2], Lvl:1, 标题：招标文件\n",
      "[46], Lvl:1, 标题：第一章  招标公告\n",
      "[95], Lvl:1, 标题：第二章 招标需求\n",
      "[124], Lvl:1, 标题：第三章  投标人须知\n",
      "[308], Lvl:1, 标题：第四章  评标办法及评分标准\n",
      "[366], Lvl:1, 标题：第五章 合同条款及格式\n",
      "[501], Lvl:1, 标题：第六章  投标文件格式\n",
      "\n"
     ]
    }
   ],
   "source": [
    "# build context,  参数 context\n",
    "formatted_toc = docx_elements.format_toc_chapters()\n",
    "formatted_headings = docx_elements.format_heading_chapters()\n",
    "def _build_context(formatted_toc: str, formatted_headings: str) -> str:\n",
    "    return f\"\"\"\n",
    "1. 目录标题列表：从文档目录中提取的标题\n",
    "2. 正文标题列表：从文档正文中提取的标题\n",
    "\n",
    "数据格式：\n",
    "\"[文档位置], 标题层级, 标题内容\"\n",
    "\n",
    "数据内容：\n",
    "1. <目录标题列表>：\n",
    "{formatted_toc}\n",
    "\n",
    "2. <正文标题列表>：\n",
    "{formatted_headings}\n",
    "\"\"\"\n",
    "\n",
    "context = _build_context(formatted_toc, formatted_headings)\n",
    "print(context)"
   ]
  },
  {
   "cell_type": "code",
   "execution_count": 7,
   "metadata": {},
   "outputs": [
    {
     "name": "stdout",
     "output_type": "stream",
     "text": [
      "\n",
      "请对比<目录标题列表>和<正文标题列表>的标题内容\n",
      "找出以下三类不同标题项：\n",
      "1. 目录列表里有，但正文里没有的标题项\n",
      "2. 目录列表里没有，但正文里有的标题项\n",
      "\n",
      "请注意：只比对标题内容，不比对[文档位置] 和 标题层级\n",
      "\n"
     ]
    }
   ],
   "source": [
    "# build requirement， 参数 requirement\n",
    "def _build_requirement() -> str:\n",
    "    \"\"\"\n",
    "    构建大模型分析任务要求\n",
    "    \"\"\"\n",
    "    return \"\"\"\n",
    "请对比<目录标题列表>和<正文标题列表>的标题内容\n",
    "找出以下三类不同标题项：\n",
    "1. 目录列表里有，但正文里没有的标题项\n",
    "2. 目录列表里没有，但正文里有的标题项\n",
    "\n",
    "请注意：只比对标题内容，不比对[文档位置] 和 标题层级\n",
    "\"\"\"\n",
    "\n",
    "requirement = _build_requirement()\n",
    "print(requirement)\n"
   ]
  },
  {
   "cell_type": "code",
   "execution_count": 8,
   "metadata": {},
   "outputs": [
    {
     "name": "stdout",
     "output_type": "stream",
     "text": [
      "\n",
      "请严格按照以下JSON格式输出目录分析结果，不要包含任何额外的解释或说明：\n",
      "{\n",
      "    # 目录独有的元素列表\n",
      "    \"toc_only_elements\": [\n",
      "        {\n",
      "            \"position\": int,  # 元素在文档中的位置索引\n",
      "            \"content\": str,   # 元素内容\n",
      "            \"is_toc\": bool,   # 是否为目录\n",
      "            \"toc_level\": int, # 目录级别（如1, 2, 3等）\n",
      "            \"reason\": str,        # 判断为入选的原因\n",
      "            \"recommendation\":str, # 建议在正文中找到对应元素，并将其改为与目录层级匹配的正文标题\n",
      "            \"confidence\": float,  # 评估recommendation可信度，0.0(完全不可信)~1.0(完全确信) \n",
      "            \"user_confirm\": False,     # 尚未用户确认，所以一致取值False  \n",
      "        }\n",
      "    ],\n",
      "    # 正文独有的元素列表\n",
      "    \"heading_only_elements\": [\n",
      "        {\n",
      "            \"position\": int,      # 元素在文档中的位置索引\n",
      "            \"content\": str,       # 元素内容\n",
      "            \"is_heading\": bool,   # 是否为标题\n",
      "            \"heading_level\": int, # 标题级别（如1, 2, 3等）\n",
      "            \"reason\": str,        # 判断为入选的原因\n",
      "            \"recommendation\":str, # 建议在正文中找到对应标题元素，取消标题格式\n",
      "            \"confidence\": float,  # 评估recommendation可信度，0.0(完全不可信)~1.0(完全确信) \n",
      "            \"user_confirm\": False,     # 尚未用户确认，所以一致取值False  \n",
      "        }\n",
      "    ]\n",
      "}\n",
      "\n"
     ]
    }
   ],
   "source": [
    "# build output_format, 参数 output_format\n",
    "def _build_output_format() -> str:\n",
    "    \"\"\"\n",
    "    构建大模型分析的输出要求\n",
    "    \"\"\"\n",
    "    return OutlineAnalysisResult.get_prompt_specification()\n",
    "\n",
    "output_format = _build_output_format()\n",
    "print(output_format)"
   ]
  },
  {
   "cell_type": "code",
   "execution_count": null,
   "metadata": {},
   "outputs": [],
   "source": [
    "result = await OutlineLLMAnalysis.analyze(context, requirement, output_format)"
   ]
  },
  {
   "cell_type": "code",
   "execution_count": 9,
   "metadata": {},
   "outputs": [],
   "source": [
    "# 提取<目录标题列表>和<正文标题列表>, formatted的格式，而不是Json格式\n",
    "# 1. 目录标题列表\n",
    "toc_chapters = docx_elements.format_toc_chapters()\n",
    "toc_sections = docx_elements.format_toc_sections()\n",
    "toc_subsections = docx_elements.format_toc_subsections()\n",
    "\n",
    "# 2. 正文标题列表\n",
    "heading_chapters = docx_elements.format_heading_chapters()\n",
    "heading_sections = docx_elements.format_heading_sections()\n",
    "heading_subsections = docx_elements.format_heading_subsections()\n",
    "\n",
    "\n",
    "# 3. contexts\n",
    "chapter_context = OutlineLLMAnalysis.build_context(toc_chapters, heading_chapters)\n",
    "section_context = OutlineLLMAnalysis.build_context(toc_sections, heading_sections)\n",
    "subsection_context = OutlineLLMAnalysis.build_context(toc_subsections, heading_subsections)\n",
    "\n",
    "# 创建多个分析请求\n",
    "requests = [\n",
    "    LLMRequest(context=chapter_context, requirement=requirement, output_format=output_format),\n",
    "    LLMRequest(context=section_context, requirement=requirement, output_format=output_format),\n",
    "    LLMRequest(context=subsection_context, requirement=requirement, output_format=output_format),\n",
    "    ]"
   ]
  },
  {
   "cell_type": "code",
   "execution_count": 10,
   "metadata": {},
   "outputs": [],
   "source": [
    "batch_service = BatchLLMService()"
   ]
  },
  {
   "cell_type": "code",
   "execution_count": 11,
   "metadata": {},
   "outputs": [
    {
     "name": "stdout",
     "output_type": "stream",
     "text": [
      "输入参数错误: Prompt template is required\n"
     ]
    },
    {
     "ename": "ValueError",
     "evalue": "Prompt template is required",
     "output_type": "error",
     "traceback": [
      "\u001b[1;31m---------------------------------------------------------------------------\u001b[0m",
      "\u001b[1;31mValueError\u001b[0m                                Traceback (most recent call last)",
      "Cell \u001b[1;32mIn[11], line 1\u001b[0m\n\u001b[1;32m----> 1\u001b[0m result \u001b[38;5;241m=\u001b[39m \u001b[38;5;28;01mawait\u001b[39;00m batch_service\u001b[38;5;241m.\u001b[39mprocess(requests)\n",
      "File \u001b[1;32m~\\Documents\\_All_Projects\\BidPilot_new\\backend\\apps\\doc_analysis\\LLM_services\\_generic_llm_services.py:67\u001b[0m, in \u001b[0;36mGenericLLMService.process\u001b[1;34m(self, request)\u001b[0m\n\u001b[0;32m     65\u001b[0m \u001b[38;5;28;01mtry\u001b[39;00m:\n\u001b[0;32m     66\u001b[0m     \u001b[38;5;28;01mif\u001b[39;00m \u001b[38;5;129;01mnot\u001b[39;00m \u001b[38;5;28mself\u001b[39m\u001b[38;5;241m.\u001b[39mprompt_template:\n\u001b[1;32m---> 67\u001b[0m         \u001b[38;5;28;01mraise\u001b[39;00m \u001b[38;5;167;01mValueError\u001b[39;00m(\u001b[38;5;124m\"\u001b[39m\u001b[38;5;124mPrompt template is required\u001b[39m\u001b[38;5;124m\"\u001b[39m)\n\u001b[0;32m     69\u001b[0m     \u001b[38;5;66;03m# 创建聊天提示模板\u001b[39;00m\n\u001b[0;32m     70\u001b[0m     prompt \u001b[38;5;241m=\u001b[39m ChatPromptTemplate\u001b[38;5;241m.\u001b[39mfrom_messages([\n\u001b[0;32m     71\u001b[0m         SystemMessagePromptTemplate\u001b[38;5;241m.\u001b[39mfrom_template(\n\u001b[0;32m     72\u001b[0m             \u001b[38;5;124m\"\u001b[39m\u001b[38;5;124m你是一个专业的文档分析助手，需要严格按照用户要求处理和分析文档内容。\u001b[39m\u001b[38;5;124m\"\u001b[39m\n\u001b[1;32m   (...)\u001b[0m\n\u001b[0;32m     81\u001b[0m         )\n\u001b[0;32m     82\u001b[0m     ])\n",
      "\u001b[1;31mValueError\u001b[0m: Prompt template is required"
     ]
    }
   ],
   "source": [
    "result = await batch_service.process(requests)\n"
   ]
  }
 ],
 "metadata": {
  "kernelspec": {
   "display_name": "BidPilot_new_env",
   "language": "python",
   "name": "python3"
  },
  "language_info": {
   "codemirror_mode": {
    "name": "ipython",
    "version": 3
   },
   "file_extension": ".py",
   "mimetype": "text/x-python",
   "name": "python",
   "nbconvert_exporter": "python",
   "pygments_lexer": "ipython3",
   "version": "3.12.1"
  }
 },
 "nbformat": 4,
 "nbformat_minor": 2
}
