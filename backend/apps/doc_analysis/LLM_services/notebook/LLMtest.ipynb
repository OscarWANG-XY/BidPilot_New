{
 "cells": [
  {
   "cell_type": "markdown",
   "metadata": {},
   "source": [
    "# <font color=\"red\"> 1. 测试 GenericLLMService</font>"
   ]
  },
  {
   "cell_type": "code",
   "execution_count": 17,
   "metadata": {},
   "outputs": [],
   "source": [
    "# 初始化\n",
    "import django_setup"
   ]
  },
  {
   "cell_type": "code",
   "execution_count": 20,
   "metadata": {},
   "outputs": [],
   "source": [
    "# 导入相关模型\n",
    "from apps.doc_analysis.LLM_services._generic_llm_services import GenericLLMService\n",
    "from apps.doc_analysis.LLM_services._llm_data_types import LLMConfig, LLMRequest\n",
    "import os, nest_asyncio\n",
    "nest_asyncio.apply()"
   ]
  },
  {
   "cell_type": "code",
   "execution_count": 22,
   "metadata": {},
   "outputs": [],
   "source": [
    "# 配置 config\n",
    "config = LLMConfig(\n",
    "    llm_model_name = \"qwen-plus\",\n",
    "    temperature = 0.7,\n",
    "    top_p =  0.8,\n",
    "    streaming = True,\n",
    "    api_key = os.getenv(\"ALIBABA_API_KEY\"),\n",
    "    base_url = \"https://dashscope.aliyuncs.com/compatible-mode/v1\",\n",
    "    max_workers = 4,\n",
    "    timeout = 30,\n",
    "    retry_times = 3\n",
    ")"
   ]
  },
  {
   "cell_type": "code",
   "execution_count": null,
   "metadata": {},
   "outputs": [],
   "source": [
    "# 2. 创建服务实例\n",
    "service = GenericLLMService(config)"
   ]
  },
  {
   "cell_type": "code",
   "execution_count": 31,
   "metadata": {},
   "outputs": [],
   "source": [
    "# 3. 设置prompt模板\n",
    "prompt_template = \"\"\"\n",
    "请根据以下内容回答问题：\n",
    "{context}\n",
    "\n",
    "问题：{requirement}\n",
    "\n",
    "输出格式：{output_format}\n",
    "\"\"\"\n",
    "\n",
    "service.prompt_template = prompt_template"
   ]
  },
  {
   "cell_type": "code",
   "execution_count": 32,
   "metadata": {},
   "outputs": [],
   "source": [
    "# 4. 准备测试数据\n",
    "context = \"\"\"\n",
    "人工智能（AI）是计算机科学的一个分支，它企图了解智能的实质，并生产出一种新的能以人类智能相似的方式做出反应的智能机器。\n",
    "\"\"\"\n",
    "requirement = \"请简要解释什么是人工智能\"\n",
    "\n",
    "output_format = \"请用中文回答问题\""
   ]
  },
  {
   "cell_type": "code",
   "execution_count": 33,
   "metadata": {},
   "outputs": [],
   "source": [
    "# 5. 创建请求对象\n",
    "request = LLMRequest(context=context, requirement=requirement, output_format=output_format)"
   ]
  },
  {
   "cell_type": "code",
   "execution_count": 34,
   "metadata": {},
   "outputs": [],
   "source": [
    "# 6. 异步调用服务\n",
    "async def test_service():\n",
    "    try:\n",
    "        result = await service.process(request)\n",
    "        print(\"处理结果：\", result)\n",
    "    except Exception as e:\n",
    "        print(\"发生错误：\", str(e))"
   ]
  },
  {
   "cell_type": "code",
   "execution_count": null,
   "metadata": {},
   "outputs": [],
   "source": [
    "# 7. 运行测试\n",
    "await test_service()"
   ]
  },
  {
   "cell_type": "code",
   "execution_count": null,
   "metadata": {},
   "outputs": [],
   "source": [
    "\n"
   ]
  },
  {
   "cell_type": "markdown",
   "metadata": {},
   "source": [
    "# <font color=\"red\"> 2. 测试 Generic/BatchLLMService, _template</font>"
   ]
  },
  {
   "cell_type": "code",
   "execution_count": null,
   "metadata": {},
   "outputs": [],
   "source": [
    "# 初始化\n",
    "import django_setup"
   ]
  },
  {
   "cell_type": "code",
   "execution_count": 2,
   "metadata": {},
   "outputs": [],
   "source": [
    "# 获得docx_elements 用于 outline 分析测试\n",
    "# 导入相关模型：get_user_model, Project, FileRecord, DocumentAnalysis, FileProjectLink, ProjectHistory\n",
    "from apps.doc_analysis.models import DocumentAnalysis\n",
    "from apps.doc_analysis.pipeline.types import DocxElements, OutlineAnalysisResult\n",
    "from pprint import pprint \n",
    "import os, json\n",
    "\n",
    "# 直接引用\"测试分析A\", 并获取其extracted_elements\n",
    "saved_analysis = DocumentAnalysis.objects.get(title=\"测试分析A\")\n",
    "extracted_elements = saved_analysis.extracted_elements\n",
    "\n",
    "# 创建 DocxElements 实例 from models.py 的 extracted_elements\n",
    "docx_elements = DocxElements.from_model(extracted_elements)"
   ]
  },
  {
   "cell_type": "markdown",
   "metadata": {},
   "source": [
    "## GenericLLMService，_temaplate "
   ]
  },
  {
   "cell_type": "code",
   "execution_count": 8,
   "metadata": {},
   "outputs": [],
   "source": [
    "# call llm service\n",
    "from apps.doc_analysis.LLM_services._Template import TemplateLLMAnalyzer"
   ]
  },
  {
   "cell_type": "code",
   "execution_count": 5,
   "metadata": {},
   "outputs": [],
   "source": [
    "# 数据准备\n",
    "formatted_toc = docx_elements.format_toc_chapters()\n",
    "formatted_headings = docx_elements.format_heading_chapters()"
   ]
  },
  {
   "cell_type": "code",
   "execution_count": null,
   "metadata": {},
   "outputs": [],
   "source": [
    "# =========== build context, requirement, output_format ===========\n",
    "print(\"========= build context ==========\")\n",
    "def _build_context(formatted_toc: str, formatted_headings: str) -> str:\n",
    "    return f\"\"\"\n",
    "1. 目录标题列表：从文档目录中提取的标题\n",
    "2. 正文标题列表：从文档正文中提取的标题\n",
    "\n",
    "数据格式：\n",
    "\"[文档位置], 标题层级, 标题内容\"\n",
    "\n",
    "数据内容：\n",
    "1. <目录标题列表>：\n",
    "{formatted_toc}\n",
    "\n",
    "2. <正文标题列表>：\n",
    "{formatted_headings}\n",
    "\"\"\"\n",
    "\n",
    "context = _build_context(formatted_toc, formatted_headings)\n",
    "print(context)\n",
    "\n",
    "# ====================================================================\n",
    "print(\"========= build requirement ==========\")\n",
    "# build requirement， 参数 requirement\n",
    "def _build_requirement() -> str:\n",
    "    \"\"\"\n",
    "    构建大模型分析任务要求\n",
    "    \"\"\"\n",
    "    return \"\"\"\n",
    "请对比<目录标题列表>和<正文标题列表>的标题内容\n",
    "找出以下三类不同标题项：\n",
    "1. 目录列表里有，但正文里没有的标题项\n",
    "2. 目录列表里没有，但正文里有的标题项\n",
    "\n",
    "请注意：只比对标题内容，不比对[文档位置] 和 标题层级\n",
    "\"\"\"\n",
    "\n",
    "requirement = _build_requirement()\n",
    "print(requirement)\n",
    "\n",
    "# ====================================================================\n",
    "print(\"========= build output_format ==========\")\n",
    "# build output_format, 参数 output_format\n",
    "def _build_output_format() -> str:\n",
    "    \"\"\"\n",
    "    构建大模型分析的输出要求\n",
    "    \"\"\"\n",
    "    return OutlineAnalysisResult.get_prompt_specification()\n",
    "\n",
    "output_format = _build_output_format()\n",
    "print(output_format)\n"
   ]
  },
  {
   "cell_type": "code",
   "execution_count": null,
   "metadata": {},
   "outputs": [],
   "source": [
    "# 测试单独的分析 .analyze()\n",
    "result = await TemplateLLMAnalyzer.analyze(context, requirement, output_format)"
   ]
  },
  {
   "cell_type": "markdown",
   "metadata": {},
   "source": [
    "## BatchLLMService, _template"
   ]
  },
  {
   "cell_type": "code",
   "execution_count": 10,
   "metadata": {},
   "outputs": [],
   "source": [
    "#数据准备\n",
    "# 提取<目录标题列表>和<正文标题列表>, formatted的格式，而不是Json格式\n",
    "# 1. 目录标题列表\n",
    "toc_chapters = docx_elements.format_toc_chapters()\n",
    "toc_sections = docx_elements.format_toc_sections()\n",
    "toc_subsections = docx_elements.format_toc_subsections()\n",
    "\n",
    "# 2. 正文标题列表\n",
    "heading_chapters = docx_elements.format_heading_chapters()\n",
    "heading_sections = docx_elements.format_heading_sections()\n",
    "heading_subsections = docx_elements.format_heading_subsections()"
   ]
  },
  {
   "cell_type": "code",
   "execution_count": 11,
   "metadata": {},
   "outputs": [],
   "source": [
    "# build contexts, requirements, output_formats\n",
    "# contexts\n",
    "chapter_context = TemplateLLMAnalyzer.build_context(toc_chapters, heading_chapters)\n",
    "section_context = TemplateLLMAnalyzer.build_context(toc_sections, heading_sections)\n",
    "subsection_context = TemplateLLMAnalyzer.build_context(toc_subsections, heading_subsections)\n",
    "\n",
    "requirement = TemplateLLMAnalyzer.build_requirement()\n",
    "output_format = TemplateLLMAnalyzer.build_output_format()\n",
    "\n",
    "contexts = [chapter_context, chapter_context, chapter_context]\n",
    "requirements = [requirement, requirement, requirement]\n",
    "output_formats = [output_format, output_format, output_format]\n"
   ]
  },
  {
   "cell_type": "code",
   "execution_count": null,
   "metadata": {},
   "outputs": [],
   "source": [
    "# 测试批量分析 .batch_analyze()\n",
    "results = await TemplateLLMAnalyzer.batch_analyze(contexts, requirements, output_formats)"
   ]
  },
  {
   "cell_type": "code",
   "execution_count": null,
   "metadata": {},
   "outputs": [],
   "source": [
    "# 打印结果\n",
    "print(f\"结果类型：{type(results)}, 长度：{len(results)}个 {type(results[0])}\")\n",
    "pprint(results)"
   ]
  },
  {
   "cell_type": "markdown",
   "metadata": {},
   "source": [
    "### 模拟输入 requests"
   ]
  },
  {
   "cell_type": "code",
   "execution_count": 27,
   "metadata": {},
   "outputs": [],
   "source": [
    "from apps.doc_analysis.LLM_services._llm_data_types import BatchResult, LLMRequest"
   ]
  },
  {
   "cell_type": "code",
   "execution_count": null,
   "metadata": {},
   "outputs": [],
   "source": [
    "# 模拟 和 打印 requests \n",
    "requests = LLMRequest.create_batch(contexts,requirements,output_formats)\n",
    "print(f\"结果类型：{type(requests)}, 长度：{len(requests)}个 {type(requests[0])}\")\n",
    "pprint(requests)"
   ]
  },
  {
   "cell_type": "markdown",
   "metadata": {},
   "source": [
    "### 结果合并 BatchResult.merge() "
   ]
  },
  {
   "cell_type": "code",
   "execution_count": null,
   "metadata": {},
   "outputs": [],
   "source": [
    "# 打印 BatchResults\n",
    "print(f\"结果类型：{type(results)}, 长度：{len(results)}个 {type(results[0])}\")\n",
    "pprint(results)"
   ]
  },
  {
   "cell_type": "code",
   "execution_count": null,
   "metadata": {},
   "outputs": [],
   "source": [
    "# 打印合并的结果\n",
    "merged_result = BatchResult.merge(results)\n",
    "print(f\"结果类型：{type(merged_result)}\")\n",
    "pprint(merged_result)"
   ]
  },
  {
   "cell_type": "markdown",
   "metadata": {},
   "source": [
    "### 多路投票"
   ]
  },
  {
   "cell_type": "code",
   "execution_count": 38,
   "metadata": {},
   "outputs": [],
   "source": [
    "voted_result = BatchResult.merge_with_probability(results)"
   ]
  },
  {
   "cell_type": "code",
   "execution_count": null,
   "metadata": {},
   "outputs": [],
   "source": [
    "# 打印投票结果\n",
    "print(f\"结果类型：{type(voted_result)}\")\n",
    "pprint(voted_result)"
   ]
  },
  {
   "cell_type": "markdown",
   "metadata": {},
   "source": [
    "# <font color=\"red\"> 3. 测试 outline_llm_analyzer.py </font>\n"
   ]
  },
  {
   "cell_type": "code",
   "execution_count": null,
   "metadata": {},
   "outputs": [],
   "source": [
    "# 初始化\n",
    "import django_setup"
   ]
  },
  {
   "cell_type": "code",
   "execution_count": 2,
   "metadata": {},
   "outputs": [],
   "source": [
    "# 获得docx_elements 用于 outline 分析测试\n",
    "# 导入相关模型：get_user_model, Project, FileRecord, DocumentAnalysis, FileProjectLink, ProjectHistory\n",
    "from apps.doc_analysis.models import DocumentAnalysis\n",
    "from apps.doc_analysis.pipeline.types import DocxElements, OutlineAnalysisResult\n",
    "from pprint import pprint \n",
    "import os, json\n",
    "\n",
    "# 直接引用\"测试分析A\", 并获取其extracted_elements\n",
    "saved_analysis = DocumentAnalysis.objects.get(title=\"测试分析A\")\n",
    "extracted_elements = saved_analysis.extracted_elements\n",
    "\n",
    "# 创建 DocxElements 实例 from models.py 的 extracted_elements\n",
    "docx_elements = DocxElements.from_model(extracted_elements)"
   ]
  },
  {
   "cell_type": "code",
   "execution_count": 3,
   "metadata": {},
   "outputs": [],
   "source": [
    "# 导入 OutlineLLMAnalyzer\n",
    "from apps.doc_analysis.LLM_services.outline_llm_analyzer import OutlineLLMAnalyzer\n",
    "from apps.doc_analysis.LLM_services._llm_data_types import BatchResult"
   ]
  },
  {
   "cell_type": "code",
   "execution_count": 4,
   "metadata": {},
   "outputs": [],
   "source": [
    "#数据准备\n",
    "# 提取<目录标题列表>和<正文标题列表>, formatted的格式，而不是Json格式\n",
    "# 1. 目录标题列表\n",
    "toc_chapters = docx_elements.format_toc_chapters()\n",
    "toc_sections = docx_elements.format_toc_sections()\n",
    "toc_subsections = docx_elements.format_toc_subsections()\n",
    "\n",
    "# 2. 正文标题列表\n",
    "heading_chapters = docx_elements.format_heading_chapters()\n",
    "heading_sections = docx_elements.format_heading_sections()\n",
    "heading_subsections = docx_elements.format_heading_subsections()"
   ]
  },
  {
   "cell_type": "code",
   "execution_count": 5,
   "metadata": {},
   "outputs": [],
   "source": [
    "# build contexts, requirements, output_formats\n",
    "# contexts\n",
    "chapter_context = OutlineLLMAnalyzer.build_context(toc_chapters, heading_chapters)\n",
    "section_context = OutlineLLMAnalyzer.build_context(toc_sections, heading_sections)\n",
    "subsection_context = OutlineLLMAnalyzer.build_context(toc_subsections, heading_subsections)\n",
    "\n",
    "requirement = OutlineLLMAnalyzer.build_requirement()\n",
    "output_format = OutlineLLMAnalyzer.build_output_format()\n",
    "\n",
    "contexts = [chapter_context, chapter_context, chapter_context]\n",
    "requirements = [requirement, requirement, requirement]\n",
    "output_formats = [output_format, output_format, output_format]"
   ]
  },
  {
   "cell_type": "code",
   "execution_count": null,
   "metadata": {},
   "outputs": [],
   "source": [
    "print(chapter_context)"
   ]
  },
  {
   "cell_type": "code",
   "execution_count": null,
   "metadata": {},
   "outputs": [],
   "source": [
    "# 测试批量分析 .batch_analyze()\n",
    "results = await OutlineLLMAnalyzer.batch_analyze(\n",
    "    contexts=contexts, \n",
    "    requirements=requirements, \n",
    "    output_formats=output_formats,\n",
    "    model_name = \"qwen-turbo\"\n",
    "    )"
   ]
  },
  {
   "cell_type": "code",
   "execution_count": null,
   "metadata": {},
   "outputs": [],
   "source": [
    "# 打印结果\n",
    "print(f\"结果类型：{type(results)}, 长度：{len(results)}个 {type(results[0])}\")\n",
    "pprint(results)"
   ]
  },
  {
   "cell_type": "code",
   "execution_count": null,
   "metadata": {},
   "outputs": [],
   "source": [
    "# 多路投票 1\n",
    "voted_result1 = BatchResult.merge_with_probability(results)\n",
    "# 打印投票结果\n",
    "print(f\"结果类型：{type(voted_result1)}\")\n",
    "pprint(voted_result1)"
   ]
  },
  {
   "cell_type": "code",
   "execution_count": null,
   "metadata": {},
   "outputs": [],
   "source": [
    "# 模拟 单个 PROMPT 输入\n",
    "\n",
    "# --------  构建用户输入  --------\n",
    "from apps.doc_analysis.LLM_services._llm_data_types import LLMRequest\n",
    "\n",
    "sim_request = LLMRequest(\n",
    "                context = chapter_context,\n",
    "                requirement = requirement,\n",
    "                output_format = output_format\n",
    "                )\n",
    "\n",
    "# ------- 模拟大模型prompt输入  -------\n",
    "from langchain.prompts import ChatPromptTemplate, SystemMessagePromptTemplate, HumanMessagePromptTemplate\n",
    "sim_prompt = ChatPromptTemplate.from_messages([\n",
    "    SystemMessagePromptTemplate.from_template(\n",
    "        \"你是一个专业的文档分析助手，需要严格按照用户要求处理和分析文档内容。\"\n",
    "    ),\n",
    "    HumanMessagePromptTemplate.from_template(\n",
    "        OutlineLLMAnalyzer.build_prompt_template(),  # 植入prompt模板\n",
    "        input_variables=[\"context\", \n",
    "                         \"requirement\", \n",
    "                        \"output_format\",\n",
    "                        ]\n",
    "    )\n",
    "])\n",
    "#print(request.__dict__)\n",
    "formatted_prompt = await sim_prompt.ainvoke(sim_request.__dict__)\n",
    "\n",
    "# ------  打印大模型的prompt输入  ------\n",
    "#pprint(formatted_prompt)\n",
    "formatted_messages = formatted_prompt.to_messages()\n",
    "# 转换为字典列表\n",
    "messages_dict = [\n",
    "    {\n",
    "        \"role\": message.type,\n",
    "        \"content\": message.content\n",
    "    } for message in formatted_messages\n",
    "]\n",
    "import json\n",
    "prompt_json = json.dumps(messages_dict, ensure_ascii=False, indent=2) \n",
    "pprint(prompt_json)\n"
   ]
  },
  {
   "cell_type": "markdown",
   "metadata": {},
   "source": [
    "# <font color=red>4. 测试 request重复三次组成group <font>"
   ]
  },
  {
   "cell_type": "code",
   "execution_count": null,
   "metadata": {},
   "outputs": [],
   "source": [
    "# 初始化\n",
    "import django_setup"
   ]
  },
  {
   "cell_type": "code",
   "execution_count": 2,
   "metadata": {},
   "outputs": [],
   "source": [
    "# 获得docx_elements 用于 outline 分析测试\n",
    "# 导入相关模型：get_user_model, Project, FileRecord, DocumentAnalysis, FileProjectLink, ProjectHistory\n",
    "from apps.doc_analysis.models import DocumentAnalysis\n",
    "from apps.doc_analysis.pipeline.types import DocxElements, OutlineAnalysisResult\n",
    "from pprint import pprint \n",
    "import os, json\n",
    "\n",
    "# 直接引用\"测试分析A\", 并获取其extracted_elements\n",
    "saved_analysis = DocumentAnalysis.objects.get(title=\"测试分析A\")\n",
    "extracted_elements = saved_analysis.extracted_elements\n",
    "\n",
    "# 创建 DocxElements 实例 from models.py 的 extracted_elements\n",
    "docx_elements = DocxElements.from_model(extracted_elements)"
   ]
  },
  {
   "cell_type": "code",
   "execution_count": 3,
   "metadata": {},
   "outputs": [],
   "source": [
    "# 导入 OutlineLLMAnalyzer\n",
    "from apps.doc_analysis.LLM_services.outline_llm_analyzer import OutlineLLMAnalyzer\n",
    "from apps.doc_analysis.LLM_services._llm_data_types import BatchResult, LLMRequest"
   ]
  },
  {
   "cell_type": "code",
   "execution_count": 4,
   "metadata": {},
   "outputs": [],
   "source": [
    "#数据准备\n",
    "# 提取<目录标题列表>和<正文标题列表>, formatted的格式，而不是Json格式\n",
    "# 1. 目录标题列表\n",
    "toc_chapters = docx_elements.format_toc_chapters()\n",
    "toc_sections = docx_elements.format_toc_sections()[:118]\n",
    "toc_subsections = docx_elements.format_toc_subsections()\n",
    "\n",
    "# 2. 正文标题列表\n",
    "heading_chapters = docx_elements.format_heading_chapters()\n",
    "heading_sections = docx_elements.format_heading_sections()[:120]\n",
    "heading_subsections = docx_elements.format_heading_subsections()"
   ]
  },
  {
   "cell_type": "code",
   "execution_count": null,
   "metadata": {},
   "outputs": [],
   "source": [
    "print(toc_sections)\n",
    "print(heading_sections)"
   ]
  },
  {
   "cell_type": "code",
   "execution_count": 6,
   "metadata": {},
   "outputs": [],
   "source": [
    "# build contexts, requirements, output_formats\n",
    "# contexts\n",
    "chapter_context = OutlineLLMAnalyzer.build_context(toc_chapters, heading_chapters)\n",
    "section_context = OutlineLLMAnalyzer.build_context(toc_sections, heading_sections)\n",
    "subsection_context = OutlineLLMAnalyzer.build_context(toc_subsections, heading_subsections)\n",
    "\n",
    "requirement = OutlineLLMAnalyzer.build_requirement()\n",
    "output_format = OutlineLLMAnalyzer.build_output_format()\n",
    "\n",
    "contexts = [chapter_context, section_context, subsection_context]\n",
    "requirements = [requirement, requirement, requirement]\n",
    "output_formats = [output_format, output_format, output_format]"
   ]
  },
  {
   "cell_type": "markdown",
   "metadata": {},
   "source": [
    "## Repeated Inputs"
   ]
  },
  {
   "cell_type": "code",
   "execution_count": 6,
   "metadata": {},
   "outputs": [],
   "source": [
    "# 构建带有repeat的requests groups\n",
    "requests = []\n",
    "for group_id, (context, requirement, output_format) in enumerate(zip(contexts, requirements, output_formats)):\n",
    "    for _ in range(3):  # 每组重复三次\n",
    "        request = LLMRequest(\n",
    "            context=context,\n",
    "            requirement=requirement,\n",
    "            output_format=output_format,\n",
    "            group_id=group_id  # 添加group_id\n",
    "        )\n",
    "        requests.append(request)\n",
    "                \n"
   ]
  },
  {
   "cell_type": "code",
   "execution_count": null,
   "metadata": {},
   "outputs": [],
   "source": [
    "# 打印requests的结果\n",
    "print(type(requests))\n",
    "requests_dict = []\n",
    "for requst in requests:\n",
    "    request_dict = request.__dict__\n",
    "    requests_dict.append(request_dict)\n",
    "pprint(requests_dict)"
   ]
  },
  {
   "cell_type": "markdown",
   "metadata": {},
   "source": [
    "## BatchLLMService 处理带group_id的LLMRequest"
   ]
  },
  {
   "cell_type": "code",
   "execution_count": null,
   "metadata": {},
   "outputs": [],
   "source": [
    "# 测试批量分析 .batch_analyze()\n",
    "results = await OutlineLLMAnalyzer.batch_analyze_with_repeats(\n",
    "    contexts=contexts, \n",
    "    requirements=requirements, \n",
    "    output_formats=output_formats,\n",
    "    repeats = 3\n",
    "    )"
   ]
  },
  {
   "cell_type": "code",
   "execution_count": null,
   "metadata": {},
   "outputs": [],
   "source": [
    "pprint(results)"
   ]
  },
  {
   "cell_type": "code",
   "execution_count": 13,
   "metadata": {},
   "outputs": [],
   "source": [
    "final_results = BatchResult.merge_hybrid(results)"
   ]
  },
  {
   "cell_type": "code",
   "execution_count": null,
   "metadata": {},
   "outputs": [],
   "source": [
    "pprint(final_results)"
   ]
  },
  {
   "cell_type": "code",
   "execution_count": null,
   "metadata": {},
   "outputs": [],
   "source": [
    "# 测试批量分析 .batch_analyze()\n",
    "results2 = await OutlineLLMAnalyzer.batch_analyze_with_repeats(\n",
    "    contexts=contexts, \n",
    "    requirements=requirements, \n",
    "    output_formats=output_formats,\n",
    "    repeats = 1\n",
    "    )"
   ]
  },
  {
   "cell_type": "code",
   "execution_count": null,
   "metadata": {},
   "outputs": [],
   "source": [
    "pprint(results2)"
   ]
  },
  {
   "cell_type": "code",
   "execution_count": 9,
   "metadata": {},
   "outputs": [],
   "source": [
    "final_results2 = BatchResult.merge_hybrid(results2)"
   ]
  },
  {
   "cell_type": "code",
   "execution_count": null,
   "metadata": {},
   "outputs": [],
   "source": [
    "pprint(final_results2)"
   ]
  },
  {
   "cell_type": "code",
   "execution_count": null,
   "metadata": {},
   "outputs": [],
   "source": [
    "final_results2.result"
   ]
  },
  {
   "cell_type": "markdown",
   "metadata": {},
   "source": []
  },
  {
   "cell_type": "code",
   "execution_count": null,
   "metadata": {},
   "outputs": [],
   "source": [
    "final_results2.success"
   ]
  },
  {
   "cell_type": "markdown",
   "metadata": {},
   "source": [
    "# 5.DocxTree分析"
   ]
  },
  {
   "cell_type": "code",
   "execution_count": 1,
   "metadata": {},
   "outputs": [
    {
     "name": "stdout",
     "output_type": "stream",
     "text": [
      "Development settings loaded\n",
      "INSTALLED_APPS: ['django.contrib.admin', 'django.contrib.auth', 'django.contrib.contenttypes', 'django.contrib.sessions', 'django.contrib.messages', 'django.contrib.staticfiles', 'rest_framework', 'corsheaders', 'storages', 'apps.authentication', 'apps.files', 'apps.projects', 'apps.doc_analysis', 'apps.chat', 'django_filters', 'drf_spectacular', 'rest_framework_simplejwt.token_blacklist', 'django_celery_results', 'django_celery_beat']\n"
     ]
    },
    {
     "name": "stderr",
     "output_type": "stream",
     "text": [
      "INFO 2025-02-23 16:57:07,554 storage default_storage 的类型: COSStorage\n"
     ]
    },
    {
     "name": "stdout",
     "output_type": "stream",
     "text": [
      "Settings从哪里加载？: config.settings.development\n",
      "项目根目录对么？: C:\\Users\\huiwa\\Documents\\_All_Projects\\BidPilot_new\\backend\n",
      "文件存储settings对么？: apps.files.storage.COSStorage\n",
      "文件default_storage对么？: COSStorage\n",
      "\n",
      "已经安装的应用 Installed Apps 完整了么？:\n",
      "- django.contrib.admin\n",
      "- django.contrib.auth\n",
      "- django.contrib.contenttypes\n",
      "- django.contrib.sessions\n",
      "- django.contrib.messages\n",
      "- django.contrib.staticfiles\n",
      "- rest_framework\n",
      "- corsheaders\n",
      "- storages\n",
      "- apps.authentication\n",
      "- apps.files\n",
      "- apps.projects\n",
      "- apps.doc_analysis\n",
      "- apps.chat\n",
      "- django_filters\n",
      "- drf_spectacular\n",
      "- rest_framework_simplejwt.token_blacklist\n",
      "- django_celery_results\n",
      "- django_celery_beat\n"
     ]
    }
   ],
   "source": [
    "# 初始化\n",
    "import django_setup"
   ]
  },
  {
   "cell_type": "code",
   "execution_count": 2,
   "metadata": {},
   "outputs": [],
   "source": [
    "# 获得docx_elements 用于 outline 分析测试\n",
    "# 导入相关模型：get_user_model, Project, FileRecord, DocumentAnalysis, FileProjectLink, ProjectHistory\n",
    "from apps.doc_analysis.models import DocumentAnalysis\n",
    "from apps.doc_analysis.pipeline.types import DocxElements, DocxTree\n",
    "from pprint import pprint \n",
    "import os, json\n",
    "\n",
    "# 直接引用\"测试分析A\", 并获取其extracted_elements\n",
    "saved_analysis = DocumentAnalysis.objects.get(title=\"测试分析A\")\n",
    "extracted_docx_tree = saved_analysis.docxtree\n",
    "\n",
    "# 创建 DocxElements 实例 from models.py 的 extracted_elements\n",
    "docx_tree = DocxTree.from_model(extracted_docx_tree)"
   ]
  },
  {
   "cell_type": "code",
   "execution_count": 3,
   "metadata": {},
   "outputs": [
    {
     "name": "stdout",
     "output_type": "stream",
     "text": [
      "    第一章  招标公告 [Level:1] [ID:46] [Tokens:2316]\n",
      "    第二章 招标需求 [Level:1] [ID:95] [Tokens:1629]\n",
      "    第三章  投标人须知 [Level:1] [ID:124] [Tokens:10019]\n",
      "        前附表 [Level:2] [ID:125] [Tokens:2735]\n",
      "        一、总则 [Level:2] [ID:130] [Tokens:1197]\n",
      "        二、招标文件 [Level:2] [ID:159] [Tokens:635]\n",
      "        三、投标文件的编制 [Level:2] [ID:175] [Tokens:3227]\n",
      "        四、开标 [Level:2] [ID:256] [Tokens:379]\n",
      "        五、评标 [Level:2] [ID:267] [Tokens:1191]\n",
      "        六、定标 [Level:2] [ID:294] [Tokens:168]\n",
      "        七、合同授予 [Level:2] [ID:298] [Tokens:82]\n",
      "        八、履约保证金 [Level:2] [ID:300] [Tokens:54]\n",
      "        九、招标代理服务费的收取 [Level:2] [ID:302] [Tokens:340]\n",
      "    第四章  评标办法及评分标准 [Level:1] [ID:308] [Tokens:7039]\n",
      "        附件一：资格审查表 [Level:2] [ID:352] [Tokens:1031]\n",
      "        附件二：符合性审查表 [Level:2] [ID:355] [Tokens:498]\n",
      "        附件三：评分标准 [Level:2] [ID:357] [Tokens:3406]\n",
      "    第五章 合同条款及格式 [Level:1] [ID:366] [Tokens:7692]\n",
      "        买卖合同 [Level:10] [ID:367] [Tokens:7682]\n",
      "    第六章  投标文件格式 [Level:1] [ID:501] [Tokens:6844]\n",
      "        附件 1 投标函 [Level:2] [ID:515] [Tokens:494]\n",
      "        附件 2 投标保证书 [Level:2] [ID:532] [Tokens:227]\n",
      "        附件 3 无违法记录声明 [Level:2] [ID:540] [Tokens:93]\n",
      "        附件 4 法定代表人授权书 [Level:2] [ID:548] [Tokens:244]\n",
      "        附件 5 投标人情况简介 [Level:2] [ID:556] [Tokens:1312]\n",
      "        附件 6 投标人 2021 年 1 月 1 日起至投标截止日止同类产品销售业绩表 [Level:2] [ID:559] [Tokens:193]\n",
      "        附件 7  投标一览表 [Level:2] [ID:562] [Tokens:425]\n",
      "        附件 8 分项报价表 [Level:2] [ID:570] [Tokens:378]\n",
      "        附件 9 投标方案 [Level:2] [ID:579] [Tokens:196]\n",
      "        附件 10 投标人资格声明 [Level:2] [ID:589] [Tokens:217]\n",
      "        附件 11  资格证明文件 [Level:2] [ID:596] [Tokens:449]\n",
      "        附件 12 与投标人存在“关系”的其他法人单位信息 [Level:2] [ID:607] [Tokens:172]\n",
      "        附件 13 投标人认为必要的其他证明文件 [Level:2] [ID:611] [Tokens:17]\n",
      "        附件 14 技术规格偏离表 [Level:2] [ID:612] [Tokens:363]\n",
      "        附件 15 商务条款偏离表 [Level:2] [ID:618] [Tokens:336]\n",
      "        附件 16 拟投入本项目的人员配备表 [Level:2] [ID:624] [Tokens:173]\n",
      "        附件 17 中标服务费承诺书 [Level:2] [ID:630] [Tokens:343]\n",
      "        附件 18 关于投标保证金的声明 [Level:2] [ID:636] [Tokens:369]\n",
      "        附件 19 开标会声明书 [Level:2] [ID:646] [Tokens:513]\n"
     ]
    }
   ],
   "source": [
    "# 准备数据\n",
    "docx_tree_titles = docx_tree.format_titles()\n",
    "print(docx_tree_titles)"
   ]
  },
  {
   "cell_type": "code",
   "execution_count": 4,
   "metadata": {},
   "outputs": [],
   "source": [
    "from apps.doc_analysis.LLM_services.docx_titles_llm_analyzer import DocxTreeTitlesLLMAnalyzer"
   ]
  },
  {
   "cell_type": "code",
   "execution_count": 5,
   "metadata": {},
   "outputs": [],
   "source": [
    "simulated_prompt, formatted_messages = DocxTreeTitlesLLMAnalyzer.simulate_prompt(docx_tree_titles)"
   ]
  },
  {
   "cell_type": "code",
   "execution_count": 6,
   "metadata": {},
   "outputs": [
    {
     "name": "stdout",
     "output_type": "stream",
     "text": [
      "<class 'list'> <class 'langchain_core.messages.system.SystemMessage'> <class 'langchain_core.messages.human.HumanMessage'>\n",
      "[SystemMessage(content='你是一个专业的招标文档分析助手，帮助用户分析文档的结构和内容。', additional_kwargs={}, response_metadata={}),\n",
      " HumanMessage(content='\\n## 任务目标: \\n\\n分析招标文档的章节结构，识别出内容过于庞大或主题范围过广，需要进一步细化的章节。\\n\\n\\n\\n## 输入数据说明: \\n    第一章  招标公告 [Level:1] [ID:46] [Tokens:2316]\\n    第二章 招标需求 [Level:1] [ID:95] [Tokens:1629]\\n    第三章  投标人须知 [Level:1] [ID:124] [Tokens:10019]\\n        前附表 [Level:2] [ID:125] [Tokens:2735]\\n        一、总则 [Level:2] [ID:130] [Tokens:1197]\\n        二、招标文件 [Level:2] [ID:159] [Tokens:635]\\n        三、投标文件的编制 [Level:2] [ID:175] [Tokens:3227]\\n        四、开标 [Level:2] [ID:256] [Tokens:379]\\n        五、评标 [Level:2] [ID:267] [Tokens:1191]\\n        六、定标 [Level:2] [ID:294] [Tokens:168]\\n        七、合同授予 [Level:2] [ID:298] [Tokens:82]\\n        八、履约保证金 [Level:2] [ID:300] [Tokens:54]\\n        九、招标代理服务费的收取 [Level:2] [ID:302] [Tokens:340]\\n    第四章  评标办法及评分标准 [Level:1] [ID:308] [Tokens:7039]\\n        附件一：资格审查表 [Level:2] [ID:352] [Tokens:1031]\\n        附件二：符合性审查表 [Level:2] [ID:355] [Tokens:498]\\n        附件三：评分标准 [Level:2] [ID:357] [Tokens:3406]\\n    第五章 合同条款及格式 [Level:1] [ID:366] [Tokens:7692]\\n        买卖合同 [Level:10] [ID:367] [Tokens:7682]\\n    第六章  投标文件格式 [Level:1] [ID:501] [Tokens:6844]\\n        附件 1 投标函 [Level:2] [ID:515] [Tokens:494]\\n        附件 2 投标保证书 [Level:2] [ID:532] [Tokens:227]\\n        附件 3 无违法记录声明 [Level:2] [ID:540] [Tokens:93]\\n        附件 4 法定代表人授权书 [Level:2] [ID:548] [Tokens:244]\\n        附件 5 投标人情况简介 [Level:2] [ID:556] [Tokens:1312]\\n        附件 6 投标人 2021 年 1 月 1 日起至投标截止日止同类产品销售业绩表 [Level:2] [ID:559] [Tokens:193]\\n        附件 7  投标一览表 [Level:2] [ID:562] [Tokens:425]\\n        附件 8 分项报价表 [Level:2] [ID:570] [Tokens:378]\\n        附件 9 投标方案 [Level:2] [ID:579] [Tokens:196]\\n        附件 10 投标人资格声明 [Level:2] [ID:589] [Tokens:217]\\n        附件 11  资格证明文件 [Level:2] [ID:596] [Tokens:449]\\n        附件 12 与投标人存在“关系”的其他法人单位信息 [Level:2] [ID:607] [Tokens:172]\\n        附件 13 投标人认为必要的其他证明文件 [Level:2] [ID:611] [Tokens:17]\\n        附件 14 技术规格偏离表 [Level:2] [ID:612] [Tokens:363]\\n        附件 15 商务条款偏离表 [Level:2] [ID:618] [Tokens:336]\\n        附件 16 拟投入本项目的人员配备表 [Level:2] [ID:624] [Tokens:173]\\n        附件 17 中标服务费承诺书 [Level:2] [ID:630] [Tokens:343]\\n        附件 18 关于投标保证金的声明 [Level:2] [ID:636] [Tokens:369]\\n        附件 19 开标会声明书 [Level:2] [ID:646] [Tokens:513]\\n\\n## 输出格式说明: \\n1. 只输出JSON格式的结果，不要包含任何额外的解释或说明\\n2. 不要使用任何Markdown格式（包括```json```等标识符）\\n3. 确保JSON格式严格有效\\n4. 如果元素不存在，请使用[]\\n\\n请按以下JSON格式输出分析结果：\\n{\\n    \"titles_to_detail\": [\\n        {\\n            \"title\": \"标题内容\",\\n            \"ID\": \"标题ID\",\\n            \"level\": \"标题层级\"\\n            \"reasons\": \"说明需要细化的原因\"\\n        }\\n    ]\\n}\\n\\n        ', additional_kwargs={}, response_metadata={})]\n",
      "[{'content': '你是一个专业的招标文档分析助手，帮助用户分析文档的结构和内容。', 'role': 'system'},\n",
      " {'content': '\\n'\n",
      "             '## 任务目标: \\n'\n",
      "             '\\n'\n",
      "             '分析招标文档的章节结构，识别出内容过于庞大或主题范围过广，需要进一步细化的章节。\\n'\n",
      "             '\\n'\n",
      "             '\\n'\n",
      "             '\\n'\n",
      "             '## 输入数据说明: \\n'\n",
      "             '    第一章  招标公告 [Level:1] [ID:46] [Tokens:2316]\\n'\n",
      "             '    第二章 招标需求 [Level:1] [ID:95] [Tokens:1629]\\n'\n",
      "             '    第三章  投标人须知 [Level:1] [ID:124] [Tokens:10019]\\n'\n",
      "             '        前附表 [Level:2] [ID:125] [Tokens:2735]\\n'\n",
      "             '        一、总则 [Level:2] [ID:130] [Tokens:1197]\\n'\n",
      "             '        二、招标文件 [Level:2] [ID:159] [Tokens:635]\\n'\n",
      "             '        三、投标文件的编制 [Level:2] [ID:175] [Tokens:3227]\\n'\n",
      "             '        四、开标 [Level:2] [ID:256] [Tokens:379]\\n'\n",
      "             '        五、评标 [Level:2] [ID:267] [Tokens:1191]\\n'\n",
      "             '        六、定标 [Level:2] [ID:294] [Tokens:168]\\n'\n",
      "             '        七、合同授予 [Level:2] [ID:298] [Tokens:82]\\n'\n",
      "             '        八、履约保证金 [Level:2] [ID:300] [Tokens:54]\\n'\n",
      "             '        九、招标代理服务费的收取 [Level:2] [ID:302] [Tokens:340]\\n'\n",
      "             '    第四章  评标办法及评分标准 [Level:1] [ID:308] [Tokens:7039]\\n'\n",
      "             '        附件一：资格审查表 [Level:2] [ID:352] [Tokens:1031]\\n'\n",
      "             '        附件二：符合性审查表 [Level:2] [ID:355] [Tokens:498]\\n'\n",
      "             '        附件三：评分标准 [Level:2] [ID:357] [Tokens:3406]\\n'\n",
      "             '    第五章 合同条款及格式 [Level:1] [ID:366] [Tokens:7692]\\n'\n",
      "             '        买卖合同 [Level:10] [ID:367] [Tokens:7682]\\n'\n",
      "             '    第六章  投标文件格式 [Level:1] [ID:501] [Tokens:6844]\\n'\n",
      "             '        附件 1 投标函 [Level:2] [ID:515] [Tokens:494]\\n'\n",
      "             '        附件 2 投标保证书 [Level:2] [ID:532] [Tokens:227]\\n'\n",
      "             '        附件 3 无违法记录声明 [Level:2] [ID:540] [Tokens:93]\\n'\n",
      "             '        附件 4 法定代表人授权书 [Level:2] [ID:548] [Tokens:244]\\n'\n",
      "             '        附件 5 投标人情况简介 [Level:2] [ID:556] [Tokens:1312]\\n'\n",
      "             '        附件 6 投标人 2021 年 1 月 1 日起至投标截止日止同类产品销售业绩表 [Level:2] '\n",
      "             '[ID:559] [Tokens:193]\\n'\n",
      "             '        附件 7  投标一览表 [Level:2] [ID:562] [Tokens:425]\\n'\n",
      "             '        附件 8 分项报价表 [Level:2] [ID:570] [Tokens:378]\\n'\n",
      "             '        附件 9 投标方案 [Level:2] [ID:579] [Tokens:196]\\n'\n",
      "             '        附件 10 投标人资格声明 [Level:2] [ID:589] [Tokens:217]\\n'\n",
      "             '        附件 11  资格证明文件 [Level:2] [ID:596] [Tokens:449]\\n'\n",
      "             '        附件 12 与投标人存在“关系”的其他法人单位信息 [Level:2] [ID:607] '\n",
      "             '[Tokens:172]\\n'\n",
      "             '        附件 13 投标人认为必要的其他证明文件 [Level:2] [ID:611] [Tokens:17]\\n'\n",
      "             '        附件 14 技术规格偏离表 [Level:2] [ID:612] [Tokens:363]\\n'\n",
      "             '        附件 15 商务条款偏离表 [Level:2] [ID:618] [Tokens:336]\\n'\n",
      "             '        附件 16 拟投入本项目的人员配备表 [Level:2] [ID:624] [Tokens:173]\\n'\n",
      "             '        附件 17 中标服务费承诺书 [Level:2] [ID:630] [Tokens:343]\\n'\n",
      "             '        附件 18 关于投标保证金的声明 [Level:2] [ID:636] [Tokens:369]\\n'\n",
      "             '        附件 19 开标会声明书 [Level:2] [ID:646] [Tokens:513]\\n'\n",
      "             '\\n'\n",
      "             '## 输出格式说明: \\n'\n",
      "             '1. 只输出JSON格式的结果，不要包含任何额外的解释或说明\\n'\n",
      "             '2. 不要使用任何Markdown格式（包括```json```等标识符）\\n'\n",
      "             '3. 确保JSON格式严格有效\\n'\n",
      "             '4. 如果元素不存在，请使用[]\\n'\n",
      "             '\\n'\n",
      "             '请按以下JSON格式输出分析结果：\\n'\n",
      "             '{\\n'\n",
      "             '    \"titles_to_detail\": [\\n'\n",
      "             '        {\\n'\n",
      "             '            \"title\": \"标题内容\",\\n'\n",
      "             '            \"ID\": \"标题ID\",\\n'\n",
      "             '            \"level\": \"标题层级\"\\n'\n",
      "             '            \"reasons\": \"说明需要细化的原因\"\\n'\n",
      "             '        }\\n'\n",
      "             '    ]\\n'\n",
      "             '}\\n'\n",
      "             '\\n'\n",
      "             '        ',\n",
      "  'role': 'human'}]\n"
     ]
    }
   ],
   "source": [
    "print(type(simulated_prompt), type(simulated_prompt[0]), type(simulated_prompt[1]))\n",
    "pprint(simulated_prompt)\n",
    "pprint(formatted_messages)"
   ]
  }
 ],
 "metadata": {
  "kernelspec": {
   "display_name": "BidPilot_new_env",
   "language": "python",
   "name": "python3"
  },
  "language_info": {
   "codemirror_mode": {
    "name": "ipython",
    "version": 3
   },
   "file_extension": ".py",
   "mimetype": "text/x-python",
   "name": "python",
   "nbconvert_exporter": "python",
   "pygments_lexer": "ipython3",
   "version": "3.12.1"
  }
 },
 "nbformat": 4,
 "nbformat_minor": 2
}
