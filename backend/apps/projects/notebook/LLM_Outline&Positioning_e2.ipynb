{
 "cells": [
  {
   "cell_type": "markdown",
   "metadata": {},
   "source": [
    "## 初始化"
   ]
  },
  {
   "cell_type": "code",
   "execution_count": null,
   "metadata": {},
   "outputs": [],
   "source": [
    "# 初始化\n",
    "import django_setup\n",
    "import nest_asyncio\n",
    "nest_asyncio.apply()\n",
    "# 添加cache \n",
    "# 以下要求NotebookCacheManager.py 和 cache目录都在 当前测试文件的相同目录下（在notebook目录下）\n",
    "from NotebookCacheManager import NotebookCacheManager\n",
    "cache = NotebookCacheManager(\"cache_e2\")\n",
    "\n",
    "from pprint import pprint\n",
    "\n",
    "# cache使用示例： \n",
    "# cache.save('存储文件名', 参数)，  a_loaded = cache.load('存储文件名')， 存在pkl文件下，点开为乱码\n",
    "# cache.save_json, cache.load_json, 存在json文件下，点开可读\n",
    "# cache.save_md, cache.load_md，存在md文件下，点开可读\n",
    "# cache.save_json('outline1/test1') 可构建二级目录"
   ]
  },
  {
   "cell_type": "markdown",
   "metadata": {},
   "source": [
    "## PART-1. 进入Outline_L1 分析\n"
   ]
  },
  {
   "cell_type": "code",
   "execution_count": 2,
   "metadata": {},
   "outputs": [],
   "source": [
    "# 说明： \n",
    "# 对于长文本，直接提取多个层级的标题效果不佳且不稳定。因此，我们将分步提取标题，先提取一级标题，然后二级标题，最后三级标题。<br>\n",
    "# 为进行测试，我们需要：<br> \n",
    "# 1. 项目容器： 测试项目1 <br>\n",
    "# 2. tender_file_extraction 准备就绪 <br>\n",
    "# 3. 模型输入： context, instruction, supplement, output_format, prompt_template, index_path_map，都是即时生成，不存储。<br>\n",
    "# 4. 调用模型的函数：从task中简化。<br>\n",
    "# 5. 章节的截取函数： TiptapUtils.extract_indexed_paragraphs， 在prepare_context中已调用<br>\n",
    "# 6. 任务结果L1： 初始化为空 <br>\n",
    "# 7. 任务结果L2： 初始化为空 <br>\n",
    "# 8. 任务结果L3： 初始化为空 <br>\n",
    "# </font>"
   ]
  },
  {
   "cell_type": "markdown",
   "metadata": {},
   "source": [
    "#### <font color=\"red\"> 1. 准备tender_file_extraction</font>"
   ]
  },
  {
   "cell_type": "code",
   "execution_count": null,
   "metadata": {},
   "outputs": [],
   "source": [
    "# 招标文件提取内容 准备就绪\n",
    "from apps.projects.models import Project, Task, TaskType\n",
    "from pprint import pprint\n",
    "project = Project.objects.get(project_name='test2')\n",
    "task = Task.objects.get(stage__project=project, type=TaskType.OUTLINE_ANALYSIS_TASK)\n",
    "stage = task.stage\n",
    "# --- 如果project.tender_file_extraction 为空，则需要从关联的docx_extraction_task中获取\n",
    "# extraction_task = Task.objects.get(stage__project=project, type=TaskType.DOCX_EXTRACTION_TASK)\n",
    "# print(extraction_task.docx_tiptap)\n",
    "# print(type(extraction_task.docx_tiptap))\n",
    "# pprint(extraction_task.docx_tiptap)\n",
    "# project = Project.objects.get(project_name='测试项目1')\n",
    "# project.tender_file_extraction = extraction_task.docx_tiptap\n",
    "# project.save()\n",
    "# project = Project.objects.get(project_name='测试项目1')\n",
    "pprint(project.tender_file_extraction)\n",
    "cache.save_json('tender_file_extraction', project.tender_file_extraction)"
   ]
  },
  {
   "cell_type": "code",
   "execution_count": null,
   "metadata": {},
   "outputs": [],
   "source": [
    "# 存储位就绪\n",
    "print(f\"outline_L1存储：{project.outline_L1}\")\n",
    "print(f\"outline_L2存储：{project.outline_L2}\")\n",
    "print(f\"outline_L3存储：{project.outline_L3}\")\n",
    "print(f\"outline_L1存储：{project.index_path_map_L1}\")\n",
    "print(f\"outline_L2存储：{project.index_path_map_L2}\")\n",
    "print(f\"outline_L3存储：{project.index_path_map_L3}\")"
   ]
  },
  {
   "cell_type": "markdown",
   "metadata": {},
   "source": [
    "#### <font color=\"red\"> 2. 分析前数据准备 model_params_l1, task_l1, meta_l1</font>"
   ]
  },
  {
   "cell_type": "code",
   "execution_count": 4,
   "metadata": {},
   "outputs": [],
   "source": [
    "tender_file_extraction = cache.load_json('tender_file_extraction')\n",
    "from pprint import pprint"
   ]
  },
  {
   "cell_type": "code",
   "execution_count": null,
   "metadata": {},
   "outputs": [],
   "source": [
    "# 借用outline_analysis_L1.py 的函数， 进行任务准备 \n",
    "\n",
    "# 集成时，用以下代替，模型传参 会先存储到数据库。\n",
    "from apps.projects.services.tasks_preparation.outline_analysis_L1 import OutlineAnalysisL1\n",
    "# #获取LLM分析相关数据\n",
    "data_cooker_l1 = OutlineAnalysisL1(tender_file_extraction)\n",
    "model_params_l1, task_l1, meta_l1 = data_cooker_l1.output_params()\n",
    "# # 模拟的prompt, \n",
    "simulated_prompt, formatted_message = data_cooker_l1.simulate_prompt()\n",
    "cache.save_json('outline_analysis_L1/model_params_l1', model_params_l1)\n",
    "cache.save_json('outline_analysis_L1/task_l1', task_l1)\n",
    "cache.save_json('outline_analysis_L1/meta_l1', meta_l1)\n",
    "cache.save_json('outline_analysis_L1/formatted_message', formatted_message)\n"
   ]
  },
  {
   "cell_type": "markdown",
   "metadata": {},
   "source": [
    "#### <font color=\"red\"> 3. 大模型分析</font>"
   ]
  },
  {
   "cell_type": "code",
   "execution_count": null,
   "metadata": {},
   "outputs": [],
   "source": [
    "# 构建LLM分析器 并 分析\n",
    "from apps.projects.services.LLM_service.LLMcontainer import LLMService\n",
    "analyzer = LLMService(model_params_l1)\n",
    "outline_L1 = await analyzer.process(task_l1)\n",
    "pprint(outline_L1)\n"
   ]
  },
  {
   "cell_type": "code",
   "execution_count": 8,
   "metadata": {},
   "outputs": [],
   "source": [
    "cache.save_md('outline_analysis_L1/outline_L1', outline_L1)"
   ]
  },
  {
   "cell_type": "markdown",
   "metadata": {},
   "source": [
    "#### <font color=\"red\"> 4. 将Outline_L1 应用到tender_file_extraction中</font>\n",
    "\n"
   ]
  },
  {
   "cell_type": "code",
   "execution_count": 9,
   "metadata": {},
   "outputs": [],
   "source": [
    "# 应用outline_L1分析结果，数据准备： outline_L1, index_path_map_l1, tender_file_extraction \n",
    "import json\n",
    "outline_L1 = cache.load_md('outline_analysis_L1/outline_L1')\n",
    "meta_l1 = cache.load_json('outline_analysis_L1/meta_l1')\n",
    "tender_file_extraction = cache.load_json('tender_file_extraction')\n",
    "index_path_map_L1 = meta_l1['index_path_map']\n",
    "outline_L1_dict = json.loads(outline_L1)"
   ]
  },
  {
   "cell_type": "code",
   "execution_count": null,
   "metadata": {},
   "outputs": [],
   "source": [
    "# 将outline_L1 应用到tender_file_extraction中, 使用TiptapUtils.update_titles_from_list\n",
    "from apps.projects.tiptap.helpers import TiptapUtils\n",
    "updated_tiptap_content = TiptapUtils.update_titles_from_list(tender_file_extraction, outline_L1_dict, index_path_map_L1)\n",
    "# 检查标题是否已经改到内容里去了？\n",
    "from apps.projects.tiptap.helpers import TiptapUtils\n",
    "headings = TiptapUtils.find_all_headings(updated_tiptap_content)\n",
    "pprint(headings)\n",
    "print(TiptapUtils.print_headings(updated_tiptap_content))"
   ]
  },
  {
   "cell_type": "code",
   "execution_count": 11,
   "metadata": {},
   "outputs": [],
   "source": [
    "tender_file_extraction_L1 = updated_tiptap_content\n",
    "cache.save_json('tender_file_extraction_L1', tender_file_extraction_L1)\n",
    "\n"
   ]
  },
  {
   "cell_type": "markdown",
   "metadata": {},
   "source": [
    "## PART-2. 开始执行Outline_L2 分析\n"
   ]
  },
  {
   "cell_type": "code",
   "execution_count": null,
   "metadata": {},
   "outputs": [],
   "source": [
    "# 初始化\n",
    "import django_setup\n",
    "import nest_asyncio\n",
    "nest_asyncio.apply()\n",
    "# 添加cache \n",
    "# 以下要求NotebookCacheManager.py 和 cache目录都在 当前测试文件的相同目录下（在notebook目录下）\n",
    "from NotebookCacheManager import NotebookCacheManager\n",
    "cache = NotebookCacheManager(\"cache_e2\")\n",
    "\n",
    "from pprint import pprint\n",
    "\n",
    "# cache使用示例： \n",
    "# cache.save('存储文件名', 参数)，  a_loaded = cache.load('存储文件名')， 存在pkl文件下，点开为乱码\n",
    "# cache.save_json, cache.load_json, 存在json文件下，点开可读\n",
    "# cache.save_md, cache.load_md，存在md文件下，点开可读\n",
    "# cache.save_json('outline1/test1') 可构建二级目录"
   ]
  },
  {
   "cell_type": "code",
   "execution_count": 27,
   "metadata": {},
   "outputs": [],
   "source": [
    "# 说明： 使用TiptapUtils.extract_chapters 提取章节， 并根据章节分块， 好处是,index被保留。<br> \n",
    "# - 带有L1标题的tiptap JSON 内容已经ready <br>\n",
    "# - 我们需要解决：<br>\n",
    "#     1）提取章节？-> 在原文 基础上 提取段落内容（str）， 根据章节分块， 好处是,index被保留。<br>\n",
    "#     2）提供章节段落内容，重复类似Outline_L1的分析: <br>\n",
    "#         a. 准备容器，更新的文件内容，存储任务结果字段？<br>\n",
    "#         b. 准备大模型的输入，并调用模型？ (这个过程，需要考虑并发分析，提高效率)<br>\n",
    "#         c. 将结果应用到tiptap JSON的 内容中？<br>\n",
    "#         d. 存储结果到project.tender_file_extraction <br>\n"
   ]
  },
  {
   "cell_type": "code",
   "execution_count": 12,
   "metadata": {},
   "outputs": [],
   "source": [
    "tender_file_extraction_L1 =cache.load_json('tender_file_extraction_L1')"
   ]
  },
  {
   "cell_type": "code",
   "execution_count": null,
   "metadata": {},
   "outputs": [],
   "source": [
    "# 提取章节\n",
    "from apps.projects.tiptap.helpers import TiptapUtils\n",
    "headings = TiptapUtils.print_headings(tender_file_extraction_L1)\n",
    "print(headings)"
   ]
  },
  {
   "cell_type": "markdown",
   "metadata": {},
   "source": [
    "#### <font color=\"red\"> 1. 通过outline_analysis_L2 进行传参准备</font>\n",
    "<font color=\"orange\" size=\"3\">\n",
    "- 在outline_analysis_L2 中， 根据章节分块， index被保留。<br>\n",
    "- 使用了TiptapUtils.extract_chapters 工具，返回 字典对象chapter_set{}， 包含chapters 和 index_path_map 两个键名<br>\n",
    "- 在outline_analysis_L2 中， 使用chapter_set['chapters'] for循环 取得chapter['paragraphs'] 作为context<br>\n",
    "- 在outline_analysis_L2 的输出，将每个章节分析所需的传参 单独打包， 并返回 列表对象param_set[]<br>\n",
    "</font>"
   ]
  },
  {
   "cell_type": "code",
   "execution_count": 14,
   "metadata": {},
   "outputs": [],
   "source": [
    "# 集成时，用以下代替，模型传参 会先存储到数据库。\n",
    "from apps.projects.services.tasks_preparation.outline_analysis_L2 import OutlineAnalysisL2\n",
    "# #获取LLM分析相关数据\n",
    "data_cooker_l2 = OutlineAnalysisL2(tender_file_extraction_L1)\n",
    "model_params_l2, tasks_l2, meta_l2 = data_cooker_l2.output_params()\n",
    "# # 模拟的prompt, \n",
    "simulated_prompts_l2, formatted_messages_l2 = data_cooker_l2.simulate_prompt()\n",
    "cache.save_json('outline_analysis_L2/model_params_l2', model_params_l2)\n",
    "cache.save_json('outline_analysis_L2/tasks_l2', tasks_l2)\n",
    "cache.save_json('outline_analysis_L2/meta_l2', meta_l2)\n",
    "cache.save_json('outline_analysis_L2/formatted_message', formatted_messages_l2)"
   ]
  },
  {
   "cell_type": "markdown",
   "metadata": {},
   "source": [
    "#### <font color=\"red\"> 2. 大模型逐个章节进行分析</font>"
   ]
  },
  {
   "cell_type": "code",
   "execution_count": null,
   "metadata": {},
   "outputs": [],
   "source": [
    "# 构建LLM分析器 并 分析\n",
    "from apps.projects.services.LLM_service.LLMcontainer import LLMService\n",
    "analyzer = LLMService(model_params_l2)\n",
    "outlines_L2 = await analyzer.process_with_limit(tasks_l2, limit=5)\n",
    "pprint(outlines_L2)\n",
    "\n",
    "# 存储OUTLINE_L2 结果\n",
    "cache.save_json('outline_analysis_L2/outlines_L2', outlines_L2)"
   ]
  },
  {
   "cell_type": "markdown",
   "metadata": {},
   "source": [
    "#### <font color=\"red\"> 3. 将Outline_L2 应用到tender_file_extraction_L1中</font>\n",
    "\n"
   ]
  },
  {
   "cell_type": "code",
   "execution_count": 16,
   "metadata": {},
   "outputs": [],
   "source": [
    "# 应用outline_L1分析结果，数据准备： outline_L1, index_path_map_l1, tender_file_extraction \n",
    "import json\n",
    "outlines_L2 = cache.load_json('outline_analysis_L2/outlines_L2')\n",
    "meta_l2 = cache.load_json('outline_analysis_L2/meta_l2')\n",
    "tender_file_extraction_L1 = cache.load_json('tender_file_extraction_L1')\n",
    "index_path_map_L2 = meta_l2['index_path_map']"
   ]
  },
  {
   "cell_type": "code",
   "execution_count": null,
   "metadata": {},
   "outputs": [],
   "source": [
    "# 解析OUTLINE_L2 每个JSON字符串并合并\n",
    "outlines_L2_dict = []\n",
    "for outline in outlines_L2:\n",
    "    parsed = json.loads(outline)\n",
    "    outlines_L2_dict.extend(parsed)\n",
    "\n",
    "# 将所有的'level'值加1\n",
    "for item in outlines_L2_dict:\n",
    "    if 'level' in item:\n",
    "        item['level'] += 1\n",
    "\n",
    "from pprint import pprint\n",
    "pprint(outlines_L2_dict)"
   ]
  },
  {
   "cell_type": "code",
   "execution_count": null,
   "metadata": {},
   "outputs": [],
   "source": [
    "# 将outline_L1 应用到tender_file_extraction中, 使用TiptapUtils.update_titles_from_list\n",
    "from apps.projects.tiptap.helpers import TiptapUtils\n",
    "updated_tiptap_content = TiptapUtils.update_titles_from_list(tender_file_extraction_L1, outlines_L2_dict, index_path_map_L2)\n",
    "# 检查标题是否已经改到内容里去了？\n",
    "from apps.projects.tiptap.helpers import TiptapUtils\n",
    "headings = TiptapUtils.find_all_headings(updated_tiptap_content)\n",
    "from pprint import pprint\n",
    "#pprint(headings)\n",
    "print(TiptapUtils.print_headings(updated_tiptap_content))\n",
    "\n",
    "# 存储tender_file_extraction_L2 结果\n",
    "cache.save_json('tender_file_extraction_L2', updated_tiptap_content)\n"
   ]
  },
  {
   "cell_type": "code",
   "execution_count": null,
   "metadata": {},
   "outputs": [],
   "source": [
    "from apps.projects.tiptap.client import TiptapClient\n",
    "md_doc = TiptapClient().json_to_markdown(updated_tiptap_content)\n",
    "html_doc = TiptapClient().json_to_html(updated_tiptap_content)\n",
    "pprint(md_doc)\n",
    "from IPython.display import display, HTML, Markdown\n",
    "display(Markdown(md_doc[\"data\"]))"
   ]
  },
  {
   "cell_type": "code",
   "execution_count": null,
   "metadata": {},
   "outputs": [],
   "source": [
    "pprint(html_doc)\n",
    "from IPython.display import display, HTML, Markdown\n",
    "display(HTML(html_doc[\"data\"]))"
   ]
  },
  {
   "cell_type": "code",
   "execution_count": null,
   "metadata": {},
   "outputs": [],
   "source": [
    "html_doc_back = TiptapClient().markdown_to_html(md_doc[\"data\"])\n",
    "display(HTML(html_doc_back[\"data\"]))"
   ]
  },
  {
   "cell_type": "markdown",
   "metadata": {},
   "source": [
    "## PART-3. 构建增强型目录结构 （添加图表目录）"
   ]
  },
  {
   "cell_type": "code",
   "execution_count": 23,
   "metadata": {},
   "outputs": [],
   "source": [
    "# 初始化\n",
    "import django_setup\n",
    "import nest_asyncio\n",
    "nest_asyncio.apply()\n",
    "# 添加cache \n",
    "# 以下要求NotebookCacheManager.py 和 cache目录都在 当前测试文件的相同目录下（在notebook目录下）\n",
    "from NotebookCacheManager import NotebookCacheManager\n",
    "cache = NotebookCacheManager(\"cache_e2\")\n",
    "\n",
    "from pprint import pprint\n",
    "\n",
    "# cache使用示例： \n",
    "# cache.save('存储文件名', 参数)，  a_loaded = cache.load('存储文件名')， 存在pkl文件下，点开为乱码\n",
    "# cache.save_json, cache.load_json, 存在json文件下，点开可读\n",
    "# cache.save_md, cache.load_md，存在md文件下，点开可读\n",
    "# cache.save_json('outline1/test1') 可构建二级目录"
   ]
  },
  {
   "cell_type": "code",
   "execution_count": null,
   "metadata": {},
   "outputs": [],
   "source": [
    "from apps.projects.tiptap.helpers import TiptapUtils\n",
    "tender_file_extraction_L2 = cache.load_json('tender_file_extraction_L2')\n",
    "print(TiptapUtils.print_headings(tender_file_extraction_L2))"
   ]
  },
  {
   "cell_type": "markdown",
   "metadata": {},
   "source": [
    "#### <font color=\"red\"> 1. 准备图表分析数据</font>"
   ]
  },
  {
   "cell_type": "code",
   "execution_count": 3,
   "metadata": {},
   "outputs": [],
   "source": [
    "# extract tables 已经用在了outline_analysis_tb.py 的 prepare_context 中 \n",
    "# from apps.projects.tiptap.helpers import TiptapUtils\n",
    "# tables, index_path_map = TiptapUtils.extract_tables_to_markdown(tender_file_extraction_L2)\n",
    "# pprint(tables[0][\"markdown\"])"
   ]
  },
  {
   "cell_type": "code",
   "execution_count": 25,
   "metadata": {},
   "outputs": [],
   "source": [
    "# 集成时，用以下代替，模型传参 会先存储到数据库。\n",
    "from apps.projects.services.tasks_preparation.outline_analysis_tb import OutlineAnalysisTb\n",
    "# #获取LLM分析相关数据\n",
    "data_cooker_tb = OutlineAnalysisTb(tender_file_extraction_L2)\n",
    "model_params_tb, tasks_tb, meta_tb = data_cooker_tb.output_params()\n",
    "# # 模拟的prompt, \n",
    "simulated_prompts_tb, formatted_messages_tb = data_cooker_tb.simulate_prompt()\n",
    "cache.save_json('outline_analysis_tb/model_params_tb', model_params_tb)\n",
    "cache.save_json('outline_analysis_tb/tasks_tb', tasks_tb)\n",
    "cache.save_json('outline_analysis_tb/meta_tb', meta_tb)\n",
    "cache.save_json('outline_analysis_tb/formatted_messages_tb', formatted_messages_tb)"
   ]
  },
  {
   "cell_type": "code",
   "execution_count": null,
   "metadata": {},
   "outputs": [],
   "source": [
    "pprint(tasks_tb[1])"
   ]
  },
  {
   "cell_type": "markdown",
   "metadata": {},
   "source": [
    "#### <font color=\"red\"> 2. 执行图表分析</font>"
   ]
  },
  {
   "cell_type": "code",
   "execution_count": null,
   "metadata": {},
   "outputs": [],
   "source": [
    "# 构建LLM分析器 并 分析\n",
    "from apps.projects.services.LLM_service.LLMcontainer import LLMService\n",
    "analyzer = LLMService(model_params_tb)\n",
    "outlines_tb = await analyzer.process_with_limit(tasks_tb, limit=5)\n",
    "pprint(outlines_tb)"
   ]
  },
  {
   "cell_type": "code",
   "execution_count": null,
   "metadata": {},
   "outputs": [],
   "source": [
    "# 将图表分析输出的结果 进行标记清洗 和 合并， 输出JSON dict 格式\n",
    "from apps.projects.services.task_service import process_concurrent_JSON_outputs\n",
    "cleaned_outlines_tb = process_concurrent_JSON_outputs(outlines_tb)\n",
    "pprint(cleaned_outlines_tb)\n",
    "cache.save_json('outline_analysis_tb/outlines_tb', cleaned_outlines_tb)"
   ]
  },
  {
   "cell_type": "markdown",
   "metadata": {},
   "source": [
    "#### <font color=\"red\"> 2. 应用图表目录，构建增强型目录结构</font>"
   ]
  },
  {
   "cell_type": "code",
   "execution_count": 30,
   "metadata": {},
   "outputs": [],
   "source": [
    "# 应用outline_L1分析结果，数据准备： outline_L1, index_path_map_l1, tender_file_extraction \n",
    "import json\n",
    "captions = cache.load_json('outline_analysis_tb/outlines_tb')\n",
    "meta_tb = cache.load_json('outline_analysis_tb/meta_tb')\n",
    "tender_file_extraction_L2 = cache.load_json('tender_file_extraction_L2')\n",
    "index_path_map_tb = meta_tb['index_path_map']"
   ]
  },
  {
   "cell_type": "code",
   "execution_count": null,
   "metadata": {},
   "outputs": [],
   "source": [
    "# 给节点添加caption note\n",
    "from apps.projects.tiptap.helpers import TiptapUtils\n",
    "updated_tiptap_content = TiptapUtils.add_captions_to_nodes(tender_file_extraction_L2, captions, index_path_map_tb)\n",
    "pprint(updated_tiptap_content)\n",
    "cache.save_json('tender_file_extraction_L3', updated_tiptap_content)"
   ]
  },
  {
   "cell_type": "code",
   "execution_count": null,
   "metadata": {},
   "outputs": [],
   "source": [
    "#打印 增加型文档大纲框架 \n",
    "from apps.projects.tiptap.helpers import TiptapUtils\n",
    "result=TiptapUtils.print_enhanced_toc(updated_tiptap_content)\n",
    "print(result)"
   ]
  },
  {
   "cell_type": "markdown",
   "metadata": {},
   "source": [
    "#### <font color=\"red\"> 3. 添加前言标题</font>"
   ]
  },
  {
   "cell_type": "code",
   "execution_count": null,
   "metadata": {},
   "outputs": [],
   "source": [
    "tender_file_extraction_L3 = cache.load_json('tender_file_extraction_L3')\n",
    "pprint(tender_file_extraction_L3)"
   ]
  },
  {
   "cell_type": "code",
   "execution_count": null,
   "metadata": {},
   "outputs": [],
   "source": [
    "from apps.projects.tiptap.helpers import TiptapUtils\n",
    "updated_tiptap_content = TiptapUtils.add_introduction_headings(tender_file_extraction_L3)\n",
    "pprint(updated_tiptap_content)\n",
    "cache.save_json('tender_file_extraction_L4', updated_tiptap_content)"
   ]
  },
  {
   "cell_type": "code",
   "execution_count": null,
   "metadata": {},
   "outputs": [],
   "source": [
    "from apps.projects.tiptap.helpers import TiptapUtils\n",
    "result=TiptapUtils.print_enhanced_toc(updated_tiptap_content)\n",
    "print(result)"
   ]
  },
  {
   "cell_type": "markdown",
   "metadata": {},
   "source": [
    "## PART-4. 章节定位分析 "
   ]
  },
  {
   "cell_type": "code",
   "execution_count": 1,
   "metadata": {},
   "outputs": [
    {
     "name": "stdout",
     "output_type": "stream",
     "text": [
      "Settings从哪里加载？: config.settings.development\n",
      "项目根目录对么？: /home/oscarwang/BidPilot_new/backend\n",
      "文件存储settings对么？: apps.files.storage.COSStorage\n",
      "文件default_storage对么？: COSStorage\n",
      "\n",
      "已经安装的应用 Installed Apps 完整了么？:\n",
      "- django.contrib.admin\n",
      "- django.contrib.auth\n",
      "- django.contrib.contenttypes\n",
      "- django.contrib.sessions\n",
      "- django.contrib.messages\n",
      "- django.contrib.staticfiles\n",
      "- rest_framework\n",
      "- corsheaders\n",
      "- storages\n",
      "- apps.authentication\n",
      "- apps.files\n",
      "- apps.projects\n",
      "- apps.doc_analysis\n",
      "- apps.chat\n",
      "- apps.testground\n",
      "- django_filters\n",
      "- drf_spectacular\n",
      "- rest_framework_simplejwt.token_blacklist\n",
      "- django_celery_results\n",
      "- django_celery_beat\n"
     ]
    }
   ],
   "source": [
    "# 初始化\n",
    "import django_setup\n",
    "import nest_asyncio\n",
    "nest_asyncio.apply()\n",
    "# 添加cache \n",
    "# 以下要求NotebookCacheManager.py 和 cache目录都在 当前测试文件的相同目录下（在notebook目录下）\n",
    "from NotebookCacheManager import NotebookCacheManager\n",
    "cache = NotebookCacheManager(\"cache_e2\")\n",
    "\n",
    "from pprint import pprint\n",
    "\n",
    "# cache使用示例： \n",
    "# cache.save('存储文件名', 参数)，  a_loaded = cache.load('存储文件名')， 存在pkl文件下，点开为乱码\n",
    "# cache.save_json, cache.load_json, 存在json文件下，点开可读\n",
    "# cache.save_md, cache.load_md，存在md文件下，点开可读\n",
    "# cache.save_json('outline1/test1') 可构建二级目录"
   ]
  },
  {
   "cell_type": "code",
   "execution_count": 2,
   "metadata": {},
   "outputs": [
    {
     "name": "stdout",
     "output_type": "stream",
     "text": [
      "[H1] 第一部分 项目基本情况 (path:[6])\n",
      "  [H2] 前言 (path:[7])\n",
      "  [H2] 项目概述 (path:[8])\n",
      "  [H2] 招采内容 (path:[10])\n",
      "  [H2] 报价范围 (path:[12])\n",
      "  [H2] 服务验收 (path:[14])\n",
      "  [H2] 服务人员 (path:[16])\n",
      "  [H2] 服务范围的调整 (path:[18])\n",
      "  [H2] 转让和分包 (path:[20])\n",
      "  [H2] 知识产权 (path:[22])\n",
      "  [H2] 知识产权 (path:[23])\n",
      "[H1] 第二部分 报价须知 (path:[24])\n",
      "  [H2] 前言 (path:[25])\n",
      "  [H2] 报价须知前附表 (path:[26])\n",
      "    [表] 招标采购相关事项及说明 (path:[27])\n",
      "  [H2] 报价人资格 (path:[28])\n",
      "  [H2] 报价费用 (path:[36])\n",
      "  [H2] 现场踏勘 (path:[38])\n",
      "  [H2] 招采文件说明 (path:[40])\n",
      "  [H2] 招采文件的澄清与修改 (path:[42])\n",
      "  [H2] 报价语言 (path:[44])\n",
      "  [H2] 报价文件的质量标准 (path:[46])\n",
      "  [H2] 报价文件的组成及要求 (path:[48])\n",
      "  [H2] 报价文件的组成及要求 (path:[50])\n",
      "    [H3] 技术文件包含以下内容 (path:[52])\n",
      "  [H2] 报价文件的递交 (path:[54])\n",
      "  [H2] 报价货币 (path:[56])\n",
      "  [H2] 报价有效期 (path:[58])\n",
      "  [H2] 报价保证金 (path:[60])\n",
      "  [H2] 报价保证金的退还 (path:[61])\n",
      "  [H2] 评选 (path:[64])\n",
      "  [H2] 招采人拒绝报价的权力 (path:[66])\n",
      "  [H2] 招采人终止程序的权力 (path:[68])\n",
      "  [H2] 中选通知及合同授予 (path:[70])\n",
      "  [H2] 其他报价须知 (path:[72])\n",
      "[H1] 第三部分 需求说明书 (path:[75])\n",
      "  [表] 全国零食包项目服务范围及要求说明表格 (path:[77])\n",
      "[H1] 第四部分 附件 (path:[78])\n"
     ]
    }
   ],
   "source": [
    "tender_file_extraction_L4 = cache.load_json('tender_file_extraction_L4')\n",
    "# pprint(tender_file_extraction_L4)\n",
    "from apps.projects.tiptap.helpers import TiptapUtils\n",
    "result=TiptapUtils.print_enhanced_toc(tender_file_extraction_L4)\n",
    "print(result)"
   ]
  },
  {
   "cell_type": "code",
   "execution_count": 3,
   "metadata": {},
   "outputs": [],
   "source": [
    "# 集成时，用以下代替，模型传参 会先存储到数据库。\n",
    "from apps.projects.services.tasks_preparation.bid_writing_positioning import BidWritingPositioning\n",
    "# #获取LLM分析相关数据\n",
    "data_cooker_bid = BidWritingPositioning(tender_file_extraction_L4)\n",
    "model_params_bid, task_bid, meta_bid = data_cooker_bid.output_params()\n",
    "# # 模拟的prompt, \n",
    "simulated_prompts_bid, formatted_messages_bid = data_cooker_bid.simulate_prompt()\n",
    "cache.save_json('bid_writing_positioning/model_params_bid', model_params_bid)\n",
    "cache.save_json('bid_writing_positioning/tasks_bid', task_bid)\n",
    "cache.save_json('bid_writing_positioning/meta_bid', meta_bid)\n",
    "cache.save_json('bid_writing_positioning/formatted_messages_bid', formatted_messages_bid)"
   ]
  },
  {
   "cell_type": "code",
   "execution_count": null,
   "metadata": {},
   "outputs": [],
   "source": [
    "pprint(task_bid)\n",
    "pprint(meta_bid)"
   ]
  },
  {
   "cell_type": "code",
   "execution_count": 5,
   "metadata": {},
   "outputs": [
    {
     "name": "stdout",
     "output_type": "stream",
     "text": [
      "[{'content': '你是一个专业的招标文档分析助手，帮助用户分析文档的结构和内容。', 'role': 'system'},\n",
      " {'content': '\\n'\n",
      "             '你将执行以下任务：\\n'\n",
      "             '\\n'\n",
      "             '【任务目标】\\n'\n",
      "             '\\n'\n",
      "             '以下提供了招标文件的完整目录（材料A）。。\\n'\n",
      "             '\\n'\n",
      "             '请根据语义为我确定，是否存在一个章节详细介绍了投标文件的组成结构？\\n'\n",
      "             '\\n'\n",
      "             '如果没有，请告诉我哪些章节涵盖了投标文件的组成结构。 \\n'\n",
      "             '\\n'\n",
      "             '请精准地指出章节位置，列出章节的标题。 \\n'\n",
      "             '\\n'\n",
      "             '\\n'\n",
      "             '\\n'\n",
      "             '【输出格式】\\n'\n",
      "             '\\n'\n",
      "             '        \\n'\n",
      "             '- 只输出符合JSON格式的数据，不要添加解释、注释或 Markdown 标记。\\n'\n",
      "             '- 示例：\\n'\n",
      "             '[\\n'\n",
      "             '    {\"path\": [int], \"level\": int, \"title\": str, \"原因\": str}, \\n'\n",
      "             '    {\"path\": [int], \"level\": int, \"title\": str, \"原因\": str}\\n'\n",
      "             ']\\n'\n",
      "             '- 一个标题一条数据。 \\n'\n",
      "             '\\n'\n",
      "             '\\n'\n",
      "             '\\n'\n",
      "             '以下是你将使用的内容：\\n'\n",
      "             '\\n'\n",
      "             '【材料A：主要上下文】\\n'\n",
      "             '[H1] 第一部分 项目基本情况 (path:[6])\\n'\n",
      "             '  [H2] 前言 (path:[7])\\n'\n",
      "             '  [H2] 项目概述 (path:[8])\\n'\n",
      "             '  [H2] 招采内容 (path:[10])\\n'\n",
      "             '  [H2] 报价范围 (path:[12])\\n'\n",
      "             '  [H2] 服务验收 (path:[14])\\n'\n",
      "             '  [H2] 服务人员 (path:[16])\\n'\n",
      "             '  [H2] 服务范围的调整 (path:[18])\\n'\n",
      "             '  [H2] 转让和分包 (path:[20])\\n'\n",
      "             '  [H2] 知识产权 (path:[22])\\n'\n",
      "             '  [H2] 知识产权 (path:[23])\\n'\n",
      "             '[H1] 第二部分 报价须知 (path:[24])\\n'\n",
      "             '  [H2] 前言 (path:[25])\\n'\n",
      "             '  [H2] 报价须知前附表 (path:[26])\\n'\n",
      "             '    [表] 招标采购相关事项及说明 (path:[27])\\n'\n",
      "             '  [H2] 报价人资格 (path:[28])\\n'\n",
      "             '  [H2] 报价费用 (path:[36])\\n'\n",
      "             '  [H2] 现场踏勘 (path:[38])\\n'\n",
      "             '  [H2] 招采文件说明 (path:[40])\\n'\n",
      "             '  [H2] 招采文件的澄清与修改 (path:[42])\\n'\n",
      "             '  [H2] 报价语言 (path:[44])\\n'\n",
      "             '  [H2] 报价文件的质量标准 (path:[46])\\n'\n",
      "             '  [H2] 报价文件的组成及要求 (path:[48])\\n'\n",
      "             '  [H2] 报价文件的组成及要求 (path:[50])\\n'\n",
      "             '    [H3] 技术文件包含以下内容 (path:[52])\\n'\n",
      "             '  [H2] 报价文件的递交 (path:[54])\\n'\n",
      "             '  [H2] 报价货币 (path:[56])\\n'\n",
      "             '  [H2] 报价有效期 (path:[58])\\n'\n",
      "             '  [H2] 报价保证金 (path:[60])\\n'\n",
      "             '  [H2] 报价保证金的退还 (path:[61])\\n'\n",
      "             '  [H2] 评选 (path:[64])\\n'\n",
      "             '  [H2] 招采人拒绝报价的权力 (path:[66])\\n'\n",
      "             '  [H2] 招采人终止程序的权力 (path:[68])\\n'\n",
      "             '  [H2] 中选通知及合同授予 (path:[70])\\n'\n",
      "             '  [H2] 其他报价须知 (path:[72])\\n'\n",
      "             '[H1] 第三部分 需求说明书 (path:[75])\\n'\n",
      "             '  [表] 全国零食包项目服务范围及要求说明表格 (path:[77])\\n'\n",
      "             '[H1] 第四部分 附件 (path:[78])\\n'\n",
      "             '\\n'\n",
      "             '【材料B：补充信息】\\n'\n",
      "             '此任务无补充内容\\n'\n",
      "             '\\n'\n",
      "             '请严格根据材料A和B完成任务。\\n'\n",
      "             '\\n',\n",
      "  'role': 'human'}]\n"
     ]
    }
   ],
   "source": [
    "pprint(formatted_messages_bid)"
   ]
  },
  {
   "cell_type": "code",
   "execution_count": 6,
   "metadata": {},
   "outputs": [
    {
     "name": "stdout",
     "output_type": "stream",
     "text": [
      "HTTP Request: POST https://dashscope.aliyuncs.com/compatible-mode/v1/chat/completions \"HTTP/1.1 200 OK\"\n",
      "[\n",
      "    {\"path\": [48], \"level\": 2, \"title\": \"报价文件的组成及要求\", \"原因\": \"详细介绍了投标文件的组成结构\"},\n",
      "    {\"path\": [50], \"level\": 2, \"title\": \"报价文件的组成及要求\", \"原因\": \"可能包含投标文件的组成结构\"}\n",
      "]('[\\n'\n",
      " '    {\"path\": [48], \"level\": 2, \"title\": \"报价文件的组成及要求\", \"原因\": '\n",
      " '\"详细介绍了投标文件的组成结构\"},\\n'\n",
      " '    {\"path\": [50], \"level\": 2, \"title\": \"报价文件的组成及要求\", \"原因\": '\n",
      " '\"可能包含投标文件的组成结构\"}\\n'\n",
      " ']')\n"
     ]
    }
   ],
   "source": [
    "# 构建LLM分析器 并 分析\n",
    "from apps.projects.services.LLM_service.LLMcontainer import LLMService\n",
    "analyzer = LLMService(model_params_bid)\n",
    "outlines_bid = await analyzer.process(task_bid)\n",
    "pprint(outlines_bid)"
   ]
  }
 ],
 "metadata": {
  "kernelspec": {
   "display_name": "bid_dev",
   "language": "python",
   "name": "python3"
  },
  "language_info": {
   "codemirror_mode": {
    "name": "ipython",
    "version": 3
   },
   "file_extension": ".py",
   "mimetype": "text/x-python",
   "name": "python",
   "nbconvert_exporter": "python",
   "pygments_lexer": "ipython3",
   "version": "3.12.9"
  }
 },
 "nbformat": 4,
 "nbformat_minor": 2
}
