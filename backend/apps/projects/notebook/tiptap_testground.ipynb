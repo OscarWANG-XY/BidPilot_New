{
 "cells": [
  {
   "cell_type": "code",
   "execution_count": null,
   "metadata": {},
   "outputs": [],
   "source": [
    "# 初始化\n",
    "import django_setup"
   ]
  },
  {
   "cell_type": "code",
   "execution_count": 2,
   "metadata": {},
   "outputs": [],
   "source": [
    "from apps.testground.models import testground\n"
   ]
  },
  {
   "cell_type": "code",
   "execution_count": 3,
   "metadata": {},
   "outputs": [],
   "source": [
    "# testground.objects.create(\n",
    "#     name=\"测试1\",\n",
    "#     description=\"测试1\",\n",
    "#     tiptap_content=\"测试1\",\n",
    "# )\n"
   ]
  },
  {
   "cell_type": "code",
   "execution_count": 4,
   "metadata": {},
   "outputs": [],
   "source": [
    "#doc_path = \"C:/Users/huiwa/Downloads/文本分析测试/test_files/parts_doc_chap3 - 1pages_无嵌套 .docx\"\n",
    "#doc_path = \"C:/Users/huiwa/Downloads/文本分析测试/test_files/parts_chp1_short.docx\"\n",
    "#doc_path = \"C:/Users/huiwa/Downloads/文本分析测试/test_files/parts_doc_chap3 - 1pages_有嵌套.docx\"\n",
    "#doc_path = \"C:/Users/huiwa/Downloads/文本分析测试/caseTest/Case6_中国区零食包框架供应商采购项目招采文件.docx\"\n",
    "doc_path = \"C:/Users/huiwa/Downloads/文本分析测试/test_files/实战：招标文件-第1包：一级压榨花生油 - 副本.docx\"\n",
    "#doc_path = \"C:/Users/huiwa/Downloads/文本分析测试/test_files/parts_chp3.docx\"\n",
    "#doc_path = \"C:/Users/huiwa/Downloads/文本分析测试/test_files/parts_chp3 p1.docx\"\n"
   ]
  },
  {
   "cell_type": "code",
   "execution_count": null,
   "metadata": {},
   "outputs": [],
   "source": [
    "from apps.projects.tiptap.docx import docx_to_html\n",
    "html_content = docx_to_html(doc_path)\n",
    "from pprint import pprint\n",
    "pprint(html_content)"
   ]
  },
  {
   "cell_type": "code",
   "execution_count": null,
   "metadata": {},
   "outputs": [],
   "source": [
    "from apps.projects.tiptap.docx import docx_to_tiptap_json\n",
    "json_content = docx_to_tiptap_json(doc_path)\n",
    "import json\n",
    "json_content_str = json.dumps(json_content, ensure_ascii=False, indent=2)\n",
    "pprint(json_content_str)"
   ]
  },
  {
   "cell_type": "code",
   "execution_count": null,
   "metadata": {},
   "outputs": [],
   "source": [
    "test_case = testground.objects.get(name=\"测试1\")\n",
    "print(test_case.tiptap_content)\n",
    "\n"
   ]
  },
  {
   "cell_type": "code",
   "execution_count": null,
   "metadata": {},
   "outputs": [],
   "source": [
    "test_case.tiptap_content = json_content\n",
    "test_case.save()\n",
    "print(test_case.tiptap_content)\n",
    "\n",
    "\n",
    "\n",
    "\n"
   ]
  },
  {
   "cell_type": "code",
   "execution_count": null,
   "metadata": {},
   "outputs": [],
   "source": [
    "from apps.projects.models import Task\n",
    "\n",
    "task = Task.objects.get(id=1)\n",
    "\n",
    "task.status = TaskStatus.COMPLETED\n",
    "task.save()\n",
    "\n"
   ]
  }
 ],
 "metadata": {
  "kernelspec": {
   "display_name": "BidPilot_new_env",
   "language": "python",
   "name": "python3"
  },
  "language_info": {
   "codemirror_mode": {
    "name": "ipython",
    "version": 3
   },
   "file_extension": ".py",
   "mimetype": "text/x-python",
   "name": "python",
   "nbconvert_exporter": "python",
   "pygments_lexer": "ipython3",
   "version": "3.12.1"
  }
 },
 "nbformat": 4,
 "nbformat_minor": 2
}
