{
 "cells": [
  {
   "cell_type": "code",
   "execution_count": 16,
   "metadata": {},
   "outputs": [],
   "source": [
    "# 初始化\n",
    "import django_setup"
   ]
  },
  {
   "cell_type": "code",
   "execution_count": 17,
   "metadata": {},
   "outputs": [],
   "source": [
    "markdown_content = \"\"\"\n",
    "正在准备分析文档大纲...\n",
    "<!-- index: 50 -->\n",
    "## 四、招标最高限价：1840 万元\n",
    "<!-- index: 51 -->\n",
    "## 五、采购内容、数量及简要技术要求\n",
    "\n",
    "<!-- index: 52 -->\n",
    "## 六、合格投标人的资格要求(本项目采用资格后审)\n",
    "\n",
    "<!-- index: 64 -->\n",
    "## 七、招标公告的发布：\n",
    "\n",
    "<!-- index: 66 -->\n",
    "## 八、招标文件的发售：\n",
    "\n",
    "<!-- index: 74 -->\n",
    "## 九、投标保证金：\n",
    "\n",
    "<!-- index: 77 -->\n",
    "## 十、投标截止时间和地点：\n",
    "\n",
    "<!-- index: 81 -->\n",
    "## 十一、开标时间及地点：\n",
    "\n",
    "<!-- index: 84 -->\n",
    "## 十二、评标办法：综合评分法。\n",
    "\n",
    "<!-- index: 85 -->\n",
    "## 十三、业务咨询\n",
    "\n",
    "<!-- index: 93 -->\n",
    "# 第二章 招标需求\n",
    "\n",
    "<!-- index: 94 -->\n",
    "## 一、概述\n",
    "\"\"\""
   ]
  },
  {
   "cell_type": "code",
   "execution_count": 18,
   "metadata": {},
   "outputs": [],
   "source": [
    "from apps.projects.tiptap import TiptapClient\n",
    "tiptap_client = TiptapClient()\n",
    "tiptap_content = tiptap_client.markdown_to_json(markdown_content)"
   ]
  },
  {
   "cell_type": "code",
   "execution_count": null,
   "metadata": {},
   "outputs": [],
   "source": [
    "from pprint import pprint\n",
    "print(type(tiptap_content))\n",
    "print(tiptap_content)\n",
    "pprint(tiptap_content)\n",
    "\n"
   ]
  },
  {
   "cell_type": "code",
   "execution_count": null,
   "metadata": {},
   "outputs": [],
   "source": [
    "print(tiptap_content['data'])"
   ]
  },
  {
   "cell_type": "code",
   "execution_count": null,
   "metadata": {},
   "outputs": [],
   "source": [
    "from apps.projects.models import Project, Task, TaskType\n",
    "current_project = Project.objects.get(project_name='测试项目1')\n",
    "task = Task.objects.get(stage__project=current_project, type=TaskType.OUTLINE_ANALYSIS_TASK)\n",
    "print(task.final_result)\n",
    "print(type(task.final_result))\n",
    "pprint(task.final_result)\n"
   ]
  },
  {
   "cell_type": "code",
   "execution_count": null,
   "metadata": {},
   "outputs": [],
   "source": []
  },
  {
   "cell_type": "code",
   "execution_count": null,
   "metadata": {},
   "outputs": [],
   "source": [
    "extraction_task = Task.objects.get(stage__project=current_project, type=TaskType.DOCX_EXTRACTION_TASK)\n",
    "print(extraction_task.docx_tiptap)\n",
    "print(type(extraction_task.docx_tiptap))\n",
    "pprint(extraction_task.docx_tiptap)\n",
    "\n",
    "\n"
   ]
  }
 ],
 "metadata": {
  "kernelspec": {
   "display_name": "bid_dev",
   "language": "python",
   "name": "python3"
  },
  "language_info": {
   "codemirror_mode": {
    "name": "ipython",
    "version": 3
   },
   "file_extension": ".py",
   "mimetype": "text/x-python",
   "name": "python",
   "nbconvert_exporter": "python",
   "pygments_lexer": "ipython3",
   "version": "3.12.9"
  }
 },
 "nbformat": 4,
 "nbformat_minor": 2
}
