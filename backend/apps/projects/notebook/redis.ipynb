{
 "cells": [
  {
   "cell_type": "markdown",
   "metadata": {},
   "source": [
    "#### 1. 测试 Redis 和 大模型 流式分析 "
   ]
  },
  {
   "cell_type": "code",
   "execution_count": null,
   "metadata": {},
   "outputs": [],
   "source": [
    "# 初始化\n",
    "import django_setup"
   ]
  },
  {
   "cell_type": "code",
   "execution_count": null,
   "metadata": {},
   "outputs": [],
   "source": [
    "from apps.projects.models import Project, Task, TaskType, TaskStatus\n",
    "# 模拟celery task 处获取 项目信息\n",
    "current_project = Project.objects.get(project_name='测试项目1')\n",
    "print(f\"用于测试的项目: {current_project.project_name}\")\n",
    "print(f\"项目包含的文件: {current_project.files.all()}\")"
   ]
  },
  {
   "cell_type": "code",
   "execution_count": null,
   "metadata": {},
   "outputs": [],
   "source": [
    "outline_task = Task.objects.get(stage__project=current_project, type=TaskType.DOCX_EXTRACTION_TASK)\n",
    "raw_data = outline_task.docx_tiptap\n",
    "print(f\"raw_data: {raw_data}\")"
   ]
  },
  {
   "cell_type": "code",
   "execution_count": null,
   "metadata": {},
   "outputs": [],
   "source": [
    "from apps.projects.utils.redis_manager import RedisManager\n",
    "redis_manager = RedisManager()"
   ]
  },
  {
   "cell_type": "code",
   "execution_count": null,
   "metadata": {},
   "outputs": [],
   "source": [
    "from apps.projects.services._02_outline_analysis import DocxOutlineAnalyzerStep\n",
    "import asyncio\n",
    "analyzer = DocxOutlineAnalyzerStep()\n",
    "\n",
    "stream_id = \"1268930d-6aa3-44f1-89f8-f9c9631573b7\"\n",
    "# 执行流式分析 \n",
    "asyncio.run(analyzer.process_streaming(raw_data, stream_id))"
   ]
  },
  {
   "cell_type": "code",
   "execution_count": 6,
   "metadata": {},
   "outputs": [],
   "source": [
    "# 检查特定 stream_id 是否存在\n",
    "result = redis_manager.get_stream_chunks(stream_id)"
   ]
  },
  {
   "cell_type": "code",
   "execution_count": null,
   "metadata": {},
   "outputs": [],
   "source": [
    "print(result)"
   ]
  },
  {
   "cell_type": "code",
   "execution_count": null,
   "metadata": {},
   "outputs": [],
   "source": [
    "result_status = redis_manager.get_stream_status(stream_id)\n",
    "from pprint import pprint\n",
    "pprint(result_status)"
   ]
  },
  {
   "cell_type": "markdown",
   "metadata": {},
   "source": [
    "#### 2. 测试 Celery 和 Redis 和 大模型分析 "
   ]
  },
  {
   "cell_type": "code",
   "execution_count": null,
   "metadata": {},
   "outputs": [],
   "source": [
    "# 初始化\n",
    "import django_setup"
   ]
  },
  {
   "cell_type": "code",
   "execution_count": null,
   "metadata": {},
   "outputs": [],
   "source": [
    "from apps.projects.models import Project, Task, TaskType, TaskStatus\n",
    "# 模拟celery task 处获取 项目信息\n",
    "current_project = Project.objects.get(project_name='测试项目1')\n",
    "print(f\"用于测试的项目: {current_project.project_name}\")\n",
    "print(f\"项目包含的文件: {current_project.files.all()}\")"
   ]
  },
  {
   "cell_type": "code",
   "execution_count": null,
   "metadata": {},
   "outputs": [],
   "source": [
    "from apps.projects.utils.redis_manager import RedisManager\n",
    "rm = RedisManager()\n",
    "stream_key = rm.create_stream_key(\"b3611410-a723-4c95-8fc3-aad7bf637b33\")\n",
    "print(stream_key)  # 应该是 \"model_stream:b3611410-a723-4c95-8fc3-aad7bf637b33\"\n",
    "print(rm.redis_client.exists(stream_key))  # 是否存在该键\n",
    "print(rm.redis_client.llen(stream_key))  # 该键对应的列表长度"
   ]
  },
  {
   "cell_type": "code",
   "execution_count": null,
   "metadata": {},
   "outputs": [],
   "source": [
    "outline_task = Task.objects.get(stage__project=current_project, type=TaskType.OUTLINE_ANALYSIS_TASK)\n",
    "outline_task.status = TaskStatus.ACTIVE\n",
    "outline_task.save()"
   ]
  },
  {
   "cell_type": "code",
   "execution_count": null,
   "metadata": {},
   "outputs": [],
   "source": [
    "from apps.projects.utils.redis_manager import RedisManager\n",
    "redis_manager = RedisManager()\n",
    "from apps.projects.tasks import process_outline_analysis_streaming"
   ]
  },
  {
   "cell_type": "code",
   "execution_count": null,
   "metadata": {},
   "outputs": [],
   "source": [
    "project_id = current_project.id\n",
    "celery_task = process_outline_analysis_streaming.delay(project_id)\n",
    "celery_task_id = celery_task.id\n",
    "print(f\"启动大纲分析任务: project_id={project_id}\")\n",
    "print(f\"启动大纲分析任务: celery_task_id={celery_task_id}\")\n",
    "\n"
   ]
  },
  {
   "cell_type": "code",
   "execution_count": null,
   "metadata": {},
   "outputs": [],
   "source": [
    "\n",
    "result_status = redis_manager.get_stream_status(celery_task_id)\n",
    "from pprint import pprint\n",
    "pprint(result_status)"
   ]
  },
  {
   "cell_type": "code",
   "execution_count": null,
   "metadata": {},
   "outputs": [],
   "source": []
  }
 ],
 "metadata": {
  "kernelspec": {
   "display_name": "bid_dev",
   "language": "python",
   "name": "python3"
  },
  "language_info": {
   "codemirror_mode": {
    "name": "ipython",
    "version": 3
   },
   "file_extension": ".py",
   "mimetype": "text/x-python",
   "name": "python",
   "nbconvert_exporter": "python",
   "pygments_lexer": "ipython3",
   "version": "3.12.9"
  }
 },
 "nbformat": 4,
 "nbformat_minor": 2
}
