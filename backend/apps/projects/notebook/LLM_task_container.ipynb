{
 "cells": [
  {
   "cell_type": "code",
   "execution_count": null,
   "metadata": {},
   "outputs": [],
   "source": [
    "# 初始化\n",
    "import django_setup"
   ]
  },
  {
   "cell_type": "code",
   "execution_count": null,
   "metadata": {},
   "outputs": [],
   "source": [
    "from apps.projects.models import Project, Task, TaskType\n",
    "from pprint import pprint\n",
    "project = Project.objects.get(project_name='测试项目1')\n",
    "task = Task.objects.get(stage__project=project, type=TaskType.OUTLINE_ANALYSIS_TASK)\n",
    "stage = task.stage\n",
    "# --- 如果project.tender_file_extraction 为空，则需要从关联的docx_extraction_task中获取\n",
    "# extraction_task = Task.objects.get(stage__project=project, type=TaskType.DOCX_EXTRACTION_TASK)\n",
    "# print(extraction_task.docx_tiptap)\n",
    "# print(type(extraction_task.docx_tiptap))\n",
    "# pprint(extraction_task.docx_tiptap)\n",
    "# project = Project.objects.get(project_name='测试项目1')\n",
    "# project.tender_file_extraction = extraction_task.docx_tiptap\n",
    "# project.save()\n",
    "# project = Project.objects.get(project_name='测试项目1')\n",
    "pprint(project.tender_file_extraction)"
   ]
  },
  {
   "cell_type": "code",
   "execution_count": 3,
   "metadata": {},
   "outputs": [],
   "source": []
  },
  {
   "cell_type": "code",
   "execution_count": null,
   "metadata": {},
   "outputs": [],
   "source": []
  },
  {
   "cell_type": "markdown",
   "metadata": {},
   "source": [
    "#### 1. 分析前期准备\n",
    "<font color=\"orange\">\n",
    "为大模型准备分析所需要的：context, instruction, supplement, output_format, prompt_template, index_path_map <br>\n",
    "直接调用services/tasks_preparation/outline_analysis.prepare_for_task <br>\n",
    "\n",
    "整合思考： prepare_for_task 应该放在执行链路的哪个环节？如何触发？ <br>\n",
    "1）任务初建，在signal和初始化一起执行，但这时context关联素材还没ready? （可考虑用“提示说明”来解决）-> 创建初始化时触发。<br>\n",
    "2）然后, 在关联任务完成时，执行prepare_for_task。  这步无论如何需要执行。 （关联任务完成时，触发）<br>\n",
    "3）只有这样才能执行之后的task任务<br>\n",
    "</font>"
   ]
  },
  {
   "cell_type": "code",
   "execution_count": null,
   "metadata": {},
   "outputs": [],
   "source": [
    "from apps.projects.services.tasks_preparation.outline_analysis import OutlineAnalysis\n",
    "task_ready=OutlineAnalysis(project.id).prepare_for_task()"
   ]
  },
  {
   "cell_type": "code",
   "execution_count": 6,
   "metadata": {},
   "outputs": [],
   "source": [
    "# 需要重新查询，才能看到prepare_for_task的执行结果\n",
    "task = Task.objects.get(stage__project=project, type=TaskType.OUTLINE_ANALYSIS_TASK)"
   ]
  },
  {
   "cell_type": "code",
   "execution_count": null,
   "metadata": {},
   "outputs": [],
   "source": [
    "print(type(task.llm_config), task.llm_config)"
   ]
  },
  {
   "cell_type": "code",
   "execution_count": null,
   "metadata": {},
   "outputs": [],
   "source": [
    "print(task.llm_config['llm_model_name'])\n",
    "print(task.llm_config['temperature'])\n",
    "print(task.llm_config['top_p'])\n",
    "print(task.llm_config['streaming'])\n",
    "print(task.llm_config['base_url'])\n",
    "print(task.llm_config['max_workers'])\n",
    "print(task.llm_config['timeout'])\n",
    "print(task.llm_config['retry_times'])"
   ]
  },
  {
   "cell_type": "code",
   "execution_count": null,
   "metadata": {},
   "outputs": [],
   "source": [
    "print(type(task.context), task.context)"
   ]
  },
  {
   "cell_type": "code",
   "execution_count": null,
   "metadata": {},
   "outputs": [],
   "source": [
    "print(type(task.instruction), task.instruction)\n",
    "print(type(task.supplement), task.supplement)\n",
    "print(type(task.output_format), task.output_format)\n",
    "print(type(task.prompt_template), task.prompt_template)\n",
    "print(type(task.index_path_map), task.index_path_map)\n",
    "\n"
   ]
  },
  {
   "cell_type": "code",
   "execution_count": null,
   "metadata": {},
   "outputs": [],
   "source": [
    "print(type(task.context_tokens), task.context_tokens)\n",
    "print(type(task.instruction_tokens), task.instruction_tokens)\n",
    "print(type(task.supplement_tokens), task.supplement_tokens)\n",
    "print(type(task.output_format_tokens), task.output_format_tokens)\n",
    "print(type(task.prompt_template_tokens), task.prompt_template_tokens)\n",
    "print(type(task.in_tokens), task.in_tokens)"
   ]
  },
  {
   "cell_type": "code",
   "execution_count": null,
   "metadata": {},
   "outputs": [],
   "source": [
    "# 模拟prompt的生成， 调用services/tasks_preparation/online_analysis.simulate_prompt\n",
    "from apps.projects.services.tasks_preparation.outline_analysis import OutlineAnalysis\n",
    "from pprint import pprint\n",
    "prompt = OutlineAnalysis(project.id).simulate_prompt()\n",
    "print(prompt)\n",
    "pprint(prompt)\n"
   ]
  },
  {
   "cell_type": "markdown",
   "metadata": {},
   "source": [
    "#### 2. 大模型分析\n",
    "<font color=\"orange\">\n",
    "大模型分析的素材： context, instruction, supplement, output_format, prompt_template, index_path_map 已经ready <br>\n",
    "直接调用services/LLM_server/LLM_task_container.py 的LLM_task_container.run_task <br>\n",
    "</font>"
   ]
  },
  {
   "cell_type": "code",
   "execution_count": null,
   "metadata": {},
   "outputs": [],
   "source": [
    "# 更新task状态为PROCESSING， 为调用任务分析做状态准备。 \n",
    "from apps.projects.models import Project, Task, TaskType, TaskStatus\n",
    "project = Project.objects.get(project_name='测试项目1')\n",
    "task = Task.objects.get(stage__project=project, type=TaskType.OUTLINE_ANALYSIS_TASK)\n",
    "print('当前状态：',task.status)\n",
    "task.status = TaskStatus.PROCESSING\n",
    "task.save()\n",
    "task = Task.objects.get(stage__project=project, type=TaskType.OUTLINE_ANALYSIS_TASK)\n",
    "print('更新后状态：',task.status)\n"
   ]
  },
  {
   "cell_type": "code",
   "execution_count": null,
   "metadata": {},
   "outputs": [],
   "source": [
    "# 模拟task_streaming.py 视图文件 中 start_stream 方法 启动大模型分析任务 \n",
    "from apps.projects.tasks import process_task_analysis_streaming_v2\n",
    "print(f\"开始调用任务：{project.id}, {stage.stage_type}, {task.type}\")\n",
    "celery_task = process_task_analysis_streaming_v2.delay(project.id, stage.stage_type, task.type)\n",
    "print(f\"任务调用完成：{celery_task.id}\")"
   ]
  },
  {
   "cell_type": "code",
   "execution_count": null,
   "metadata": {},
   "outputs": [],
   "source": [
    "# 模拟task_streaming.py 视图文件 中 get_stream_result 方法 获取大模型分析任务结果\n",
    "from apps.projects.utils.redis_manager import RedisManager\n",
    "from pprint import pprint\n",
    "from IPython.display import display, HTML, Markdown\n",
    "\n",
    "\n",
    "redis_manager = RedisManager()\n",
    "chunks = redis_manager.get_stream_chunks(celery_task.id)\n",
    "# 过滤掉特殊标记块\n",
    "content_chunks = [\n",
    "    chunk for chunk in chunks \n",
    "    if chunk.get('content') != 'DONE' and not chunk.get('content', '').startswith('ERROR:')\n",
    "]\n",
    "# 合并内容\n",
    "full_content = ''.join([chunk.get('content', '') for chunk in content_chunks])\n",
    "pprint(full_content)\n",
    "display(Markdown(full_content))\n"
   ]
  },
  {
   "cell_type": "code",
   "execution_count": null,
   "metadata": {},
   "outputs": [],
   "source": [
    "# 检查: 在任务执行完成后，task.final_result 是否被更新 （分析结果被转为tiptap_content 存储进task.final_result 的代码在tasks.py中）。 \n",
    "from apps.projects.models import Project, Task, TaskType, TaskStatus\n",
    "project = Project.objects.get(project_name='测试项目1')\n",
    "task = Task.objects.get(stage__project=project, type=TaskType.OUTLINE_ANALYSIS_TASK)\n",
    "print('final_result',task.final_result)\n",
    "pprint(task.final_result)"
   ]
  }
 ],
 "metadata": {
  "kernelspec": {
   "display_name": "bid_dev",
   "language": "python",
   "name": "python3"
  },
  "language_info": {
   "codemirror_mode": {
    "name": "ipython",
    "version": 3
   },
   "file_extension": ".py",
   "mimetype": "text/x-python",
   "name": "python",
   "nbconvert_exporter": "python",
   "pygments_lexer": "ipython3",
   "version": "3.12.9"
  }
 },
 "nbformat": 4,
 "nbformat_minor": 2
}
