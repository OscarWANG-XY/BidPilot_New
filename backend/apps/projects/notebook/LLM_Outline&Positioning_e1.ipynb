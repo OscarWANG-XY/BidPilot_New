{
 "cells": [
  {
   "cell_type": "markdown",
   "metadata": {},
   "source": [
    "## 初始化"
   ]
  },
  {
   "cell_type": "code",
   "execution_count": null,
   "metadata": {},
   "outputs": [],
   "source": [
    "# 初始化\n",
    "import django_setup\n",
    "import nest_asyncio\n",
    "nest_asyncio.apply()\n",
    "# 添加cache \n",
    "# 以下要求NotebookCacheManager.py 和 cache目录都在 当前测试文件的相同目录下（在notebook目录下）\n",
    "from NotebookCacheManager import NotebookCacheManager\n",
    "cache = NotebookCacheManager(\"cache_e1\")\n",
    "\n",
    "from pprint import pprint\n",
    "\n",
    "# cache使用示例： \n",
    "# cache.save('存储文件名', 参数)，  a_loaded = cache.load('存储文件名')， 存在pkl文件下，点开为乱码\n",
    "# cache.save_json, cache.load_json, 存在json文件下，点开可读\n",
    "# cache.save_md, cache.load_md，存在md文件下，点开可读\n",
    "# cache.save_json('outline1/test1') 可构建二级目录"
   ]
  },
  {
   "cell_type": "code",
   "execution_count": null,
   "metadata": {},
   "outputs": [],
   "source": [
    "# 招标文件提取内容 准备就绪\n",
    "from apps.projects.models import Project, Task, TaskType\n",
    "from pprint import pprint\n",
    "project = Project.objects.get(project_name='test1')\n",
    "task = Task.objects.get(stage__project=project, type=TaskType.OUTLINE_ANALYSIS_TASK)\n",
    "stage = task.stage\n",
    "pprint(project.tender_file_extraction)\n",
    "cache.save_json('招标文件/tender_file_extraction', project.tender_file_extraction)"
   ]
  },
  {
   "cell_type": "markdown",
   "metadata": {},
   "source": [
    "## PART-1. 招标文件 大纲分析\n"
   ]
  },
  {
   "cell_type": "markdown",
   "metadata": {},
   "source": [
    "### 1.1 分析第一层级标题\n",
    "输入： tender_file_extraction\n",
    "输出： title_lists_H1， tender_file_extraction_H1\n"
   ]
  },
  {
   "cell_type": "code",
   "execution_count": null,
   "metadata": {},
   "outputs": [],
   "source": [
    "# 初始化 & 输入\n",
    "import django_setup\n",
    "from pprint import pprint\n",
    "from NotebookCacheManager import NotebookCacheManager\n",
    "cache = NotebookCacheManager(\"cache_e1\")\n",
    "tender_file_extraction = cache.load_json('招标文件/tender_file_extraction')\n",
    "from apps.projects.tiptap.helpers import TiptapUtils\n",
    "headings = TiptapUtils.print_headings(tender_file_extraction)\n",
    "print(headings)"
   ]
  },
  {
   "cell_type": "code",
   "execution_count": 15,
   "metadata": {},
   "outputs": [],
   "source": [
    "# LLM 数据准备\n",
    "# 输入： tender_file_extraction, 输出：model_params, task, meta, formatted_message\n",
    "# 核心功能模块： TendeorOutlinesL1 里的 prepare_context 调用 TiptapUtils.extract_indexed_paragraphs\n",
    "from apps.projects.services.tasks_preparation.tender_outlines_L1 import TenderOutlinesL1\n",
    "# #获取LLM分析相关数据\n",
    "data_cooker_l1 = TenderOutlinesL1(tender_file_extraction)\n",
    "model_params_l1, task_l1, meta_l1 = data_cooker_l1.output_params()\n",
    "# # 模拟的prompt, \n",
    "simulated_prompt, formatted_message = data_cooker_l1.simulate_prompt()\n",
    "\n",
    "cache.save_json('t1-招标文件大纲分析/t1.1-H1层级标题分析/model_params_l1', model_params_l1)\n",
    "cache.save_json('t1-招标文件大纲分析/t1.1-H1层级标题分析/task_l1', task_l1)\n",
    "cache.save_json('t1-招标文件大纲分析/t1.1-H1层级标题分析/meta_l1', meta_l1)\n",
    "cache.save_json('t1-招标文件大纲分析/t1.1-H1层级标题分析/formatted_message', formatted_message)\n"
   ]
  },
  {
   "cell_type": "code",
   "execution_count": null,
   "metadata": {},
   "outputs": [],
   "source": [
    "# LLM分析\n",
    "# 输入：model_params, task_l1,  输出：针对tender_file_extraction的H1层级标题列表 （json格式）\n",
    "from apps.projects.services.LLM_service.LLMcontainer import LLMService\n",
    "from apps.projects.services.task_service import clean_llm_JSON_output\n",
    "analyzer = LLMService(model_params_l1)\n",
    "# 大模型输出的是json str格式，可能带有标记噪音\n",
    "result = await analyzer.process(task_l1)\n",
    "# 清除标记，转为json dict格式\n",
    "result_clean_parsed = clean_llm_JSON_output(result)\n",
    "\n",
    "print(f'result类型： {type(result)}, cleaned_result类型：{type(result_clean_parsed)}')\n",
    "pprint(result_clean_parsed)\n",
    "\n",
    "cache.save_json('t1-招标文件大纲分析/t1.1-H1层级标题分析/result', result)\n",
    "cache.save_json('t1-招标文件大纲分析/t1.1-H1层级标题分析/result_clean_parsed', result_clean_parsed)"
   ]
  },
  {
   "cell_type": "code",
   "execution_count": null,
   "metadata": {},
   "outputs": [],
   "source": [
    "# 更新文档标题\n",
    "# 输入： doc, title_lits, index_path_map， 输出：doc_H1\n",
    "# 核心功能组件： Tiptap.helpers.TiptapUtils.update_titles_from_list()\n",
    "from apps.projects.tiptap.helpers import TiptapUtils\n",
    "tender_file_extraction_H1 = TiptapUtils.update_titles_from_list(\n",
    "    doc=tender_file_extraction, \n",
    "    title_list=result_clean_parsed, \n",
    "    index_path_map=meta_l1[\"index_path_map\"]\n",
    "    )\n",
    "\n",
    "cache.save_json('招标文件/tender_file_extraction_H1', tender_file_extraction_H1)\n",
    "# 检查标题是否已经改到内容里去了？\n",
    "from apps.projects.tiptap.helpers import TiptapUtils\n",
    "headings = TiptapUtils.find_all_headings(tender_file_extraction_H1)\n",
    "print(TiptapUtils.print_headings(tender_file_extraction_H1))"
   ]
  },
  {
   "cell_type": "markdown",
   "metadata": {},
   "source": [
    "### 1.2 分析第二、三层级标题\n",
    "输入： tender_file_extraction_H1， 输出：title_lists_H2/3, tender_file_extraction_H23\n"
   ]
  },
  {
   "cell_type": "code",
   "execution_count": null,
   "metadata": {},
   "outputs": [],
   "source": [
    "# 初始化 & 输入\n",
    "import django_setup\n",
    "from pprint import pprint\n",
    "from NotebookCacheManager import NotebookCacheManager\n",
    "cache = NotebookCacheManager(\"cache_e1\")\n",
    "tender_file_extraction_H1 =cache.load_json('招标文件/tender_file_extraction_H1')\n",
    "from apps.projects.tiptap.helpers import TiptapUtils\n",
    "headings = TiptapUtils.print_headings(tender_file_extraction_H1)\n",
    "print(headings)\n"
   ]
  },
  {
   "cell_type": "code",
   "execution_count": 18,
   "metadata": {},
   "outputs": [],
   "source": [
    "# LLM 数据准备\n",
    "# 输入： tender_file_extraction_H1, 输出：model_params, task, meta, formatted_message\n",
    "# 核心功能模块： TenderOutlinesL2 里 prepare_context 调用 TiptapUtils.extract_chapters， \n",
    "from apps.projects.services.tasks_preparation.tender_outlines_L2 import TenderOutlinesL2\n",
    "# #获取LLM分析相关数据\n",
    "data_cooker_l2 = TenderOutlinesL2(tender_file_extraction_H1)\n",
    "model_params_l2, tasks_l2, meta_l2 = data_cooker_l2.output_params()\n",
    "# # 模拟的prompt, \n",
    "simulated_prompts_l2, formatted_messages_l2 = data_cooker_l2.simulate_prompt()\n",
    "\n",
    "cache.save_json('t1-招标文件大纲分析/t1.2-H2-3层级标题分析/model_params_l2', model_params_l2)\n",
    "cache.save_json('t1-招标文件大纲分析/t1.2-H2-3层级标题分析/tasks_l2', tasks_l2)\n",
    "cache.save_json('t1-招标文件大纲分析/t1.2-H2-3层级标题分析/meta_l2', meta_l2)\n",
    "cache.save_json('t1-招标文件大纲分析/t1.2-H2-3层级标题分析/formatted_message', formatted_messages_l2)"
   ]
  },
  {
   "cell_type": "code",
   "execution_count": null,
   "metadata": {},
   "outputs": [],
   "source": [
    "# LLM batch分析\n",
    "from apps.projects.services.LLM_service.LLMcontainer import LLMService\n",
    "from apps.projects.services.task_service import process_concurrent_JSON_outputs\n",
    "analyzer = LLMService(model_params_l2)\n",
    "results = await analyzer.process_with_limit(tasks_l2, limit=5)\n",
    "\n",
    "results_clean_parsed = process_concurrent_JSON_outputs(results)\n",
    "print(f'result类型： {type(results)}, cleaned_result类型：{type(results_clean_parsed)}')\n",
    "\n",
    "# 存储OUTLINE_L2 结果\n",
    "cache.save_json('t1-招标文件大纲分析/t1.2-H2-3层级标题分析/results', results)\n",
    "cache.save_json('t1-招标文件大纲分析/t1.2-H2-3层级标题分析/results_clean_parsed', results_clean_parsed)"
   ]
  },
  {
   "cell_type": "code",
   "execution_count": null,
   "metadata": {},
   "outputs": [],
   "source": [
    "# LLM 结果修正\n",
    "# 将所有的'level'值加1\n",
    "for item in results_clean_parsed:\n",
    "    if 'level' in item:\n",
    "        item['level'] += 1\n",
    "\n",
    "from pprint import pprint\n",
    "pprint(results_clean_parsed)"
   ]
  },
  {
   "cell_type": "code",
   "execution_count": null,
   "metadata": {},
   "outputs": [],
   "source": [
    "# 更新文档标题 H2-3\n",
    "# 输入： doc, title_lits, index_path_map， 输出：doc_H1\n",
    "# 核心功能组件： Tiptap.helpers.TiptapUtils.update_titles_from_list()\n",
    "from apps.projects.tiptap.helpers import TiptapUtils\n",
    "tender_file_extraction_H2 = TiptapUtils.update_titles_from_list(\n",
    "    doc=tender_file_extraction_H1, \n",
    "    title_list=results_clean_parsed, \n",
    "    index_path_map=meta_l2[\"index_path_map\"]\n",
    "    )\n",
    "\n",
    "# 检查标题是否已经改到内容里去了？\n",
    "from apps.projects.tiptap.helpers import TiptapUtils\n",
    "headings = TiptapUtils.find_all_headings(tender_file_extraction_H2)\n",
    "from pprint import pprint\n",
    "#pprint(headings)\n",
    "print(TiptapUtils.print_headings(tender_file_extraction_H2))\n",
    "\n",
    "# 存储tender_file_extraction_L2 结果\n",
    "cache.save_json('招标文件/tender_file_extraction_H2', tender_file_extraction_H2)"
   ]
  },
  {
   "cell_type": "markdown",
   "metadata": {},
   "source": [
    "### 1.3 添加前言目录\n",
    "输入： tender_file_extraction   输出: tender_file_extraction_final"
   ]
  },
  {
   "cell_type": "code",
   "execution_count": null,
   "metadata": {},
   "outputs": [],
   "source": [
    "# 初始化 & 输入\n",
    "import django_setup\n",
    "from pprint import pprint\n",
    "from NotebookCacheManager import NotebookCacheManager\n",
    "cache = NotebookCacheManager(\"cache_e1\")\n",
    "tender_file_extraction_H2 =cache.load_json('招标文件/tender_file_extraction_H2')\n",
    "from apps.projects.tiptap.helpers import TiptapUtils\n",
    "headings = TiptapUtils.print_headings(tender_file_extraction_H2)\n",
    "print(headings)"
   ]
  },
  {
   "cell_type": "code",
   "execution_count": null,
   "metadata": {},
   "outputs": [],
   "source": [
    "# 直接添加前言\n",
    "from apps.projects.tiptap.helpers import TiptapUtils\n",
    "tender_file_extraction_final = TiptapUtils.add_introduction_headings(tender_file_extraction_H2)\n",
    "pprint(tender_file_extraction_final)\n",
    "cache.save_json('招标文件/tender_file_extraction_final', tender_file_extraction_final)"
   ]
  },
  {
   "cell_type": "code",
   "execution_count": null,
   "metadata": {},
   "outputs": [],
   "source": [
    "#打印 带前言的文档大纲框架 \n",
    "from apps.projects.tiptap.helpers import TiptapUtils\n",
    "enhanced_toc=TiptapUtils.print_enhanced_toc(tender_file_extraction_final)\n",
    "print(enhanced_toc)"
   ]
  },
  {
   "cell_type": "markdown",
   "metadata": {},
   "source": [
    "### 1.4 增强目录分析（图表）"
   ]
  },
  {
   "cell_type": "code",
   "execution_count": null,
   "metadata": {},
   "outputs": [],
   "source": [
    "# 初始化 & 输入\n",
    "import django_setup\n",
    "from pprint import pprint\n",
    "from NotebookCacheManager import NotebookCacheManager\n",
    "cache = NotebookCacheManager(\"cache_e1\")\n",
    "tender_file_extraction_final =cache.load_json('招标文件/tender_file_extraction_final')\n",
    "from apps.projects.tiptap.helpers import TiptapUtils\n",
    "headings = TiptapUtils.print_headings(tender_file_extraction_final)\n",
    "print(headings)"
   ]
  },
  {
   "cell_type": "code",
   "execution_count": null,
   "metadata": {},
   "outputs": [],
   "source": [
    "# LLM 数据准备\n",
    "# 输入： tender_file_extraction_final, 输出：model_params, task, meta, formatted_message\n",
    "# 核心功能模块： TenderOutlinesL2 里 prepare_context 调用 TiptapUtils.extract_chapters， \n",
    "from apps.projects.services.tasks_preparation.tender_outlines_tables import TenderOutlinesTables\n",
    "# #获取LLM分析相关数据\n",
    "data_cooker_tb = TenderOutlinesTables(tender_file_extraction_final)\n",
    "model_params_tb, tasks_tb, meta_tb = data_cooker_tb.output_params()\n",
    "# # 模拟的prompt, \n",
    "simulated_prompts_tb, formatted_messages_tb = data_cooker_tb.simulate_prompt()\n",
    "\n",
    "cache.save_json('t1-招标文件大纲分析/t1.4-增强标题分析/model_params_tb', model_params_tb)\n",
    "cache.save_json('t1-招标文件大纲分析/t1.4-增强标题分析/tasks_tb', tasks_tb)\n",
    "cache.save_json('t1-招标文件大纲分析/t1.4-增强标题分析/meta_tb', meta_tb)\n",
    "cache.save_json('t1-招标文件大纲分析/t1.4-增强标题分析/formatted_messages_tb', formatted_messages_tb)"
   ]
  },
  {
   "cell_type": "code",
   "execution_count": null,
   "metadata": {},
   "outputs": [],
   "source": [
    "# LLM batch分析\n",
    "from apps.projects.services.LLM_service.LLMcontainer import LLMService\n",
    "from apps.projects.services.task_service import process_concurrent_JSON_outputs\n",
    "analyzer = LLMService(model_params_tb)\n",
    "results_tb = await analyzer.process_with_limit(tasks_tb, limit=5)\n",
    "pprint(results_tb)\n",
    "\n",
    "results_tb_clean_parsed = process_concurrent_JSON_outputs(results_tb)\n",
    "print(f'result类型： {type(results_tb)}, cleaned_result类型：{type(results_tb_clean_parsed)}')\n",
    "\n",
    "# 存储OUTLINE_L2 结果\n",
    "cache.save_json('t1-招标文件大纲分析/t1.4-增强标题分析/results', results_tb)\n",
    "cache.save_json('t1-招标文件大纲分析/t1.4-增强标题分析/results_clean_parsed', results_tb_clean_parsed)"
   ]
  },
  {
   "cell_type": "code",
   "execution_count": null,
   "metadata": {},
   "outputs": [],
   "source": [
    "results_tb_clean_parsed = cache.load_json('t1-招标文件大纲分析/t1.4-增强标题分析/results_clean_parsed')\n",
    "meta_tb = cache.load_json('t1-招标文件大纲分析/t1.4-增强标题分析/meta_tb')\n",
    "pprint(results_tb_clean_parsed)\n",
    "pprint(meta_tb)"
   ]
  },
  {
   "cell_type": "code",
   "execution_count": null,
   "metadata": {},
   "outputs": [],
   "source": [
    "# 更新文档，给节点添加caption note\n",
    "from apps.projects.tiptap.helpers import TiptapUtils\n",
    "tender_file_extraction_final_tb = TiptapUtils.add_captions_to_nodes(\n",
    "    doc = tender_file_extraction_final, \n",
    "    captions = results_tb_clean_parsed, \n",
    "    index_path_map = meta_tb[\"index_path_map\"]\n",
    "    )\n",
    "pprint(tender_file_extraction_final_tb)\n",
    "cache.save_json('招标文件/tender_file_extraction_final_tb', tender_file_extraction_final_tb)"
   ]
  },
  {
   "cell_type": "code",
   "execution_count": null,
   "metadata": {},
   "outputs": [],
   "source": [
    "#打印 增加型文档大纲框架 \n",
    "from apps.projects.tiptap.helpers import TiptapUtils\n",
    "enhanced_toc=TiptapUtils.print_enhanced_toc(tender_file_extraction_final_tb)\n",
    "print(enhanced_toc)"
   ]
  },
  {
   "cell_type": "markdown",
   "metadata": {},
   "source": [
    "## PART-2. 投标文件编辑格式和要求"
   ]
  },
  {
   "cell_type": "markdown",
   "metadata": {},
   "source": [
    "#### <font color=\"red\"> 1. 利用LLM定位相关的章节</font>\n",
    "输入： tender_file_extraction_final_tb，topic_list 输出：List[relavant_parts]"
   ]
  },
  {
   "cell_type": "code",
   "execution_count": null,
   "metadata": {},
   "outputs": [],
   "source": [
    "# 初始化 & 输入\n",
    "import django_setup\n",
    "from pprint import pprint\n",
    "from NotebookCacheManager import NotebookCacheManager\n",
    "cache = NotebookCacheManager(\"cache_e1\")\n",
    "tender_file_extraction_final_tb =cache.load_json('招标文件/tender_file_extraction_final_tb')\n",
    "from apps.projects.tiptap.helpers import TiptapUtils\n",
    "headings = TiptapUtils.print_enhanced_toc(tender_file_extraction_final_tb)\n",
    "print(headings)"
   ]
  },
  {
   "cell_type": "code",
   "execution_count": 2,
   "metadata": {},
   "outputs": [],
   "source": [
    "# topics输入\n",
    "topic_list = [\"投标文件组成\"]"
   ]
  },
  {
   "cell_type": "code",
   "execution_count": null,
   "metadata": {},
   "outputs": [],
   "source": [
    "# LLM 数据准备\n",
    "# 输入： tender_file_extraction_final_tb, topic_list 输出：model_params, task, meta, formatted_message\n",
    "# 核心功能模块： FindTopicContextBatch 里 prepare_context 调用 TiptapUtils.print_enhanced_toc(self.doc)\n",
    "\n",
    "from apps.projects.services.tasks_preparation.find_topic_context_batch import FindTopicContextBatch\n",
    "# #获取LLM分析相关数据\n",
    "data_cooker_bid = FindTopicContextBatch(tender_file_extraction_final_tb, topic_list)\n",
    "model_params_bid, tasks_bid, meta_bid = data_cooker_bid.output_params()\n",
    "# # 模拟的prompt, \n",
    "simulated_prompts_bid, formatted_messages_bid = data_cooker_bid.simulate_prompt()\n",
    "\n",
    "cache.save_json('t2-投标文件编辑格式和要求/t2.1-相关章节定位/model_params_bid', model_params_bid)\n",
    "cache.save_json('t2-投标文件编辑格式和要求/t2.1-相关章节定位/tasks_bid', tasks_bid)\n",
    "cache.save_json('t2-投标文件编辑格式和要求/t2.1-相关章节定位/meta_bid', meta_bid)\n",
    "cache.save_json('t2-投标文件编辑格式和要求/t2.1-相关章节定位/formatted_messages_bid', formatted_messages_bid)\n",
    "\n",
    "print(type(tasks_bid), len(tasks_bid))"
   ]
  },
  {
   "cell_type": "code",
   "execution_count": null,
   "metadata": {},
   "outputs": [],
   "source": [
    "# LLM batch分析 (虽然这里实际只处理一个任务，但为了保持一致性，还是用batch)\n",
    "from apps.projects.services.LLM_service.LLMcontainer import LLMService\n",
    "from apps.projects.services.task_service import process_concurrent_JSON_outputs\n",
    "analyzer = LLMService(model_params_bid)\n",
    "results = await analyzer.process_with_limit(tasks_bid, limit=5)\n",
    "results_clean_parsed = process_concurrent_JSON_outputs(results)\n",
    "pprint(results_clean_parsed)\n",
    "\n",
    "# 清洗大模型输出结果，移除可能的Markdown代码块标记 并输出json.load格式\n",
    "cache.save_json('t2-投标文件编辑格式和要求/t2.1-相关章节定位/results', results)\n",
    "cache.save_json('t2-投标文件编辑格式和要求/t2.1-相关章节定位/results_clean_parsed', results_clean_parsed)"
   ]
  },
  {
   "cell_type": "markdown",
   "metadata": {},
   "source": [
    "#### <font color=\"red\"> 2. 投标文件组成框架分析</font>\n",
    "输入：tender_file_extraction_final_tb, List[relevant_parts]      \n",
    "输出：list[]投标文件目录框架"
   ]
  },
  {
   "cell_type": "code",
   "execution_count": null,
   "metadata": {},
   "outputs": [],
   "source": [
    "# 初始化 & 输入\n",
    "import django_setup\n",
    "from pprint import pprint\n",
    "from NotebookCacheManager import NotebookCacheManager\n",
    "cache = NotebookCacheManager(\"cache_e1\")\n",
    "tender_file_extraction_final_tb =cache.load_json('招标文件/tender_file_extraction_final_tb')\n",
    "relavant_parts = cache.load_json('t2-投标文件编辑格式和要求/t2.1-相关章节定位/results_clean_parsed')\n",
    "paths = [item['path'] for item in relavant_parts]\n",
    "from apps.projects.tiptap.helpers import TiptapUtils\n",
    "headings = TiptapUtils.print_enhanced_toc(tender_file_extraction_final_tb)\n",
    "pprint(paths)"
   ]
  },
  {
   "cell_type": "code",
   "execution_count": null,
   "metadata": {},
   "outputs": [],
   "source": [
    "# LLM 数据准备\n",
    "# 输入： tender_file_extraction_final_tb, paths 输出：model_params, task, meta, formatted_message\n",
    "# 核心功能模块： BidOutlines 里 prepare_context 调用 TiptapUtils.extract_content_under_heading(self.data_input, path)\n",
    "from apps.projects.services.tasks_preparation.bid_outlines import BidOutlines\n",
    "# #获取LLM分析相关数据\n",
    "data_cooker_bid = BidOutlines(tender_file_extraction_final_tb, paths)\n",
    "model_params_bid, task_bid, meta_bid = data_cooker_bid.output_params()\n",
    "# # 模拟的prompt, \n",
    "simulated_prompts_bid, formatted_messages_bid = data_cooker_bid.simulate_prompt()\n",
    "\n",
    "cache.save_json('t2-投标文件编辑格式和要求/t2.2-投标文件组成/model_params_bid', model_params_bid)\n",
    "cache.save_json('t2-投标文件编辑格式和要求/t2.2-投标文件组成/tasks_bid', task_bid)\n",
    "cache.save_json('t2-投标文件编辑格式和要求/t2.2-投标文件组成/meta_bid', meta_bid)\n",
    "cache.save_json('t2-投标文件编辑格式和要求/t2.2-投标文件组成/formatted_messages_bid', formatted_messages_bid)\n",
    "\n",
    "pprint(task_bid)"
   ]
  },
  {
   "cell_type": "code",
   "execution_count": null,
   "metadata": {},
   "outputs": [],
   "source": [
    "# LLM 分析\n",
    "from apps.projects.services.LLM_service.LLMcontainer import LLMService\n",
    "from apps.projects.services.task_service import clean_llm_JSON_output\n",
    "analyzer = LLMService(model_params_bid)\n",
    "results = await analyzer.process(task_bid)\n",
    "results_clean_parsed = clean_llm_JSON_output(results)\n",
    "pprint(results_clean_parsed)\n",
    "cache.save_json('t2-投标文件编辑格式和要求/t2.2-投标文件组成/results', results)\n",
    "cache.save_json('t2-投标文件编辑格式和要求/t2.2-投标文件组成/results_clean_parsed', results_clean_parsed)"
   ]
  },
  {
   "cell_type": "markdown",
   "metadata": {},
   "source": [
    "## PART-3. 投标人资格要求"
   ]
  },
  {
   "cell_type": "markdown",
   "metadata": {},
   "source": [
    "#### <font color=\"red\"> 1. 利用LLM定位相关的章节</font>\n",
    "输入： tender_file_extraction_final_tb，topic_list 输出：List[relavant_parts]"
   ]
  },
  {
   "cell_type": "code",
   "execution_count": null,
   "metadata": {},
   "outputs": [],
   "source": [
    "# 初始化 & 输入\n",
    "import django_setup\n",
    "from pprint import pprint\n",
    "from NotebookCacheManager import NotebookCacheManager\n",
    "cache = NotebookCacheManager(\"cache_e1\")\n",
    "tender_file_extraction_final_tb =cache.load_json('招标文件/tender_file_extraction_final_tb')\n",
    "from apps.projects.tiptap.helpers import TiptapUtils\n",
    "headings = TiptapUtils.print_enhanced_toc(tender_file_extraction_final_tb)\n",
    "print(headings)"
   ]
  },
  {
   "cell_type": "code",
   "execution_count": 2,
   "metadata": {},
   "outputs": [],
   "source": [
    "# topics输入\n",
    "topic_list = [\"投标人资格要求\", \"资格要求相关的评标方法\", \"资格要求相关的模板\"]"
   ]
  },
  {
   "cell_type": "code",
   "execution_count": null,
   "metadata": {},
   "outputs": [],
   "source": [
    "# LLM 数据准备\n",
    "# 输入： tender_file_extraction_final_tb, topic_list 输出：model_params, task, meta, formatted_message\n",
    "# 核心功能模块： FindTopicContextBatch 里 prepare_context 调用 TiptapUtils.print_enhanced_toc(self.doc)\n",
    "\n",
    "from apps.projects.services.tasks_preparation.find_topics_context import FindTopicsContext\n",
    "# #获取LLM分析相关数据\n",
    "data_cooker_bid = FindTopicsContext(tender_file_extraction_final_tb, topic_list)\n",
    "model_params_bid, tasks_bid, meta_bid = data_cooker_bid.output_params()\n",
    "# # 模拟的prompt, \n",
    "simulated_prompts_bid, formatted_messages_bid = data_cooker_bid.simulate_prompt()\n",
    "\n",
    "cache.save_json('t3-投标人资格要求/t3.1-相关章节定位/model_params_bid', model_params_bid)\n",
    "cache.save_json('t3-投标人资格要求/t3.1-相关章节定位/tasks_bid', tasks_bid)\n",
    "cache.save_json('t3-投标人资格要求/t3.1-相关章节定位/meta_bid', meta_bid)\n",
    "cache.save_json('t3-投标人资格要求/t3.1-相关章节定位/formatted_messages_bid', formatted_messages_bid)\n",
    "\n",
    "print(type(tasks_bid), len(tasks_bid))"
   ]
  },
  {
   "cell_type": "code",
   "execution_count": null,
   "metadata": {},
   "outputs": [],
   "source": [
    "# LLM batch分析 (虽然这里实际只处理一个任务，但为了保持一致性，还是用batch)\n",
    "from apps.projects.services.LLM_service.LLMcontainer import LLMService\n",
    "from apps.projects.services.task_service import process_concurrent_JSON_outputs\n",
    "analyzer = LLMService(model_params_bid)\n",
    "results = await analyzer.process_with_limit([tasks_bid], limit=5)\n",
    "results_clean_parsed = process_concurrent_JSON_outputs(results)\n",
    "pprint(results_clean_parsed)\n",
    "\n",
    "# 清洗大模型输出结果，移除可能的Markdown代码块标记 并输出json.load格式\n",
    "cache.save_json('t3-投标人资格要求/t3.1-相关章节定位/results', results)\n",
    "cache.save_json('t3-投标人资格要求/t3.1-相关章节定位/results_clean_parsed', results_clean_parsed)"
   ]
  },
  {
   "cell_type": "markdown",
   "metadata": {},
   "source": [
    "#### <font color=\"red\"> 2. 投标人资格要求分析</font>\n",
    "输入：tender_file_extraction_final_tb, List[relevant_parts]      \n",
    "输出：md table"
   ]
  },
  {
   "cell_type": "code",
   "execution_count": null,
   "metadata": {},
   "outputs": [],
   "source": [
    "# 初始化 & 输入\n",
    "import django_setup\n",
    "from pprint import pprint\n",
    "from NotebookCacheManager import NotebookCacheManager\n",
    "cache = NotebookCacheManager(\"cache_e1\")\n",
    "tender_file_extraction_final_tb =cache.load_json('招标文件/tender_file_extraction_final_tb')\n",
    "relavant_parts = cache.load_json('t3-投标人资格要求/t3.1-相关章节定位/results_clean_parsed')\n",
    "raw_paths = [item['path'] for item in relavant_parts]\n",
    "from apps.projects.services.task_service import deduplicate_paths\n",
    "paths = deduplicate_paths(raw_paths)\n",
    "from apps.projects.tiptap.helpers import TiptapUtils\n",
    "headings = TiptapUtils.print_enhanced_toc(tender_file_extraction_final_tb)\n",
    "pprint(paths)"
   ]
  },
  {
   "cell_type": "code",
   "execution_count": null,
   "metadata": {},
   "outputs": [],
   "source": [
    "# LLM 数据准备\n",
    "# 输入： tender_file_extraction_final_tb, paths 输出：model_params, task, meta, formatted_message\n",
    "# 核心功能模块： BidOutlines 里 prepare_context 调用 TiptapUtils.extract_content_under_heading(self.data_input, path)\n",
    "from apps.projects.services.tasks_preparation.bidder_qulification.qualification_analysis import QualificationAnalysis\n",
    "# #获取LLM分析相关数据\n",
    "data_cooker_bid = QualificationAnalysis(tender_file_extraction_final_tb, paths)\n",
    "model_params_bid, task_bid, meta_bid = data_cooker_bid.output_params()\n",
    "# # 模拟的prompt, \n",
    "simulated_prompts_bid, formatted_messages_bid = data_cooker_bid.simulate_prompt()\n",
    "\n",
    "cache.save_json('t3-投标人资格要求/t3.2-投标人资格要求分析/model_params_bid', model_params_bid)\n",
    "cache.save_json('t3-投标人资格要求/t3.2-投标人资格要求分析/tasks_bid', task_bid)\n",
    "cache.save_json('t3-投标人资格要求/t3.2-投标人资格要求分析/meta_bid', meta_bid)\n",
    "cache.save_json('t3-投标人资格要求/t3.2-投标人资格要求分析/formatted_messages_bid', formatted_messages_bid)\n",
    "\n",
    "pprint(task_bid)"
   ]
  },
  {
   "cell_type": "code",
   "execution_count": null,
   "metadata": {},
   "outputs": [],
   "source": [
    "# LLM 分析\n",
    "from apps.projects.services.LLM_service.LLMcontainer import LLMService\n",
    "analyzer = LLMService(model_params_bid)\n",
    "results = await analyzer.process(task_bid)\n",
    "cache.save_json('t3-投标人资格要求/t3.2-投标人资格要求分析/results', results)"
   ]
  },
  {
   "cell_type": "code",
   "execution_count": 6,
   "metadata": {},
   "outputs": [
    {
     "data": {
      "text/markdown": [
       "[\n",
       "    {\"标题\": \"有效的营业执照复印件\", \"模板内容\": \"提供有效的营业执照复印件，并在复印件上加盖公章。\", \"已有模板\": \"无\"},\n",
       "    {\"标题\": \"依法缴纳社会保险和纳税记录\", \"模板内容\": \"提供近半年内任意一个月的依法缴纳社会保险记录和依法纳税记录复印件，并加盖公章。\", \"已有模板\": \"无\"},\n",
       "    {\"标题\": \"近三年内没有重大违法记录的声明\", \"模板内容\": \"按照附件 3 格式准备声明文件并签字盖章。\", \"已有模板\": \"附件 3\"},\n",
       "    {\"标题\": \"单位负责人为同一人或存在直接控股、管理关系的其他法人信息\", \"模板内容\": \"按照附件 12 格式填写相关信息并加盖公章。\", \"已有模板\": \"附件 12\"},\n",
       "    {\"标题\": \"信用中国和中国政府采购网的信用查询记录\", \"模板内容\": \"查询信用记录并打印网页截图，加盖公章。\", \"已有模板\": \"无\"},\n",
       "    {\"标题\": \"有效的《食品生产许可证》或《食品经营许可证》\", \"模板内容\": \"提供有效的《食品生产许可证》或《食品经营许可证》复印件加盖公章；若为仅销售预包装食品的企业，提供包含“食品经营（仅销售预包装食品）”的有效营业执照或备案证明材料并加盖公章。\", \"已有模板\": \"无\"},\n",
       "    {\"标题\": \"会计师事务所出具的财务审计报告\", \"模板内容\": \"提供会计师事务所出具的上一年度（2023 年度）财务审计报告复印件并加盖公章；若未完成 2023 年度审计，提供 2022 年度审计报告；若为 2023 年 1 月 1 日之后成立的公司，提供财务状况说明并加盖公章。\", \"已有模板\": \"无\"},\n",
       "    {\"标题\": \"法律、行政法规规定的其他条件\", \"模板内容\": \"根据具体要求提供相关证明材料。\", \"已有模板\": \"无\"}\n",
       "]"
      ],
      "text/plain": [
       "<IPython.core.display.Markdown object>"
      ]
     },
     "metadata": {},
     "output_type": "display_data"
    }
   ],
   "source": [
    "# md table Display\n",
    "from IPython.display import display, HTML, Markdown\n",
    "display(Markdown(results))"
   ]
  },
  {
   "cell_type": "markdown",
   "metadata": {},
   "source": [
    "#### <font color=\"red\"> 3. 投标文件侧呈现</font>\n",
    "输入：tender_file_extraction_final_tb, md_table, context      \n",
    "输出：json 格式"
   ]
  },
  {
   "cell_type": "code",
   "execution_count": 1,
   "metadata": {},
   "outputs": [
    {
     "name": "stdout",
     "output_type": "stream",
     "text": [
      "## 六、合格投标人的资格要求(本项目采用资格后审)\n",
      "\n",
      "（1）在中华人民共和国境内注册的、具有独立承担民事责任的能力；\n",
      "\n",
      "（2）具有依法缴纳税收和社会保险的良好记录；\n",
      "\n",
      "（3）近三年内，在经营活动中没有重大违法记录；\n",
      "\n",
      "（4）单位负责人为同一人或者存在直接控股、管理关系的不同投标人，不得 同时参加本项目的投标；\n",
      "\n",
      "（5）信用中国网站（www.creditchina.gov.cn）和中国政府采购网\n",
      "\n",
      "（www.ccgp.gov.cn）查询信用记录中（查询时间为招标公告发布后至投标截止时 间期间），被列入失信被执行人、重大税收违法案件当事人名单或政府采购严重 违法失信行为记录名单的投标人，不得参加本项目投标；\n",
      "\n",
      "（6）具有有效的《食品生产许可证》或《食品经营许可证》。若投标人为仅 销售预包装食品的企业，须具有包含“食品经营（仅销售预包装食品）”的有效 营业执照或仅销售预包装食品备案证明材料；\n",
      "\n",
      "（7）投标人财务状况正常，须提供会计师事务所出具的上一年度（2023年度） 财务审计报告，投标人尚未完成2023年度财务审计的须提供2022年度经审计的财\n",
      "\n",
      "务报告；若投标人为2023年1月1日之后成立的公司，须提供财务状况说明；\n",
      "\n",
      "（8）法律、行政法规规定的其他条件；\n",
      "\n",
      "（9）本项目不接受联合体投标。\n",
      "\n",
      "\n",
      "## 附件 11 资格证明文件\n",
      "\n",
      "**1、有效的营业执照复印件（加盖公章）**\n",
      "\n",
      "**2、社会保险缴纳记录和依法纳税记录（近半年内任意一个月的依法缴纳社会保**\n",
      "\n",
      "**险记录复印件并加盖公章）**\n",
      "\n",
      "**3、提供近三年内，在经营活动中没有重大违法记录的声明（格式见附件** **3）**\n",
      "\n",
      "**4、在“信用中国”和“中国政府采购网”网站查询的投标人信用记录的查询结**\n",
      "\n",
      "**果（查询时间为招标公告发布后至投标截止时间期间）（网页查询结果截图** **打印并加盖公章）**\n",
      "\n",
      "**5、有效的《食品生产许可证》或《食品经营许可证》复印件加盖公章，若投标**\n",
      "\n",
      "**人为仅销售预包装食品的企业，须具有包含“食品经营（仅销售预包装食品）”** **的有效营业执照或仅销售预包装食品备案证明材料并加盖公章。**\n",
      "\n",
      "**6、会计师事务所出具的上一年度（2023** **年度）财务审计报告复印件并加盖公章，**\n",
      "\n",
      "**投标人尚未完成** **2023** **年度财务审计的须提供** **2022** **年度经审计的财务报告复** **印件并加盖公章。若投标人为** **2023** **年** **1** **月** **1** **日之后成立的公司，须提供财务** **状况说明并加盖公章**。\n",
      "\n",
      "\n",
      "## 附件 10 投标人资格声明\n",
      "\n",
      "致：招标人\n",
      "\n",
      "为响应你方 年 月 日的（项目编号）投标邀请，下述签字人 愿意参与投标，并提供满足招标需求中规定的（货物及服务），我方递交的投标 文件中全部说明、材料、文件内容是真实的和有效的。\n",
      "\n",
      "我方详知：招标人可能要求提供进一步的资格材料，我方愿意配合你方，向 有关机构和单位（如银行、会计师事务所、相关企业等）查证和获得有关资料。\n",
      "\n",
      "法定代表人或被授权代表（签字或盖章）：\n",
      "\n",
      "投标人名称（公章）：\n",
      "\n",
      "日期： 年 月 日\n",
      "\n",
      "\n",
      "## 三、评标方法\n",
      "\n",
      "1、本项目采用综合评分法评标。\n",
      "\n",
      "2、按招标文件规定的价格、商务和技术评分标准， 由评标委员会各成员以记 名方式独立评定打分。\n",
      "\n",
      "3、汇总各评委的评分， 取算术平均值（小数点后保留两位小数）为该投标人 的总得分。\n",
      "\n",
      "4、根据各投标人的评标最终得分， 从高到低确定排名次序。若投标人的评标 最终得分相等，则投标价低者列前。评标委员会按评审排序结果推荐1-3名中标候 选人，并由招标人确定中标人。\n",
      "\n",
      "5、评标办法的解释权归招标人所有。\n",
      "\n",
      "**附件一：资格审查表**\n",
      "\n",
      "| 序号 | 审查内容 | 合格条件 |\n",
      "| --- | --- | --- |\n",
      "| 1 | 在中华人民共和国注册并具有独立 法人资格，具有工商行政主管部门 颁发的营业执照。 | 投标人须提供有效的营业执照复印件并 加盖公章 |\n",
      "| 2 | 距投标截止时间近半年内任意一个 月的依法缴纳社会保险记录和依法 纳税记录 | 投标人须提供距投标截止时间近半年内 任意一个月的依法缴纳社会保险记录和 依法纳税记录复印件并加盖公章 |\n",
      "| 3 | 投标人须提供近三年内，在经营活 动中没有重大违法记录的声明 | 投标人须提供近三年内，在经营活动中 没有重大违法记录的声明（格式见附件 3） |\n",
      "| 4 | 单位负责人为同一人或者存在直接 控股、管理关系的声明 | 投标人须提供“与投标人存在‘单位负 责人为同一人或者存在直接控股、管理 关系’的其他法人信息”（按格式附件 12 填写并加盖公章） |\n",
      "| 5 | 信用中国网站（www.creditchina.gov.cn）和中 国政府采购网（www.ccgp.gov.cn） 查询信用记录 | 投 标 人 须 提 供 在 信 用 中 国 网 站 （www.creditchina.gov.cn）和中国政 府采购网（www.ccgp.gov.cn）的信用查 询记录网页截图并加盖公章（查询时间 为招标公告发布后至投标截止时间期 间） |\n",
      "| 6 | 具有有效的《食品生产许可证》或 《食品经营许可证》。若投标人为 仅销售预包装食品的企业，须具有 包含“食品经营（仅销售预包装食 品）”的有效营业执照或仅销售预 包装食品备案证明材料 | 投标人提供有效的《食品生产许可证》 或《食品经营许可证》复印件加盖公章， 若投标人为仅销售预包装食品的企业， 须具有包含“食品经营（仅销售预包装 食品） ”的有效营业执照或仅销售预包 装食品备案证明材料并加盖公章。 |\n",
      "| 7 | 企业财务状况 | 投标人提供会计师事务所出具的上一年 度（2023 年度）财务审计报告复印件加 盖公章，投标人尚未完成 2023 年度财务 审计的须提供 2022 年度经审计的财务 报告复印件并加盖公章。若投标人为2023 年 1 月 1 日之后成立的公司，须提 供财务状况说明并加盖公章。 |\n",
      "\n",
      "以上证明资料，投标文件中须提供复印件并加盖投标人公章。 以上条件中有一项不合格，则投标人不能通过资格性审查。\n",
      "\n",
      "**附件二：符合性审查表**\n",
      "\n",
      "| 序号 | 审查内容 |\n",
      "| --- | --- |\n",
      "| 1 | 是否按照招标文件规定的格式提供法定代表人授权书 |\n",
      "| 2 | 是否递交投标保证金或投标保证金金额是否符合招标文件要求； |\n",
      "| 3 | 投标有效期是否满足招标文件要求 |\n",
      "| 4 | 是否按照招标文件要求密封、签署、盖章 |\n",
      "| 5 | 是否按招标文件要求提供资格证书和资质证明文件 |\n",
      "| 6 | 是否对招标文件带“*”号的重要商务、技术条款作出负偏离响应和未作实质 性响应 |\n",
      "| 7 | 是否对招标文件做出实质性响应，或者投标文件的组成是否存在较大缺陷 |\n",
      "| 8 | 投标货物的技术规格和性能是否存在较大偏离，不能符合实际使用要求 |\n",
      "| 9 | 交货期、质保及售后服务是否存在较大偏离，不能符合采购使用要求 |\n",
      "| 10 | 是否存在投标文件中对同一招标项目有两个或多个报价，且未声明哪个为有 效的，或投标文件中出现重大漏项、漏量的 |\n",
      "| 11 | 投标文件是否附有招标人不能接受的条件 |\n",
      "| 12 | 是否存在评委会一致认为报价明显不合理的 |\n",
      "| 13 | 是否存在提供虚假证明材料被查实的 |\n",
      "| 14 | 是否存在法律、法规规定的其他情形 |\n",
      "| 备注 | 以上条件中有一项不合格，则投标人不能通过符合性审查。 |\n",
      "\n",
      "**附件三：评分标准**\n",
      "\n",
      "### （一）、价格分（40 分）\n",
      "\n",
      "| 序号 | 评审因素 | 分值 | 评分标准说明 |\n",
      "| --- | --- | --- | --- |\n",
      "| 1 | 价格分 | 40 | 1.评标基准价=各有效投标报价的最低报价。2.投标报价的偏差率β值=100% ×（投标人评标价格 - 评标基准 价）/评标基准价3.各投标人投标报价得分=β值对应的价格分值×价格分权重40% （结果保留两位小数）。评分标准投标人名称及评审得分β值分布分值β得分β得分β得分依次递减23%<β≤ 24%88.0022%<β≤ 23%88.5021%<β≤ 22%89.0020%<β≤ 21%89.5019%<β≤ 20%90.0018%<β≤ 19%90.5017%<β≤ 18%91.0016%<β≤ 17%91.5015%<β≤ 16%92.0014%<β≤ 15%92.5013%<β≤ 14%93.0012%<β≤ 13%93.5011%<β≤ 12%94.0010%<β≤ 11%94.509%<β≤ 10%95.008%<β≤ 9%95.507%<β≤ 8%96.006%<β≤ 7%96.505%<β≤ 6%97.004%<β≤ 5%97.503%<β≤ 4%98.002%<β≤ 3%98.501%<β≤ 2%99.000%<β≤ 1%99.50β=0100 | 评分标准 | 投标人名称及评审得分 |  |  |  | β值分布 | 分值 | β | 得分 | β | 得分 | β | 得分 | 依次递减 |  |  |  |  |  |  | 23%<β≤ 24% | 88.00 | 22%<β≤ 23% | 88.50 | 21%<β≤ 22% | 89.00 | 20%<β≤ 21% | 89.50 | 19%<β≤ 20% | 90.00 | 18%<β≤ 19% | 90.50 | 17%<β≤ 18% | 91.00 | 16%<β≤ 17% | 91.50 | 15%<β≤ 16% | 92.00 | 14%<β≤ 15% | 92.50 | 13%<β≤ 14% | 93.00 | 12%<β≤ 13% | 93.50 | 11%<β≤ 12% | 94.00 | 10%<β≤ 11% | 94.50 | 9%<β≤ 10% | 95.00 | 8%<β≤ 9% | 95.50 | 7%<β≤ 8% | 96.00 | 6%<β≤ 7% | 96.50 | 5%<β≤ 6% | 97.00 | 4%<β≤ 5% | 97.50 | 3%<β≤ 4% | 98.00 | 2%<β≤ 3% | 98.50 | 1%<β≤ 2% | 99.00 | 0%<β≤ 1% | 99.50 | β=0 | 100 |\n",
      "| 评分标准 | 投标人名称及评审得分 |\n",
      "|  |  |  |\n",
      "| β值分布 | 分值 | β | 得分 | β | 得分 | β | 得分 |\n",
      "| 依次递减 |  |  |  |  |  |  |\n",
      "| 23%<β≤ 24% | 88.00 |\n",
      "| 22%<β≤ 23% | 88.50 |\n",
      "| 21%<β≤ 22% | 89.00 |\n",
      "| 20%<β≤ 21% | 89.50 |\n",
      "| 19%<β≤ 20% | 90.00 |\n",
      "| 18%<β≤ 19% | 90.50 |\n",
      "| 17%<β≤ 18% | 91.00 |\n",
      "| 16%<β≤ 17% | 91.50 |\n",
      "| 15%<β≤ 16% | 92.00 |\n",
      "| 14%<β≤ 15% | 92.50 |\n",
      "| 13%<β≤ 14% | 93.00 |\n",
      "| 12%<β≤ 13% | 93.50 |\n",
      "| 11%<β≤ 12% | 94.00 |\n",
      "| 10%<β≤ 11% | 94.50 |\n",
      "| 9%<β≤ 10% | 95.00 |\n",
      "| 8%<β≤ 9% | 95.50 |\n",
      "| 7%<β≤ 8% | 96.00 |\n",
      "| 6%<β≤ 7% | 96.50 |\n",
      "| 5%<β≤ 6% | 97.00 |\n",
      "| 4%<β≤ 5% | 97.50 |\n",
      "| 3%<β≤ 4% | 98.00 |\n",
      "| 2%<β≤ 3% | 98.50 |\n",
      "| 1%<β≤ 2% | 99.00 |\n",
      "| 0%<β≤ 1% | 99.50 |\n",
      "| β=0 | 100 |\n",
      "\n",
      "### （二）、商务分（25 分）\n",
      "\n",
      "| 序号 | 评审因素 | 分值 | 评分标准说明 |\n",
      "| --- | --- | --- | --- |\n",
      "| 1 | 财务状况 | 6 分 | 投标人近三年（2021年 1 月 1 日至今）任意一年综合年度纳税额 在 800 万元（含）以上的得 6 分；500 万元（含）至 800 万元（不 含）得 4-5 分；200 万元（含）至 500 万元（不含）得 2-3 分；200 万元（不含）以下得 1 分。（须提供税务部门开具的年度完税证明 复印件并加盖公章，否则不得分；完税证明税款所属时期为一个自 然年，跨年度完税证明为无效证明。若投标人为 2023 年 1 月 1 日 之后成立的公司，所提供完税证明税款所属时期可为成立之日起至 今。） |\n",
      "| 2 | 综合实力 | 13分 | 根据所投产品生产加工所投入的人员、厂房、库房、办公用房面积， 生产设备，检验检测设备及配套设备等进行评价，提供相关证明材 料。（注：投标人需自行列表说明情况并提供相关证明：包括但不 限于人员配备情况，生产加工厂房、库房、办公用房介绍及产权证 或租赁协议复印件；拟投入设备情况以及设备的购置发票或租赁协 议复印件。）人员配备合理，各项用房、设备配备齐全，满足招标人需求，最优 得 11-13 分；人员配备基本合理，各项用房、设备配备基本齐全，基本满足招标 人需求，一般得 6-10 分；人员配备欠缺，各项用房、设备配备不全面，部分满足招标人需求， 较差得 2-5 分；人员配备不合理，各项用房、各项设备配备较差，不能满足招标人 需求，最差得 0-1 分。 |\n",
      "| 3 | 荣誉证书 | 2 分 | 投标人所投产品获得的最具权威获奖证明。获得国家级证书得 2 分；获得省级证书得 1 分；获得省级以下（含各行业协会）证书不 得分。 |\n",
      "| 4 | 类似业绩 | 4 分 | 投标人 2021 年 1 月 1 日起至投标截止日（以合同签订日期为准） 做过的合同金额在 1000 万元及以上的花生油类案例。须提供合同 关键页（至少包括合同的甲乙双方，合同金额，详细标的内容和双 方签章及生效时间）、发票复印件、发票明细汇总清单并加盖公章。 每提供一个符合要求的案例得 1 分，最多得 4 分。注：须提供①合同关键页（至少包括合同的甲乙双方，合同金额， 详细标的内容和双方签章及生效时间）；②发票复印件； ③发票 明细汇总清单并加盖公章。以上文件缺一不可，须清晰可辨认， 否则视为无效文件。 |\n",
      "| 小计 | 25 分 | / |  |\n",
      "\n",
      "### （三）、技术分（35 分）\n",
      "\n",
      "| 序号 | 评审因素 | 分值 | 评分标准说明 |\n",
      "| --- | --- | --- | --- |\n",
      "| 1 | 食品安全卫生管理措施 | 7 分 | 措施内容针对本项目特点及招标人需求，科学合理、详尽完善、可 行性与针对性强，得 6-7 分；措施内容较完善、较合理，得 3-5 分； 措施内容不完善，得 1-2 分；未提供本措施、或不可行、或内容不是针对本项目的，得 0 分。 |\n",
      "| 2 | 配送方案 | 5 分 | 各投标人针对本项目制定的配送方案须包含人员配备方案；如遇不 可抗力因素，投标人可按时、保质保量完成配送的方案；其他配送 方案等。配送方案科学合理、详尽完善、可行性和针对性强、完全满足招标 人需求，得 5 分；配送方案完善、人员分工合理、车辆充足，得 3-4 分；配送方案可行、人员分工较合理、车辆基本满足需求，得 1-2 分； 配送方案不合理或未提供，得 0 分。 |\n",
      "| 3 | 售后服务 承诺 | 5 分 | 服务承诺（包括但不限于与项目有关的承诺）进行综合评价： 详细、完善、合理，完全满足项目实际需求得 5 分；详细、完善、合理，基本满足项目实际需求得 2-4 分；服务承诺不详细、完善、合理，不满足项目实际需求得 1 分； 未提供售后服务承诺，得 0 分。 |\n",
      "| 4 | 应急预案 | 5 分 | 预案针对本项目特点及招标人需求，科学合理、详尽完善、可行性 与针对性强，得 5 分；预案较完善、较合理，得 2-4 分； 预案不完善，得 1 分；未提供本预案、或预案不可行、或内容不是针对本项目的， 得 0 分。 |\n",
      "| 5 | 检测报告 | 5 分 | 投标人提供近半年内任意一个月将食材交付第三方专业检测机构出 具的具有 CMA 认证标识的合格检测报告（所提供的食材检测报告须 为本次投标产品的相同产品）：完全响应招标文件第二章“2.花生油主要技术参数”要求的，得 5 分；部分响应招标文件第二章“2.花生油主要技术参数”要求的，得 1-4 分；不满足招标文件第二章“2.花生油主要技术参数”要求的，或未提 供检测报告复印件或不清晰导致无法判断的，得 0 分。 |\n",
      "| 6 | 样品 | 8 分 | 根据投标人提供的样品的包装、产品感官如形状、色泽、气味等情 况，进行评分：样品包装精美，产品感官如形状、色泽、气味等完全满足招标文件 需求得 6-8 分； |\n",
      "\n",
      "|  |  |  | 样品包装良好，产品感官如形状、色泽、气味等基本满足招标文件 需求得 4-5 分；样品包装简陋，产品感官如形状、色泽、气味等部分满足招标文件 需求得 1-3 分；未提供样品得 0 分。 |\n",
      "| --- | --- | --- | --- |\n",
      "| 小计 | 35 分 |  |\n",
      "\n",
      "上述信息企业需如实提供，如发现有虚报、捏造，与税务、社保等部门数据不符，将追究企 业的欺诈责任。请投标人根据实际情况提供证明材料。\n",
      "\n",
      "\n",
      "### （六）、评标原则和评标办法\n",
      "\n",
      "1.评标原则。评标委员会必须公平、公正、客观， 不带任何倾向性和启发性； 不得向外界透露任何与评标有关的内容；任何单位和个人不得干扰、影响评标的 正常进行；评标委员会及有关工作人员不得私下与投标人接触。\n",
      "\n",
      "2.评标办法。本项目评标办法是 综合评分法 ，具体评标内容及评分标准等 详见《第四章 评标办法及评分标准》。\n"
     ]
    }
   ],
   "source": [
    "# 初始化 & 输入\n",
    "import django_setup\n",
    "from pprint import pprint\n",
    "from NotebookCacheManager import NotebookCacheManager\n",
    "cache = NotebookCacheManager(\"cache_e1\")\n",
    "Q_Req = cache.load_json('t3-投标人资格要求/t3.2-投标人资格要求分析/results')\n",
    "task_bid = cache.load_json('t3-投标人资格要求/t3.2-投标人资格要求分析/tasks_bid')\n",
    "supplement = task_bid['context']\n",
    "print(supplement)"
   ]
  },
  {
   "cell_type": "code",
   "execution_count": 2,
   "metadata": {},
   "outputs": [
    {
     "name": "stdout",
     "output_type": "stream",
     "text": [
      "{'context': '| 编号 | 要求要点 | 所需证明材料 | 指定模板 | 准备工作建议 | 我方是否满足 |\\n'\n",
      "            '| --- | --- | --- | --- | --- | --- |\\n'\n",
      "            '| 1 | **在中华人民共和国境内注册**，具有独立承担民事责任的能力 | **有效的营业执照复印件（加盖公章）** | 无 | '\n",
      "            '确保营业执照有效并在复印件上加盖公章 |  |\\n'\n",
      "            '| 2 | 具有依法缴纳税收和社会保险的良好记录 | '\n",
      "            '**近半年内任意一个月的依法缴纳社会保险记录和依法纳税记录复印件并加盖公章** | 无 | 提供近期的社保和纳税证明，并加盖公章 '\n",
      "            '|  |\\n'\n",
      "            '| 3 | 近三年内，在经营活动中没有重大违法记录 | **近三年内没有重大违法记录的声明（格式见附件 3）** | 附件 3 | '\n",
      "            '按照附件 3 格式准备声明文件并签字盖章 |  |\\n'\n",
      "            '| 4 | 单位负责人为同一人或者存在直接控股、管理关系的不同投标人，不得同时参加本项目的投标 | '\n",
      "            '**与投标人存在“单位负责人为同一人或者存在直接控股、管理关系”的其他法人信息（按格式附件 12 填写并加盖公章）** | 附件 '\n",
      "            '12 | 按照附件 12 格式填写相关信息并加盖公章 |  |\\n'\n",
      "            '| 5 | '\n",
      "            '在“信用中国”和“中国政府采购网”网站查询信用记录中未被列入失信被执行人、重大税收违法案件当事人名单或政府采购严重违法失信行为记录名单 '\n",
      "            '| **信用中国和中国政府采购网的信用查询记录网页截图打印并加盖公章** | 无 | 查询信用记录并打印网页截图，加盖公章 |  '\n",
      "            '|\\n'\n",
      "            '| 6 | 具有有效的《食品生产许可证》或《食品经营许可证》。若为仅销售预包装食品的企业，须提供相关备案证明 | '\n",
      "            '**有效的《食品生产许可证》或《食品经营许可证》复印件加盖公章；若为仅销售预包装食品的企业，提供包含“食品经营（仅销售预包装食品）”的有效营业执照或备案证明材料并加盖公章** '\n",
      "            '| 无 | 确保证件有效并提供复印件加盖公章 |  |\\n'\n",
      "            '| 7 | 财务状况正常，须提供会计师事务所出具的上一年度财务审计报告 | **会计师事务所出具的上一年度（2023 '\n",
      "            '年度）财务审计报告复印件并加盖公章；若未完成 2023 年度审计，提供 2022 年度审计报告；若为 2023 年 1 月 1 '\n",
      "            '日之后成立的公司，提供财务状况说明并加盖公章** | 无 | 确保审计报告或财务状况说明符合要求并加盖公章 |  |\\n'\n",
      "            '| 8 | 法律、行政法规规定的其他条件 | 根据具体要求提供相关证明材料 | 无 | '\n",
      "            '根据招标文件进一步明确法律、行政法规的具体要求并准备材料 |  |\\n'\n",
      "            '| 9 | 本项目不接受联合体投标 | 无 | 无 | 确认投标形式符合要求，避免以联合体形式参与 |  |',\n",
      " 'instruction': '\\n'\n",
      "                '材料A是招标文件里，关于投标人资格要求的分析结果。\\n'\n",
      "                '\\n'\n",
      "                '请以材料A里的每一项，确认是否需在投标文件里提交内容。\\n'\n",
      "                '\\n'\n",
      "                '对于需要提交的内容，请提供目录标题和内容模板。\\n'\n",
      "                '\\n'\n",
      "                '如果招标文件已经提供了模板，告知用户使用已有模板。\\n'\n",
      "                '\\n',\n",
      " 'output_format': '\\n'\n",
      "                  '        \\n'\n",
      "                  '- 只输出符合JSON格式的数据，不要添加解释、注释或 Markdown 标记。\\n'\n",
      "                  '- 示例：\\n'\n",
      "                  '[\\n'\n",
      "                  '    {\"标题\": str, \"模板内容\": str, \"已有模板\": str}, \\n'\n",
      "                  '    {\"标题\": str, \"模板内容\": str, \"已有模板\": str}\\n'\n",
      "                  ']\\n'\n",
      "                  '如果招标文件未提供模板，请填无。\\n',\n",
      " 'supplement': '此任务无补充内容'}\n"
     ]
    }
   ],
   "source": [
    "# LLM 数据准备\n",
    "# 输入： 之前分析的结果 Q_req (str), 之前分析的context作为supplement (str) 输出：model_params, task, meta, formatted_message\n",
    "from apps.projects.services.tasks_preparation.bidder_qulification.bidding_preparation import BiddingPreparation\n",
    "# #获取LLM分析相关数据\n",
    "data_cooker_bid = BiddingPreparation(Q_Req, supplement)\n",
    "model_params_bid, task_bid, meta_bid = data_cooker_bid.output_params()\n",
    "# # 模拟的prompt, \n",
    "simulated_prompts_bid, formatted_messages_bid = data_cooker_bid.simulate_prompt()\n",
    "\n",
    "cache.save_json('t3-投标人资格要求/t3.3-投标文件呈现/model_params_bid', model_params_bid)\n",
    "cache.save_json('t3-投标人资格要求/t3.3-投标文件呈现/tasks_bid', task_bid)\n",
    "cache.save_json('t3-投标人资格要求/t3.3-投标文件呈现/meta_bid', meta_bid)\n",
    "cache.save_json('t3-投标人资格要求/t3.3-投标文件呈现/formatted_messages_bid', formatted_messages_bid)\n",
    "\n",
    "pprint(task_bid)"
   ]
  },
  {
   "cell_type": "code",
   "execution_count": 3,
   "metadata": {},
   "outputs": [
    {
     "name": "stdout",
     "output_type": "stream",
     "text": [
      "[{'content': '你是一个专业的招标文档分析助手，帮助用户分析文档的结构和内容。', 'role': 'system'},\n",
      " {'content': '\\n'\n",
      "             '你将执行以下任务：\\n'\n",
      "             '\\n'\n",
      "             '【任务目标】\\n'\n",
      "             '\\n'\n",
      "             '材料A是招标文件里，关于投标人资格要求的分析结果。\\n'\n",
      "             '\\n'\n",
      "             '请以材料A里的每一项，确认是否需在投标文件里提交内容。\\n'\n",
      "             '\\n'\n",
      "             '对于需要提交的内容，请提供目录标题和内容模板。\\n'\n",
      "             '\\n'\n",
      "             '如果招标文件已经提供了模板，告知用户使用已有模板。\\n'\n",
      "             '\\n'\n",
      "             '\\n'\n",
      "             '\\n'\n",
      "             '【输出格式】\\n'\n",
      "             '\\n'\n",
      "             '        \\n'\n",
      "             '- 只输出符合JSON格式的数据，不要添加解释、注释或 Markdown 标记。\\n'\n",
      "             '- 示例：\\n'\n",
      "             '[\\n'\n",
      "             '    {\"标题\": str, \"模板内容\": str, \"已有模板\": str}, \\n'\n",
      "             '    {\"标题\": str, \"模板内容\": str, \"已有模板\": str}\\n'\n",
      "             ']\\n'\n",
      "             '如果招标文件未提供模板，请填无。\\n'\n",
      "             '\\n'\n",
      "             '\\n'\n",
      "             '以下是你将使用的内容：\\n'\n",
      "             '\\n'\n",
      "             '【材料A：主要上下文】\\n'\n",
      "             '| 编号 | 要求要点 | 所需证明材料 | 指定模板 | 准备工作建议 | 我方是否满足 |\\n'\n",
      "             '| --- | --- | --- | --- | --- | --- |\\n'\n",
      "             '| 1 | **在中华人民共和国境内注册**，具有独立承担民事责任的能力 | **有效的营业执照复印件（加盖公章）** | 无 '\n",
      "             '| 确保营业执照有效并在复印件上加盖公章 |  |\\n'\n",
      "             '| 2 | 具有依法缴纳税收和社会保险的良好记录 | '\n",
      "             '**近半年内任意一个月的依法缴纳社会保险记录和依法纳税记录复印件并加盖公章** | 无 | 提供近期的社保和纳税证明，并加盖公章 '\n",
      "             '|  |\\n'\n",
      "             '| 3 | 近三年内，在经营活动中没有重大违法记录 | **近三年内没有重大违法记录的声明（格式见附件 3）** | 附件 3 '\n",
      "             '| 按照附件 3 格式准备声明文件并签字盖章 |  |\\n'\n",
      "             '| 4 | 单位负责人为同一人或者存在直接控股、管理关系的不同投标人，不得同时参加本项目的投标 | '\n",
      "             '**与投标人存在“单位负责人为同一人或者存在直接控股、管理关系”的其他法人信息（按格式附件 12 填写并加盖公章）** | 附件 '\n",
      "             '12 | 按照附件 12 格式填写相关信息并加盖公章 |  |\\n'\n",
      "             '| 5 | '\n",
      "             '在“信用中国”和“中国政府采购网”网站查询信用记录中未被列入失信被执行人、重大税收违法案件当事人名单或政府采购严重违法失信行为记录名单 '\n",
      "             '| **信用中国和中国政府采购网的信用查询记录网页截图打印并加盖公章** | 无 | 查询信用记录并打印网页截图，加盖公章 |  '\n",
      "             '|\\n'\n",
      "             '| 6 | 具有有效的《食品生产许可证》或《食品经营许可证》。若为仅销售预包装食品的企业，须提供相关备案证明 | '\n",
      "             '**有效的《食品生产许可证》或《食品经营许可证》复印件加盖公章；若为仅销售预包装食品的企业，提供包含“食品经营（仅销售预包装食品）”的有效营业执照或备案证明材料并加盖公章** '\n",
      "             '| 无 | 确保证件有效并提供复印件加盖公章 |  |\\n'\n",
      "             '| 7 | 财务状况正常，须提供会计师事务所出具的上一年度财务审计报告 | **会计师事务所出具的上一年度（2023 '\n",
      "             '年度）财务审计报告复印件并加盖公章；若未完成 2023 年度审计，提供 2022 年度审计报告；若为 2023 年 1 月 1 '\n",
      "             '日之后成立的公司，提供财务状况说明并加盖公章** | 无 | 确保审计报告或财务状况说明符合要求并加盖公章 |  |\\n'\n",
      "             '| 8 | 法律、行政法规规定的其他条件 | 根据具体要求提供相关证明材料 | 无 | '\n",
      "             '根据招标文件进一步明确法律、行政法规的具体要求并准备材料 |  |\\n'\n",
      "             '| 9 | 本项目不接受联合体投标 | 无 | 无 | 确认投标形式符合要求，避免以联合体形式参与 |  |\\n'\n",
      "             '\\n'\n",
      "             '【材料B：补充信息】\\n'\n",
      "             '此任务无补充内容\\n'\n",
      "             '\\n'\n",
      "             '请严格根据材料A和B完成任务。\\n'\n",
      "             '\\n',\n",
      "  'role': 'human'}]\n"
     ]
    }
   ],
   "source": [
    "pprint(formatted_messages_bid)"
   ]
  },
  {
   "cell_type": "code",
   "execution_count": null,
   "metadata": {},
   "outputs": [
    {
     "name": "stdout",
     "output_type": "stream",
     "text": [
      "HTTP Request: POST https://dashscope.aliyuncs.com/compatible-mode/v1/chat/completions \"HTTP/1.1 200 OK\"\n",
      "[\n",
      "    {\"标题\": \"有效的营业执照复印件\", \"模板内容\": \"提供有效的营业执照复印件，并在复印件上加盖公章。\", \"已有模板\": \"无\"},\n",
      "    {\"标题\": \"依法缴纳社会保险和纳税记录\", \"模板内容\": \"提供近半年内任意一个月的依法缴纳社会保险记录和依法纳税记录复印件，并加盖公章。\", \"已有模板\": \"无\"},\n",
      "    {\"标题\": \"近三年内没有重大违法记录的声明\", \"模板内容\": \"按照附件 3 格式准备声明文件并签字盖章。\", \"已有模板\": \"附件 3\"},\n",
      "    {\"标题\": \"单位负责人为同一人或存在直接控股、管理关系的其他法人信息\", \"模板内容\": \"按照附件 12 格式填写相关信息并加盖公章。\", \"已有模板\": \"附件 12\"},\n",
      "    {\"标题\": \"信用中国和中国政府采购网的信用查询记录\", \"模板内容\": \"查询信用记录并打印网页截图，加盖公章。\", \"已有模板\": \"无\"},\n",
      "    {\"标题\": \"有效的《食品生产许可证》或《食品经营许可证》\", \"模板内容\": \"提供有效的《食品生产许可证》或《食品经营许可证》复印件加盖公章；若为仅销售预包装食品的企业，提供包含“食品经营（仅销售预包装食品）”的有效营业执照或备案证明材料并加盖公章。\", \"已有模板\": \"无\"},\n",
      "    {\"标题\": \"会计师事务所出具的财务审计报告\", \"模板内容\": \"提供会计师事务所出具的上一年度（2023 年度）财务审计报告复印件并加盖公章；若未完成 2023 年度审计，提供 2022 年度审计报告；若为 2023 年 1 月 1 日之后成立的公司，提供财务状况说明并加盖公章。\", \"已有模板\": \"无\"},\n",
      "    {\"标题\": \"法律、行政法规规定的其他条件\", \"模板内容\": \"根据具体要求提供相关证明材料。\", \"已有模板\": \"无\"}\n",
      "]"
     ]
    }
   ],
   "source": [
    "# LLM 分析\n",
    "from apps.projects.services.LLM_service.LLMcontainer import LLMService\n",
    "from apps.projects.services.task_service import clean_llm_JSON_output\n",
    "analyzer = LLMService(model_params_bid)\n",
    "results = await analyzer.process(task_bid)\n",
    "results_clean_parsed = clean_llm_JSON_output(results)\n",
    "cache.save_json('t3-投标人资格要求/t3.3-投标文件呈现/results', results)\n",
    "cache.save_json('t3-投标人资格要求/t3.3-投标文件呈现/results_clean_parsed', results_clean_parsed)\n",
    "pprint(results_clean_parsed)"
   ]
  },
  {
   "cell_type": "code",
   "execution_count": 9,
   "metadata": {},
   "outputs": [
    {
     "name": "stdout",
     "output_type": "stream",
     "text": [
      "[{'已有模板': '无', '标题': '有效的营业执照复印件', '模板内容': '提供有效的营业执照复印件，并在复印件上加盖公章。'},\n",
      " {'已有模板': '无',\n",
      "  '标题': '依法缴纳社会保险和纳税记录',\n",
      "  '模板内容': '提供近半年内任意一个月的依法缴纳社会保险记录和依法纳税记录复印件，并加盖公章。'},\n",
      " {'已有模板': '附件 3', '标题': '近三年内没有重大违法记录的声明', '模板内容': '按照附件 3 格式准备声明文件并签字盖章。'},\n",
      " {'已有模板': '附件 12',\n",
      "  '标题': '单位负责人为同一人或存在直接控股、管理关系的其他法人信息',\n",
      "  '模板内容': '按照附件 12 格式填写相关信息并加盖公章。'},\n",
      " {'已有模板': '无', '标题': '信用中国和中国政府采购网的信用查询记录', '模板内容': '查询信用记录并打印网页截图，加盖公章。'},\n",
      " {'已有模板': '无',\n",
      "  '标题': '有效的《食品生产许可证》或《食品经营许可证》',\n",
      "  '模板内容': '提供有效的《食品生产许可证》或《食品经营许可证》复印件加盖公章；若为仅销售预包装食品的企业，提供包含“食品经营（仅销售预包装食品）”的有效营业执照或备案证明材料并加盖公章。'},\n",
      " {'已有模板': '无',\n",
      "  '标题': '会计师事务所出具的财务审计报告',\n",
      "  '模板内容': '提供会计师事务所出具的上一年度（2023 年度）财务审计报告复印件并加盖公章；若未完成 2023 年度审计，提供 2022 '\n",
      "          '年度审计报告；若为 2023 年 1 月 1 日之后成立的公司，提供财务状况说明并加盖公章。'},\n",
      " {'已有模板': '无', '标题': '法律、行政法规规定的其他条件', '模板内容': '根据具体要求提供相关证明材料。'}]\n"
     ]
    }
   ],
   "source": [
    "pprint(results_clean_parsed)"
   ]
  },
  {
   "cell_type": "markdown",
   "metadata": {},
   "source": [
    "## 找到并使用模板"
   ]
  },
  {
   "cell_type": "code",
   "execution_count": 11,
   "metadata": {},
   "outputs": [
    {
     "name": "stdout",
     "output_type": "stream",
     "text": [
      "<class 'list'>\n",
      "[{'已有模板': '无', '标题': '有效的营业执照复印件', '模板内容': '提供有效的营业执照复印件，并在复印件上加盖公章。'},\n",
      " {'已有模板': '无',\n",
      "  '标题': '依法缴纳社会保险和纳税记录',\n",
      "  '模板内容': '提供近半年内任意一个月的依法缴纳社会保险记录和依法纳税记录复印件，并加盖公章。'},\n",
      " {'已有模板': '附件 3', '标题': '近三年内没有重大违法记录的声明', '模板内容': '按照附件 3 格式准备声明文件并签字盖章。'},\n",
      " {'已有模板': '附件 12',\n",
      "  '标题': '单位负责人为同一人或存在直接控股、管理关系的其他法人信息',\n",
      "  '模板内容': '按照附件 12 格式填写相关信息并加盖公章。'},\n",
      " {'已有模板': '无', '标题': '信用中国和中国政府采购网的信用查询记录', '模板内容': '查询信用记录并打印网页截图，加盖公章。'},\n",
      " {'已有模板': '无',\n",
      "  '标题': '有效的《食品生产许可证》或《食品经营许可证》',\n",
      "  '模板内容': '提供有效的《食品生产许可证》或《食品经营许可证》复印件加盖公章；若为仅销售预包装食品的企业，提供包含“食品经营（仅销售预包装食品）”的有效营业执照或备案证明材料并加盖公章。'},\n",
      " {'已有模板': '无',\n",
      "  '标题': '会计师事务所出具的财务审计报告',\n",
      "  '模板内容': '提供会计师事务所出具的上一年度（2023 年度）财务审计报告复印件并加盖公章；若未完成 2023 年度审计，提供 2022 '\n",
      "          '年度审计报告；若为 2023 年 1 月 1 日之后成立的公司，提供财务状况说明并加盖公章。'},\n",
      " {'已有模板': '无', '标题': '法律、行政法规规定的其他条件', '模板内容': '根据具体要求提供相关证明材料。'}]\n"
     ]
    }
   ],
   "source": [
    "Q_Req_sections = cache.load_json('t3-投标人资格要求/t3.3-投标文件呈现/results_clean_parsed')\n",
    "print(type(Q_Req_sections))\n",
    "pprint(Q_Req_sections)"
   ]
  },
  {
   "cell_type": "code",
   "execution_count": 13,
   "metadata": {},
   "outputs": [],
   "source": [
    "secs_with_templates = [item for item in Q_Req_sections if item[\"已有模板\"] != \"无\"]"
   ]
  },
  {
   "cell_type": "code",
   "execution_count": 14,
   "metadata": {},
   "outputs": [
    {
     "name": "stdout",
     "output_type": "stream",
     "text": [
      "[{'已有模板': '附件 3', '标题': '近三年内没有重大违法记录的声明', '模板内容': '按照附件 3 格式准备声明文件并签字盖章。'},\n",
      " {'已有模板': '附件 12',\n",
      "  '标题': '单位负责人为同一人或存在直接控股、管理关系的其他法人信息',\n",
      "  '模板内容': '按照附件 12 格式填写相关信息并加盖公章。'}]\n"
     ]
    }
   ],
   "source": [
    "pprint(secs_with_templates)"
   ]
  },
  {
   "cell_type": "markdown",
   "metadata": {},
   "source": [
    "## 注意： 待 前面添加 附件的单独处理， 附件为模板的， 专门用HTML处理，保持格式。"
   ]
  },
  {
   "cell_type": "markdown",
   "metadata": {},
   "source": []
  }
 ],
 "metadata": {
  "kernelspec": {
   "display_name": "bid_dev",
   "language": "python",
   "name": "python3"
  },
  "language_info": {
   "codemirror_mode": {
    "name": "ipython",
    "version": 3
   },
   "file_extension": ".py",
   "mimetype": "text/x-python",
   "name": "python",
   "nbconvert_exporter": "python",
   "pygments_lexer": "ipython3",
   "version": "3.12.9"
  }
 },
 "nbformat": 4,
 "nbformat_minor": 2
}
