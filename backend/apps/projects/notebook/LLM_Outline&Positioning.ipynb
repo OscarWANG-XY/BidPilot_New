{
 "cells": [
  {
   "cell_type": "markdown",
   "metadata": {},
   "source": [
    "## 初始化"
   ]
  },
  {
   "cell_type": "code",
   "execution_count": null,
   "metadata": {},
   "outputs": [],
   "source": [
    "# 初始化\n",
    "import django_setup\n",
    "import nest_asyncio\n",
    "nest_asyncio.apply()\n",
    "# 添加cache \n",
    "# 以下要求NotebookCacheManager.py 和 cache目录都在 当前测试文件的相同目录下（在notebook目录下）\n",
    "from NotebookCacheManager import NotebookCacheManager\n",
    "cache = NotebookCacheManager(\"cache\")\n",
    "\n",
    "from pprint import pprint\n",
    "\n",
    "# cache使用示例： \n",
    "# cache.save('存储文件名', 参数)，  a_loaded = cache.load('存储文件名')， 存在pkl文件下，点开为乱码\n",
    "# cache.save_json, cache.load_json, 存在json文件下，点开可读\n",
    "# cache.save_md, cache.load_md，存在md文件下，点开可读\n",
    "# cache.save_json('outline1/test1') 可构建二级目录"
   ]
  },
  {
   "cell_type": "markdown",
   "metadata": {},
   "source": [
    "## PART-1. 进入Outline_L1 分析\n"
   ]
  },
  {
   "cell_type": "code",
   "execution_count": null,
   "metadata": {},
   "outputs": [],
   "source": [
    "# 说明： \n",
    "# 对于长文本，直接提取多个层级的标题效果不佳且不稳定。因此，我们将分步提取标题，先提取一级标题，然后二级标题，最后三级标题。<br>\n",
    "# 为进行测试，我们需要：<br> \n",
    "# 1. 项目容器： 测试项目1 <br>\n",
    "# 2. tender_file_extraction 准备就绪 <br>\n",
    "# 3. 模型输入： context, instruction, supplement, output_format, prompt_template, index_path_map，都是即时生成，不存储。<br>\n",
    "# 4. 调用模型的函数：从task中简化。<br>\n",
    "# 5. 章节的截取函数： TiptapUtils.extract_indexed_paragraphs， 在prepare_context中已调用<br>\n",
    "# 6. 任务结果L1： 初始化为空 <br>\n",
    "# 7. 任务结果L2： 初始化为空 <br>\n",
    "# 8. 任务结果L3： 初始化为空 <br>\n",
    "# </font>"
   ]
  },
  {
   "cell_type": "markdown",
   "metadata": {},
   "source": [
    "#### <font color=\"red\"> 1. 准备tender_file_extraction</font>"
   ]
  },
  {
   "cell_type": "code",
   "execution_count": null,
   "metadata": {},
   "outputs": [],
   "source": [
    "# 招标文件提取内容 准备就绪\n",
    "from apps.projects.models import Project, Task, TaskType\n",
    "from pprint import pprint\n",
    "project = Project.objects.get(project_name='test1')\n",
    "task = Task.objects.get(stage__project=project, type=TaskType.OUTLINE_ANALYSIS_TASK)\n",
    "stage = task.stage\n",
    "# --- 如果project.tender_file_extraction 为空，则需要从关联的docx_extraction_task中获取\n",
    "# extraction_task = Task.objects.get(stage__project=project, type=TaskType.DOCX_EXTRACTION_TASK)\n",
    "# print(extraction_task.docx_tiptap)\n",
    "# print(type(extraction_task.docx_tiptap))\n",
    "# pprint(extraction_task.docx_tiptap)\n",
    "# project = Project.objects.get(project_name='测试项目1')\n",
    "# project.tender_file_extraction = extraction_task.docx_tiptap\n",
    "# project.save()\n",
    "# project = Project.objects.get(project_name='测试项目1')\n",
    "pprint(project.tender_file_extraction)\n",
    "cache.save_json('tender_file_extraction', project.tender_file_extraction)"
   ]
  },
  {
   "cell_type": "code",
   "execution_count": null,
   "metadata": {},
   "outputs": [],
   "source": [
    "# 存储位就绪\n",
    "print(f\"outline_L1存储：{project.outline_L1}\")\n",
    "print(f\"outline_L2存储：{project.outline_L2}\")\n",
    "print(f\"outline_L3存储：{project.outline_L3}\")\n",
    "print(f\"outline_L1存储：{project.index_path_map_L1}\")\n",
    "print(f\"outline_L2存储：{project.index_path_map_L2}\")\n",
    "print(f\"outline_L3存储：{project.index_path_map_L3}\")"
   ]
  },
  {
   "cell_type": "markdown",
   "metadata": {},
   "source": [
    "#### <font color=\"red\"> 2. 分析前数据准备 model_params_l1, task_l1, meta_l1</font>"
   ]
  },
  {
   "cell_type": "code",
   "execution_count": 2,
   "metadata": {},
   "outputs": [],
   "source": [
    "tender_file_extraction = cache.load_json('tender_file_extraction')\n",
    "from pprint import pprint"
   ]
  },
  {
   "cell_type": "code",
   "execution_count": 3,
   "metadata": {},
   "outputs": [],
   "source": [
    "# 借用outline_analysis_L1.py 的函数， 进行任务准备 \n",
    "\n",
    "# 集成时，用以下代替，模型传参 会先存储到数据库。\n",
    "from apps.projects.services.tasks_preparation.outline_analysis_L1 import OutlineAnalysisL1\n",
    "# #获取LLM分析相关数据\n",
    "data_cooker_l1 = OutlineAnalysisL1(tender_file_extraction)\n",
    "model_params_l1, task_l1, meta_l1 = data_cooker_l1.output_params()\n",
    "# # 模拟的prompt, \n",
    "simulated_prompt, formatted_message = data_cooker_l1.simulate_prompt()\n",
    "cache.save_json('outline_analysis_L1/model_params_l1', model_params_l1)\n",
    "cache.save_json('outline_analysis_L1/task_l1', task_l1)\n",
    "cache.save_json('outline_analysis_L1/meta_l1', meta_l1)\n",
    "cache.save_json('outline_analysis_L1/formatted_message', formatted_message)\n"
   ]
  },
  {
   "cell_type": "markdown",
   "metadata": {},
   "source": [
    "#### <font color=\"red\"> 3. 大模型分析</font>"
   ]
  },
  {
   "cell_type": "code",
   "execution_count": null,
   "metadata": {},
   "outputs": [],
   "source": [
    "# 构建LLM分析器 并 分析\n",
    "from apps.projects.services.LLM_service.LLMcontainer import LLMService\n",
    "analyzer = LLMService(model_params_l1)\n",
    "outline_L1 = await analyzer.process(task_l1)\n",
    "pprint(outline_L1)\n"
   ]
  },
  {
   "cell_type": "code",
   "execution_count": 5,
   "metadata": {},
   "outputs": [],
   "source": [
    "cache.save_md('outline_analysis_L1/outline_L1', outline_L1)"
   ]
  },
  {
   "cell_type": "markdown",
   "metadata": {},
   "source": [
    "#### <font color=\"red\"> 4. 将Outline_L1 应用到tender_file_extraction中</font>\n",
    "\n"
   ]
  },
  {
   "cell_type": "code",
   "execution_count": 2,
   "metadata": {},
   "outputs": [],
   "source": [
    "# 应用outline_L1分析结果，数据准备： outline_L1, index_path_map_l1, tender_file_extraction \n",
    "import json\n",
    "outline_L1 = cache.load_md('outline_analysis_L1/outline_L1')\n",
    "meta_l1 = cache.load_json('outline_analysis_L1/meta_l1')\n",
    "tender_file_extraction = cache.load_json('tender_file_extraction')\n",
    "index_path_map_L1 = meta_l1['index_path_map']\n",
    "outline_L1_dict = json.loads(outline_L1)"
   ]
  },
  {
   "cell_type": "code",
   "execution_count": null,
   "metadata": {},
   "outputs": [],
   "source": [
    "# 将outline_L1 应用到tender_file_extraction中, 使用TiptapUtils.update_titles_from_list\n",
    "from apps.projects.tiptap.helpers import TiptapUtils\n",
    "updated_tiptap_content = TiptapUtils.update_titles_from_list(tender_file_extraction, outline_L1_dict, index_path_map_L1)\n",
    "# 检查标题是否已经改到内容里去了？\n",
    "from apps.projects.tiptap.helpers import TiptapUtils\n",
    "headings = TiptapUtils.find_all_headings(updated_tiptap_content)\n",
    "pprint(headings)\n",
    "print(TiptapUtils.print_headings(updated_tiptap_content))"
   ]
  },
  {
   "cell_type": "code",
   "execution_count": 4,
   "metadata": {},
   "outputs": [],
   "source": [
    "tender_file_extraction_L1 = updated_tiptap_content\n",
    "cache.save_json('tender_file_extraction_L1', tender_file_extraction_L1)\n",
    "\n"
   ]
  },
  {
   "cell_type": "markdown",
   "metadata": {},
   "source": [
    "## PART-2. 开始执行Outline_L2 分析\n"
   ]
  },
  {
   "cell_type": "code",
   "execution_count": 27,
   "metadata": {},
   "outputs": [],
   "source": [
    "# 说明： 使用TiptapUtils.extract_chapters 提取章节， 并根据章节分块， 好处是,index被保留。<br> \n",
    "# - 带有L1标题的tiptap JSON 内容已经ready <br>\n",
    "# - 我们需要解决：<br>\n",
    "#     1）提取章节？-> 在原文 基础上 提取段落内容（str）， 根据章节分块， 好处是,index被保留。<br>\n",
    "#     2）提供章节段落内容，重复类似Outline_L1的分析: <br>\n",
    "#         a. 准备容器，更新的文件内容，存储任务结果字段？<br>\n",
    "#         b. 准备大模型的输入，并调用模型？ (这个过程，需要考虑并发分析，提高效率)<br>\n",
    "#         c. 将结果应用到tiptap JSON的 内容中？<br>\n",
    "#         d. 存储结果到project.tender_file_extraction <br>\n"
   ]
  },
  {
   "cell_type": "code",
   "execution_count": 5,
   "metadata": {},
   "outputs": [],
   "source": [
    "tender_file_extraction_L1 =cache.load_json('tender_file_extraction_L1')"
   ]
  },
  {
   "cell_type": "code",
   "execution_count": null,
   "metadata": {},
   "outputs": [],
   "source": [
    "# 提取章节\n",
    "from apps.projects.tiptap.helpers import TiptapUtils\n",
    "headings = TiptapUtils.print_headings(tender_file_extraction_L1)\n",
    "print(headings)"
   ]
  },
  {
   "cell_type": "markdown",
   "metadata": {},
   "source": [
    "#### <font color=\"red\"> 1. 通过outline_analysis_L2 进行传参准备</font>\n",
    "<font color=\"orange\" size=\"3\">\n",
    "- 在outline_analysis_L2 中， 根据章节分块， index被保留。<br>\n",
    "- 使用了TiptapUtils.extract_chapters 工具，返回 字典对象chapter_set{}， 包含chapters 和 index_path_map 两个键名<br>\n",
    "- 在outline_analysis_L2 中， 使用chapter_set['chapters'] for循环 取得chapter['paragraphs'] 作为context<br>\n",
    "- 在outline_analysis_L2 的输出，将每个章节分析所需的传参 单独打包， 并返回 列表对象param_set[]<br>\n",
    "</font>"
   ]
  },
  {
   "cell_type": "code",
   "execution_count": 7,
   "metadata": {},
   "outputs": [],
   "source": [
    "# 集成时，用以下代替，模型传参 会先存储到数据库。\n",
    "from apps.projects.services.tasks_preparation.outline_analysis_L2 import OutlineAnalysisL2\n",
    "# #获取LLM分析相关数据\n",
    "data_cooker_l2 = OutlineAnalysisL2(tender_file_extraction_L1)\n",
    "model_params_l2, tasks_l2, meta_l2 = data_cooker_l2.output_params()\n",
    "# # 模拟的prompt, \n",
    "simulated_prompts_l2, formatted_messages_l2 = data_cooker_l2.simulate_prompt()\n",
    "cache.save_json('outline_analysis_L2/model_params_l2', model_params_l2)\n",
    "cache.save_json('outline_analysis_L2/tasks_l2', tasks_l2)\n",
    "cache.save_json('outline_analysis_L2/meta_l2', meta_l2)\n",
    "cache.save_json('outline_analysis_L2/formatted_message', formatted_messages_l2)"
   ]
  },
  {
   "cell_type": "markdown",
   "metadata": {},
   "source": [
    "#### <font color=\"red\"> 2. 大模型逐个章节进行分析</font>"
   ]
  },
  {
   "cell_type": "code",
   "execution_count": null,
   "metadata": {},
   "outputs": [],
   "source": [
    "# 构建LLM分析器 并 分析\n",
    "from apps.projects.services.LLM_service.LLMcontainer import LLMService\n",
    "analyzer = LLMService(model_params_l2)\n",
    "outlines_L2 = await analyzer.process_with_limit(tasks_l2, limit=5)\n",
    "pprint(outlines_L2)\n",
    "\n",
    "# 存储OUTLINE_L2 结果\n",
    "cache.save_json('outline_analysis_L2/outlines_L2', outlines_L2)"
   ]
  },
  {
   "cell_type": "markdown",
   "metadata": {},
   "source": [
    "#### <font color=\"red\"> 3. 将Outline_L2 应用到tender_file_extraction_L1中</font>\n",
    "\n"
   ]
  },
  {
   "cell_type": "code",
   "execution_count": 18,
   "metadata": {},
   "outputs": [],
   "source": [
    "# 应用outline_L1分析结果，数据准备： outline_L1, index_path_map_l1, tender_file_extraction \n",
    "import json\n",
    "outlines_L2 = cache.load_json('outline_analysis_L2/outlines_L2')\n",
    "meta_l2 = cache.load_json('outline_analysis_L2/meta_l2')\n",
    "tender_file_extraction_L1 = cache.load_json('tender_file_extraction_L1')\n",
    "index_path_map_L2 = meta_l2['index_path_map']"
   ]
  },
  {
   "cell_type": "code",
   "execution_count": null,
   "metadata": {},
   "outputs": [],
   "source": [
    "# 解析OUTLINE_L2 每个JSON字符串并合并\n",
    "outlines_L2_dict = []\n",
    "for outline in outlines_L2:\n",
    "    parsed = json.loads(outline)\n",
    "    outlines_L2_dict.extend(parsed)\n",
    "\n",
    "# 将所有的'level'值加1\n",
    "for item in outlines_L2_dict:\n",
    "    if 'level' in item:\n",
    "        item['level'] += 1\n",
    "\n",
    "from pprint import pprint\n",
    "pprint(outlines_L2_dict)"
   ]
  },
  {
   "cell_type": "code",
   "execution_count": null,
   "metadata": {},
   "outputs": [],
   "source": [
    "# 将outline_L1 应用到tender_file_extraction中, 使用TiptapUtils.update_titles_from_list\n",
    "from apps.projects.tiptap.helpers import TiptapUtils\n",
    "updated_tiptap_content = TiptapUtils.update_titles_from_list(tender_file_extraction_L1, outlines_L2_dict, index_path_map_L2)\n",
    "# 检查标题是否已经改到内容里去了？\n",
    "from apps.projects.tiptap.helpers import TiptapUtils\n",
    "headings = TiptapUtils.find_all_headings(updated_tiptap_content)\n",
    "from pprint import pprint\n",
    "#pprint(headings)\n",
    "print(TiptapUtils.print_headings(updated_tiptap_content))\n",
    "\n",
    "# 存储tender_file_extraction_L2 结果\n",
    "cache.save_json('tender_file_extraction_L2', updated_tiptap_content)\n"
   ]
  },
  {
   "cell_type": "code",
   "execution_count": null,
   "metadata": {},
   "outputs": [],
   "source": [
    "from apps.projects.tiptap.client import TiptapClient\n",
    "md_doc = TiptapClient().json_to_markdown(updated_tiptap_content)\n",
    "html_doc = TiptapClient().json_to_html(updated_tiptap_content)\n",
    "pprint(md_doc)\n",
    "from IPython.display import display, HTML, Markdown\n",
    "display(Markdown(md_doc[\"data\"]))"
   ]
  },
  {
   "cell_type": "code",
   "execution_count": null,
   "metadata": {},
   "outputs": [],
   "source": [
    "pprint(html_doc)\n",
    "from IPython.display import display, HTML, Markdown\n",
    "display(HTML(html_doc[\"data\"]))"
   ]
  },
  {
   "cell_type": "code",
   "execution_count": null,
   "metadata": {},
   "outputs": [],
   "source": [
    "html_doc_back = TiptapClient().markdown_to_html(md_doc[\"data\"])\n",
    "display(HTML(html_doc_back[\"data\"]))"
   ]
  },
  {
   "cell_type": "markdown",
   "metadata": {},
   "source": [
    "## PART-3. 执行表格分析"
   ]
  },
  {
   "cell_type": "code",
   "execution_count": null,
   "metadata": {},
   "outputs": [],
   "source": [
    "# 初始化\n",
    "import django_setup\n",
    "import nest_asyncio\n",
    "nest_asyncio.apply()\n",
    "# 添加cache \n",
    "# 以下要求NotebookCacheManager.py 和 cache目录都在 当前测试文件的相同目录下（在notebook目录下）\n",
    "from NotebookCacheManager import NotebookCacheManager\n",
    "cache = NotebookCacheManager(\"cache\")\n",
    "\n",
    "from pprint import pprint\n",
    "\n",
    "# cache使用示例： \n",
    "# cache.save('存储文件名', 参数)，  a_loaded = cache.load('存储文件名')， 存在pkl文件下，点开为乱码\n",
    "# cache.save_json, cache.load_json, 存在json文件下，点开可读\n",
    "# cache.save_md, cache.load_md，存在md文件下，点开可读\n",
    "# cache.save_json('outline1/test1') 可构建二级目录"
   ]
  },
  {
   "cell_type": "code",
   "execution_count": null,
   "metadata": {},
   "outputs": [],
   "source": [
    "from apps.projects.tiptap.helpers import TiptapUtils\n",
    "tender_file_extraction_L2 = cache.load_json('tender_file_extraction_L2')\n",
    "print(TiptapUtils.print_headings(tender_file_extraction_L2))"
   ]
  },
  {
   "cell_type": "code",
   "execution_count": 3,
   "metadata": {},
   "outputs": [],
   "source": [
    "# 集成时，用以下代替，模型传参 会先存储到数据库。\n",
    "from apps.projects.services.tasks_preparation.outline_analysis_tb import OutlineAnalysisTb\n",
    "# #获取LLM分析相关数据\n",
    "data_cooker_tb = OutlineAnalysisTb(tender_file_extraction_L2)\n",
    "model_params_tb, tasks_tb, meta_tb = data_cooker_tb.output_params()\n",
    "# # 模拟的prompt, \n",
    "simulated_prompts_tb, formatted_messages_tb = data_cooker_tb.simulate_prompt()\n",
    "cache.save_json('outline_analysis_tb/model_params_tb', model_params_tb)\n",
    "cache.save_json('outline_analysis_tb/tasks_tb', tasks_tb)\n",
    "cache.save_json('outline_analysis_tb/meta_tb', meta_tb)\n",
    "cache.save_json('outline_analysis_tb/formatted_messages_tb', formatted_messages_tb)"
   ]
  },
  {
   "cell_type": "code",
   "execution_count": null,
   "metadata": {},
   "outputs": [],
   "source": [
    "print(len(tasks_tb))"
   ]
  },
  {
   "cell_type": "code",
   "execution_count": 5,
   "metadata": {},
   "outputs": [],
   "source": [
    "\n",
    "from apps.projects.tiptap.helpers import TiptapUtils\n",
    "tables, index_path_map = TiptapUtils.extract_tables_to_markdown(tender_file_extraction_L2)"
   ]
  },
  {
   "cell_type": "code",
   "execution_count": null,
   "metadata": {},
   "outputs": [],
   "source": [
    "\n",
    "pprint(tables)\n",
    "pprint(index_path_map)"
   ]
  },
  {
   "cell_type": "code",
   "execution_count": null,
   "metadata": {},
   "outputs": [],
   "source": [
    "print(tables[5][\"markdown\"])"
   ]
  }
 ],
 "metadata": {
  "kernelspec": {
   "display_name": "bid_dev",
   "language": "python",
   "name": "python3"
  },
  "language_info": {
   "codemirror_mode": {
    "name": "ipython",
    "version": 3
   },
   "file_extension": ".py",
   "mimetype": "text/x-python",
   "name": "python",
   "nbconvert_exporter": "python",
   "pygments_lexer": "ipython3",
   "version": "3.12.9"
  }
 },
 "nbformat": 4,
 "nbformat_minor": 2
}
