{
 "cells": [
  {
   "cell_type": "code",
   "execution_count": null,
   "metadata": {},
   "outputs": [],
   "source": [
    "# 初始化\n",
    "import django_setup\n",
    "import nest_asyncio\n",
    "nest_asyncio.apply()"
   ]
  },
  {
   "cell_type": "markdown",
   "metadata": {},
   "source": [
    "## PART-1. 进入Outline_L1 分析\n",
    "<font color=\"orange\">\n",
    "事实证明，对于长文本而言，让大模型一次性提取多个层级的标题时，表现并不好，质量也不稳定。 <br>\n",
    "因此，我们决定分步骤提取，先提取一级标题，再提取二级标题，最后提取三级标题。 <br>\n",
    "为了接下去的测试，我们需要：<br> \n",
    "1. 项目容器： 测试项目1 <br>\n",
    "2. tender_file_extraction 已经ready <br>\n",
    "3. 模型输入： context, instruction, supplement, output_format, prompt_template, index_path_map, 这里都是即时生成，不做存储。<br>\n",
    "4. 调用模型的函数：从task中截取和简化。 <br>\n",
    "4. 标题应用函数： <br>\n",
    "5. 章节的截取函数： TiptapUtils.extract_indexed_paragraphs， 在prepare_context中已调用<br>\n",
    "6. 任务结果L1： 空 <br>  有了 \n",
    "7. 任务结果L2： 空 <br>  有了\n",
    "8. 任务结果L3： 空 <br>  有了\n",
    "</font>"
   ]
  },
  {
   "cell_type": "markdown",
   "metadata": {},
   "source": [
    "#### <font color=\"red\"> 1. 准备好测试的项目容器，招标文件内容，用于存储任务结果的字段</font>"
   ]
  },
  {
   "cell_type": "code",
   "execution_count": null,
   "metadata": {},
   "outputs": [],
   "source": [
    "# 招标文件提取内容 准备就绪\n",
    "from apps.projects.models import Project, Task, TaskType\n",
    "from pprint import pprint\n",
    "project = Project.objects.get(project_name='测试项目1')\n",
    "task = Task.objects.get(stage__project=project, type=TaskType.OUTLINE_ANALYSIS_TASK)\n",
    "stage = task.stage\n",
    "# --- 如果project.tender_file_extraction 为空，则需要从关联的docx_extraction_task中获取\n",
    "# extraction_task = Task.objects.get(stage__project=project, type=TaskType.DOCX_EXTRACTION_TASK)\n",
    "# print(extraction_task.docx_tiptap)\n",
    "# print(type(extraction_task.docx_tiptap))\n",
    "# pprint(extraction_task.docx_tiptap)\n",
    "# project = Project.objects.get(project_name='测试项目1')\n",
    "# project.tender_file_extraction = extraction_task.docx_tiptap\n",
    "# project.save()\n",
    "# project = Project.objects.get(project_name='测试项目1')\n",
    "pprint(project.tender_file_extraction)"
   ]
  },
  {
   "cell_type": "code",
   "execution_count": null,
   "metadata": {},
   "outputs": [],
   "source": [
    "# 存储位就绪\n",
    "print(f\"outline_L1存储：{project.outline_L1}\")\n",
    "print(f\"outline_L2存储：{project.outline_L2}\")\n",
    "print(f\"outline_L3存储：{project.outline_L3}\")\n",
    "print(f\"outline_L1存储：{project.index_path_map_L1}\")\n",
    "print(f\"outline_L2存储：{project.index_path_map_L2}\")\n",
    "print(f\"outline_L3存储：{project.index_path_map_L3}\")"
   ]
  },
  {
   "cell_type": "markdown",
   "metadata": {},
   "source": [
    "#### <font color=\"red\"> 2. 准备大模型的输入，并调用模型</font>"
   ]
  },
  {
   "cell_type": "code",
   "execution_count": 4,
   "metadata": {},
   "outputs": [],
   "source": [
    "# 借用outline_analysis_L1.py 的函数， 进行任务准备 \n",
    "# from apps.projects.services.tasks_preparation.outline_analysis_L1 import OutlineAnalysisL1\n",
    "# prompt_template_L1 = OutlineAnalysisL1(project.id)._build_prompt_template()\n",
    "# context_L1, index_path_map_L1 = OutlineAnalysisL1(project.id)._prepare_context(project)\n",
    "# instruction_L1 = OutlineAnalysisL1(project.id)._prepare_instruction()\n",
    "# supplement_L1 = OutlineAnalysisL1(project.id)._prepare_supplement()\n",
    "# output_format_L1 = OutlineAnalysisL1(project.id)._prepare_output_format()\n",
    "# LLM_config_L1 = OutlineAnalysisL1(project.id)._build_llm_config()\n",
    "\n",
    "# project.index_path_map_L1 = index_path_map_L1\n",
    "# project.save()\n",
    "\n",
    "# 集成时，用以下代替，模型传参 会先存储到数据库。\n",
    "from apps.projects.services.tasks_preparation.outline_analysis_L1 import OutlineAnalysisL1\n",
    "params_L1=OutlineAnalysisL1(project.id).output_params()\n"
   ]
  },
  {
   "cell_type": "code",
   "execution_count": null,
   "metadata": {},
   "outputs": [],
   "source": [
    "from pprint import pprint\n",
    "pprint(params_L1['prompt_template'])\n",
    "pprint(params_L1['context'])\n",
    "pprint(params_L1['instruction'])\n",
    "pprint(params_L1['supplement'])\n",
    "pprint(params_L1['output_format'])\n",
    "pprint(params_L1['llm_config'])\n",
    "pprint(params_L1['index_path_map'])\n",
    "\n"
   ]
  },
  {
   "cell_type": "code",
   "execution_count": null,
   "metadata": {},
   "outputs": [],
   "source": [
    "# # 模拟的prompt, \n",
    "simulated_prompt, formatted_message = OutlineAnalysisL1(project.id).simulate_prompt()\n",
    "pprint(formatted_message)"
   ]
  },
  {
   "cell_type": "markdown",
   "metadata": {},
   "source": [
    "#### <font color=\"red\"> 3. 大模型的调用分析 Outline_L1</font>\n",
    "<font color=\"orange\" size=\"3\">\n",
    "- 分析获得outline_L1 <br>\n",
    "- 存储结果到project.outline_L1 <br>\n",
    "</font>"
   ]
  },
  {
   "cell_type": "code",
   "execution_count": null,
   "metadata": {},
   "outputs": [],
   "source": [
    "from apps.projects.services.LLM_service.LLMcontainer import LLMService\n",
    "from apps.projects.services.LLM_service._llm_data_types import LLMConfig\n",
    "analyzer = LLMService(\n",
    "    llm_config = LLMConfig().from_model(params_L1['llm_config']),\n",
    "    context = params_L1['context'], \n",
    "    instruction = params_L1['instruction'], \n",
    "    supplement = params_L1['supplement'], \n",
    "    output_format = params_L1['output_format'], \n",
    "    prompt_template = params_L1['prompt_template'])\n",
    "outline_L1 = await analyzer.process()\n",
    "pprint(outline_L1)\n",
    "\n",
    "# 将outline_L1 存储到project.outline_L1\n",
    "# print(type(outline_L1), outline_L1)\n",
    "# project.outline_L1 = outline_L1\n",
    "# project.save()\n"
   ]
  },
  {
   "cell_type": "markdown",
   "metadata": {},
   "source": [
    "#### <font color=\"red\"> 4. 将Outline_L1 应用到tender_file_extraction中</font>\n",
    "<font color=\"orange\" size=\"3\">\n",
    "- 将Outline_L1 应用到tender_file_extraction <br>\n",
    "- 我们需要解决：<br>\n",
    "    1）outline_L1 从JSON str 转 JSON Dict？<br>\n",
    "    2）如何将结果应用到tiptap JSON的 内容中？<br>\n",
    "- 存储结果到project.tender_file_extraction <br>\n",
    "</font>\n",
    "\n"
   ]
  },
  {
   "cell_type": "code",
   "execution_count": null,
   "metadata": {},
   "outputs": [],
   "source": [
    "# 从数据库中获取数据\n",
    "project = Project.objects.get(project_name='测试项目1')\n",
    "outline_L1 = project.outline_L1\n",
    "index_path_map_L1 = project.index_path_map_L1\n",
    "print(f\"outline_L1：{type(outline_L1)}, {outline_L1}\")\n",
    "print(f\"index_path_map_L1：{type(index_path_map_L1)}, {index_path_map_L1}\")\n"
   ]
  },
  {
   "cell_type": "code",
   "execution_count": null,
   "metadata": {},
   "outputs": [],
   "source": [
    "# 将outline_L1 从JSON str 转 JSON Dict \n",
    "import json\n",
    "outline_L1_dict = json.loads(outline_L1)\n",
    "pprint(outline_L1_dict)\n",
    "pprint(index_path_map_L1)"
   ]
  },
  {
   "cell_type": "code",
   "execution_count": 10,
   "metadata": {},
   "outputs": [],
   "source": [
    "# 将outline_L1 应用到tender_file_extraction中\n",
    "from apps.projects.tiptap.helpers import TiptapUtils\n",
    "updated_tiptap_content = TiptapUtils.update_titles_from_list(project.tender_file_extraction, outline_L1_dict, index_path_map_L1)\n",
    "project.tender_file_extraction_L1 = updated_tiptap_content\n",
    "project.save()"
   ]
  },
  {
   "cell_type": "code",
   "execution_count": null,
   "metadata": {},
   "outputs": [],
   "source": [
    "# 检查标题是否已经改到内容里去了？\n",
    "from apps.projects.tiptap.helpers import TiptapUtils\n",
    "headings = TiptapUtils.find_all_headings(updated_tiptap_content)\n",
    "pprint(headings)\n",
    "print(TiptapUtils.print_headings(updated_tiptap_content))"
   ]
  },
  {
   "cell_type": "markdown",
   "metadata": {},
   "source": [
    "## PART-2. 开始执行Outline_L2 分析\n",
    "<font color=\"orange\" size=\"3\">\n",
    "- 带有L1标题的tiptap JSON 内容已经ready <br>\n",
    "- 我们需要解决：<br>\n",
    "    1）提取章节？-> 在原文 基础上 提取段落内容（str）， 根据章节分块， 好处是,index被保留。<br>\n",
    "    2）提供章节段落内容，重复类似Outline_L1的分析: <br>\n",
    "        a. 准备容器，更新的文件内容，存储任务结果字段？<br>\n",
    "        b. 准备大模型的输入，并调用模型？ (这个过程，需要考虑并发分析，提高效率)<br>\n",
    "        c. 将结果应用到tiptap JSON的 内容中？<br>\n",
    "        d. 存储结果到project.tender_file_extraction <br>\n",
    "</font>"
   ]
  },
  {
   "cell_type": "code",
   "execution_count": null,
   "metadata": {},
   "outputs": [],
   "source": [
    "# 初始化\n",
    "import django_setup\n",
    "import nest_asyncio\n",
    "nest_asyncio.apply()"
   ]
  },
  {
   "cell_type": "code",
   "execution_count": null,
   "metadata": {},
   "outputs": [],
   "source": [
    "# 从数据库中获取数据\n",
    "from apps.projects.models import Project, Task, TaskType\n",
    "project = Project.objects.get(project_name='测试项目1')\n",
    "# pprint(project.tender_file_extraction_L1)\n",
    "\n",
    "# 提取章节\n",
    "from apps.projects.tiptap.helpers import TiptapUtils\n",
    "headings = TiptapUtils.print_headings(project.tender_file_extraction_L1)\n",
    "print(headings)"
   ]
  },
  {
   "cell_type": "markdown",
   "metadata": {},
   "source": [
    "#### <font color=\"red\"> 1. 通过outline_analysis_L2 进行传参准备</font>\n",
    "<font color=\"orange\" size=\"3\">\n",
    "- 在outline_analysis_L2 中， 根据章节分块， index被保留。<br>\n",
    "- 使用了TiptapUtils.extract_chapters 工具，返回 字典对象chapter_set{}， 包含chapters 和 index_path_map 两个键名<br>\n",
    "- 在outline_analysis_L2 中， 使用chapter_set['chapters'] for循环 取得chapter['paragraphs'] 作为context<br>\n",
    "- 在outline_analysis_L2 的输出，将每个章节分析所需的传参 单独打包， 并返回 列表对象param_set[]<br>\n",
    "</font>"
   ]
  },
  {
   "cell_type": "code",
   "execution_count": 3,
   "metadata": {},
   "outputs": [],
   "source": [
    "# 通过集成的outline_anlaysis_L2 获取 大模型分析所需的 输入参数 ，并有 模拟的prompts\n",
    "from apps.projects.services.tasks_preparation.outline_analysis_L2 import OutlineAnalysisL2\n",
    "from pprint import pprint\n",
    "params_L2_set, index_path_map_L2 = OutlineAnalysisL2(project.id).output_params()\n",
    "simulated_prompt_set, formatted_prompt_set = OutlineAnalysisL2(project.id).simulate_prompt()"
   ]
  },
  {
   "cell_type": "code",
   "execution_count": 15,
   "metadata": {},
   "outputs": [],
   "source": [
    "contexts = []\n",
    "for params in params_L2_set:\n",
    "    contexts.append(params['context'])"
   ]
  },
  {
   "cell_type": "code",
   "execution_count": null,
   "metadata": {},
   "outputs": [],
   "source": [
    "print(len(contexts))\n",
    "print(contexts[4])"
   ]
  },
  {
   "cell_type": "code",
   "execution_count": null,
   "metadata": {},
   "outputs": [],
   "source": [
    "pprint(formatted_prompt_set[6])"
   ]
  },
  {
   "cell_type": "markdown",
   "metadata": {},
   "source": [
    "#### <font color=\"red\"> 2. 大模型逐个章节进行分析</font>"
   ]
  },
  {
   "cell_type": "code",
   "execution_count": null,
   "metadata": {},
   "outputs": [],
   "source": [
    "from apps.projects.services.LLM_service._llm_data_types import LLMConfig\n",
    "from apps.projects.services.LLM_service.LLMcontainer import LLMService\n",
    "results_L2 = []\n",
    "for params in params_L2_set:\n",
    "    analyzer = LLMService(\n",
    "        llm_config = LLMConfig().from_model(params['llm_config']),\n",
    "        context = params['context'], \n",
    "        instruction = params['instruction'], \n",
    "        supplement = params['supplement'], \n",
    "        output_format = params['output_format'], \n",
    "        prompt_template = params['prompt_template']\n",
    "    )\n",
    "    result = await analyzer.process()\n",
    "    results_L2.append(result)"
   ]
  },
  {
   "cell_type": "code",
   "execution_count": null,
   "metadata": {},
   "outputs": [],
   "source": [
    "from apps.projects.services.LLM_service._llm_data_types import LLMConfig\n",
    "from apps.projects.services.LLM_service.LLMcontainer import LLMService\n",
    "results2_L2 = []\n",
    "for params in params_L2_set[5:6]:\n",
    "    analyzer2 = LLMService(\n",
    "        llm_config = LLMConfig().from_model(params['llm_config']),\n",
    "        context = params['context'], \n",
    "        instruction = params['instruction'], \n",
    "        supplement = params['supplement'], \n",
    "        output_format = params['output_format'], \n",
    "        prompt_template = params['prompt_template']\n",
    "    )\n",
    "    result2 = await analyzer2.process()\n",
    "    results2_L2.append(result2)"
   ]
  },
  {
   "cell_type": "code",
   "execution_count": null,
   "metadata": {},
   "outputs": [],
   "source": [
    "pprint(results2_L2[0])"
   ]
  }
 ],
 "metadata": {
  "kernelspec": {
   "display_name": "bid_dev",
   "language": "python",
   "name": "python3"
  },
  "language_info": {
   "codemirror_mode": {
    "name": "ipython",
    "version": 3
   },
   "file_extension": ".py",
   "mimetype": "text/x-python",
   "name": "python",
   "nbconvert_exporter": "python",
   "pygments_lexer": "ipython3",
   "version": "3.12.9"
  }
 },
 "nbformat": 4,
 "nbformat_minor": 2
}
