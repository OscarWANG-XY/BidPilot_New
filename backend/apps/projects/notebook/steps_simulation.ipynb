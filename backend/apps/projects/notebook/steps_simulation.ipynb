{
 "cells": [
  {
   "cell_type": "markdown",
   "metadata": {},
   "source": [
    "# <font color=\"red\">STEP 1: 文档提取测试</font>"
   ]
  },
  {
   "cell_type": "code",
   "execution_count": null,
   "metadata": {},
   "outputs": [],
   "source": [
    "# 初始化\n",
    "import django_setup"
   ]
  },
  {
   "cell_type": "code",
   "execution_count": 4,
   "metadata": {},
   "outputs": [],
   "source": [
    "from apps.projects.models import Project, ProjectStage, DocxExtractionTask"
   ]
  },
  {
   "cell_type": "code",
   "execution_count": null,
   "metadata": {},
   "outputs": [],
   "source": [
    "test_project = Project.objects.get(project_name='测试项目2')\n",
    "print(f\"用于测试的项目: {test_project.project_name}\")\n",
    "print(f\"项目包含的文件: {test_project.files.all()}\")\n"
   ]
  },
  {
   "cell_type": "code",
   "execution_count": 8,
   "metadata": {},
   "outputs": [],
   "source": [
    "# 导入相关模型：get_user_model, Project, FileRecord, DocumentAnalysis, FileProjectLink, ProjectHistory\n",
    "\n",
    "from apps.projects.services._01_extract_docx_elements import DocxExtractorStep\n",
    "from apps.projects.services.types import ModelData"
   ]
  },
  {
   "cell_type": "code",
   "execution_count": null,
   "metadata": {},
   "outputs": [],
   "source": [
    "Extractor = DocxExtractorStep()\n",
    "elements = Extractor.process(ModelData(model=Project, instance=test_project))"
   ]
  },
  {
   "cell_type": "code",
   "execution_count": null,
   "metadata": {},
   "outputs": [],
   "source": [
    "from apps.projects.services.types import ModelData\n",
    "data = ModelData(model=Project, instance=test_project)\n",
    "current_project = data.instance\n",
    "docx_extraction_task = DocxExtractionTask.objects.get(stage__project=current_project)\n",
    "print(docx_extraction_task.extracted_elements)"
   ]
  },
  {
   "cell_type": "code",
   "execution_count": null,
   "metadata": {},
   "outputs": [],
   "source": [
    "from apps.projects.services.types import DocxElements\n",
    "docx_elements = DocxElements.from_model(docx_extraction_task.extracted_elements)\n",
    "print(type(docx_elements))\n",
    "print(type(docx_elements.elements), type(docx_elements.project))"
   ]
  },
  {
   "cell_type": "markdown",
   "metadata": {},
   "source": [
    "# <font color=\"red\">STEP 2: outline 分析测试</font>"
   ]
  },
  {
   "cell_type": "code",
   "execution_count": null,
   "metadata": {},
   "outputs": [],
   "source": [
    "# 初始化\n",
    "import django_setup"
   ]
  },
  {
   "cell_type": "code",
   "execution_count": null,
   "metadata": {},
   "outputs": [],
   "source": [
    "# 定位到测试项目， 和 测试的DocxExtractionTask， \n",
    "from apps.projects.models import Project, ProjectStage, DocxExtractionTask\n",
    "test_project = Project.objects.get(project_name='测试项目2')\n",
    "print(f\"用于测试的项目: {test_project.project_name}\")\n",
    "print(f\"项目包含的文件: {test_project.files.all()}\")\n",
    "\n",
    "docx_extraction_task = DocxExtractionTask.objects.get(stage__project=test_project)\n",
    "print(docx_extraction_task.extracted_elements)\n"
   ]
  },
  {
   "cell_type": "code",
   "execution_count": null,
   "metadata": {},
   "outputs": [],
   "source": [
    "# 从models.py提取docx_elements\n",
    "from apps.projects.services.types import DocxElements\n",
    "docx_elements = DocxElements.from_model(docx_extraction_task.extracted_elements)\n",
    "print(type(docx_elements))\n",
    "print(type(docx_elements.elements), type(docx_elements.project))"
   ]
  },
  {
   "cell_type": "code",
   "execution_count": null,
   "metadata": {},
   "outputs": [],
   "source": [
    "from apps.projects.services._02_outline_analysis import DocxOutlineAnalyzerStep"
   ]
  },
  {
   "cell_type": "code",
   "execution_count": null,
   "metadata": {},
   "outputs": [],
   "source": [
    "print(type(docx_elements.project), type(docx_elements.project.instance))\n",
    "print(docx_elements.project.instance)"
   ]
  },
  {
   "cell_type": "code",
   "execution_count": 10,
   "metadata": {},
   "outputs": [],
   "source": [
    "outline_analyzer = DocxOutlineAnalyzerStep()\n"
   ]
  },
  {
   "cell_type": "code",
   "execution_count": null,
   "metadata": {},
   "outputs": [],
   "source": [
    "data_input = outline_analyzer.prepare_requests_data(docx_elements)\n",
    "print(type(data_input))\n",
    "from pprint import pprint\n",
    "pprint(data_input)\n"
   ]
  },
  {
   "cell_type": "code",
   "execution_count": null,
   "metadata": {},
   "outputs": [],
   "source": []
  },
  {
   "cell_type": "code",
   "execution_count": 2,
   "metadata": {},
   "outputs": [],
   "source": [
    "# 导入相关模型：get_user_model, Project, FileRecord, DocumentAnalysis, FileProjectLink, ProjectHistory\n",
    "from django.contrib.auth import get_user_model\n",
    "from apps.doc_analysis.models import DocumentAnalysis, InvalidStatusTransition\n",
    "from apps.projects.models import Project\n",
    "from apps.files.models import FileRecord\n",
    "from django.core.files.uploadedfile import SimpleUploadedFile\n",
    "from django.core.exceptions import ValidationError\n",
    "from apps.doc_analysis.steps._01_extract_docx_elements import DocxExtractorStep\n",
    "from apps.doc_analysis.pipeline.types import ModelData, DocxElements, OutlineAnalysisResult\n",
    "from apps.doc_analysis.steps._02_outline_analysis import DocxOutlineAnalyzerStep\n",
    "from pprint import pprint "
   ]
  },
  {
   "cell_type": "code",
   "execution_count": null,
   "metadata": {},
   "outputs": [],
   "source": [
    "# 直接引用\"测试分析A\", 并获取其extracted_elements\n",
    "\n",
    "saved_analysis = DocumentAnalysis.objects.get(title=\"测试分析A\")\n",
    "extracted_elements = saved_analysis.extracted_elements\n",
    "pprint(extracted_elements['elements'][10])"
   ]
  },
  {
   "cell_type": "code",
   "execution_count": 4,
   "metadata": {},
   "outputs": [],
   "source": [
    "# 创建 DocxElements 实例 from models.py 的 extracted_elements\n",
    "docx_elements = DocxElements.from_model(extracted_elements)"
   ]
  },
  {
   "cell_type": "code",
   "execution_count": null,
   "metadata": {},
   "outputs": [],
   "source": [
    "print(docx_elements.format_heading_sections())"
   ]
  },
  {
   "cell_type": "code",
   "execution_count": 6,
   "metadata": {},
   "outputs": [],
   "source": [
    "# 直接测试 outline_analyzer.py\n",
    "outline_analyzer = DocxOutlineAnalyzerStep()\n"
   ]
  },
  {
   "cell_type": "code",
   "execution_count": 7,
   "metadata": {},
   "outputs": [],
   "source": [
    "input_datas = outline_analyzer.prepare_requests_data(docx_elements)"
   ]
  },
  {
   "cell_type": "code",
   "execution_count": null,
   "metadata": {},
   "outputs": [],
   "source": [
    "print(type(input_datas))\n",
    "print(input_datas[0])\n",
    "print(input_datas[1])\n"
   ]
  },
  {
   "cell_type": "code",
   "execution_count": null,
   "metadata": {},
   "outputs": [],
   "source": [
    "simulated_prompt, formatted_messages = outline_analyzer.simulate_prompt(input_datas[0])\n",
    "pprint(formatted_messages)\n"
   ]
  },
  {
   "cell_type": "code",
   "execution_count": null,
   "metadata": {},
   "outputs": [],
   "source": [
    "analysis_result = outline_analyzer.process(docx_elements)"
   ]
  },
  {
   "cell_type": "code",
   "execution_count": null,
   "metadata": {},
   "outputs": [],
   "source": [
    "# 打印输出的结果\n",
    "print(type(analysis_result))\n",
    "print(type(analysis_result.analysis_result))\n",
    "print(type(analysis_result.analysis_result.result))\n",
    "print(type(analysis_result.analysis_result.result[0]))\n",
    "pprint(analysis_result)\n"
   ]
  },
  {
   "cell_type": "code",
   "execution_count": null,
   "metadata": {},
   "outputs": [],
   "source": [
    "saved_analysis = DocumentAnalysis.objects.get(title=\"测试分析A\")\n",
    "pprint(saved_analysis.outline_analysis_result)\n"
   ]
  },
  {
   "cell_type": "markdown",
   "metadata": {},
   "source": [
    "# <font color=\"red\">STEP 3: 测试outline_improvement.py</font>\n"
   ]
  },
  {
   "cell_type": "code",
   "execution_count": null,
   "metadata": {},
   "outputs": [],
   "source": [
    "# 初始化\n",
    "import django_setup"
   ]
  },
  {
   "cell_type": "code",
   "execution_count": 2,
   "metadata": {},
   "outputs": [],
   "source": [
    "# 导入相关模型\n",
    "from django.contrib.auth import get_user_model\n",
    "from apps.doc_analysis.models import DocumentAnalysis, InvalidStatusTransition\n",
    "from apps.projects.models import Project\n",
    "from apps.files.models import FileRecord\n",
    "from django.core.files.uploadedfile import SimpleUploadedFile\n",
    "from django.core.exceptions import ValidationError\n",
    "from apps.doc_analysis.steps._01_extract_docx_elements import DocxExtractorStep\n",
    "from apps.doc_analysis.pipeline.types import ModelData, DocxElements, OutlineAnalysisResult\n",
    "from apps.doc_analysis.steps._02_outline_analysis import DocxOutlineAnalyzerStep\n",
    "from apps.doc_analysis.steps._03_outline_improvement import OutlineImprovementStep\n",
    "from pprint import pprint "
   ]
  },
  {
   "cell_type": "code",
   "execution_count": 3,
   "metadata": {},
   "outputs": [],
   "source": [
    "# 直接引用\"测试分析A\", 并获取其docx_elements 和 outline_analysis_result\n",
    "\n",
    "saved_analysis = DocumentAnalysis.objects.get(title=\"测试分析A\")\n",
    "docx_elements = DocxElements.from_model(saved_analysis.extracted_elements)\n",
    "outline_analysis_result = OutlineAnalysisResult.from_model(saved_analysis.outline_analysis_result)"
   ]
  },
  {
   "cell_type": "code",
   "execution_count": null,
   "metadata": {},
   "outputs": [],
   "source": [
    "# 打印输出的结果\n",
    "print(type(outline_analysis_result.analysis_result))\n",
    "print(type(outline_analysis_result.analysis_result.result))\n",
    "print(type(outline_analysis_result.analysis_result.result[0]))\n",
    "pprint(outline_analysis_result)\n"
   ]
  },
  {
   "cell_type": "markdown",
   "metadata": {},
   "source": [
    "## 分步骤测试"
   ]
  },
  {
   "cell_type": "code",
   "execution_count": 5,
   "metadata": {},
   "outputs": [],
   "source": [
    "# 构建实例\n",
    "outline_improver = OutlineImprovementStep()"
   ]
  },
  {
   "cell_type": "code",
   "execution_count": null,
   "metadata": {},
   "outputs": [],
   "source": [
    "# titles 提取\n",
    "titles_to_improve = outline_improver.extract_titles_from_analysis(outline_analysis_result)\n",
    "pprint(titles_to_improve)\n"
   ]
  },
  {
   "cell_type": "code",
   "execution_count": 8,
   "metadata": {},
   "outputs": [],
   "source": [
    "# 改进元素\n",
    "improved_elements = outline_improver.improve_document_elements(docx_elements, titles_to_improve)"
   ]
  },
  {
   "cell_type": "code",
   "execution_count": null,
   "metadata": {},
   "outputs": [],
   "source": [
    "# 打印改进后的数据\n",
    "pprint(improved_elements)"
   ]
  },
  {
   "cell_type": "markdown",
   "metadata": {},
   "source": [
    "## 集成测试"
   ]
  },
  {
   "cell_type": "code",
   "execution_count": null,
   "metadata": {},
   "outputs": [],
   "source": [
    "# 模拟用户确认\n",
    "outline_analysis_result.user_confirm = True\n",
    "\n",
    "pprint(outline_analysis_result)\n"
   ]
  },
  {
   "cell_type": "code",
   "execution_count": 6,
   "metadata": {},
   "outputs": [],
   "source": [
    "# 完整测试 _02_outline_analysis.py\n",
    "outline_improver = OutlineImprovementStep()\n",
    "improved_docx_elements = outline_improver.process((docx_elements, outline_analysis_result))"
   ]
  },
  {
   "cell_type": "code",
   "execution_count": null,
   "metadata": {},
   "outputs": [],
   "source": [
    "# 打印原来的数据\n",
    "pprint(docx_elements)"
   ]
  },
  {
   "cell_type": "code",
   "execution_count": null,
   "metadata": {},
   "outputs": [],
   "source": [
    "# 打印改进后的数据\n",
    "pprint(improved_docx_elements)"
   ]
  },
  {
   "cell_type": "markdown",
   "metadata": {},
   "source": [
    "# <font color=red>STEP 4: 构建文档树DocxTree <font>\n"
   ]
  },
  {
   "cell_type": "code",
   "execution_count": null,
   "metadata": {},
   "outputs": [],
   "source": [
    "# 初始化\n",
    "import django_setup"
   ]
  },
  {
   "cell_type": "code",
   "execution_count": 2,
   "metadata": {},
   "outputs": [],
   "source": [
    "# show_structure函数（）\n",
    "from pprint import pprint\n",
    "from typing import Any\n",
    "\n",
    "def show_structure(data: Any, name: str = \"data\", max_depth: int = None) -> None:\n",
    "    \"\"\"\n",
    "    显示数据的类型和结构的辅助函数\n",
    "    \n",
    "    参数:\n",
    "        data: 要检查的数据\n",
    "        name: 数据的名称/标签\n",
    "        max_depth: pprint的最大深度\n",
    "    \"\"\"\n",
    "    print(f\"\\n{'='*50}\")\n",
    "    print(f\"检查对象: {name}\")\n",
    "    print(f\"类型: {type(data)}\")\n",
    "    \n",
    "    if hasattr(data, '__len__'):\n",
    "        print(f\"长度: {len(data)}\")\n",
    "    \n",
    "    print(\"\\n结构:\")\n",
    "    pprint(data, depth=max_depth, width=100)\n",
    "    print(f\"{'='*50}\\n\")\n"
   ]
  },
  {
   "cell_type": "code",
   "execution_count": 3,
   "metadata": {},
   "outputs": [],
   "source": [
    "# 导入相关模型\n",
    "from apps.doc_analysis.models import DocumentAnalysis\n",
    "from apps.doc_analysis.pipeline.types import ModelData, ImprovedDocxElements, SimpleDocxNode, DocxTree\n",
    "from apps.doc_analysis.steps._04_build_docxtree import BuildDocxTree\n",
    "from pprint import pprint "
   ]
  },
  {
   "cell_type": "code",
   "execution_count": 4,
   "metadata": {},
   "outputs": [],
   "source": [
    "# 直接引用\"测试分析A\", 并获取 improved_docx_elements\n",
    "saved_analysis = DocumentAnalysis.objects.get(title=\"测试分析A\")\n",
    "improved_docx_elements = ImprovedDocxElements.from_model(saved_analysis.improved_docx_elements)\n",
    "#elements = improved_docx_elements.elements\n",
    "#show_structure(elements)\n"
   ]
  },
  {
   "cell_type": "markdown",
   "metadata": {},
   "source": [
    "## 构建文档树"
   ]
  },
  {
   "cell_type": "code",
   "execution_count": null,
   "metadata": {},
   "outputs": [],
   "source": [
    "# 构建文档树\n",
    "build_docx_tree = BuildDocxTree()\n",
    "docx_tree = build_docx_tree.process(improved_docx_elements)\n",
    "show_structure(docx_tree)\n"
   ]
  },
  {
   "cell_type": "code",
   "execution_count": null,
   "metadata": {},
   "outputs": [],
   "source": [
    "# 按顺序打印所有节点\n",
    "pprint(docx_tree._ordered_nodes)"
   ]
  },
  {
   "cell_type": "code",
   "execution_count": null,
   "metadata": {},
   "outputs": [],
   "source": [
    "# 按树结构打印所有节点\n",
    "docx_tree.print_tree()"
   ]
  },
  {
   "cell_type": "code",
   "execution_count": null,
   "metadata": {},
   "outputs": [],
   "source": [
    "print(docx_tree.format_titles())"
   ]
  },
  {
   "cell_type": "code",
   "execution_count": null,
   "metadata": {},
   "outputs": [],
   "source": [
    "# 检查文档树在models.py里的存储情况\n",
    "saved_analysis = DocumentAnalysis.objects.get(title=\"测试分析A\")\n",
    "print(type(saved_analysis.docxtree))\n",
    "pprint(saved_analysis.docxtree)\n"
   ]
  },
  {
   "cell_type": "markdown",
   "metadata": {},
   "source": [
    "## 测试从数据库提取文档树"
   ]
  },
  {
   "cell_type": "code",
   "execution_count": null,
   "metadata": {},
   "outputs": [],
   "source": [
    "# 还原：从models.py存储到doc_tree类型的还原\n",
    "docx_tree_from_model = DocxTree.from_model(saved_analysis.docxtree)\n",
    "print(type(docx_tree_from_model))\n",
    "pprint(docx_tree_from_model)"
   ]
  },
  {
   "cell_type": "code",
   "execution_count": null,
   "metadata": {},
   "outputs": [],
   "source": [
    "# 还原 ： 按顺序打印所有节点\n",
    "pprint(docx_tree_from_model._ordered_nodes)"
   ]
  },
  {
   "cell_type": "code",
   "execution_count": null,
   "metadata": {},
   "outputs": [],
   "source": [
    "# 还原： 按树结构打印所有节点\n",
    "docx_tree_from_model.print_tree()"
   ]
  },
  {
   "cell_type": "code",
   "execution_count": null,
   "metadata": {},
   "outputs": [],
   "source": [
    "print(docx_tree_from_model.format_titles())"
   ]
  },
  {
   "cell_type": "markdown",
   "metadata": {},
   "source": [
    "## 测试文档树方法：查找节点，打印树，标题格式化"
   ]
  },
  {
   "cell_type": "code",
   "execution_count": null,
   "metadata": {},
   "outputs": [],
   "source": [
    "# 查找某个节点 find_node()， 测试 .find_node() 方法，比如node_id = 78\n",
    "node = docx_tree.find_node(78)\n",
    "pprint(node)"
   ]
  },
  {
   "cell_type": "code",
   "execution_count": null,
   "metadata": {},
   "outputs": [],
   "source": [
    "# 打印某个节点以下的文档树结构\n",
    "docx_tree.print_tree(124)\n"
   ]
  },
  {
   "cell_type": "code",
   "execution_count": null,
   "metadata": {},
   "outputs": [],
   "source": [
    "# 格式化 标题结构 用于大模型分析\n",
    "titles_nodes = docx_tree.format_titles()\n",
    "pprint(titles_nodes)"
   ]
  },
  {
   "cell_type": "markdown",
   "metadata": {},
   "source": [
    "## 测试添加节点"
   ]
  },
  {
   "cell_type": "code",
   "execution_count": null,
   "metadata": {},
   "outputs": [],
   "source": [
    "# 添加 节点\n",
    "docx_tree.add_title_node(\n",
    "    content = '>>>> 插入新节点',\n",
    "    level = 2,\n",
    "    after_node_id = 150 \n",
    ")"
   ]
  },
  {
   "cell_type": "code",
   "execution_count": null,
   "metadata": {},
   "outputs": [],
   "source": [
    "# 打印结果 - 看顺序列表里是否有插入？\n",
    "pprint(docx_tree._ordered_nodes[140:160])"
   ]
  },
  {
   "cell_type": "code",
   "execution_count": null,
   "metadata": {},
   "outputs": [],
   "source": [
    "# 打印文档树\n",
    "docx_tree.print_tree(124)"
   ]
  },
  {
   "cell_type": "markdown",
   "metadata": {},
   "source": [
    "## 测试调整节点类型"
   ]
  },
  {
   "cell_type": "code",
   "execution_count": 19,
   "metadata": {},
   "outputs": [],
   "source": [
    "# 节点改变层级\n",
    "docx_tree.convert_to_title_node(156,2)"
   ]
  },
  {
   "cell_type": "code",
   "execution_count": null,
   "metadata": {},
   "outputs": [],
   "source": [
    "# 打印结果 - 看顺序列表里是否有插入？\n",
    "pprint(docx_tree._ordered_nodes[140:160])"
   ]
  },
  {
   "cell_type": "code",
   "execution_count": null,
   "metadata": {},
   "outputs": [],
   "source": [
    "# 打印文档树\n",
    "docx_tree.print_tree(124)"
   ]
  },
  {
   "cell_type": "markdown",
   "metadata": {},
   "source": [
    "# <font color=red>  STEP 5: 测试文档树的使用</font>"
   ]
  },
  {
   "cell_type": "code",
   "execution_count": null,
   "metadata": {},
   "outputs": [],
   "source": [
    "# 初始化\n",
    "import django_setup"
   ]
  },
  {
   "cell_type": "code",
   "execution_count": 2,
   "metadata": {},
   "outputs": [],
   "source": [
    "# 导入相关模型\n",
    "from apps.doc_analysis.models import DocumentAnalysis\n",
    "from apps.doc_analysis.pipeline.types import ModelData,DocxTree, DocxTreeMoreTitles\n",
    "from apps.doc_analysis.steps._04_build_docxtree import BuildDocxTree\n",
    "from apps.doc_analysis.steps._05_more_subtitles import MoreSubTitlesStep\n",
    "from pprint import pprint "
   ]
  },
  {
   "cell_type": "code",
   "execution_count": null,
   "metadata": {},
   "outputs": [],
   "source": [
    "# 直接引用\"测试分析A\", 并获取 doc_tree\n",
    "saved_analysis = DocumentAnalysis.objects.get(title=\"测试分析A\")\n",
    "docx_tree = DocxTree.from_model(saved_analysis.docxtree)\n",
    "print(type(docx_tree))\n",
    "print(docx_tree.format_titles())"
   ]
  },
  {
   "cell_type": "code",
   "execution_count": null,
   "metadata": {},
   "outputs": [],
   "source": [
    "leaf_titles = docx_tree.get_leaf_titles()\n",
    "pprint(leaf_titles)"
   ]
  },
  {
   "cell_type": "code",
   "execution_count": null,
   "metadata": {},
   "outputs": [],
   "source": [
    "# 创建子标题分析 实例\n",
    "subtitles_analyzer = MoreSubTitlesStep()\n",
    "# 检查 data_inputs\n",
    "data_inputs = subtitles_analyzer.prepare_requests_data(docx_tree)\n",
    "# 检查prompt\n",
    "simulated_prompt, formatted_messages = subtitles_analyzer.simulate_prompt(data_inputs[0])\n",
    "print(formatted_messages)"
   ]
  },
  {
   "cell_type": "code",
   "execution_count": null,
   "metadata": {},
   "outputs": [],
   "source": [
    "analysis_reuslts = subtitles_analyzer.process(docx_tree)"
   ]
  },
  {
   "cell_type": "code",
   "execution_count": null,
   "metadata": {},
   "outputs": [],
   "source": [
    "print(type(analysis_reuslts))\n",
    "pprint(analysis_reuslts)"
   ]
  },
  {
   "cell_type": "code",
   "execution_count": null,
   "metadata": {},
   "outputs": [],
   "source": [
    "# 检查 more_subtitles 在models.py里的存储情况\n",
    "saved_analysis = DocumentAnalysis.objects.get(title=\"测试分析A\")\n",
    "print(type(saved_analysis.more_subtitles))\n",
    "pprint(saved_analysis.more_subtitles)"
   ]
  },
  {
   "cell_type": "code",
   "execution_count": 13,
   "metadata": {},
   "outputs": [],
   "source": [
    "# 测试 从models.py提取 more_subtitles, 并转换为DocxTreeMoreTitles格式\n",
    "more_subtitles_from_model = DocxTreeMoreTitles.from_model(saved_analysis.more_subtitles)\n",
    "print(type(more_subtitles_from_model))\n",
    "pprint(more_subtitles_from_model)"
   ]
  }
 ],
 "metadata": {
  "kernelspec": {
   "display_name": "BidPilot_new_env",
   "language": "python",
   "name": "python3"
  },
  "language_info": {
   "codemirror_mode": {
    "name": "ipython",
    "version": 3
   },
   "file_extension": ".py",
   "mimetype": "text/x-python",
   "name": "python",
   "nbconvert_exporter": "python",
   "pygments_lexer": "ipython3",
   "version": "3.12.1"
  }
 },
 "nbformat": 4,
 "nbformat_minor": 2
}
