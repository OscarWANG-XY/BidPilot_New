{
 "cells": [
  {
   "cell_type": "code",
   "execution_count": null,
   "metadata": {},
   "outputs": [],
   "source": [
    "# 初始化\n",
    "import django_setup"
   ]
  },
  {
   "cell_type": "markdown",
   "metadata": {},
   "source": [
    "## tiptap / docx转化测试"
   ]
  },
  {
   "cell_type": "code",
   "execution_count": null,
   "metadata": {},
   "outputs": [],
   "source": [
    "#doc_path_win = \"C:/Users/huiwa/Downloads/文本分析测试/test_files/parts_doc_chap3 - 1pages_无嵌套 .docx\"\n",
    "#doc_path_win = \"C:/Users/huiwa/Downloads/文本分析测试/test_files/parts_chp1_short.docx\"\n",
    "#doc_path_win = \"C:/Users/huiwa/Downloads/文本分析测试/test_files/parts_doc_chap3 - 1pages_有嵌套.docx\"\n",
    "#doc_path_win = \"C:/Users/huiwa/Downloads/文本分析测试/caseTest/Case6_中国区零食包框架供应商采购项目招采文件.docx\"\n",
    "doc_path_win = \"C:/Users/huiwa/Downloads/文本分析测试/test_files/实战：招标文件-第1包：一级压榨花生油 - 副本.docx\"\n",
    "#doc_path_win = \"C:/Users/huiwa/Downloads/文本分析测试/test_files/parts_chp3.docx\"\n",
    "#doc_path_win = \"C:/Users/huiwa/Downloads/文本分析测试/test_files/parts_chp3 p1.docx\"\n",
    "\n",
    "# 转换为WSL路径\n",
    "doc_path_wsl  = doc_path_win.replace(\"C:\", \"/mnt/c\").replace(\"\\\\\", \"/\")\n",
    "print(f\"WSL路径: {doc_path_wsl}\")\n",
    "\n",
    "\n",
    "import os\n",
    "print(f\"文件是否存在: {os.path.exists(doc_path_wsl)}\")"
   ]
  },
  {
   "cell_type": "code",
   "execution_count": null,
   "metadata": {},
   "outputs": [],
   "source": [
    "from apps.projects.tiptap.docx import docx_to_html\n",
    "html_content = docx_to_html(doc_path_wsl)\n",
    "from pprint import pprint\n",
    "pprint(html_content)"
   ]
  },
  {
   "cell_type": "code",
   "execution_count": null,
   "metadata": {},
   "outputs": [],
   "source": [
    "from IPython.display import display, HTML\n",
    "display(HTML(html_content))"
   ]
  },
  {
   "cell_type": "code",
   "execution_count": null,
   "metadata": {},
   "outputs": [],
   "source": [
    "from apps.projects.tiptap.docx import docx_to_tiptap_json\n",
    "json_content = docx_to_tiptap_json(doc_path_wsl)\n",
    "from pprint import pprint\n",
    "pprint(json_content)"
   ]
  },
  {
   "cell_type": "markdown",
   "metadata": {},
   "source": [
    "## 集成测试"
   ]
  },
  {
   "cell_type": "code",
   "execution_count": 2,
   "metadata": {},
   "outputs": [],
   "source": [
    "from apps.projects.models import Project, TaskStatus"
   ]
  },
  {
   "cell_type": "code",
   "execution_count": null,
   "metadata": {},
   "outputs": [],
   "source": [
    "from apps.projects.models import Task, TaskType\n",
    "task = Task.objects.get(stage__project=current_project, type=TaskType.DOCX_EXTRACTION_TASK)\n",
    "print(task.docx_tiptap)"
   ]
  },
  {
   "cell_type": "code",
   "execution_count": null,
   "metadata": {},
   "outputs": [],
   "source": [
    "current_project = Project.objects.get(project_name='2')\n",
    "print(f\"用于测试的项目: {current_project.project_name}\")\n",
    "print(f\"项目包含的文件: {current_project.files.all()}\")\n"
   ]
  },
  {
   "cell_type": "code",
   "execution_count": null,
   "metadata": {},
   "outputs": [],
   "source": [
    "task.docx_tiptap = \"1\"\n",
    "task.save()\n",
    "print(task.docx_tiptap)"
   ]
  },
  {
   "cell_type": "code",
   "execution_count": null,
   "metadata": {},
   "outputs": [],
   "source": [
    "from django.core.exceptions import ValidationError\n",
    "import os, tempfile, requests, uuid\n",
    "import logging\n",
    "logger = logging.getLogger(__name__)\n",
    "\n",
    "# 获取文件的预签名URL\n",
    "presigned_url = current_project.files.first().get_presigned_url()\n",
    "if not presigned_url:\n",
    "    raise ValidationError(\"无法获取文件访问地址\")\n",
    "\n",
    "logger.info(f\"开始下载文件: project_id={current_project.id}, file={current_project.files.first().name}\")\n",
    "\n",
    "# 下载文件到临时文件\n",
    "temp_file_path = os.path.join(tempfile.gettempdir(), f\"doc_analysis_{uuid.uuid4()}.docx\")\n",
    "response = requests.get(presigned_url)\n",
    "response.raise_for_status()\n",
    "\n",
    "with open(temp_file_path, 'wb') as temp_file:\n",
    "    temp_file.write(response.content)"
   ]
  },
  {
   "cell_type": "code",
   "execution_count": null,
   "metadata": {},
   "outputs": [],
   "source": [
    "task.docx_tiptap = json_content\n",
    "task.save()\n",
    "print(task.docx_tiptap)"
   ]
  }
 ],
 "metadata": {
  "kernelspec": {
   "display_name": "bid_dev",
   "language": "python",
   "name": "python3"
  },
  "language_info": {
   "codemirror_mode": {
    "name": "ipython",
    "version": 3
   },
   "file_extension": ".py",
   "mimetype": "text/x-python",
   "name": "python",
   "nbconvert_exporter": "python",
   "pygments_lexer": "ipython3",
   "version": "3.12.9"
  }
 },
 "nbformat": 4,
 "nbformat_minor": 2
}
