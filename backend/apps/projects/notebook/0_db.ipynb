{
 "cells": [
  {
   "cell_type": "markdown",
   "metadata": {},
   "source": [
    "# Django 初始化"
   ]
  },
  {
   "cell_type": "code",
   "execution_count": 2,
   "metadata": {},
   "outputs": [
    {
     "name": "stdout",
     "output_type": "stream",
     "text": [
      "Development settings loaded\n",
      "INSTALLED_APPS: ['django.contrib.admin', 'django.contrib.auth', 'django.contrib.contenttypes', 'django.contrib.sessions', 'django.contrib.messages', 'django.contrib.staticfiles', 'rest_framework', 'corsheaders', 'storages', 'apps.authentication', 'apps.files', 'apps.projects', 'apps.doc_analysis', 'apps.chat', 'django_filters', 'drf_spectacular', 'rest_framework_simplejwt.token_blacklist', 'django_celery_results', 'django_celery_beat']\n"
     ]
    },
    {
     "name": "stderr",
     "output_type": "stream",
     "text": [
      "INFO 2025-03-07 15:01:44,429 storage default_storage 的类型: COSStorage\n"
     ]
    },
    {
     "name": "stdout",
     "output_type": "stream",
     "text": [
      "Settings从哪里加载？: config.settings.development\n",
      "项目根目录对么？: C:\\Users\\huiwa\\Documents\\_All_Projects\\BidPilot_new\\backend\n",
      "文件存储settings对么？: apps.files.storage.COSStorage\n",
      "文件default_storage对么？: COSStorage\n",
      "\n",
      "已经安装的应用 Installed Apps 完整了么？:\n",
      "- django.contrib.admin\n",
      "- django.contrib.auth\n",
      "- django.contrib.contenttypes\n",
      "- django.contrib.sessions\n",
      "- django.contrib.messages\n",
      "- django.contrib.staticfiles\n",
      "- rest_framework\n",
      "- corsheaders\n",
      "- storages\n",
      "- apps.authentication\n",
      "- apps.files\n",
      "- apps.projects\n",
      "- apps.doc_analysis\n",
      "- apps.chat\n",
      "- django_filters\n",
      "- drf_spectacular\n",
      "- rest_framework_simplejwt.token_blacklist\n",
      "- django_celery_results\n",
      "- django_celery_beat\n"
     ]
    }
   ],
   "source": [
    "import django_setup"
   ]
  },
  {
   "cell_type": "code",
   "execution_count": 2,
   "metadata": {},
   "outputs": [],
   "source": [
    "#导入所有模型\n",
    "from django.contrib.auth import get_user_model\n",
    "from apps.files.models import FileRecord\n",
    "\n",
    "from apps.doc_analysis.models import DocumentAnalysis\n",
    "\n",
    "\n",
    "projects = Project.objects.all()  #事实上可以直接使用\n",
    "files = FileRecord.objects.all()\n",
    "analyses = DocumentAnalysis.objects.all()\n"
   ]
  },
  {
   "cell_type": "markdown",
   "metadata": {},
   "source": [
    "数据库数据清理，只保留18501771516用户的数据\n"
   ]
  },
  {
   "cell_type": "code",
   "execution_count": null,
   "metadata": {},
   "outputs": [],
   "source": [
    "# 删除18501771516用户以外的项目\n",
    "deleted_count = Project.objects.exclude(creator__phone='18501771516').delete()\n",
    "print(f\"已删除 {deleted_count[0]} 个其他项目\")\n",
    "\n",
    "\n",
    "# 删除18501771516用户以外的文件\n",
    "deleted_count = FileRecord.objects.exclude(owner__phone='18501771516').delete()\n",
    "print(f\"已删除 {deleted_count[0]} 个其他文件\")\n",
    "\n",
    "# 删除18501771516用户以外的分析\n",
    "deleted_count = DocumentAnalysis.objects.exclude(created_by__phone='18501771516').delete()\n",
    "print(f\"已删除 {deleted_count[0]} 个其他分析\")\n",
    "\n"
   ]
  },
  {
   "cell_type": "markdown",
   "metadata": {},
   "source": [
    "# <font color=\"red\">Part 1 - 用户模型管理</font>\n"
   ]
  },
  {
   "cell_type": "markdown",
   "metadata": {},
   "source": [
    "#### 1.1 contrib.auth模型引用 和 get_user_model方法 "
   ]
  },
  {
   "cell_type": "code",
   "execution_count": 11,
   "metadata": {},
   "outputs": [],
   "source": [
    "# 模型引用import\n",
    "from django.contrib.auth import get_user_model\n",
    "User = get_user_model()"
   ]
  },
  {
   "cell_type": "markdown",
   "metadata": {},
   "source": [
    "#### 1.2 User Model 常规字段 和 关联字段"
   ]
  },
  {
   "cell_type": "code",
   "execution_count": 4,
   "metadata": {},
   "outputs": [
    {
     "name": "stdout",
     "output_type": "stream",
     "text": [
      "User\n",
      "-----------常规字段--------------\n",
      "- password: CharField\n",
      "- last_login: DateTimeField\n",
      "- is_superuser: BooleanField\n",
      "- id: UUIDField\n",
      "- phone: CharField\n",
      "- email: EmailField\n",
      "- username: CharField\n",
      "- wechat_id: CharField\n",
      "- role: CharField\n",
      "- is_active: BooleanField\n",
      "- is_staff: BooleanField\n",
      "- created_at: DateTimeField\n",
      "- updated_at: DateTimeField\n",
      "\n",
      "-----------反向关系字段-------------\n",
      "- logentry_set: ManyToOneRel (来自 LogEntry)\n",
      "- owned_files: ManyToOneRel (来自 FileRecord)\n",
      "- created_projects: ManyToOneRel (来自 Project)\n",
      "- created_analyses: ManyToOneRel (来自 DocumentAnalysis)\n",
      "- confirmed_analyses: ManyToOneRel (来自 DocumentAnalysis)\n",
      "- chat_sessions: ManyToOneRel (来自 ChatSession)\n",
      "- outstandingtoken_set: ManyToOneRel (来自 OutstandingToken)\n",
      "\n",
      "-----------多对多字段-------------\n",
      "- groups: ManyToManyField\n",
      "- user_permissions: ManyToManyField\n"
     ]
    }
   ],
   "source": [
    "# 用户模型所有字段\n",
    "print(\"User\")\n",
    "print(\"-----------常规字段--------------\")\n",
    "for field in User._meta.fields:\n",
    "    print(f\"- {field.name}: {field.__class__.__name__}\")\n",
    "\n",
    "print(\"\\n-----------反向关系字段-------------\")\n",
    "# 反向关系字段\n",
    "for field in User._meta.get_fields():\n",
    "    # 检查是否是反向关系字段\n",
    "    if field.is_relation and field.auto_created:\n",
    "        related_name = field.related_name or f\"{field.name}_set\"\n",
    "        print(f\"- {related_name}: {field.__class__.__name__} (来自 {field.related_model.__name__})\")\n",
    "\n",
    "print(\"\\n-----------多对多字段-------------\")\n",
    "for field in User._meta.many_to_many:\n",
    "    print(f\"- {field.name}: {field.__class__.__name__}\")\n",
    "\n"
   ]
  },
  {
   "cell_type": "markdown",
   "metadata": {},
   "source": [
    "#### 1.3 Creat, Get, Filter, Delete, Print 用户"
   ]
  },
  {
   "cell_type": "code",
   "execution_count": 7,
   "metadata": {},
   "outputs": [
    {
     "data": {
      "text/plain": [
       "<User: 18501771516>"
      ]
     },
     "execution_count": 7,
     "metadata": {},
     "output_type": "execute_result"
    }
   ],
   "source": [
    "#创建用户 - Create\n",
    "User.objects.create_user(phone='18501771516', password='123456')"
   ]
  },
  {
   "cell_type": "code",
   "execution_count": 8,
   "metadata": {},
   "outputs": [
    {
     "name": "stdout",
     "output_type": "stream",
     "text": [
      "已删除 0 个其他用户\n"
     ]
    }
   ],
   "source": [
    "# 删除18501771516用户以外的用户\n",
    "deleted_count = User.objects.exclude(phone='18501771516').delete()\n",
    "print(f\"已删除 {deleted_count[0]} 个其他用户\")"
   ]
  },
  {
   "cell_type": "code",
   "execution_count": 10,
   "metadata": {},
   "outputs": [
    {
     "name": "stdout",
     "output_type": "stream",
     "text": [
      "18501771516\n"
     ]
    }
   ],
   "source": [
    "# 获取用户 - Get\n",
    "user = User.objects.get(phone='18501771516')\n",
    "print(user)"
   ]
  },
  {
   "cell_type": "code",
   "execution_count": null,
   "metadata": {},
   "outputs": [],
   "source": [
    "# 过滤用户 - Filter\n",
    "for user in User.objects.filter(phone='18501771516'):\n",
    "    print(f\"用户ID: {user.id}, 用户名: {user.username}\")\n",
    "    # 打印用户的所有字段值\n",
    "\n",
    "    for field in User._meta.fields:\n",
    "        print(f\"  {field.name}: {getattr(user, field.name)}\")\n",
    "    print(\"---\")"
   ]
  },
  {
   "cell_type": "code",
   "execution_count": 9,
   "metadata": {},
   "outputs": [
    {
     "name": "stdout",
     "output_type": "stream",
     "text": [
      "用户：18501771516,项目数：0,文件数：0 分析数：0\n"
     ]
    }
   ],
   "source": [
    "# 打印用户列表  .all()\n",
    "users = User.objects.all()\n",
    "for user in users:\n",
    "    print(f\"用户：{user.phone},\" \n",
    "          f\"项目数：{user.created_projects.all().count()},\" \n",
    "          f\"文件数：{user.owned_files.all().count()}\",\n",
    "          f\"分析数：{user.created_analyses.all().count()}\"\n",
    "          )"
   ]
  },
  {
   "cell_type": "code",
   "execution_count": null,
   "metadata": {},
   "outputs": [],
   "source": [
    "# 删除selected之外的所有用户 - exclude(条件).delete()\n",
    "selected_phones = ['18501771516', '13800138000']\n",
    "deleted_count = User.objects.exclude(phone__in=selected_phones).delete()\n",
    "print(f\"已删除 {deleted_count[0]} 个其他用户\")\n"
   ]
  },
  {
   "cell_type": "code",
   "execution_count": 8,
   "metadata": {},
   "outputs": [],
   "source": [
    "# 清空所有用户  .all().delete()\n",
    "#delete_count = User.objects.all().delete()\n",
    "#print(delete_count[0])"
   ]
  },
  {
   "cell_type": "markdown",
   "metadata": {},
   "source": [
    "#### 1.4 related_fields 的使用 （参考字段） "
   ]
  },
  {
   "cell_type": "markdown",
   "metadata": {},
   "source": [
    "# <font color=\"red\">Part 2 - 项目管理</font>\n"
   ]
  },
  {
   "cell_type": "code",
   "execution_count": 12,
   "metadata": {},
   "outputs": [],
   "source": [
    "from apps.projects.models import Project, ProjectHistory, ProjectStage, BaseTask"
   ]
  },
  {
   "cell_type": "code",
   "execution_count": 19,
   "metadata": {},
   "outputs": [
    {
     "name": "stdout",
     "output_type": "stream",
     "text": [
      "Project\n",
      "-----------常规字段--------------\n",
      "- id: UUIDField, 必填: True, 有默认值: True, 可为空: False\n",
      "- project_name: CharField, 必填: True, 有默认值: True, 可为空: False\n",
      "- tenderee: CharField, 必填: True, 有默认值: True, 可为空: False\n",
      "- bidder: CharField, 必填: False, 有默认值: True, 可为空: False\n",
      "- project_type: CharField, 必填: True, 有默认值: True, 可为空: False\n",
      "- bid_deadline: DateTimeField, 必填: False, 有默认值: True, 可为空: True\n",
      "- status: CharField, 必填: True, 有默认值: True, 可为空: False\n",
      "- is_urgent: BooleanField, 必填: True, 有默认值: True, 可为空: False\n",
      "- current_active_stage: CharField, 必填: True, 有默认值: True, 可为空: False\n",
      "- creator: ForeignKey, 必填: True, 有默认值: True, 可为空: False\n",
      "- create_time: DateTimeField, 必填: False, 有默认值: True, 可为空: False\n",
      "- last_update_time: DateTimeField, 必填: False, 有默认值: True, 可为空: False\n",
      "\n",
      "-----------反向关系字段-------------\n",
      "- files: ManyToOneRel (来自 FileRecord)\n",
      "- stages: ManyToOneRel (来自 ProjectStage)\n",
      "- project_histories: ManyToOneRel (来自 ProjectHistory)\n",
      "- document_analyses: ManyToOneRel (来自 DocumentAnalysis)\n",
      "\n",
      "-----------多对多字段-------------\n"
     ]
    }
   ],
   "source": [
    "# Project Model 所有字段\n",
    "print(\"Project\")\n",
    "print(\"-----------常规字段--------------\")\n",
    "for field in Project._meta.fields:\n",
    "    is_required = not field.blank  # 如果 blank 为 False，则为必填字段\n",
    "    has_default = field.default is not None  # 如果 default 不为 None，则有默认值\n",
    "    is_nullable = field.null  # 如果 null 为 True，则可以为空\n",
    "\n",
    "    print(f\"- {field.name}: {field.__class__.__name__}, \"\n",
    "          f\"必填: {is_required}, \"\n",
    "          f\"有默认值: {has_default}, \"\n",
    "          f\"可为空: {is_nullable}\")\n",
    "\n",
    "print(\"\\n-----------反向关系字段-------------\")\n",
    "# 反向关系字段\n",
    "for field in Project._meta.get_fields():\n",
    "    # 检查是否是反向关系字段\n",
    "    if field.is_relation and field.auto_created:\n",
    "        related_name = field.related_name or f\"{field.name}_set\"\n",
    "        print(f\"- {related_name}: {field.__class__.__name__} (来自 {field.related_model.__name__})\")\n",
    "\n",
    "print(\"\\n-----------多对多字段-------------\")\n",
    "for field in Project._meta.many_to_many:\n",
    "    print(f\"- {field.name}: {field.__class__.__name__}\")"
   ]
  },
  {
   "cell_type": "code",
   "execution_count": 14,
   "metadata": {},
   "outputs": [
    {
     "name": "stdout",
     "output_type": "stream",
     "text": [
      "ProjectStage\n",
      "-----------常规字段--------------\n",
      "- id: BigAutoField\n",
      "- project: ForeignKey\n",
      "- stage_type: CharField\n",
      "- name: CharField\n",
      "- stage_status: CharField\n",
      "- description: TextField\n",
      "- file_id: CharField\n",
      "- progress: IntegerField\n",
      "- remarks: TextField\n",
      "- created_at: DateTimeField\n",
      "- updated_at: DateTimeField\n",
      "- metadata: JSONField\n",
      "\n",
      "-----------反向关系字段-------------\n",
      "- tasks: ManyToOneRel (来自 BaseTask)\n",
      "\n",
      "-----------多对多字段-------------\n"
     ]
    }
   ],
   "source": [
    "# ProjectStage 模型所有字段\n",
    "print(\"ProjectStage\")\n",
    "print(\"-----------常规字段--------------\")\n",
    "for field in ProjectStage._meta.fields:\n",
    "    print(f\"- {field.name}: {field.__class__.__name__}\")\n",
    "\n",
    "print(\"\\n-----------反向关系字段-------------\")\n",
    "# 反向关系字段\n",
    "for field in ProjectStage._meta.get_fields():\n",
    "    # 检查是否是反向关系字段\n",
    "    if field.is_relation and field.auto_created:\n",
    "        related_name = field.related_name or f\"{field.name}_set\"\n",
    "        print(f\"- {related_name}: {field.__class__.__name__} (来自 {field.related_model.__name__})\")\n",
    "\n",
    "print(\"\\n-----------多对多字段-------------\")\n",
    "for field in ProjectStage._meta.many_to_many:\n",
    "    print(f\"- {field.name}: {field.__class__.__name__}\")"
   ]
  },
  {
   "cell_type": "code",
   "execution_count": null,
   "metadata": {},
   "outputs": [],
   "source": [
    "# 创建Project - Create\n",
    "# 创新时 必填字段： \n",
    "Project.objects.create(creator = )"
   ]
  },
  {
   "cell_type": "code",
   "execution_count": 15,
   "metadata": {},
   "outputs": [],
   "source": [
    "# 打印项目列表\n",
    "projects = Project.objects.all()\n",
    "for project in projects:\n",
    "    print(f\"项目编号:{project.project_code}\",\n",
    "          f\"项目名：{project.project_name},\" \n",
    "          f\"创建者：{project.creator.phone},\" \n",
    "          f\"关联分析数：{project.document_analyses.all().count()}\"\n",
    "          )"
   ]
  },
  {
   "cell_type": "code",
   "execution_count": 16,
   "metadata": {},
   "outputs": [],
   "source": [
    "# 清空所有上传的文件\n",
    "#delete_count = Project.objects.all().delete()\n",
    "#print(delete_count[0])"
   ]
  },
  {
   "cell_type": "code",
   "execution_count": 18,
   "metadata": {},
   "outputs": [],
   "source": [
    "# 打印特定用户的所有项目的所有字段值\n",
    "for project in Project.objects.filter(creator__phone='18501771516'):\n",
    "    print(f\"项目ID: {project.id}, 项目名: {project.project_name}\")\n",
    "    # 打印项目的所有字段值\n",
    "\n",
    "    for field in project._meta.fields:\n",
    "        print(f\"  {field.name}: {getattr(project, field.name)}\")\n",
    "    print(\"---\")\n",
    "\n"
   ]
  },
  {
   "cell_type": "markdown",
   "metadata": {},
   "source": [
    "# <font color=\"red\">Part 3 - 文件管理</font>\n"
   ]
  },
  {
   "cell_type": "code",
   "execution_count": null,
   "metadata": {},
   "outputs": [],
   "source": [
    "# 文件所有字段\n",
    "# 文件的所有常规字段\n",
    "print(\"FileRecord\")\n",
    "print(\"-----------常规字段--------------\")\n",
    "for field in FileRecord._meta.fields:\n",
    "    print(f\"- {field.name}: {field.__class__.__name__}\")\n",
    "\n",
    "print(\"\\n-----------反向关系字段-------------\")\n",
    "# 反向关系字段\n",
    "for field in FileRecord._meta.get_fields():\n",
    "    # 检查是否是反向关系字段\n",
    "    if field.is_relation and field.auto_created:\n",
    "        related_name = field.related_name or f\"{field.name}_set\"\n",
    "\n",
    "        print(f\"- {related_name}: {field.__class__.__name__} (来自 {field.related_model.__name__})\")\n",
    "\n",
    "print(\"\\n-----------多对多字段-------------\")\n",
    "for field in FileRecord._meta.many_to_many:\n",
    "    print(f\"- {field.name}: {field.__class__.__name__}\")"
   ]
  },
  {
   "cell_type": "code",
   "execution_count": null,
   "metadata": {},
   "outputs": [],
   "source": [
    "# 打印项目列表\n",
    "files = FileRecord.objects.all()\n",
    "for file in files:\n",
    "    print(f\"文件ID:{file.id}\",\n",
    "          f\"文件类型:{file.type}\",\n",
    "          f\"文件名：{file.name},\" \n",
    "          f\"拥有者：{file.owner.phone},\" \n",
    "          f\"关联分析数：{file.document_analyses.all().count()}\"\n",
    "          )"
   ]
  },
  {
   "cell_type": "code",
   "execution_count": 18,
   "metadata": {},
   "outputs": [],
   "source": [
    "# 清空所有上传的文件\n",
    "#delete_count = FileRecord.objects.all().delete()\n",
    "#print(delete_count[0])"
   ]
  },
  {
   "cell_type": "code",
   "execution_count": 19,
   "metadata": {},
   "outputs": [],
   "source": [
    "# 打印特定用户的所有项目的所有字段值\n",
    "for file in FileRecord.objects.filter(owner__phone='18501771516',name='Test 文本.docx'):\n",
    "    print(f\"文件ID: {file.id}, 文件名: {file.name}\")\n",
    "    # 打印文件的所有字段值\n",
    "\n",
    "\n",
    "    for field in file._meta.fields:\n",
    "        print(f\"  {field.name}: {getattr(file, field.name)}\")\n",
    "    print(\"---\")"
   ]
  },
  {
   "cell_type": "markdown",
   "metadata": {},
   "source": [
    "<font color=\"red\">将文件关联到项目</font>\n"
   ]
  },
  {
   "cell_type": "code",
   "execution_count": 17,
   "metadata": {},
   "outputs": [],
   "source": [
    "#delete_count = FileProjectLink.objects.filter(project=project).delete()\n",
    "#print(deleted_count[0])"
   ]
  },
  {
   "cell_type": "markdown",
   "metadata": {},
   "source": [
    "# <font color=red>Part 4 - 分析管理 </font>"
   ]
  },
  {
   "cell_type": "code",
   "execution_count": null,
   "metadata": {},
   "outputs": [],
   "source": [
    "# 文档分析的所有字段\n",
    "# 常规字段\n",
    "print(\"DocumentAnalysis\")\n",
    "print(\"-----------常规字段--------------\")\n",
    "for field in DocumentAnalysis._meta.fields:\n",
    "    print(f\"- {field.name}: {field.__class__.__name__}\")\n",
    "\n",
    "print(\"\\n-----------反向关系字段-------------\")\n",
    "# 反向关系字段\n",
    "for field in DocumentAnalysis._meta.get_fields():\n",
    "    # 检查是否是反向关系字段\n",
    "    if field.is_relation and field.auto_created:\n",
    "        related_name = field.related_name or f\"{field.name}_set\"\n",
    "\n",
    "        print(f\"- {related_name}: {field.__class__.__name__} (来自 {field.related_model.__name__})\")\n",
    "\n",
    "print(\"\\n-----------多对多字段-------------\")\n",
    "for field in DocumentAnalysis._meta.many_to_many:\n",
    "    print(f\"- {field.name}: {field.__class__.__name__}\")"
   ]
  },
  {
   "cell_type": "code",
   "execution_count": 14,
   "metadata": {},
   "outputs": [],
   "source": [
    "analyses = DocumentAnalysis.objects.all()"
   ]
  },
  {
   "cell_type": "code",
   "execution_count": null,
   "metadata": {},
   "outputs": [],
   "source": [
    "print(analyses)"
   ]
  },
  {
   "cell_type": "code",
   "execution_count": 16,
   "metadata": {},
   "outputs": [],
   "source": [
    "# 打印项目列表\n",
    "analyses = DocumentAnalysis.objects.all()\n",
    "for analysis in analyses:\n",
    "    print(f\"分析号:{analysis.id}\\n\")"
   ]
  },
  {
   "cell_type": "code",
   "execution_count": 22,
   "metadata": {},
   "outputs": [],
   "source": [
    "# 打印项目列表\n",
    "analyses = DocumentAnalysis.objects.all()\n",
    "for analysis in analyses:\n",
    "    print(f\"分析号:{analysis.id}\\n\",\n",
    "          f\"分析名称：{analysis.title}\\n\",\n",
    "          f\"分析所在项目：{analysis.project.project_name}\\n\", \n",
    "          f\"分析的文件：{analysis.file_record.name}\\n\" ,\n",
    "         # f\"分析的阶段：{analysis.status}\\n\",\n",
    "         # f\"分析的问题：{analysis.analysis_questions}\\n\",\n",
    "         # f\"分析结果：{analysis.analysis_result}\\n\",\n",
    "         # f\"分析创建者：{analysis.created_by.phone}\\n\",\n",
    "         # f\"分析用时：{analysis.processing_time}\\n\",\n",
    "          )"
   ]
  },
  {
   "cell_type": "code",
   "execution_count": null,
   "metadata": {},
   "outputs": [],
   "source": [
    "delete_count = DocumentAnalysis.objects.all().delete()\n",
    "print(delete_count[0])"
   ]
  }
 ],
 "metadata": {
  "kernelspec": {
   "display_name": "BidPilot_new_env",
   "language": "python",
   "name": "python3"
  },
  "language_info": {
   "codemirror_mode": {
    "name": "ipython",
    "version": 3
   },
   "file_extension": ".py",
   "mimetype": "text/x-python",
   "name": "python",
   "nbconvert_exporter": "python",
   "pygments_lexer": "ipython3",
   "version": "3.12.1"
  }
 },
 "nbformat": 4,
 "nbformat_minor": 2
}
