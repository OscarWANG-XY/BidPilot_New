{
 "cells": [
  {
   "cell_type": "markdown",
   "metadata": {},
   "source": [
    "## 初始化"
   ]
  },
  {
   "cell_type": "code",
   "execution_count": null,
   "metadata": {},
   "outputs": [],
   "source": [
    "# 初始化\n",
    "import django_setup\n",
    "import nest_asyncio\n",
    "nest_asyncio.apply()\n",
    "# 添加cache \n",
    "# 以下要求NotebookCacheManager.py 和 cache目录都在 当前测试文件的相同目录下（在notebook目录下）\n",
    "from NotebookCacheManager import NotebookCacheManager\n",
    "cache = NotebookCacheManager(\"cache_e3\")\n",
    "\n",
    "from pprint import pprint\n",
    "\n",
    "# cache使用示例： \n",
    "# cache.save('存储文件名', 参数)，  a_loaded = cache.load('存储文件名')， 存在pkl文件下，点开为乱码\n",
    "# cache.save_json, cache.load_json, 存在json文件下，点开可读\n",
    "# cache.save_md, cache.load_md，存在md文件下，点开可读\n",
    "# cache.save_json('outline1/test1') 可构建二级目录"
   ]
  },
  {
   "cell_type": "markdown",
   "metadata": {},
   "source": [
    "## PART-1. 进入Outline_L1 分析\n"
   ]
  },
  {
   "cell_type": "code",
   "execution_count": null,
   "metadata": {},
   "outputs": [],
   "source": [
    "# 说明： \n",
    "# 对于长文本，直接提取多个层级的标题效果不佳且不稳定。因此，我们将分步提取标题，先提取一级标题，然后二级标题，最后三级标题。<br>\n",
    "# 为进行测试，我们需要：<br> \n",
    "# 1. 项目容器： 测试项目1 <br>\n",
    "# 2. tender_file_extraction 准备就绪 <br>\n",
    "# 3. 模型输入： context, instruction, supplement, output_format, prompt_template, index_path_map，都是即时生成，不存储。<br>\n",
    "# 4. 调用模型的函数：从task中简化。<br>\n",
    "# 5. 章节的截取函数： TiptapUtils.extract_indexed_paragraphs， 在prepare_context中已调用<br>\n",
    "# 6. 任务结果L1： 初始化为空 <br>\n",
    "# 7. 任务结果L2： 初始化为空 <br>\n",
    "# 8. 任务结果L3： 初始化为空 <br>\n",
    "# </font>"
   ]
  },
  {
   "cell_type": "markdown",
   "metadata": {},
   "source": [
    "#### <font color=\"red\"> 1. 准备tender_file_extraction</font>"
   ]
  },
  {
   "cell_type": "code",
   "execution_count": null,
   "metadata": {},
   "outputs": [],
   "source": [
    "# 招标文件提取内容 准备就绪\n",
    "from apps.projects.models import Project, Task, TaskType\n",
    "from pprint import pprint\n",
    "project = Project.objects.get(project_name='test1')\n",
    "task = Task.objects.get(stage__project=project, type=TaskType.OUTLINE_ANALYSIS_TASK)\n",
    "stage = task.stage\n",
    "# --- 如果project.tender_file_extraction 为空，则需要从关联的docx_extraction_task中获取\n",
    "# extraction_task = Task.objects.get(stage__project=project, type=TaskType.DOCX_EXTRACTION_TASK)\n",
    "# print(extraction_task.docx_tiptap)\n",
    "# print(type(extraction_task.docx_tiptap))\n",
    "# pprint(extraction_task.docx_tiptap)\n",
    "# project = Project.objects.get(project_name='测试项目1')\n",
    "# project.tender_file_extraction = extraction_task.docx_tiptap\n",
    "# project.save()\n",
    "# project = Project.objects.get(project_name='测试项目1')\n",
    "pprint(project.tender_file_extraction)\n",
    "cache.save_json('tender_file_extraction', project.tender_file_extraction)"
   ]
  },
  {
   "cell_type": "code",
   "execution_count": null,
   "metadata": {},
   "outputs": [],
   "source": [
    "# 存储位就绪\n",
    "print(f\"outline_L1存储：{project.outline_L1}\")\n",
    "print(f\"outline_L2存储：{project.outline_L2}\")\n",
    "print(f\"outline_L3存储：{project.outline_L3}\")\n",
    "print(f\"outline_L1存储：{project.index_path_map_L1}\")\n",
    "print(f\"outline_L2存储：{project.index_path_map_L2}\")\n",
    "print(f\"outline_L3存储：{project.index_path_map_L3}\")"
   ]
  },
  {
   "cell_type": "markdown",
   "metadata": {},
   "source": [
    "#### <font color=\"red\"> 2. 分析前数据准备 model_params_l1, task_l1, meta_l1</font>"
   ]
  },
  {
   "cell_type": "code",
   "execution_count": 2,
   "metadata": {},
   "outputs": [],
   "source": [
    "tender_file_extraction = cache.load_json('tender_file_extraction')\n",
    "from pprint import pprint"
   ]
  },
  {
   "cell_type": "code",
   "execution_count": 3,
   "metadata": {},
   "outputs": [],
   "source": [
    "# 借用outline_analysis_L1.py 的函数， 进行任务准备 \n",
    "\n",
    "# 集成时，用以下代替，模型传参 会先存储到数据库。\n",
    "from apps.projects.services.tasks_preparation.outline_analysis_L1 import OutlineAnalysisL1\n",
    "# #获取LLM分析相关数据\n",
    "data_cooker_l1 = OutlineAnalysisL1(tender_file_extraction)\n",
    "model_params_l1, task_l1, meta_l1 = data_cooker_l1.output_params()\n",
    "# # 模拟的prompt, \n",
    "simulated_prompt, formatted_message = data_cooker_l1.simulate_prompt()\n",
    "cache.save_json('outline_analysis_L1/model_params_l1', model_params_l1)\n",
    "cache.save_json('outline_analysis_L1/task_l1', task_l1)\n",
    "cache.save_json('outline_analysis_L1/meta_l1', meta_l1)\n",
    "cache.save_json('outline_analysis_L1/formatted_message', formatted_message)\n"
   ]
  },
  {
   "cell_type": "markdown",
   "metadata": {},
   "source": [
    "#### <font color=\"red\"> 3. 大模型分析</font>"
   ]
  },
  {
   "cell_type": "code",
   "execution_count": null,
   "metadata": {},
   "outputs": [],
   "source": [
    "# 构建LLM分析器 并 分析\n",
    "from apps.projects.services.LLM_service.LLMcontainer import LLMService\n",
    "analyzer = LLMService(model_params_l1)\n",
    "outline_L1 = await analyzer.process(task_l1)\n",
    "pprint(outline_L1)\n"
   ]
  },
  {
   "cell_type": "code",
   "execution_count": 5,
   "metadata": {},
   "outputs": [],
   "source": [
    "cache.save_md('outline_analysis_L1/outline_L1', outline_L1)"
   ]
  },
  {
   "cell_type": "markdown",
   "metadata": {},
   "source": [
    "#### <font color=\"red\"> 4. 将Outline_L1 应用到tender_file_extraction中</font>\n",
    "\n"
   ]
  },
  {
   "cell_type": "code",
   "execution_count": 2,
   "metadata": {},
   "outputs": [],
   "source": [
    "# 应用outline_L1分析结果，数据准备： outline_L1, index_path_map_l1, tender_file_extraction \n",
    "import json\n",
    "outline_L1 = cache.load_md('outline_analysis_L1/outline_L1')\n",
    "meta_l1 = cache.load_json('outline_analysis_L1/meta_l1')\n",
    "tender_file_extraction = cache.load_json('tender_file_extraction')\n",
    "index_path_map_L1 = meta_l1['index_path_map']\n",
    "outline_L1_dict = json.loads(outline_L1)"
   ]
  },
  {
   "cell_type": "code",
   "execution_count": null,
   "metadata": {},
   "outputs": [],
   "source": [
    "# 将outline_L1 应用到tender_file_extraction中, 使用TiptapUtils.update_titles_from_list\n",
    "from apps.projects.tiptap.helpers import TiptapUtils\n",
    "updated_tiptap_content = TiptapUtils.update_titles_from_list(tender_file_extraction, outline_L1_dict, index_path_map_L1)\n",
    "# 检查标题是否已经改到内容里去了？\n",
    "from apps.projects.tiptap.helpers import TiptapUtils\n",
    "headings = TiptapUtils.find_all_headings(updated_tiptap_content)\n",
    "pprint(headings)\n",
    "print(TiptapUtils.print_headings(updated_tiptap_content))"
   ]
  },
  {
   "cell_type": "code",
   "execution_count": 4,
   "metadata": {},
   "outputs": [],
   "source": [
    "tender_file_extraction_L1 = updated_tiptap_content\n",
    "cache.save_json('tender_file_extraction_L1', tender_file_extraction_L1)\n",
    "\n"
   ]
  },
  {
   "cell_type": "markdown",
   "metadata": {},
   "source": [
    "## PART-2. 开始执行Outline_L2 分析\n"
   ]
  },
  {
   "cell_type": "code",
   "execution_count": null,
   "metadata": {},
   "outputs": [],
   "source": [
    "# 初始化\n",
    "import django_setup\n",
    "import nest_asyncio\n",
    "nest_asyncio.apply()\n",
    "# 添加cache \n",
    "# 以下要求NotebookCacheManager.py 和 cache目录都在 当前测试文件的相同目录下（在notebook目录下）\n",
    "from NotebookCacheManager import NotebookCacheManager\n",
    "cache = NotebookCacheManager(\"cache_e3\")\n",
    "\n",
    "from pprint import pprint\n",
    "\n",
    "# cache使用示例： \n",
    "# cache.save('存储文件名', 参数)，  a_loaded = cache.load('存储文件名')， 存在pkl文件下，点开为乱码\n",
    "# cache.save_json, cache.load_json, 存在json文件下，点开可读\n",
    "# cache.save_md, cache.load_md，存在md文件下，点开可读\n",
    "# cache.save_json('outline1/test1') 可构建二级目录"
   ]
  },
  {
   "cell_type": "code",
   "execution_count": 27,
   "metadata": {},
   "outputs": [],
   "source": [
    "# 说明： 使用TiptapUtils.extract_chapters 提取章节， 并根据章节分块， 好处是,index被保留。<br> \n",
    "# - 带有L1标题的tiptap JSON 内容已经ready <br>\n",
    "# - 我们需要解决：<br>\n",
    "#     1）提取章节？-> 在原文 基础上 提取段落内容（str）， 根据章节分块， 好处是,index被保留。<br>\n",
    "#     2）提供章节段落内容，重复类似Outline_L1的分析: <br>\n",
    "#         a. 准备容器，更新的文件内容，存储任务结果字段？<br>\n",
    "#         b. 准备大模型的输入，并调用模型？ (这个过程，需要考虑并发分析，提高效率)<br>\n",
    "#         c. 将结果应用到tiptap JSON的 内容中？<br>\n",
    "#         d. 存储结果到project.tender_file_extraction <br>\n"
   ]
  },
  {
   "cell_type": "code",
   "execution_count": 5,
   "metadata": {},
   "outputs": [],
   "source": [
    "tender_file_extraction_L1 =cache.load_json('tender_file_extraction_L1')"
   ]
  },
  {
   "cell_type": "code",
   "execution_count": null,
   "metadata": {},
   "outputs": [],
   "source": [
    "# 提取章节\n",
    "from apps.projects.tiptap.helpers import TiptapUtils\n",
    "headings = TiptapUtils.print_headings(tender_file_extraction_L1)\n",
    "print(headings)"
   ]
  },
  {
   "cell_type": "markdown",
   "metadata": {},
   "source": [
    "#### <font color=\"red\"> 1. 通过outline_analysis_L2 进行传参准备</font>\n",
    "<font color=\"orange\" size=\"3\">\n",
    "- 在outline_analysis_L2 中， 根据章节分块， index被保留。<br>\n",
    "- 使用了TiptapUtils.extract_chapters 工具，返回 字典对象chapter_set{}， 包含chapters 和 index_path_map 两个键名<br>\n",
    "- 在outline_analysis_L2 中， 使用chapter_set['chapters'] for循环 取得chapter['paragraphs'] 作为context<br>\n",
    "- 在outline_analysis_L2 的输出，将每个章节分析所需的传参 单独打包， 并返回 列表对象param_set[]<br>\n",
    "</font>"
   ]
  },
  {
   "cell_type": "code",
   "execution_count": 7,
   "metadata": {},
   "outputs": [],
   "source": [
    "# 集成时，用以下代替，模型传参 会先存储到数据库。\n",
    "from apps.projects.services.tasks_preparation.outline_analysis_L2 import OutlineAnalysisL2\n",
    "# #获取LLM分析相关数据\n",
    "data_cooker_l2 = OutlineAnalysisL2(tender_file_extraction_L1)\n",
    "model_params_l2, tasks_l2, meta_l2 = data_cooker_l2.output_params()\n",
    "# # 模拟的prompt, \n",
    "simulated_prompts_l2, formatted_messages_l2 = data_cooker_l2.simulate_prompt()\n",
    "cache.save_json('outline_analysis_L2/model_params_l2', model_params_l2)\n",
    "cache.save_json('outline_analysis_L2/tasks_l2', tasks_l2)\n",
    "cache.save_json('outline_analysis_L2/meta_l2', meta_l2)\n",
    "cache.save_json('outline_analysis_L2/formatted_message', formatted_messages_l2)"
   ]
  },
  {
   "cell_type": "markdown",
   "metadata": {},
   "source": [
    "#### <font color=\"red\"> 2. 大模型逐个章节进行分析</font>"
   ]
  },
  {
   "cell_type": "code",
   "execution_count": null,
   "metadata": {},
   "outputs": [],
   "source": [
    "# 构建LLM分析器 并 分析\n",
    "from apps.projects.services.LLM_service.LLMcontainer import LLMService\n",
    "analyzer = LLMService(model_params_l2)\n",
    "outlines_L2 = await analyzer.process_with_limit(tasks_l2, limit=5)\n",
    "pprint(outlines_L2)\n",
    "\n",
    "# 存储OUTLINE_L2 结果\n",
    "cache.save_json('outline_analysis_L2/outlines_L2', outlines_L2)"
   ]
  },
  {
   "cell_type": "markdown",
   "metadata": {},
   "source": [
    "#### <font color=\"red\"> 3. 将Outline_L2 应用到tender_file_extraction_L1中</font>\n",
    "\n"
   ]
  },
  {
   "cell_type": "code",
   "execution_count": 18,
   "metadata": {},
   "outputs": [],
   "source": [
    "# 应用outline_L1分析结果，数据准备： outline_L1, index_path_map_l1, tender_file_extraction \n",
    "import json\n",
    "outlines_L2 = cache.load_json('outline_analysis_L2/outlines_L2')\n",
    "meta_l2 = cache.load_json('outline_analysis_L2/meta_l2')\n",
    "tender_file_extraction_L1 = cache.load_json('tender_file_extraction_L1')\n",
    "index_path_map_L2 = meta_l2['index_path_map']"
   ]
  },
  {
   "cell_type": "code",
   "execution_count": null,
   "metadata": {},
   "outputs": [],
   "source": [
    "# 解析OUTLINE_L2 每个JSON字符串并合并\n",
    "outlines_L2_dict = []\n",
    "for outline in outlines_L2:\n",
    "    parsed = json.loads(outline)\n",
    "    outlines_L2_dict.extend(parsed)\n",
    "\n",
    "# 将所有的'level'值加1\n",
    "for item in outlines_L2_dict:\n",
    "    if 'level' in item:\n",
    "        item['level'] += 1\n",
    "\n",
    "from pprint import pprint\n",
    "pprint(outlines_L2_dict)"
   ]
  },
  {
   "cell_type": "code",
   "execution_count": null,
   "metadata": {},
   "outputs": [],
   "source": [
    "# 将outline_L1 应用到tender_file_extraction中, 使用TiptapUtils.update_titles_from_list\n",
    "from apps.projects.tiptap.helpers import TiptapUtils\n",
    "updated_tiptap_content = TiptapUtils.update_titles_from_list(tender_file_extraction_L1, outlines_L2_dict, index_path_map_L2)\n",
    "# 检查标题是否已经改到内容里去了？\n",
    "from apps.projects.tiptap.helpers import TiptapUtils\n",
    "headings = TiptapUtils.find_all_headings(updated_tiptap_content)\n",
    "from pprint import pprint\n",
    "#pprint(headings)\n",
    "print(TiptapUtils.print_headings(updated_tiptap_content))\n",
    "\n",
    "# 存储tender_file_extraction_L2 结果\n",
    "cache.save_json('tender_file_extraction_L2', updated_tiptap_content)\n"
   ]
  },
  {
   "cell_type": "code",
   "execution_count": null,
   "metadata": {},
   "outputs": [],
   "source": [
    "from apps.projects.tiptap.client import TiptapClient\n",
    "md_doc = TiptapClient().json_to_markdown(updated_tiptap_content)\n",
    "html_doc = TiptapClient().json_to_html(updated_tiptap_content)\n",
    "pprint(md_doc)\n",
    "from IPython.display import display, HTML, Markdown\n",
    "display(Markdown(md_doc[\"data\"]))"
   ]
  },
  {
   "cell_type": "code",
   "execution_count": null,
   "metadata": {},
   "outputs": [],
   "source": [
    "pprint(html_doc)\n",
    "from IPython.display import display, HTML, Markdown\n",
    "display(HTML(html_doc[\"data\"]))"
   ]
  },
  {
   "cell_type": "code",
   "execution_count": null,
   "metadata": {},
   "outputs": [],
   "source": [
    "html_doc_back = TiptapClient().markdown_to_html(md_doc[\"data\"])\n",
    "display(HTML(html_doc_back[\"data\"]))"
   ]
  },
  {
   "cell_type": "markdown",
   "metadata": {},
   "source": [
    "## PART-3. 构建增强型目录结构 （添加图表目录）"
   ]
  },
  {
   "cell_type": "code",
   "execution_count": null,
   "metadata": {},
   "outputs": [],
   "source": [
    "# 初始化\n",
    "import django_setup\n",
    "import nest_asyncio\n",
    "nest_asyncio.apply()\n",
    "# 添加cache \n",
    "# 以下要求NotebookCacheManager.py 和 cache目录都在 当前测试文件的相同目录下（在notebook目录下）\n",
    "from NotebookCacheManager import NotebookCacheManager\n",
    "cache = NotebookCacheManager(\"cache_e3\")\n",
    "\n",
    "from pprint import pprint\n",
    "\n",
    "# cache使用示例： \n",
    "# cache.save('存储文件名', 参数)，  a_loaded = cache.load('存储文件名')， 存在pkl文件下，点开为乱码\n",
    "# cache.save_json, cache.load_json, 存在json文件下，点开可读\n",
    "# cache.save_md, cache.load_md，存在md文件下，点开可读\n",
    "# cache.save_json('outline1/test1') 可构建二级目录"
   ]
  },
  {
   "cell_type": "code",
   "execution_count": null,
   "metadata": {},
   "outputs": [],
   "source": [
    "from apps.projects.tiptap.helpers import TiptapUtils\n",
    "tender_file_extraction_L2 = cache.load_json('tender_file_extraction_L2')\n",
    "print(TiptapUtils.print_headings(tender_file_extraction_L2))"
   ]
  },
  {
   "cell_type": "markdown",
   "metadata": {},
   "source": [
    "#### <font color=\"red\"> 1. 准备图表分析数据</font>"
   ]
  },
  {
   "cell_type": "code",
   "execution_count": 3,
   "metadata": {},
   "outputs": [],
   "source": [
    "# extract tables 已经用在了outline_analysis_tb.py 的 prepare_context 中 \n",
    "# from apps.projects.tiptap.helpers import TiptapUtils\n",
    "# tables, index_path_map = TiptapUtils.extract_tables_to_markdown(tender_file_extraction_L2)\n",
    "# pprint(tables[0][\"markdown\"])"
   ]
  },
  {
   "cell_type": "code",
   "execution_count": 3,
   "metadata": {},
   "outputs": [],
   "source": [
    "# 集成时，用以下代替，模型传参 会先存储到数据库。\n",
    "from apps.projects.services.tasks_preparation.outline_analysis_tb import OutlineAnalysisTb\n",
    "# #获取LLM分析相关数据\n",
    "data_cooker_tb = OutlineAnalysisTb(tender_file_extraction_L2)\n",
    "model_params_tb, tasks_tb, meta_tb = data_cooker_tb.output_params()\n",
    "# # 模拟的prompt, \n",
    "simulated_prompts_tb, formatted_messages_tb = data_cooker_tb.simulate_prompt()\n",
    "cache.save_json('outline_analysis_tb/model_params_tb', model_params_tb)\n",
    "cache.save_json('outline_analysis_tb/tasks_tb', tasks_tb)\n",
    "cache.save_json('outline_analysis_tb/meta_tb', meta_tb)\n",
    "cache.save_json('outline_analysis_tb/formatted_messages_tb', formatted_messages_tb)"
   ]
  },
  {
   "cell_type": "code",
   "execution_count": null,
   "metadata": {},
   "outputs": [],
   "source": [
    "pprint(tasks_tb[2])"
   ]
  },
  {
   "cell_type": "markdown",
   "metadata": {},
   "source": [
    "#### <font color=\"red\"> 2. 执行图表分析</font>"
   ]
  },
  {
   "cell_type": "code",
   "execution_count": null,
   "metadata": {},
   "outputs": [],
   "source": [
    "# 构建LLM分析器 并 分析\n",
    "from apps.projects.services.LLM_service.LLMcontainer import LLMService\n",
    "analyzer = LLMService(model_params_tb)\n",
    "outlines_tb = await analyzer.process_with_limit(tasks_tb, limit=5)\n",
    "pprint(outlines_tb)"
   ]
  },
  {
   "cell_type": "code",
   "execution_count": null,
   "metadata": {},
   "outputs": [],
   "source": [
    "# 将图表分析输出的结果 进行标记清洗 和 合并， 输出JSON dict 格式\n",
    "from apps.projects.services.task_service import process_concurrent_JSON_outputs\n",
    "cleaned_outlines_tb = process_concurrent_JSON_outputs(outlines_tb)\n",
    "pprint(cleaned_outlines_tb)\n",
    "cache.save_json('outline_analysis_tb/outlines_tb', cleaned_outlines_tb)"
   ]
  },
  {
   "cell_type": "markdown",
   "metadata": {},
   "source": [
    "#### <font color=\"red\"> 2. 应用图表目录，构建增强型目录结构</font>"
   ]
  },
  {
   "cell_type": "code",
   "execution_count": 2,
   "metadata": {},
   "outputs": [],
   "source": [
    "# 应用outline_L1分析结果，数据准备： outline_L1, index_path_map_l1, tender_file_extraction \n",
    "import json\n",
    "captions = cache.load_json('outline_analysis_tb/outlines_tb')\n",
    "meta_tb = cache.load_json('outline_analysis_tb/meta_tb')\n",
    "tender_file_extraction_L2 = cache.load_json('tender_file_extraction_L2')\n",
    "index_path_map_tb = meta_tb['index_path_map']"
   ]
  },
  {
   "cell_type": "code",
   "execution_count": null,
   "metadata": {},
   "outputs": [],
   "source": [
    "# 给节点添加caption note\n",
    "from apps.projects.tiptap.helpers import TiptapUtils\n",
    "updated_tiptap_content = TiptapUtils.add_captions_to_nodes(tender_file_extraction_L2, captions, index_path_map_tb)\n",
    "pprint(updated_tiptap_content)\n",
    "cache.save_json('tender_file_extraction_L3', updated_tiptap_content)"
   ]
  },
  {
   "cell_type": "code",
   "execution_count": null,
   "metadata": {},
   "outputs": [],
   "source": [
    "#打印 增加型文档大纲框架 \n",
    "from apps.projects.tiptap.helpers import TiptapUtils\n",
    "result=TiptapUtils.print_enhanced_toc(updated_tiptap_content)\n",
    "print(result)"
   ]
  },
  {
   "cell_type": "markdown",
   "metadata": {},
   "source": [
    "#### <font color=\"red\"> 3. 添加前言标题</font>"
   ]
  },
  {
   "cell_type": "code",
   "execution_count": null,
   "metadata": {},
   "outputs": [],
   "source": [
    "tender_file_extraction_L3 = cache.load_json('tender_file_extraction_L3')\n",
    "pprint(tender_file_extraction_L3)"
   ]
  },
  {
   "cell_type": "code",
   "execution_count": null,
   "metadata": {},
   "outputs": [],
   "source": [
    "from apps.projects.tiptap.helpers import TiptapUtils\n",
    "updated_tiptap_content = TiptapUtils.add_introduction_headings(tender_file_extraction_L3)\n",
    "pprint(updated_tiptap_content)\n",
    "cache.save_json('tender_file_extraction_L4', updated_tiptap_content)"
   ]
  },
  {
   "cell_type": "markdown",
   "metadata": {},
   "source": [
    "## PART-4. 章节定位分析 "
   ]
  },
  {
   "cell_type": "code",
   "execution_count": 1,
   "metadata": {},
   "outputs": [
    {
     "name": "stdout",
     "output_type": "stream",
     "text": [
      "Settings从哪里加载？: config.settings.development\n",
      "项目根目录对么？: /home/oscarwang/BidPilot_new/backend\n",
      "文件存储settings对么？: apps.files.storage.COSStorage\n",
      "文件default_storage对么？: COSStorage\n",
      "\n",
      "已经安装的应用 Installed Apps 完整了么？:\n",
      "- django.contrib.admin\n",
      "- django.contrib.auth\n",
      "- django.contrib.contenttypes\n",
      "- django.contrib.sessions\n",
      "- django.contrib.messages\n",
      "- django.contrib.staticfiles\n",
      "- rest_framework\n",
      "- corsheaders\n",
      "- storages\n",
      "- apps.authentication\n",
      "- apps.files\n",
      "- apps.projects\n",
      "- apps.doc_analysis\n",
      "- apps.chat\n",
      "- apps.testground\n",
      "- django_filters\n",
      "- drf_spectacular\n",
      "- rest_framework_simplejwt.token_blacklist\n",
      "- django_celery_results\n",
      "- django_celery_beat\n"
     ]
    }
   ],
   "source": [
    "# 初始化\n",
    "import django_setup\n",
    "import nest_asyncio\n",
    "nest_asyncio.apply()\n",
    "# 添加cache \n",
    "# 以下要求NotebookCacheManager.py 和 cache目录都在 当前测试文件的相同目录下（在notebook目录下）\n",
    "from NotebookCacheManager import NotebookCacheManager\n",
    "cache = NotebookCacheManager(\"cache_e3\")\n",
    "\n",
    "from pprint import pprint\n",
    "\n",
    "# cache使用示例： \n",
    "# cache.save('存储文件名', 参数)，  a_loaded = cache.load('存储文件名')， 存在pkl文件下，点开为乱码\n",
    "# cache.save_json, cache.load_json, 存在json文件下，点开可读\n",
    "# cache.save_md, cache.load_md，存在md文件下，点开可读\n",
    "# cache.save_json('outline1/test1') 可构建二级目录"
   ]
  },
  {
   "cell_type": "code",
   "execution_count": 2,
   "metadata": {},
   "outputs": [
    {
     "name": "stdout",
     "output_type": "stream",
     "text": [
      "[H1] 第一章 招标公告 (path:[45])\n",
      "  [H2] 一、项目编号 (path:[47])\n",
      "  [H2] 二、采购组织类型 (path:[48])\n",
      "  [H2] 三、采购方式 (path:[49])\n",
      "  [H2] 四、招标最高限价 (path:[50])\n",
      "  [H2] 五、采购内容、数量及简要技术要求 (path:[51])\n",
      "    [表] 招标内容及相关要求 (path:[52])\n",
      "  [H2] 六、合格投标人的资格要求(本项目采用资格后审) (path:[53])\n",
      "  [H2] 七、招标公告的发布 (path:[65])\n",
      "  [H2] 八、招标文件的发售 (path:[67])\n",
      "  [H2] 九、投标保证金 (path:[75])\n",
      "  [H2] 十、投标截止时间和地点 (path:[78])\n",
      "  [H2] 十一、开标时间及地点 (path:[82])\n",
      "  [H2] 十二、评标办法 (path:[85])\n",
      "  [H2] 十三、业务咨询 (path:[86])\n",
      "[H1] 第二章 招标需求 (path:[94])\n",
      "  [H2] 前言 (path:[95])\n",
      "  [H2] 一、概述 (path:[96])\n",
      "  [H2] 二、采购内容 (path:[102])\n",
      "    [表] 一级压榨花生油招标内容及规格数量表 (path:[103])\n",
      "  [H2] 三、技术和质量要求 (path:[104])\n",
      "    [H3] 2.花生油主要技术参数 (path:[106])\n",
      "      [表] 食用油质量检测标准 (path:[107])\n",
      "    [H3] 4.样品 (path:[111])\n",
      "    [H3] *5. 送达地点 (path:[117])\n",
      "    [H3] *6. 交货时间 (path:[119])\n",
      "  [H2] 四、履约保证金 (path:[121])\n",
      "[H1] 第三章 投标人须知 (path:[124])\n",
      "  [表] 北京京铁运恒采购供应站有限公司2024年端午节物资采购项目（第一包：一级压榨花生油）招标相关要求及说明 (path:[126])\n",
      "  [H2] 一、总则 (path:[130])\n",
      "    [H3] 前言 (path:[131])\n",
      "    [H3] （一）适用范围 (path:[132])\n",
      "    [H3] （二） 定义 (path:[134])\n",
      "    [H3] （三） 招标方式 (path:[140])\n",
      "    [H3] （四）投标委托 (path:[142])\n",
      "    [H3] （五） 踏勘现场（本项目不适用）和投标费用 (path:[144])\n",
      "    [H3] （六） 联合体投标 (path:[150])\n",
      "    [H3] （七）转包 (path:[152])\n",
      "    [H3] （八）、特别说明： (path:[154])\n",
      "    [H3] （九） 质疑和投诉 (path:[157])\n",
      "  [H2] 二、招标文件 (path:[160])\n",
      "    [H3] 前言 (path:[161])\n",
      "    [H3] （一）招标文件的构成。本招标文件由以下部分组成： (path:[162])\n",
      "    [H3] （二） 投标人的风险 (path:[169])\n",
      "    [H3] （三） 招标文件的澄清与修改 (path:[171])\n",
      "    [H3] （四）、对招标文件的异议 (path:[175])\n",
      "  [H2] 三、投标文件的编制 (path:[177])\n",
      "    [H3] 前言 (path:[178])\n",
      "    [H3] （一）、投标文件的组成 (path:[179])\n",
      "    [H3] （二）、投标文件的语言及计量 (path:[210])\n",
      "    [H3] （三）、投标报价 (path:[213])\n",
      "    [H3] （四）、投标文件的有效期 (path:[215])\n",
      "    [H3] （五）、投标保证金 (path:[220])\n",
      "    [H3] （六）、投标文件的签署和份数 (path:[231])\n",
      "    [H3] （七）、投标文件的包装、递交、修改和撤回 (path:[237])\n",
      "    [H3] （八）、投标无效的情形 (path:[257])\n",
      "  [H2] 四、开标 (path:[259])\n",
      "    [H3] 前言 (path:[260])\n",
      "    [H3] （一）、开标准备 (path:[261])\n",
      "    [H3] （二）、开标程序： (path:[263])\n",
      "  [H2] 五、评标 (path:[271])\n",
      "    [H3] 前言 (path:[272])\n",
      "    [H3] （一）、组建评标委员会 (path:[273])\n",
      "    [H3] （二）、评标的方式 (path:[279])\n",
      "    [H3] （三）、评标程序 (path:[281])\n",
      "    [H3] （四）、澄清问题的形式 (path:[290])\n",
      "    [H3] （五）、错误修正 (path:[292])\n",
      "    [H3] （六）、评标原则和评标办法 (path:[296])\n",
      "  [H2] 六、定标 (path:[299])\n",
      "  [H2] 七、合同授予 (path:[303])\n",
      "  [H2] 八、履约保证金 (path:[305])\n",
      "  [H2] 九、招标代理服务费的收取 (path:[307])\n",
      "    [表] 不同中标金额区间的服务类型及费率 (path:[311])\n",
      "[H1] 第四章 评标办法及评分标准 (path:[313])\n",
      "  [H2] 前言 (path:[314])\n",
      "  [H2] 一、评标原则及顺序 (path:[315])\n",
      "  [H2] 二、评标内容及评标程序 (path:[323])\n",
      "  [H2] 三、评标方法 (path:[352])\n",
      "    [表] 投标人资格审查内容及合格条件要求 (path:[359])\n",
      "    [表] 投标文件符合性审查内容及标准 (path:[362])\n",
      "    [H3] （一）、价格分（40 分） (path:[364])\n",
      "      [表] 价格分评审标准及评分分布表 (path:[365])\n",
      "      [表] 评分标准与β值分布对应的分值及得分表 (path:[365, 1, 3, 3])\n",
      "    [H3] （二）、商务分（25 分） (path:[366])\n",
      "      [表] 评审因素及评分标准说明表格 (path:[367])\n",
      "    [H3] （三）、技术分（35 分） (path:[368])\n",
      "      [表] 评审因素及评分标准说明表格，包含食品安全卫生管理措施、配送方案、售后服务承诺、应急预案、检测报告、样品等项目的分值与评分标准。 (path:[369])\n",
      "[H1] 第五章 合同条款及格式 (path:[372])\n",
      "  [H2] 第一条 合同标的 (path:[384])\n",
      "    [表] 商品采购清单及合同总价说明 (path:[385])\n",
      "  [H2] 第二条 质量要求 (path:[386])\n",
      "  [H2] 第三条 商品的包装标准和包装物的供应与回收 (path:[393])\n",
      "  [H2] 第四条 商品交货数量的正负尾差、合理磅差和在途自然减（增）量规定等 (path:[396])\n",
      "  [H2] 第五条 商品的交货方式、交货地点和交货时间 (path:[397])\n",
      "  [H2] 第六条 验收及质保 (path:[405])\n",
      "  [H2] 第七条 所有权及风险转移 (path:[411])\n",
      "  [H2] 第八条 付款方式及质保金 (path:[413])\n",
      "  [H2] 第九条 甲方的权利义务 (path:[429])\n",
      "  [H2] 第十条 乙方的权利义务 (path:[432])\n",
      "  [H2] 第十一条 违约责任 (path:[439])\n",
      "  [H2] 第十二条 合同的变更、解除和终止 (path:[445])\n",
      "  [H2] 第十三条 保密条款 (path:[458])\n",
      "  [H2] 第十四条 不可抗力 (path:[464])\n",
      "  [H2] 第十五条 通知 (path:[469])\n",
      "  [H2] 第十六条 争议解决 (path:[479])\n",
      "  [H2] 第十七条 合同生效条件及文本数量 (path:[485])\n",
      "  [H2] 第十八条 其他约定 (path:[489])\n",
      "[H1] 第六章 投标文件格式 (path:[507])\n",
      "  [H2] 附件 1 投 标 函 (path:[521])\n",
      "  [H2] 附件 2 投标保证书 (path:[538])\n",
      "  [H2] 附件 3 无违法记录声明 (path:[546])\n",
      "  [H2] 附件 4 法定代表人授权书 (path:[554])\n",
      "  [H2] 附件 5 投标人情况简介 (path:[562])\n",
      "    [表] 投标人信息及单位概况表 (path:[564])\n",
      "  [H2] 附件 6 投标人 2021 年 1 月 1 日起至投标截止日止同类产品销售业绩表 (path:[565])\n",
      "  [H2] 附件 7 投标一览表 (path:[568])\n",
      "    [表] 一级压榨花生油投标货物信息表 (path:[571])\n",
      "  [H2] 附件 8 分项报价表 (path:[576])\n",
      "    [表] 产品及相关费用明细表 (path:[580])\n",
      "  [H2] 附件 9 投标方案 (path:[585])\n",
      "  [H2] 附件 10 投标人资格声明 (path:[595])\n",
      "  [H2] 附件 11 资格证明文件 (path:[602])\n",
      "  [H2] 附件 12 与投标人存在“单位负责人为同一人或者存在直接控股、管理关系”的其他法人单位信息 (path:[613])\n",
      "    [表] 单位关系表 (path:[616])\n",
      "  [H2] 附件 13 投标人认为必要的其他证明文件 (path:[618])\n",
      "  [H2] 附件 14 技术规格偏离表 (path:[619])\n",
      "  [H2] 附件 15 商务条款偏离表 (path:[625])\n",
      "  [H2] 附件 16 拟投入本项目的人员配备表 (path:[631])\n",
      "    [表] 项目工作人员数量统计表 (path:[633])\n",
      "  [H2] 附件 17 中标服务费承诺书 (path:[637])\n",
      "  [H2] 附件 18 关于投标保证金的声明 (path:[643])\n",
      "  [H2] 附件 19 开标会声明书 (path:[653])\n"
     ]
    }
   ],
   "source": [
    "tender_file_extraction_L4 = cache.load_json('tender_file_extraction_L4')\n",
    "# pprint(tender_file_extraction_L4)\n",
    "from apps.projects.tiptap.helpers import TiptapUtils\n",
    "result=TiptapUtils.print_enhanced_toc(tender_file_extraction_L4)\n",
    "print(result)"
   ]
  },
  {
   "cell_type": "code",
   "execution_count": 3,
   "metadata": {},
   "outputs": [],
   "source": [
    "# 集成时，用以下代替，模型传参 会先存储到数据库。\n",
    "from apps.projects.services.tasks_preparation.bid_writing_positioning import BidWritingPositioning\n",
    "# #获取LLM分析相关数据\n",
    "data_cooker_bid = BidWritingPositioning(tender_file_extraction_L4)\n",
    "model_params_bid, task_bid, meta_bid = data_cooker_bid.output_params()\n",
    "# # 模拟的prompt, \n",
    "simulated_prompts_bid, formatted_messages_bid = data_cooker_bid.simulate_prompt()\n",
    "cache.save_json('bid_writing_positioning/model_params_bid', model_params_bid)\n",
    "cache.save_json('bid_writing_positioning/tasks_bid', task_bid)\n",
    "cache.save_json('bid_writing_positioning/meta_bid', meta_bid)\n",
    "cache.save_json('bid_writing_positioning/formatted_messages_bid', formatted_messages_bid)"
   ]
  },
  {
   "cell_type": "code",
   "execution_count": 4,
   "metadata": {},
   "outputs": [
    {
     "name": "stdout",
     "output_type": "stream",
     "text": [
      "{'context': '[H1] 第一章 招标公告 (path:[45])\\n'\n",
      "            '  [H2] 一、项目编号 (path:[47])\\n'\n",
      "            '  [H2] 二、采购组织类型 (path:[48])\\n'\n",
      "            '  [H2] 三、采购方式 (path:[49])\\n'\n",
      "            '  [H2] 四、招标最高限价 (path:[50])\\n'\n",
      "            '  [H2] 五、采购内容、数量及简要技术要求 (path:[51])\\n'\n",
      "            '    [表] 招标内容及相关要求 (path:[52])\\n'\n",
      "            '  [H2] 六、合格投标人的资格要求(本项目采用资格后审) (path:[53])\\n'\n",
      "            '  [H2] 七、招标公告的发布 (path:[65])\\n'\n",
      "            '  [H2] 八、招标文件的发售 (path:[67])\\n'\n",
      "            '  [H2] 九、投标保证金 (path:[75])\\n'\n",
      "            '  [H2] 十、投标截止时间和地点 (path:[78])\\n'\n",
      "            '  [H2] 十一、开标时间及地点 (path:[82])\\n'\n",
      "            '  [H2] 十二、评标办法 (path:[85])\\n'\n",
      "            '  [H2] 十三、业务咨询 (path:[86])\\n'\n",
      "            '[H1] 第二章 招标需求 (path:[94])\\n'\n",
      "            '  [H2] 前言 (path:[95])\\n'\n",
      "            '  [H2] 一、概述 (path:[96])\\n'\n",
      "            '  [H2] 二、采购内容 (path:[102])\\n'\n",
      "            '    [表] 一级压榨花生油招标内容及规格数量表 (path:[103])\\n'\n",
      "            '  [H2] 三、技术和质量要求 (path:[104])\\n'\n",
      "            '    [H3] 2.花生油主要技术参数 (path:[106])\\n'\n",
      "            '      [表] 食用油质量检测标准 (path:[107])\\n'\n",
      "            '    [H3] 4.样品 (path:[111])\\n'\n",
      "            '    [H3] *5. 送达地点 (path:[117])\\n'\n",
      "            '    [H3] *6. 交货时间 (path:[119])\\n'\n",
      "            '  [H2] 四、履约保证金 (path:[121])\\n'\n",
      "            '[H1] 第三章 投标人须知 (path:[124])\\n'\n",
      "            '  [表] 北京京铁运恒采购供应站有限公司2024年端午节物资采购项目（第一包：一级压榨花生油）招标相关要求及说明 '\n",
      "            '(path:[126])\\n'\n",
      "            '  [H2] 一、总则 (path:[130])\\n'\n",
      "            '    [H3] 前言 (path:[131])\\n'\n",
      "            '    [H3] （一）适用范围 (path:[132])\\n'\n",
      "            '    [H3] （二） 定义 (path:[134])\\n'\n",
      "            '    [H3] （三） 招标方式 (path:[140])\\n'\n",
      "            '    [H3] （四）投标委托 (path:[142])\\n'\n",
      "            '    [H3] （五） 踏勘现场（本项目不适用）和投标费用 (path:[144])\\n'\n",
      "            '    [H3] （六） 联合体投标 (path:[150])\\n'\n",
      "            '    [H3] （七）转包 (path:[152])\\n'\n",
      "            '    [H3] （八）、特别说明： (path:[154])\\n'\n",
      "            '    [H3] （九） 质疑和投诉 (path:[157])\\n'\n",
      "            '  [H2] 二、招标文件 (path:[160])\\n'\n",
      "            '    [H3] 前言 (path:[161])\\n'\n",
      "            '    [H3] （一）招标文件的构成。本招标文件由以下部分组成： (path:[162])\\n'\n",
      "            '    [H3] （二） 投标人的风险 (path:[169])\\n'\n",
      "            '    [H3] （三） 招标文件的澄清与修改 (path:[171])\\n'\n",
      "            '    [H3] （四）、对招标文件的异议 (path:[175])\\n'\n",
      "            '  [H2] 三、投标文件的编制 (path:[177])\\n'\n",
      "            '    [H3] 前言 (path:[178])\\n'\n",
      "            '    [H3] （一）、投标文件的组成 (path:[179])\\n'\n",
      "            '    [H3] （二）、投标文件的语言及计量 (path:[210])\\n'\n",
      "            '    [H3] （三）、投标报价 (path:[213])\\n'\n",
      "            '    [H3] （四）、投标文件的有效期 (path:[215])\\n'\n",
      "            '    [H3] （五）、投标保证金 (path:[220])\\n'\n",
      "            '    [H3] （六）、投标文件的签署和份数 (path:[231])\\n'\n",
      "            '    [H3] （七）、投标文件的包装、递交、修改和撤回 (path:[237])\\n'\n",
      "            '    [H3] （八）、投标无效的情形 (path:[257])\\n'\n",
      "            '  [H2] 四、开标 (path:[259])\\n'\n",
      "            '    [H3] 前言 (path:[260])\\n'\n",
      "            '    [H3] （一）、开标准备 (path:[261])\\n'\n",
      "            '    [H3] （二）、开标程序： (path:[263])\\n'\n",
      "            '  [H2] 五、评标 (path:[271])\\n'\n",
      "            '    [H3] 前言 (path:[272])\\n'\n",
      "            '    [H3] （一）、组建评标委员会 (path:[273])\\n'\n",
      "            '    [H3] （二）、评标的方式 (path:[279])\\n'\n",
      "            '    [H3] （三）、评标程序 (path:[281])\\n'\n",
      "            '    [H3] （四）、澄清问题的形式 (path:[290])\\n'\n",
      "            '    [H3] （五）、错误修正 (path:[292])\\n'\n",
      "            '    [H3] （六）、评标原则和评标办法 (path:[296])\\n'\n",
      "            '  [H2] 六、定标 (path:[299])\\n'\n",
      "            '  [H2] 七、合同授予 (path:[303])\\n'\n",
      "            '  [H2] 八、履约保证金 (path:[305])\\n'\n",
      "            '  [H2] 九、招标代理服务费的收取 (path:[307])\\n'\n",
      "            '    [表] 不同中标金额区间的服务类型及费率 (path:[311])\\n'\n",
      "            '[H1] 第四章 评标办法及评分标准 (path:[313])\\n'\n",
      "            '  [H2] 前言 (path:[314])\\n'\n",
      "            '  [H2] 一、评标原则及顺序 (path:[315])\\n'\n",
      "            '  [H2] 二、评标内容及评标程序 (path:[323])\\n'\n",
      "            '  [H2] 三、评标方法 (path:[352])\\n'\n",
      "            '    [表] 投标人资格审查内容及合格条件要求 (path:[359])\\n'\n",
      "            '    [表] 投标文件符合性审查内容及标准 (path:[362])\\n'\n",
      "            '    [H3] （一）、价格分（40 分） (path:[364])\\n'\n",
      "            '      [表] 价格分评审标准及评分分布表 (path:[365])\\n'\n",
      "            '      [表] 评分标准与β值分布对应的分值及得分表 (path:[365, 1, 3, 3])\\n'\n",
      "            '    [H3] （二）、商务分（25 分） (path:[366])\\n'\n",
      "            '      [表] 评审因素及评分标准说明表格 (path:[367])\\n'\n",
      "            '    [H3] （三）、技术分（35 分） (path:[368])\\n'\n",
      "            '      [表] '\n",
      "            '评审因素及评分标准说明表格，包含食品安全卫生管理措施、配送方案、售后服务承诺、应急预案、检测报告、样品等项目的分值与评分标准。 '\n",
      "            '(path:[369])\\n'\n",
      "            '[H1] 第五章 合同条款及格式 (path:[372])\\n'\n",
      "            '  [H2] 第一条 合同标的 (path:[384])\\n'\n",
      "            '    [表] 商品采购清单及合同总价说明 (path:[385])\\n'\n",
      "            '  [H2] 第二条 质量要求 (path:[386])\\n'\n",
      "            '  [H2] 第三条 商品的包装标准和包装物的供应与回收 (path:[393])\\n'\n",
      "            '  [H2] 第四条 商品交货数量的正负尾差、合理磅差和在途自然减（增）量规定等 (path:[396])\\n'\n",
      "            '  [H2] 第五条 商品的交货方式、交货地点和交货时间 (path:[397])\\n'\n",
      "            '  [H2] 第六条 验收及质保 (path:[405])\\n'\n",
      "            '  [H2] 第七条 所有权及风险转移 (path:[411])\\n'\n",
      "            '  [H2] 第八条 付款方式及质保金 (path:[413])\\n'\n",
      "            '  [H2] 第九条 甲方的权利义务 (path:[429])\\n'\n",
      "            '  [H2] 第十条 乙方的权利义务 (path:[432])\\n'\n",
      "            '  [H2] 第十一条 违约责任 (path:[439])\\n'\n",
      "            '  [H2] 第十二条 合同的变更、解除和终止 (path:[445])\\n'\n",
      "            '  [H2] 第十三条 保密条款 (path:[458])\\n'\n",
      "            '  [H2] 第十四条 不可抗力 (path:[464])\\n'\n",
      "            '  [H2] 第十五条 通知 (path:[469])\\n'\n",
      "            '  [H2] 第十六条 争议解决 (path:[479])\\n'\n",
      "            '  [H2] 第十七条 合同生效条件及文本数量 (path:[485])\\n'\n",
      "            '  [H2] 第十八条 其他约定 (path:[489])\\n'\n",
      "            '[H1] 第六章 投标文件格式 (path:[507])\\n'\n",
      "            '  [H2] 附件 1 投 标 函 (path:[521])\\n'\n",
      "            '  [H2] 附件 2 投标保证书 (path:[538])\\n'\n",
      "            '  [H2] 附件 3 无违法记录声明 (path:[546])\\n'\n",
      "            '  [H2] 附件 4 法定代表人授权书 (path:[554])\\n'\n",
      "            '  [H2] 附件 5 投标人情况简介 (path:[562])\\n'\n",
      "            '    [表] 投标人信息及单位概况表 (path:[564])\\n'\n",
      "            '  [H2] 附件 6 投标人 2021 年 1 月 1 日起至投标截止日止同类产品销售业绩表 (path:[565])\\n'\n",
      "            '  [H2] 附件 7 投标一览表 (path:[568])\\n'\n",
      "            '    [表] 一级压榨花生油投标货物信息表 (path:[571])\\n'\n",
      "            '  [H2] 附件 8 分项报价表 (path:[576])\\n'\n",
      "            '    [表] 产品及相关费用明细表 (path:[580])\\n'\n",
      "            '  [H2] 附件 9 投标方案 (path:[585])\\n'\n",
      "            '  [H2] 附件 10 投标人资格声明 (path:[595])\\n'\n",
      "            '  [H2] 附件 11 资格证明文件 (path:[602])\\n'\n",
      "            '  [H2] 附件 12 与投标人存在“单位负责人为同一人或者存在直接控股、管理关系”的其他法人单位信息 '\n",
      "            '(path:[613])\\n'\n",
      "            '    [表] 单位关系表 (path:[616])\\n'\n",
      "            '  [H2] 附件 13 投标人认为必要的其他证明文件 (path:[618])\\n'\n",
      "            '  [H2] 附件 14 技术规格偏离表 (path:[619])\\n'\n",
      "            '  [H2] 附件 15 商务条款偏离表 (path:[625])\\n'\n",
      "            '  [H2] 附件 16 拟投入本项目的人员配备表 (path:[631])\\n'\n",
      "            '    [表] 项目工作人员数量统计表 (path:[633])\\n'\n",
      "            '  [H2] 附件 17 中标服务费承诺书 (path:[637])\\n'\n",
      "            '  [H2] 附件 18 关于投标保证金的声明 (path:[643])\\n'\n",
      "            '  [H2] 附件 19 开标会声明书 (path:[653])',\n",
      " 'instruction': '\\n'\n",
      "                '我会提供招标文件的完整目录（材料A），每条标题包含层级[H1, H2, H3]、标题、位置索引(path[int])。\\n'\n",
      "                '我不希望通读整个招标文件，我只需要知道投标文件编写的要求和范围。 \\n'\n",
      "                '请根据我提供的目录，精确地为我罗列出来，我应该细读哪个或者哪些章节来获取这些内容。 \\n'\n",
      "                '\\n',\n",
      " 'output_format': '\\n'\n",
      "                  '        \\n'\n",
      "                  '- 只输出符合JSON格式的数据，不要添加解释、注释或 Markdown 标记。\\n'\n",
      "                  '- 示例：\\n'\n",
      "                  '[\\n'\n",
      "                  '    {\"path\": [int], \"level\": int, \"title\": str}, \\n'\n",
      "                  '    {\"path\": [int], \"level\": int, \"title\": str}\\n'\n",
      "                  ']\\n'\n",
      "                  '- 一个标题一条数据。\\n'\n",
      "                  '\\n',\n",
      " 'supplement': '此任务无补充内容'}\n",
      "{'context_tokens': 2923,\n",
      " 'in_tokens': 3215,\n",
      " 'index_path_map': {},\n",
      " 'instruction_tokens': 128,\n",
      " 'output_format_tokens': 74,\n",
      " 'prompt_template_tokens': 82,\n",
      " 'supplment_tokens': 8}\n"
     ]
    }
   ],
   "source": [
    "pprint(task_bid)\n",
    "pprint(meta_bid)"
   ]
  },
  {
   "cell_type": "code",
   "execution_count": null,
   "metadata": {},
   "outputs": [],
   "source": [
    "print(task_bid[\"context\"])"
   ]
  },
  {
   "cell_type": "code",
   "execution_count": 5,
   "metadata": {},
   "outputs": [
    {
     "name": "stdout",
     "output_type": "stream",
     "text": [
      "HTTP Request: POST https://dashscope.aliyuncs.com/compatible-mode/v1/chat/completions \"HTTP/1.1 200 OK\"\n",
      "[\n",
      "    {\"path\": [177], \"level\": 2, \"title\": \"三、投标文件的编制\"},\n",
      "    {\"path\": [179], \"level\": 3, \"title\": \"（一）、投标文件的组成\"},\n",
      "    {\"path\": [210], \"level\": 3, \"title\": \"（二）、投标文件的语言及计量\"},\n",
      "    {\"path\": [213], \"level\": 3, \"title\": \"（三）、投标报价\"},\n",
      "    {\"path\": [215], \"level\": 3, \"title\": \"（四）、投标文件的有效期\"},\n",
      "    {\"path\": [220], \"level\": 3, \"title\": \"（五）、投标保证金\"},\n",
      "    {\"path\": [231], \"level\": 3, \"title\": \"（六）、投标文件的签署和份数\"},\n",
      "    {\"path\": [237], \"level\": 3, \"title\": \"（七）、投标文件的包装、递交、修改和撤回\"},\n",
      "    {\"path\": [257], \"level\": 3, \"title\": \"（八）、投标无效的情形\"},\n",
      "    {\"path\": [507], \"level\": 1, \"title\": \"第六章 投标文件格式\"}\n",
      "]('[\\n'\n",
      " '    {\"path\": [177], \"level\": 2, \"title\": \"三、投标文件的编制\"},\\n'\n",
      " '    {\"path\": [179], \"level\": 3, \"title\": \"（一）、投标文件的组成\"},\\n'\n",
      " '    {\"path\": [210], \"level\": 3, \"title\": \"（二）、投标文件的语言及计量\"},\\n'\n",
      " '    {\"path\": [213], \"level\": 3, \"title\": \"（三）、投标报价\"},\\n'\n",
      " '    {\"path\": [215], \"level\": 3, \"title\": \"（四）、投标文件的有效期\"},\\n'\n",
      " '    {\"path\": [220], \"level\": 3, \"title\": \"（五）、投标保证金\"},\\n'\n",
      " '    {\"path\": [231], \"level\": 3, \"title\": \"（六）、投标文件的签署和份数\"},\\n'\n",
      " '    {\"path\": [237], \"level\": 3, \"title\": \"（七）、投标文件的包装、递交、修改和撤回\"},\\n'\n",
      " '    {\"path\": [257], \"level\": 3, \"title\": \"（八）、投标无效的情形\"},\\n'\n",
      " '    {\"path\": [507], \"level\": 1, \"title\": \"第六章 投标文件格式\"}\\n'\n",
      " ']')\n"
     ]
    }
   ],
   "source": [
    "# 构建LLM分析器 并 分析\n",
    "from apps.projects.services.LLM_service.LLMcontainer import LLMService\n",
    "analyzer = LLMService(model_params_bid)\n",
    "outlines_bid = await analyzer.process(task_bid)\n",
    "pprint(outlines_bid)"
   ]
  }
 ],
 "metadata": {
  "kernelspec": {
   "display_name": "bid_dev",
   "language": "python",
   "name": "python3"
  },
  "language_info": {
   "codemirror_mode": {
    "name": "ipython",
    "version": 3
   },
   "file_extension": ".py",
   "mimetype": "text/x-python",
   "name": "python",
   "nbconvert_exporter": "python",
   "pygments_lexer": "ipython3",
   "version": "3.12.9"
  }
 },
 "nbformat": 4,
 "nbformat_minor": 2
}
