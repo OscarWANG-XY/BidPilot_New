{
 "cells": [
  {
   "cell_type": "code",
   "execution_count": 15,
   "metadata": {},
   "outputs": [],
   "source": [
    "import django_setup"
   ]
  },
  {
   "cell_type": "code",
   "execution_count": 16,
   "metadata": {},
   "outputs": [],
   "source": [
    "from apps.testground.models import testground\n",
    "testmodel = testground.objects.get(id=1)\n",
    "testmodel.tiptap_content = \"\"\n",
    "testmodel.save()\n"
   ]
  },
  {
   "cell_type": "code",
   "execution_count": null,
   "metadata": {},
   "outputs": [],
   "source": [
    "from pprint import pprint\n",
    "print(testmodel.tiptap_content)\n",
    "pprint(testmodel.tiptap_content)"
   ]
  },
  {
   "cell_type": "code",
   "execution_count": 18,
   "metadata": {},
   "outputs": [],
   "source": [
    "#doc_path = \"C:/Users/huiwa/Downloads/文本分析测试/test_files/parts_chp1.docx\"\n",
    "#doc_path = \"C:/Users/huiwa/Downloads/文本分析测试/test_files/parts_doc_chap3 - 4pages.docx\"\n",
    "#doc_path = \"C:/Users/huiwa/Downloads/文本分析测试/caseTest/Case6_中国区零食包框架供应商采购项目招采文件.docx\"\n",
    "doc_path = \"C:/Users/huiwa/Downloads/文本分析测试/test_files/parts_doc_chap3 - 1pages_无嵌套 .docx\"\n",
    "#doc_path = \"C:/Users/huiwa/Downloads/文本分析测试/test_files/parts_doc_chap3 - 1pages_有嵌套 .docx\"\n"
   ]
  },
  {
   "cell_type": "code",
   "execution_count": null,
   "metadata": {},
   "outputs": [],
   "source": [
    "from apps._tools.docx_parser.pipeline import DocxParserPipeline\n",
    "pipeline = DocxParserPipeline(doc_path)\n",
    "# pipeline.load()\n",
    "# pipeline.parse()\n",
    "tiptap_content = pipeline.load().parse().to_tiptap_json()\n",
    "\n"
   ]
  },
  {
   "cell_type": "code",
   "execution_count": null,
   "metadata": {},
   "outputs": [],
   "source": [
    "from pprint import pprint\n",
    "pprint(tiptap_content)"
   ]
  },
  {
   "cell_type": "code",
   "execution_count": 21,
   "metadata": {},
   "outputs": [],
   "source": [
    "# testmodel.tiptap_content = tiptap_content\n",
    "# testmodel.save()"
   ]
  },
  {
   "cell_type": "code",
   "execution_count": 22,
   "metadata": {},
   "outputs": [],
   "source": [
    "import json\n",
    "tiptap_content_str = json.dumps(tiptap_content, indent=2, ensure_ascii=False)"
   ]
  },
  {
   "cell_type": "code",
   "execution_count": null,
   "metadata": {},
   "outputs": [],
   "source": [
    "print(tiptap_content_str)\n",
    "pprint(tiptap_content_str)"
   ]
  },
  {
   "cell_type": "code",
   "execution_count": 24,
   "metadata": {},
   "outputs": [],
   "source": [
    "testmodel.tiptap_content = tiptap_content_str\n",
    "testmodel.save()"
   ]
  },
  {
   "cell_type": "code",
   "execution_count": null,
   "metadata": {},
   "outputs": [],
   "source": [
    "print(testmodel.tiptap_content)\n",
    "pprint(testmodel.tiptap_content)"
   ]
  }
 ],
 "metadata": {
  "kernelspec": {
   "display_name": "BidPilot_new_env",
   "language": "python",
   "name": "python3"
  },
  "language_info": {
   "codemirror_mode": {
    "name": "ipython",
    "version": 3
   },
   "file_extension": ".py",
   "mimetype": "text/x-python",
   "name": "python",
   "nbconvert_exporter": "python",
   "pygments_lexer": "ipython3",
   "version": "3.12.1"
  }
 },
 "nbformat": 4,
 "nbformat_minor": 2
}
