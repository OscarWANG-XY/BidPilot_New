{
 "cells": [
  {
   "cell_type": "code",
   "execution_count": 1,
   "metadata": {},
   "outputs": [],
   "source": [
    "# 相关包与其路径初配置\n",
    "import sys\n",
    "from pathlib import Path\n",
    "\n",
    "# 获取当前文件的路径\n",
    "current_path = Path().absolute()\n",
    "# 添加项目根目录（包含 docx_parser 和 llm_structuring 的目录）到系统路径\n",
    "root_path = current_path.parent.parent.parent\n",
    "sys.path.append(str(root_path))\n",
    "\n",
    "from doc_analysis.docx_parser.pipeline import DocxParserPipeline"
   ]
  },
  {
   "cell_type": "code",
   "execution_count": 2,
   "metadata": {},
   "outputs": [],
   "source": [
    "#doc_path = \"C:/Users/huiwa/Downloads/文本分析测试/CaseTest/case3_北京铁运投标人须知.docx\"\n",
    "#doc_path = \"C:/Users/huiwa/Downloads/文本分析测试/CaseTest/case3st_北京铁运投标人须知.docx\"\n",
    "#doc_path = \"C:/Users/huiwa/Downloads/文本分析测试/CaseTest/case 9 _样式测试.docx\"\n",
    "doc_path = \"C:/Users/huiwa/Downloads/文本分析测试/CaseTest/case8：招标文件-第1包：一级压榨花生油.docx\"\n",
    "#doc_path = \"C:/Users/huiwa/Documents/_CursorChat_Extra/Langchain_Jupyter/.LoRA微调/招标文件_微调库/WORD/[2].docx\"\n",
    "#doc_path = \"C:/Users/huiwa/Downloads/文本分析测试/CaseTest/Case6_中国区零食包框架供应商采购项目招采文件.docx\"\n"
   ]
  },
  {
   "cell_type": "markdown",
   "metadata": {},
   "source": [
    "#### 整体执行"
   ]
  },
  {
   "cell_type": "code",
   "execution_count": null,
   "metadata": {},
   "outputs": [],
   "source": [
    "# 基本用法\n",
    "pipeline = DocxParserPipeline(doc_path)\n",
    "elements = pipeline.process()"
   ]
  },
  {
   "cell_type": "code",
   "execution_count": null,
   "metadata": {},
   "outputs": [],
   "source": [
    "from pprint import pprint\n",
    "for elem in elements:\n",
    "    elem_dict = elem.__dict__.copy()  # 创建元素属性的副本\n",
    "    elem_dict.pop('raw_xml', None)    # 移除raw_xml属性\n",
    "    pprint(elem_dict)"
   ]
  },
  {
   "cell_type": "markdown",
   "metadata": {},
   "source": [
    "#### 分步执行"
   ]
  },
  {
   "cell_type": "code",
   "execution_count": 5,
   "metadata": {},
   "outputs": [],
   "source": [
    "pipeline = DocxParserPipeline(doc_path)"
   ]
  },
  {
   "cell_type": "code",
   "execution_count": null,
   "metadata": {},
   "outputs": [],
   "source": [
    "pipeline.load()"
   ]
  },
  {
   "cell_type": "code",
   "execution_count": null,
   "metadata": {},
   "outputs": [],
   "source": [
    "pipeline.parse()"
   ]
  },
  {
   "cell_type": "code",
   "execution_count": null,
   "metadata": {},
   "outputs": [],
   "source": [
    "pipeline.extract()"
   ]
  },
  {
   "cell_type": "markdown",
   "metadata": {},
   "source": [
    "#### 获取特定类型的元素"
   ]
  },
  {
   "cell_type": "code",
   "execution_count": null,
   "metadata": {},
   "outputs": [],
   "source": [
    "paragraphs = pipeline.get_paragraphs()\n",
    "for p in paragraphs:\n",
    "    print(p.sequence_number,p.content)\n",
    "\n",
    "\n",
    "#from pprint import pprint\n",
    "#pprint(paragraphs)"
   ]
  },
  {
   "cell_type": "code",
   "execution_count": null,
   "metadata": {},
   "outputs": [],
   "source": [
    "tables = pipeline.get_tables()\n",
    "for t in tables:\n",
    "    print(t.sequence_number,t.content)\n",
    "\n",
    "#from pprint import pprint\n",
    "#pprint(tables)"
   ]
  },
  {
   "cell_type": "code",
   "execution_count": null,
   "metadata": {},
   "outputs": [],
   "source": [
    "headings = pipeline.get_headings()\n",
    "for h in headings:\n",
    "    indent = \"    \" * (h.heading_level - 1)\n",
    "    print(f\"{indent}{h.sequence_number} {h.content}\")\n",
    "\n",
    "#from pprint import pprint\n",
    "#pprint(headings)"
   ]
  },
  {
   "cell_type": "code",
   "execution_count": null,
   "metadata": {},
   "outputs": [],
   "source": [
    "toc_entries = pipeline.get_toc_entries()\n",
    "for t in toc_entries:\n",
    "    indent = \"    \" * (t.toc_info['toc_level'] - 1)\n",
    "    print(f\"{indent}{t.sequence_number} {t.content}  {t.toc_info['page_number']}\")\n",
    "\n",
    "#from pprint import pprint\n",
    "#pprint(toc_entries)"
   ]
  }
 ],
 "metadata": {
  "kernelspec": {
   "display_name": "BidPilot_new_env",
   "language": "python",
   "name": "python3"
  },
  "language_info": {
   "codemirror_mode": {
    "name": "ipython",
    "version": 3
   },
   "file_extension": ".py",
   "mimetype": "text/x-python",
   "name": "python",
   "nbconvert_exporter": "python",
   "pygments_lexer": "ipython3",
   "version": "3.12.1"
  }
 },
 "nbformat": 4,
 "nbformat_minor": 2
}
