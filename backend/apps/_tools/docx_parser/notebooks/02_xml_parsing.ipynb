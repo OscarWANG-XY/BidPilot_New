{
 "cells": [
  {
   "cell_type": "code",
   "execution_count": 2,
   "metadata": {},
   "outputs": [],
   "source": [
    "# 相关包与其路径初配置\n",
    "import sys\n",
    "from pathlib import Path\n",
    "\n",
    "# 获取当前文件的路径\n",
    "current_path = Path().absolute()\n",
    "# 添加项目根目录（包含 docx_parser 和 llm_structuring 的目录）到系统路径\n",
    "root_path = current_path.parent.parent.parent\n",
    "sys.path.append(str(root_path))"
   ]
  },
  {
   "cell_type": "code",
   "execution_count": null,
   "metadata": {},
   "outputs": [],
   "source": [
    "# 重新导入模块\n",
    "from doc_analysis.docx_parser._01_xml_loader import DocxXMLLoader\n",
    "from doc_analysis.docx_parser._02_xml_parser import DocxXMLParser\n"
   ]
  },
  {
   "cell_type": "code",
   "execution_count": 4,
   "metadata": {},
   "outputs": [],
   "source": [
    "#doc_path = \"C:/Users/huiwa/Downloads/文本分析测试/CaseTest/case3_北京铁运投标人须知.docx\"\n",
    "doc_path = \"C:/Users/huiwa/Downloads/文本分析测试/CaseTest/case8：招标文件-第1包：一级压榨花生油.docx\"\n",
    "#doc_path = \"C:/Users/huiwa/Downloads/文本分析测试/CaseTest/case 9 _样式测试.docx\"\n",
    "#doc_path = \"C:/Users/huiwa/Documents/_CursorChat_Extra/Langchain_Jupyter/.LoRA微调/招标文件_微调库/WORD/[1].docx\"\n",
    "#doc_path = \"C:/Users/huiwa/Downloads/文本分析测试/CaseTest/Case6_中国区零食包框架供应商采购项目招采文件.docx\""
   ]
  },
  {
   "cell_type": "code",
   "execution_count": 5,
   "metadata": {},
   "outputs": [
    {
     "name": "stderr",
     "output_type": "stream",
     "text": [
      "2025-02-13 14:51:25,983 - doc_analysis.docx_parser._01_xml_loader - INFO - 从 C:\\Users\\huiwa\\Downloads\\文本分析测试\\CaseTest\\case8：招标文件-第1包：一级压榨花生油.docx 成功提取 raw XML content\n"
     ]
    }
   ],
   "source": [
    "# 1. 加载文档\n",
    "loader = DocxXMLLoader(doc_path)\n",
    "raw_content = loader.extract_raw()"
   ]
  },
  {
   "cell_type": "code",
   "execution_count": 6,
   "metadata": {},
   "outputs": [
    {
     "name": "stderr",
     "output_type": "stream",
     "text": [
      "2025-02-13 14:51:27,580 - doc_analysis.docx_parser._02_xml_parser - INFO - Successfully parsed XML content\n",
      "2025-02-13 14:51:27,580 - doc_analysis.docx_parser._02_xml_parser - INFO - DocxXMLParser initialized successfully\n"
     ]
    }
   ],
   "source": [
    "# 2. 创建解析器\n",
    "parser = DocxXMLParser(raw_content)"
   ]
  },
  {
   "cell_type": "code",
   "execution_count": 7,
   "metadata": {},
   "outputs": [
    {
     "data": {
      "text/plain": [
       "doc_analysis.docx_parser._02_xml_parser.DocxXMLParser"
      ]
     },
     "execution_count": 7,
     "metadata": {},
     "output_type": "execute_result"
    }
   ],
   "source": [
    "type(parser)"
   ]
  },
  {
   "cell_type": "code",
   "execution_count": 8,
   "metadata": {},
   "outputs": [
    {
     "name": "stdout",
     "output_type": "stream",
     "text": [
      "\n",
      "=== XPath查询测试 ===\n",
      "找到的段落数量: 2143\n",
      "\n",
      "第一个段落的文本: ...\n"
     ]
    }
   ],
   "source": [
    "# 3. 测试基础XPath查询功能\n",
    "print(\"\\n=== XPath查询测试 ===\")\n",
    "\n",
    "# 测试段落查询\n",
    "paragraphs = parser.xpath('//w:p')\n",
    "print(f\"找到的段落数量: {len(paragraphs)}\")\n",
    "\n",
    "# 如果有段落，显示第一个段落的文本\n",
    "if paragraphs:\n",
    "    first_para_text = parser.get_element_text(paragraphs[0])\n",
    "    print(f\"\\n第一个段落的文本: {first_para_text[:100]}...\")  # 只显示前100个字符"
   ]
  },
  {
   "cell_type": "code",
   "execution_count": 9,
   "metadata": {},
   "outputs": [
    {
     "name": "stdout",
     "output_type": "stream",
     "text": [
      "\n",
      "找到的样式数量: 7\n",
      "样式ID: 1\n",
      "样式ID: 5\n",
      "样式ID: 3\n",
      "样式ID: 2\n",
      "样式ID: 4\n"
     ]
    }
   ],
   "source": [
    "# 4. 测试样式查询\n",
    "if parser.styles is not None:\n",
    "    styles = parser.xpath('//w:style', parser.styles)\n",
    "    print(f\"\\n找到的样式数量: {len(styles)}\")\n",
    "    \n",
    "    # 显示样式ID\n",
    "    for style in styles[:5]:  # 只显示前5个样式\n",
    "        style_id = parser.get_attribute(style, 'styleId')\n",
    "        print(f\"样式ID: {style_id}\")\n"
   ]
  },
  {
   "cell_type": "code",
   "execution_count": 10,
   "metadata": {},
   "outputs": [
    {
     "name": "stdout",
     "output_type": "stream",
     "text": [
      "\n",
      "=== 文档结构测试 ===\n",
      "节数量: 63\n",
      "表格数量: 25\n",
      "图片数量: 1\n",
      "图表数量: 0\n"
     ]
    }
   ],
   "source": [
    "# 5. 测试文档结构\n",
    "print(\"\\n=== 文档结构测试 ===\")\n",
    "sections = parser.xpath('//w:sectPr')\n",
    "tables = parser.xpath('//w:tbl')\n",
    "pictures = parser.xpath('//pic:pic')\n",
    "charts = parser.xpath('//c:chart')\n",
    "\n",
    "print(f\"节数量: {len(sections)}\")\n",
    "print(f\"表格数量: {len(tables)}\")\n",
    "print(f\"图片数量: {len(pictures)}\")\n",
    "print(f\"图表数量: {len(charts)}\")"
   ]
  },
  {
   "cell_type": "code",
   "execution_count": 13,
   "metadata": {},
   "outputs": [],
   "source": [
    "from typing import Dict, Any \n",
    "def print_tree(tree: Dict[str, Any], indent: str = '') -> None:\n",
    "    \"\"\"格式化打印结构树\"\"\"\n",
    "    if isinstance(tree, dict):\n",
    "        for key, value in tree.items():\n",
    "            if key in ['document', 'styles', 'numbering']:\n",
    "                print(f\"\\n{indent}=== {key.upper()} ===\")\n",
    "                print_tree(value, indent)\n",
    "            elif key == 'tag':\n",
    "                print(f\"\\n{indent}{value}\", end='')\n",
    "            elif key == 'attributes' and value:\n",
    "                print(f\" ({', '.join(f'{k}={v}' for k, v in value.items())})\", end='')\n",
    "            elif key == 'children':\n",
    "                for child in value:\n",
    "                    print_tree(child, indent + '  ')\n",
    "            elif key == 'children_count':\n",
    "                print(f\" [total: {value}]\", end='')\n",
    "            elif key == 'note':\n",
    "                print(f\"\\n{indent}  {value}\")"
   ]
  },
  {
   "cell_type": "code",
   "execution_count": 14,
   "metadata": {},
   "outputs": [
    {
     "name": "stdout",
     "output_type": "stream",
     "text": [
      "=== 文档结构树 ===\n",
      "\n",
      "=== DOCUMENT ===\n",
      "\n",
      "document (Ignorable=w14 w15 wp14) [total: 1]\n",
      "  body [total: 889]\n",
      "    p (paraId=6E013A57) [total: 1]\n",
      "      pPr [total: 2]\n",
      "        spacing (line=256, lineRule=auto)\n",
      "        rPr [total: 2]\n",
      "          rFonts (ascii=Arial)\n",
      "          sz (val=21)\n",
      "    p (paraId=560195EE) [total: 1]\n",
      "      pPr [total: 2]\n",
      "        spacing (line=256, lineRule=auto)\n",
      "        rPr [total: 2]\n",
      "          rFonts (ascii=Arial)\n",
      "          sz (val=21)\n",
      "    p (paraId=5D6E8FBC) [total: 1]\n",
      "      pPr [total: 2]\n",
      "        spacing (line=257, lineRule=auto)\n",
      "        rPr [total: 2]\n",
      "          rFonts (ascii=Arial)\n",
      "          sz (val=21)\n",
      "    p (paraId=551EBE2B) [total: 1]\n",
      "      pPr [total: 2]\n",
      "        spacing (line=257, lineRule=auto)\n",
      "        rPr [total: 2]\n",
      "          rFonts (ascii=Arial)\n",
      "          sz (val=21)\n",
      "    p (paraId=4C2906CD) [total: 1]\n",
      "      pPr [total: 2]\n",
      "        spacing (line=257, lineRule=auto)\n",
      "        rPr [total: 2]\n",
      "          rFonts (ascii=Arial)\n",
      "          sz (val=21)\n",
      "    p (paraId=66779002) [total: 6]\n",
      "      pPr [total: 5]\n",
      "        pStyle (val=2)\n",
      "        spacing (before=139, line=295, lineRule=auto)\n",
      "        ind (left=1733, right=805, hanging=581)\n",
      "        outlineLvl (val=0)\n",
      "        rPr [total: 2]\n",
      "          sz (val=43)\n",
      "          szCs (val=43)\n",
      "      r [total: 2]\n",
      "        rPr [total: 5]\n",
      "          b\n",
      "          bCs\n",
      "          spacing (val=-10)\n",
      "          sz (val=43)\n",
      "          szCs (val=43)\n",
      "        t\n",
      "      r [total: 2]\n",
      "        rPr [total: 3]\n",
      "          spacing (val=8)\n",
      "          sz (val=43)\n",
      "          szCs (val=43)\n",
      "        t (space=preserve)\n",
      "      r [total: 2]\n",
      "        rPr [total: 5]\n",
      "          b\n",
      "          bCs\n",
      "          spacing (val=-10)\n",
      "          sz (val=43)\n",
      "          szCs (val=43)\n",
      "        t\n",
      "      r [total: 2]\n",
      "        rPr [total: 3]\n",
      "          spacing (val=-84)\n",
      "          sz (val=43)\n",
      "          szCs (val=43)\n",
      "        t (space=preserve)\n",
      "      r [total: 2]\n",
      "        rPr [total: 5]\n",
      "          b\n",
      "          bCs\n",
      "          spacing (val=-10)\n",
      "          sz (val=43)\n",
      "          szCs (val=43)\n",
      "        t\n",
      "    p (paraId=2790D0EA) [total: 1]\n",
      "      pPr [total: 2]\n",
      "        spacing (line=259, lineRule=auto)\n",
      "        rPr [total: 2]\n",
      "          rFonts (ascii=Arial)\n",
      "          sz (val=21)\n",
      "    p (paraId=30E03677) [total: 1]\n",
      "      pPr [total: 2]\n",
      "        spacing (line=260, lineRule=auto)\n",
      "        rPr [total: 2]\n",
      "          rFonts (ascii=Arial)\n",
      "          sz (val=21)\n",
      "    p (paraId=558B8639) [total: 1]\n",
      "      pPr [total: 2]\n",
      "        spacing (line=260, lineRule=auto)\n",
      "        rPr [total: 2]\n",
      "          rFonts (ascii=Arial)\n",
      "          sz (val=21)\n",
      "    p (paraId=3CA665EF) [total: 1]\n",
      "      pPr [total: 2]\n",
      "        spacing (line=260, lineRule=auto)\n",
      "        rPr [total: 2]\n",
      "          rFonts (ascii=Arial)\n",
      "          sz (val=21)\n",
      "    ...\n",
      "      879 more items\n",
      "\n",
      "=== STYLES ===\n",
      "\n",
      "styles (Ignorable=w14) [total: 9]\n",
      "  docDefaults [total: 2]\n",
      "    rPrDefault [total: 1]\n",
      "      rPr [total: 1]\n",
      "        rFonts (ascii=Arial, hAnsi=Arial, eastAsia=Arial, cs=Arial)\n",
      "    pPrDefault\n",
      "  latentStyles (count=260, defQFormat=0, defUnhideWhenUsed=1, defSemiHidden=1, defUIPriority=99, defLockedState=0) [total: 248]\n",
      "    lsdException (qFormat=1, unhideWhenUsed=0, uiPriority=0, name=Normal)\n",
      "    lsdException (qFormat=1, unhideWhenUsed=0, uiPriority=0, semiHidden=0, name=heading 1)\n",
      "    lsdException (qFormat=1, uiPriority=0, name=heading 2)\n",
      "    lsdException (qFormat=1, uiPriority=0, name=heading 3)\n",
      "    lsdException (qFormat=1, uiPriority=0, name=heading 4)\n",
      "    lsdException (qFormat=1, uiPriority=0, name=heading 5)\n",
      "    lsdException (qFormat=1, uiPriority=0, name=heading 6)\n",
      "    lsdException (qFormat=1, uiPriority=0, name=heading 7)\n",
      "    lsdException (qFormat=1, uiPriority=0, name=heading 8)\n",
      "    lsdException (qFormat=1, uiPriority=0, name=heading 9)\n",
      "    ...\n",
      "      238 more items\n",
      "\n",
      "  style (type=paragraph, default=1, styleId=1) [total: 6]\n",
      "    name (val=Normal)\n",
      "    semiHidden\n",
      "    qFormat\n",
      "    uiPriority (val=0)\n",
      "    pPr [total: 8]\n",
      "      kinsoku (val=0)\n",
      "      autoSpaceDE (val=0)\n",
      "      autoSpaceDN (val=0)\n",
      "      adjustRightInd (val=0)\n",
      "      snapToGrid (val=0)\n",
      "      spacing (line=240, lineRule=auto)\n",
      "      jc (val=left)\n",
      "      textAlignment (val=baseline)\n",
      "    rPr [total: 7]\n",
      "      rFonts (ascii=Arial, hAnsi=Arial, eastAsia=Arial, cs=Arial)\n",
      "      snapToGrid (val=0)\n",
      "      color (val=000000)\n",
      "      kern (val=0)\n",
      "      sz (val=21)\n",
      "      szCs (val=21)\n",
      "      lang (val=en-US, eastAsia=en-US, bidi=ar-SA)\n",
      "  style (type=character, default=1, styleId=5) [total: 4]\n",
      "    name (val=Default Paragraph Font)\n",
      "    semiHidden\n",
      "    qFormat\n",
      "    uiPriority (val=0)\n",
      "  style (type=table, default=1, styleId=3) [total: 5]\n",
      "    name (val=Normal Table)\n",
      "    semiHidden\n",
      "    qFormat\n",
      "    uiPriority (val=0)\n",
      "    tblPr [total: 1]\n",
      "      tblCellMar [total: 4]\n",
      "        top (w=0, type=dxa)\n",
      "        left (w=108, type=dxa)\n",
      "        bottom (w=0, type=dxa)\n",
      "        right (w=108, type=dxa)\n",
      "  style (type=paragraph, styleId=2) [total: 6]\n",
      "    name (val=Body Text)\n",
      "    basedOn (val=1)\n",
      "    semiHidden\n",
      "    qFormat\n",
      "    uiPriority (val=0)\n",
      "    rPr [total: 4]\n",
      "      rFonts (ascii=宋体, hAnsi=宋体, eastAsia=宋体, cs=宋体)\n",
      "      sz (val=30)\n",
      "      szCs (val=30)\n",
      "      lang (val=en-US, eastAsia=en-US, bidi=ar-SA)\n",
      "  style (type=table, styleId=4) [total: 6]\n",
      "    name (val=Table Grid)\n",
      "    basedOn (val=3)\n",
      "    qFormat\n",
      "    uiPriority (val=0)\n",
      "    pPr [total: 2]\n",
      "      widowControl (val=0)\n",
      "      jc (val=both)\n",
      "    tblPr [total: 1]\n",
      "      tblBorders [total: 6]\n",
      "        top (val=single, color=auto, sz=4, space=0)\n",
      "        left (val=single, color=auto, sz=4, space=0)\n",
      "        bottom (val=single, color=auto, sz=4, space=0)\n",
      "        right (val=single, color=auto, sz=4, space=0)\n",
      "        insideH (val=single, color=auto, sz=4, space=0)\n",
      "        insideV (val=single, color=auto, sz=4, space=0)\n",
      "  style (type=table, customStyle=1, styleId=6) [total: 6]\n",
      "    name (val=Table Normal)\n",
      "    semiHidden\n",
      "    unhideWhenUsed\n",
      "    qFormat\n",
      "    uiPriority (val=0)\n",
      "    tblPr [total: 1]\n",
      "      tblCellMar [total: 4]\n",
      "        top (w=0, type=dxa)\n",
      "        left (w=0, type=dxa)\n",
      "        bottom (w=0, type=dxa)\n",
      "        right (w=0, type=dxa)\n",
      "  style (type=paragraph, customStyle=1, styleId=7) [total: 6]\n",
      "    name (val=Table Text)\n",
      "    basedOn (val=1)\n",
      "    semiHidden\n",
      "    qFormat\n",
      "    uiPriority (val=0)\n",
      "    rPr [total: 4]\n",
      "      rFonts (ascii=宋体, hAnsi=宋体, eastAsia=宋体, cs=宋体)\n",
      "      sz (val=21)\n",
      "      szCs (val=21)\n",
      "      lang (val=en-US, eastAsia=en-US, bidi=ar-SA)\n",
      "=== NUMBERING ===\n"
     ]
    }
   ],
   "source": [
    "# 获取并打印文档结构树\n",
    "print(\"=== 文档结构树 ===\")\n",
    "structure = parser.get_structure_tree(max_depth=10, max_children=10)\n",
    "print_tree(structure)"
   ]
  }
 ],
 "metadata": {
  "kernelspec": {
   "display_name": "BidPilot_new_env",
   "language": "python",
   "name": "python3"
  },
  "language_info": {
   "codemirror_mode": {
    "name": "ipython",
    "version": 3
   },
   "file_extension": ".py",
   "mimetype": "text/x-python",
   "name": "python",
   "nbconvert_exporter": "python",
   "pygments_lexer": "ipython3",
   "version": "3.12.1"
  }
 },
 "nbformat": 4,
 "nbformat_minor": 2
}
