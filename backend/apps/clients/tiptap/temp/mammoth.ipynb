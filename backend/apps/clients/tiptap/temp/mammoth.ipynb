{
 "cells": [
  {
   "cell_type": "code",
   "execution_count": 4,
   "metadata": {},
   "outputs": [],
   "source": [
    "# 初始化\n",
    "import django_setup"
   ]
  },
  {
   "cell_type": "code",
   "execution_count": 5,
   "metadata": {},
   "outputs": [],
   "source": [
    "from apps.projects.models import Project"
   ]
  },
  {
   "cell_type": "code",
   "execution_count": null,
   "metadata": {},
   "outputs": [],
   "source": [
    "current_project = Project.objects.get(project_name='测试项目3')\n",
    "print(f\"用于测试的项目: {current_project.project_name}\")\n",
    "print(f\"项目包含的文件: {current_project.files.all()}\")"
   ]
  },
  {
   "cell_type": "code",
   "execution_count": null,
   "metadata": {},
   "outputs": [],
   "source": [
    "from apps.projects.models import Task, TaskType\n",
    "task = Task.objects.get(stage__project=current_project, type=TaskType.DOCX_EXTRACTION_TASK)\n",
    "print(task.docx_tiptap)"
   ]
  },
  {
   "cell_type": "code",
   "execution_count": null,
   "metadata": {},
   "outputs": [],
   "source": [
    "from django.core.exceptions import ValidationError\n",
    "import os, tempfile, requests, uuid\n",
    "import logging\n",
    "logger = logging.getLogger(__name__)\n",
    "\n",
    "# 获取文件的预签名URL\n",
    "presigned_url = current_project.files.first().get_presigned_url()\n",
    "if not presigned_url:\n",
    "    raise ValidationError(\"无法获取文件访问地址\")\n",
    "\n",
    "logger.info(f\"开始下载文件: project_id={current_project.id}, file={current_project.files.first().name}\")\n",
    "\n",
    "# 下载文件到临时文件\n",
    "temp_file_path = os.path.join(tempfile.gettempdir(), f\"doc_analysis_{uuid.uuid4()}.docx\")\n",
    "response = requests.get(presigned_url)\n",
    "response.raise_for_status()\n",
    "\n",
    "with open(temp_file_path, 'wb') as temp_file:\n",
    "    temp_file.write(response.content)"
   ]
  },
  {
   "cell_type": "code",
   "execution_count": null,
   "metadata": {},
   "outputs": [],
   "source": [
    "print(temp_file_path)"
   ]
  },
  {
   "cell_type": "code",
   "execution_count": null,
   "metadata": {},
   "outputs": [],
   "source": [
    "from apps.projects.tiptap.mammoth import DocxToHtmlConverter\n",
    "\n",
    "# 初始化转换器\n",
    "converter = DocxToHtmlConverter()\n",
    "\n",
    "# 转换文件\n",
    "html_content, messages = converter.convert(temp_file_path)\n"
   ]
  },
  {
   "cell_type": "code",
   "execution_count": null,
   "metadata": {},
   "outputs": [],
   "source": [
    "from apps.projects.tiptap import docx_to_html\n",
    "\n",
    "html = docx_to_html(temp_file_path)\n"
   ]
  },
  {
   "cell_type": "code",
   "execution_count": 12,
   "metadata": {},
   "outputs": [],
   "source": [
    "import mammoth\n",
    "\n",
    "def convert_docx_to_html(docx_path):\n",
    "    with open(temp_file_path, \"rb\") as docx_file:\n",
    "        result = mammoth.convert_to_html(docx_file)\n",
    "        html_content = result.value  # 转换后的 HTML\n",
    "        messages = result.messages   # 转换过程中可能的警告信息\n",
    "\n",
    "    return html_content, messages"
   ]
  },
  {
   "cell_type": "code",
   "execution_count": 13,
   "metadata": {},
   "outputs": [],
   "source": [
    "html, warnings = convert_docx_to_html(\"example.docx\")"
   ]
  },
  {
   "cell_type": "code",
   "execution_count": null,
   "metadata": {},
   "outputs": [],
   "source": [
    "print(html)"
   ]
  },
  {
   "cell_type": "code",
   "execution_count": null,
   "metadata": {},
   "outputs": [],
   "source": [
    "import mammoth\n",
    "\n",
    "custom_style_map\n",
    "\n",
    "def convert_docx_to_html(docx_path):\n",
    "    with open(temp_file_path, \"rb\") as docx_file:\n",
    "        result = mammoth.convert_to_html(docx_file)\n",
    "        html_content = result.value  # 转换后的 HTML\n",
    "        messages = result.messages   # 转换过程中可能的警告信息\n",
    "\n",
    "    return html_content, messages"
   ]
  },
  {
   "cell_type": "code",
   "execution_count": 16,
   "metadata": {},
   "outputs": [],
   "source": [
    "from docx import Document\n",
    "import mammoth\n",
    "\n",
    "def get_outline_levels(docx_path):\n",
    "    \"\"\" 解析 DOCX 结构，提取大纲级别 \"\"\"\n",
    "    document = Document(docx_path)\n",
    "    outline_map = {}\n",
    "\n",
    "    for i, para in enumerate(document.paragraphs):\n",
    "        if para.style.name.startswith(\"Heading\") or para._element.get(\"outlineLvl\"):\n",
    "            outline_map[i] = int(para._element.get(\"outlineLvl\", 0))  # 提取大纲级别\n",
    "            \n",
    "    return outline_map"
   ]
  },
  {
   "cell_type": "code",
   "execution_count": 17,
   "metadata": {},
   "outputs": [],
   "source": [
    "outlines = get_outline_levels(temp_file_path)\n"
   ]
  },
  {
   "cell_type": "code",
   "execution_count": null,
   "metadata": {},
   "outputs": [],
   "source": [
    "print(outlines)"
   ]
  },
  {
   "cell_type": "code",
   "execution_count": null,
   "metadata": {},
   "outputs": [],
   "source": []
  },
  {
   "cell_type": "code",
   "execution_count": null,
   "metadata": {},
   "outputs": [],
   "source": [
    "from apps._tools.docx_parser._01_xml_loader import DocxXMLLoader\n",
    "\n",
    "loader = DocxXMLLoader(temp_file_path)\n",
    "from pprint import pprint\n",
    "pprint(loader.extract_raw())\n",
    "\n",
    "\n",
    "\n",
    "\n"
   ]
  }
 ],
 "metadata": {
  "kernelspec": {
   "display_name": "BidPilot_new_env",
   "language": "python",
   "name": "python3"
  },
  "language_info": {
   "codemirror_mode": {
    "name": "ipython",
    "version": 3
   },
   "file_extension": ".py",
   "mimetype": "text/x-python",
   "name": "python",
   "nbconvert_exporter": "python",
   "pygments_lexer": "ipython3",
   "version": "3.12.1"
  }
 },
 "nbformat": 4,
 "nbformat_minor": 2
}
