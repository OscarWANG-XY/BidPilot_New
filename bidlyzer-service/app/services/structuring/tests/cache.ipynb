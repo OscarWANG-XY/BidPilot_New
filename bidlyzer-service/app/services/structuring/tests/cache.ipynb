{
 "cells": [
  {
   "cell_type": "markdown",
   "metadata": {},
   "source": [
    "#### 验证导入无错误"
   ]
  },
  {
   "cell_type": "code",
   "execution_count": null,
   "metadata": {},
   "outputs": [],
   "source": [
    "# 获取当前notebook的绝对路径\n",
    "import sys, os\n",
    "from pathlib import Path\n",
    "current_path = Path.cwd()  # 或者使用 %pwd magic命令\n",
    "project_root = current_path.parents[3]  # 如果notebook在project_root/notebooks/下\n",
    "print(\"notebook所在的路径：\", current_path)\n",
    "print(\"project_root：\", project_root)\n",
    "sys.path.append(str(project_root))\n",
    "import FastAPI_setup"
   ]
  },
  {
   "cell_type": "markdown",
   "metadata": {},
   "source": [
    "#### 验证agent初始化无错误"
   ]
  },
  {
   "cell_type": "code",
   "execution_count": 2,
   "metadata": {},
   "outputs": [],
   "source": [
    "# project_id = \"20563b61-7818-474b-9641-c40757bbd3fe\"  # test1\n",
    "project_id = \"cc6bca8a-df5d-43d5-a931-875113df1f50\"  # test2\n",
    "# 实例化agent\n",
    "from app.services.structuring.agent import DocumentStructureAgent\n",
    "agent = DocumentStructureAgent(project_id)"
   ]
  },
  {
   "cell_type": "markdown",
   "metadata": {},
   "source": [
    "#### 验证 agent清空缓存 和 持久化无错误"
   ]
  },
  {
   "cell_type": "code",
   "execution_count": null,
   "metadata": {},
   "outputs": [],
   "source": [
    "print(\"检查当前缓存状态：\")\n",
    "await agent.state_manager.cache.check_cache_status()\n",
    "\n",
    "print(\"清空缓存和持久化存储：\")\n",
    "await agent.state_manager.cache.clean_up_all()\n",
    "await agent.state_manager.storage.delete_agent_state_history_from_django()\n",
    "await agent.state_manager.storage.delete_agent_message_from_django()\n",
    "await agent.state_manager.storage.delete_document_from_django('raw_document')\n",
    "await agent.state_manager.storage.delete_document_from_django('h1_document')\n",
    "await agent.state_manager.storage.delete_document_from_django('h2h3_document')\n",
    "await agent.state_manager.storage.delete_document_from_django('intro_document')\n",
    "await agent.state_manager.storage.delete_document_from_django('final_document')\n",
    "print(\"清空后，检查当前缓存状态：\")\n",
    "await agent.state_manager.cache.check_cache_status()\n"
   ]
  },
  {
   "cell_type": "markdown",
   "metadata": {},
   "source": [
    "#### 验证初始状态为空， 初始化正常运行， 初始化后的agent状态为Extracting\n",
    "\n",
    "\n",
    "\n"
   ]
  },
  {
   "cell_type": "code",
   "execution_count": null,
   "metadata": {},
   "outputs": [],
   "source": [
    "print(\"agent状态管理 初始化前：\")\n",
    "current_state = await agent.current_state\n",
    "print(current_state)\n",
    "print(\"agent状态管理 执行初始化：\")\n",
    "await agent.state_manager.initialize_agent()\n",
    "print(\"agent状态管理 初始化后：\")\n",
    "current_state = await agent.current_state\n",
    "print(current_state)"
   ]
  },
  {
   "cell_type": "markdown",
   "metadata": {},
   "source": [
    "#### 验证文档正常存储，状态正常存储，消息正常存储"
   ]
  },
  {
   "cell_type": "code",
   "execution_count": null,
   "metadata": {},
   "outputs": [],
   "source": [
    "# 执行文档提取EXTRACT STEP前：\n",
    "raw_doc = await agent.state_manager.cache.get_document('raw_document')\n",
    "print(raw_doc)"
   ]
  },
  {
   "cell_type": "code",
   "execution_count": null,
   "metadata": {},
   "outputs": [],
   "source": [
    "# 执行文档提取的 EXTRACT STEP \n",
    "# 获取trace_id\n",
    "from app.services.structuring.state import ProcessingStep\n",
    "from datetime import datetime\n",
    "step = ProcessingStep.EXTRACT\n",
    "trace_id = f\"{project_id}_{step}_{datetime.now().isoformat()}\"\n",
    "print(trace_id)\n",
    "# 提取文档\n",
    "result = await agent._process_extract(trace_id)\n",
    "print(result)"
   ]
  },
  {
   "cell_type": "code",
   "execution_count": null,
   "metadata": {},
   "outputs": [],
   "source": [
    "# 检查状态缓存，消息缓存 和 文档缓存\n",
    "from pprint import pprint\n",
    "SSE_messages = await agent.state_manager.cache.get_agent_sse_message_history()\n",
    "pprint(SSE_messages)\n",
    "state_hisitory =await agent.state_manager.cache._get_agent_state_history()\n",
    "pprint(state_hisitory.agent_states)\n",
    "raw_doc = await agent.state_manager.cache.get_document('raw_document')\n",
    "print(raw_doc)"
   ]
  },
  {
   "cell_type": "markdown",
   "metadata": {},
   "source": [
    "#### 验证Redis过期后，持久化数据提供了恢复"
   ]
  },
  {
   "cell_type": "code",
   "execution_count": null,
   "metadata": {},
   "outputs": [],
   "source": [
    "# 获取当前notebook的绝对路径\n",
    "import sys, os\n",
    "from pathlib import Path\n",
    "current_path = Path.cwd()  # 或者使用 %pwd magic命令\n",
    "project_root = current_path.parents[3]  # 如果notebook在project_root/notebooks/下\n",
    "print(\"notebook所在的路径：\", current_path)\n",
    "print(\"project_root：\", project_root)\n",
    "sys.path.append(str(project_root))\n",
    "import FastAPI_setup"
   ]
  },
  {
   "cell_type": "code",
   "execution_count": 9,
   "metadata": {},
   "outputs": [],
   "source": [
    "# project_id = \"20563b61-7818-474b-9641-c40757bbd3fe\"  # test1\n",
    "project_id = \"cc6bca8a-df5d-43d5-a931-875113df1f50\"  # test2\n",
    "# 实例化agent\n",
    "from app.services.structuring.agent import DocumentStructureAgent\n",
    "agent = DocumentStructureAgent(project_id)"
   ]
  },
  {
   "cell_type": "code",
   "execution_count": null,
   "metadata": {},
   "outputs": [],
   "source": [
    "print(\"检查当前缓存状态：\")\n",
    "await agent.state_manager.cache.check_cache_status()\n",
    "\n",
    "print(\"清空缓存：\")\n",
    "await agent.state_manager.cache.clean_up_all()\n",
    "\n",
    "print(\"清空后，检查当前缓存状态：\")\n",
    "await agent.state_manager.cache.check_cache_status()"
   ]
  },
  {
   "cell_type": "code",
   "execution_count": null,
   "metadata": {},
   "outputs": [],
   "source": [
    "# 检查状态缓存，消息缓存 和 文档缓存\n",
    "from pprint import pprint\n",
    "SSE_messages = await agent.state_manager.cache.get_agent_sse_message_history()\n",
    "pprint(SSE_messages)\n",
    "state_hisitory =await agent.state_manager.cache._get_agent_state_history()\n",
    "pprint(state_hisitory.agent_states)\n",
    "raw_doc = await agent.state_manager.cache.get_document('raw_document')\n",
    "print(raw_doc)"
   ]
  },
  {
   "cell_type": "markdown",
   "metadata": {},
   "source": [
    "#### 验证如果持久化也删除的情况，无法恢复"
   ]
  },
  {
   "cell_type": "code",
   "execution_count": null,
   "metadata": {},
   "outputs": [],
   "source": [
    "print(\"检查当前缓存状态：\")\n",
    "await agent.state_manager.cache.check_cache_status()\n",
    "\n",
    "print(\"清空缓存和持久化存储：\")\n",
    "await agent.state_manager.cache.clean_up_all()\n",
    "await agent.state_manager.storage.delete_agent_state_history_from_django()\n",
    "await agent.state_manager.storage.delete_agent_message_from_django()\n",
    "await agent.state_manager.storage.delete_document_from_django('raw_document')\n",
    "await agent.state_manager.storage.delete_document_from_django('h1_document')\n",
    "await agent.state_manager.storage.delete_document_from_django('h2h3_document')\n",
    "await agent.state_manager.storage.delete_document_from_django('intro_document')\n",
    "await agent.state_manager.storage.delete_document_from_django('final_document')\n",
    "print(\"清空后，检查当前缓存状态：\")\n",
    "await agent.state_manager.cache.check_cache_status()"
   ]
  },
  {
   "cell_type": "code",
   "execution_count": null,
   "metadata": {},
   "outputs": [],
   "source": [
    "# 获取当前notebook的绝对路径\n",
    "import sys, os\n",
    "from pathlib import Path\n",
    "current_path = Path.cwd()  # 或者使用 %pwd magic命令\n",
    "project_root = current_path.parents[3]  # 如果notebook在project_root/notebooks/下\n",
    "print(\"notebook所在的路径：\", current_path)\n",
    "print(\"project_root：\", project_root)\n",
    "sys.path.append(str(project_root))\n",
    "import FastAPI_setup"
   ]
  },
  {
   "cell_type": "code",
   "execution_count": 14,
   "metadata": {},
   "outputs": [],
   "source": [
    "# project_id = \"20563b61-7818-474b-9641-c40757bbd3fe\"  # test1\n",
    "project_id = \"cc6bca8a-df5d-43d5-a931-875113df1f50\"  # test2\n",
    "# 实例化agent\n",
    "from app.services.structuring.agent import DocumentStructureAgent\n",
    "agent = DocumentStructureAgent(project_id)"
   ]
  },
  {
   "cell_type": "code",
   "execution_count": null,
   "metadata": {},
   "outputs": [],
   "source": [
    "# 检查状态缓存，消息缓存 和 文档缓存\n",
    "from pprint import pprint\n",
    "SSE_messages = await agent.state_manager.cache.get_agent_sse_message_history()\n",
    "print(SSE_messages)\n",
    "state_hisitory =await agent.state_manager.cache._get_agent_state_history()\n",
    "print(state_hisitory)\n",
    "raw_doc = await agent.state_manager.cache.get_document('raw_document')\n",
    "print(raw_doc)"
   ]
  }
 ],
 "metadata": {
  "kernelspec": {
   "display_name": "bidlyzer_env",
   "language": "python",
   "name": "python3"
  },
  "language_info": {
   "codemirror_mode": {
    "name": "ipython",
    "version": 3
   },
   "file_extension": ".py",
   "mimetype": "text/x-python",
   "name": "python",
   "nbconvert_exporter": "python",
   "pygments_lexer": "ipython3",
   "version": "3.12.1"
  }
 },
 "nbformat": 4,
 "nbformat_minor": 2
}
