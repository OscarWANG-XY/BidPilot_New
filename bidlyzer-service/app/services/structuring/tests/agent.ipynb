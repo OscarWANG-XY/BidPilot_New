{
 "cells": [
  {
   "cell_type": "code",
   "execution_count": null,
   "metadata": {},
   "outputs": [],
   "source": [
    "# 获取当前notebook的绝对路径\n",
    "import sys, os\n",
    "# import asyncio\n",
    "# import nest_asyncio\n",
    "# nest_asyncio.apply()\n",
    "from pathlib import Path\n",
    "current_path = Path.cwd()  # 或者使用 %pwd magic命令\n",
    "project_root = current_path.parents[3]  # 如果notebook在project_root/notebooks/下\n",
    "print(\"notebook所在的路径：\", current_path)\n",
    "print(\"project_root：\", project_root)\n",
    "sys.path.append(str(project_root))\n",
    "import FastAPI_setup"
   ]
  },
  {
   "cell_type": "code",
   "execution_count": 2,
   "metadata": {},
   "outputs": [],
   "source": [
    "# project_id = \"20563b61-7818-474b-9641-c40757bbd3fe\"  # test1\n",
    "project_id = \"cc6bca8a-df5d-43d5-a931-875113df1f50\"  # test2"
   ]
  },
  {
   "cell_type": "code",
   "execution_count": null,
   "metadata": {},
   "outputs": [],
   "source": [
    "# 实例化agent\n",
    "from app.services.structuring.agent import DocumentStructureAgent\n",
    "agent = DocumentStructureAgent(project_id)\n",
    "current_state = await agent.current_state\n",
    "from pprint import pprint\n",
    "pprint(current_state)"
   ]
  },
  {
   "cell_type": "code",
   "execution_count": null,
   "metadata": {},
   "outputs": [],
   "source": []
  },
  {
   "cell_type": "code",
   "execution_count": null,
   "metadata": {},
   "outputs": [],
   "source": [
    "# 获取trace_id\n",
    "from app.services.structuring.state import ProcessingStep\n",
    "from datetime import datetime\n",
    "step = ProcessingStep.EXTRACT\n",
    "trace_id = f\"{project_id}_{step}_{datetime.now().isoformat()}\"\n",
    "print(trace_id)"
   ]
  },
  {
   "cell_type": "code",
   "execution_count": null,
   "metadata": {},
   "outputs": [],
   "source": [
    "# 提取文档\n",
    "res = await agent._process_extract(trace_id)\n",
    "print(res)"
   ]
  },
  {
   "cell_type": "code",
   "execution_count": null,
   "metadata": {},
   "outputs": [],
   "source": [
    "# 分析h1\n",
    "res1 =  await agent._process_analyze_h1(trace_id)\n",
    "print(res1)\n",
    "h1_doc = await agent._get_document('h1_document')\n",
    "print(h1_doc)\n",
    "from app.clients.tiptap.helpers import TiptapUtils\n",
    "headings = TiptapUtils.print_headings(h1_doc)\n",
    "print(headings)"
   ]
  },
  {
   "cell_type": "code",
   "execution_count": null,
   "metadata": {},
   "outputs": [],
   "source": [
    "# 分析h2h3\n",
    "res2 = await agent._process_analyze_h2h3(trace_id)\n",
    "print(res2)\n",
    "h2h3_doc = await agent._get_document('h2h3_document')\n",
    "print(h2h3_doc)\n",
    "from app.clients.tiptap.helpers import TiptapUtils\n",
    "headings2 = TiptapUtils.print_headings(h2h3_doc)\n",
    "print(headings2)\n"
   ]
  },
  {
   "cell_type": "code",
   "execution_count": null,
   "metadata": {},
   "outputs": [],
   "source": [
    "# 添加前言\n",
    "res3 = await agent._process_add_introduction(trace_id)\n",
    "print(res3)\n",
    "intro_doc = await agent._get_document('intro_document')\n",
    "print(intro_doc)\n",
    "from app.clients.tiptap.helpers import TiptapUtils\n",
    "headings3 = TiptapUtils.print_headings(intro_doc)\n",
    "print(headings3)"
   ]
  },
  {
   "cell_type": "markdown",
   "metadata": {},
   "source": [
    "### 模块集成测试"
   ]
  },
  {
   "cell_type": "code",
   "execution_count": null,
   "metadata": {},
   "outputs": [],
   "source": [
    "await agent.start_analysis()"
   ]
  },
  {
   "cell_type": "code",
   "execution_count": null,
   "metadata": {},
   "outputs": [],
   "source": [
    "agent_state = await agent.current_state\n",
    "print(agent_state)"
   ]
  }
 ],
 "metadata": {
  "kernelspec": {
   "display_name": "bidlyzer_env",
   "language": "python",
   "name": "python3"
  },
  "language_info": {
   "codemirror_mode": {
    "name": "ipython",
    "version": 3
   },
   "file_extension": ".py",
   "mimetype": "text/x-python",
   "name": "python",
   "nbconvert_exporter": "python",
   "pygments_lexer": "ipython3",
   "version": "3.12.1"
  }
 },
 "nbformat": 4,
 "nbformat_minor": 2
}
