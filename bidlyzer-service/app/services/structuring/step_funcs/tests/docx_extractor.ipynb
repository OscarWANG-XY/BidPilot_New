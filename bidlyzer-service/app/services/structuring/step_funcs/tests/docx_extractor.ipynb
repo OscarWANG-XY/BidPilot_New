{
 "cells": [
  {
   "cell_type": "code",
   "execution_count": null,
   "metadata": {},
   "outputs": [],
   "source": [
    "# 获取当前notebook的绝对路径\n",
    "import sys, os\n",
    "from pathlib import Path\n",
    "current_path = Path.cwd()  # 或者使用 %pwd magic命令\n",
    "project_root = current_path.parents[3]  # 如果notebook在project_root/notebooks/下\n",
    "print(\"notebook所在的路径：\", current_path)\n",
    "print(\"project_root：\", project_root)\n",
    "sys.path.append(str(project_root))\n",
    "import FastAPI_setup"
   ]
  },
  {
   "cell_type": "code",
   "execution_count": 2,
   "metadata": {},
   "outputs": [],
   "source": [
    "# project_id = \"20563b61-7818-474b-9641-c40757bbd3fe\"  # test1\n",
    "project_id = \"cc6bca8a-df5d-43d5-a931-875113df1f50\"  # test2"
   ]
  },
  {
   "cell_type": "code",
   "execution_count": null,
   "metadata": {},
   "outputs": [],
   "source": [
    "from app.services.structuring.storage import Storage\n",
    "storage = Storage(project_id)\n",
    "result = await storage.get_tender_file_url()\n",
    "print(result)\n",
    "print(type(result))\n",
    "print(result.url)"
   ]
  },
  {
   "cell_type": "code",
   "execution_count": null,
   "metadata": {},
   "outputs": [],
   "source": [
    "from app.services.structuring.step_funcs.docx_extractor import DocxExtractor\n",
    "docx_extractor = DocxExtractor(project_id)\n"
   ]
  },
  {
   "cell_type": "code",
   "execution_count": null,
   "metadata": {},
   "outputs": [],
   "source": [
    "extracted_content = await docx_extractor.extract_content(result.url)\n",
    "print(extracted_content)"
   ]
  },
  {
   "cell_type": "code",
   "execution_count": null,
   "metadata": {},
   "outputs": [],
   "source": [
    "pprint(extracted_content)"
   ]
  },
  {
   "cell_type": "code",
   "execution_count": null,
   "metadata": {},
   "outputs": [],
   "source": [
    "from app.clients.tiptap.helpers import TiptapUtils\n",
    "indexed_doc, index_path_map = TiptapUtils.extract_indexed_paragraphs(extracted_content)\n",
    "pprint(indexed_doc)\n",
    "pprint(index_path_map)\n"
   ]
  }
 ],
 "metadata": {
  "kernelspec": {
   "display_name": "bidlyzer_env",
   "language": "python",
   "name": "python3"
  },
  "language_info": {
   "codemirror_mode": {
    "name": "ipython",
    "version": 3
   },
   "file_extension": ".py",
   "mimetype": "text/x-python",
   "name": "python",
   "nbconvert_exporter": "python",
   "pygments_lexer": "ipython3",
   "version": "3.12.1"
  }
 },
 "nbformat": 4,
 "nbformat_minor": 2
}
