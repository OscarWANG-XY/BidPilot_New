{
 "cells": [
  {
   "cell_type": "code",
   "execution_count": null,
   "metadata": {},
   "outputs": [],
   "source": [
    "# 获取当前notebook的绝对路径\n",
    "import sys, os\n",
    "# import asyncio\n",
    "# import nest_asyncio\n",
    "# nest_asyncio.apply()\n",
    "from pathlib import Path\n",
    "current_path = Path.cwd()  # 或者使用 %pwd magic命令\n",
    "project_root = current_path.parents[3]  # 如果notebook在project_root/notebooks/下\n",
    "print(\"notebook所在的路径：\", current_path)\n",
    "print(\"project_root：\", project_root)\n",
    "sys.path.append(str(project_root))\n",
    "import FastAPI_setup"
   ]
  },
  {
   "cell_type": "code",
   "execution_count": 2,
   "metadata": {},
   "outputs": [],
   "source": [
    "# project_id = \"20563b61-7818-474b-9641-c40757bbd3fe\"  # test1\n",
    "project_id = \"cc6bca8a-df5d-43d5-a931-875113df1f50\"  # test2"
   ]
  },
  {
   "cell_type": "code",
   "execution_count": null,
   "metadata": {},
   "outputs": [],
   "source": [
    "# agent get document 在 agent已经测试通过，这里拿过来使用\n",
    "from app.services.structuring.agent import DocumentStructureAgent\n",
    "agent = DocumentStructureAgent(project_id)\n",
    "document = await agent.state_manager.cache.get_document('raw_document')\n",
    "from pprint import pprint\n",
    "pprint(f\"document: {document}\")"
   ]
  },
  {
   "cell_type": "code",
   "execution_count": 4,
   "metadata": {},
   "outputs": [],
   "source": [
    "# from app.services.structuring.state import ProcessingStep\n",
    "# from datetime import datetime\n",
    "# step = ProcessingStep.EXTRACT\n",
    "# trace_id = f\"{project_id}_{step}_{datetime.now().isoformat()}\"\n",
    "# print(trace_id)\n",
    "# results = await agent._process_extract(trace_id)\n",
    "# print(results)"
   ]
  },
  {
   "cell_type": "code",
   "execution_count": 5,
   "metadata": {},
   "outputs": [],
   "source": [
    "# document = await agent.state_manager.cache.get_document('raw_document')\n",
    "# from pprint import pprint\n",
    "# pprint(document)"
   ]
  },
  {
   "cell_type": "code",
   "execution_count": 6,
   "metadata": {},
   "outputs": [],
   "source": [
    "from app.services.structuring.prompts.tender_outlines_L1 import TenderOutlinesL1PromptBuilder\n",
    "prompt_builder = TenderOutlinesL1PromptBuilder(document)"
   ]
  },
  {
   "cell_type": "code",
   "execution_count": null,
   "metadata": {},
   "outputs": [],
   "source": [
    "prompt_config, task_inputs, meta = await prompt_builder.output_params()\n",
    "pprint(f\"output_params:{prompt_config}\")\n",
    "pprint(f\"output_params: {task_inputs}\")\n",
    "pprint(f\"output_params: {meta}\")"
   ]
  },
  {
   "cell_type": "code",
   "execution_count": null,
   "metadata": {},
   "outputs": [],
   "source": [
    "from app.services.llm.llm_client import LLMClient\n",
    "analyzer = LLMClient(prompt_config)\n",
    "result = await analyzer.process_with_limit(task_inputs, limit=5)\n",
    "pprint(f\"result: {result}\")\n",
    "\n"
   ]
  },
  {
   "cell_type": "code",
   "execution_count": null,
   "metadata": {},
   "outputs": [],
   "source": [
    "print(result)"
   ]
  },
  {
   "cell_type": "code",
   "execution_count": null,
   "metadata": {},
   "outputs": [],
   "source": [
    "from app.services.llm.llm_output_processor import LLMOutputProcessor\n",
    "cleaned_result = LLMOutputProcessor().merge_outputs(result)\n",
    "pprint(cleaned_result)"
   ]
  }
 ],
 "metadata": {
  "kernelspec": {
   "display_name": "bidlyzer_env",
   "language": "python",
   "name": "python3"
  },
  "language_info": {
   "codemirror_mode": {
    "name": "ipython",
    "version": 3
   },
   "file_extension": ".py",
   "mimetype": "text/x-python",
   "name": "python",
   "nbconvert_exporter": "python",
   "pygments_lexer": "ipython3",
   "version": "3.12.1"
  }
 },
 "nbformat": 4,
 "nbformat_minor": 2
}
