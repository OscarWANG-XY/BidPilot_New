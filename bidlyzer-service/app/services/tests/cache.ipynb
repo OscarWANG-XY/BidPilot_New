{
 "cells": [
  {
   "cell_type": "code",
   "execution_count": null,
   "metadata": {},
   "outputs": [],
   "source": [
    "# 获取当前notebook的绝对路径\n",
    "import sys, os\n",
    "from pathlib import Path\n",
    "current_path = Path.cwd()  # 或者使用 %pwd magic命令\n",
    "project_root = current_path.parents[2]  # 如果notebook在project_root/notebooks/下\n",
    "print(\"notebook所在的路径：\", current_path)\n",
    "print(\"project_root：\", project_root)\n",
    "sys.path.append(str(project_root))\n",
    "import FastAPI_setup"
   ]
  },
  {
   "cell_type": "code",
   "execution_count": 2,
   "metadata": {},
   "outputs": [],
   "source": [
    "from app.services.state import AgentState, StageEnum, StageStatus, AgentStateHistory, AgentSSEMessage, AgentSSEMessageHistory\n",
    "from datetime import datetime\n",
    "# mock AgentState数据\n",
    "agent_state_1 = AgentState(\n",
    "    agent_id=\"123\",\n",
    "    overall_progress=10,\n",
    "    active_stage=StageEnum.STRUCTURING,\n",
    "    stage_status=StageStatus.IN_PROGRESS,\n",
    "    stage_progress=10,\n",
    "    created_at=datetime.now(),\n",
    "    updated_at=datetime.now()\n",
    ")\n",
    "\n",
    "agent_state_2 = AgentState(\n",
    "    agent_id=\"123\",\n",
    "    overall_progress=20,\n",
    "    active_stage=StageEnum.PLANNING,\n",
    "    stage_status=StageStatus.IN_PROGRESS,\n",
    "    stage_progress=20,\n",
    "    created_at=datetime.now(),\n",
    "    updated_at=datetime.now()\n",
    ")"
   ]
  },
  {
   "cell_type": "code",
   "execution_count": 3,
   "metadata": {},
   "outputs": [],
   "source": [
    "# MOCK AgentSSEMessage数据\n",
    "agent_sse_message_1 = AgentSSEMessage(\n",
    "    agent_id=\"123\",\n",
    "    message=\"Hello, world!\",\n",
    "    created_at=datetime.now(),\n",
    "    updated_at=datetime.now()\n",
    ")\n",
    "\n",
    "agent_sse_message_2 = AgentSSEMessage(  \n",
    "    agent_id=\"123\",\n",
    "    message=\"Hello, agent!\",\n",
    "    created_at=datetime.now(),\n",
    "    updated_at=datetime.now()\n",
    ")"
   ]
  },
  {
   "cell_type": "markdown",
   "metadata": {},
   "source": [
    "#### 验证agent初始化无错误"
   ]
  },
  {
   "cell_type": "code",
   "execution_count": 2,
   "metadata": {},
   "outputs": [],
   "source": [
    "from app.core.redis_helper import RedisClient\n",
    "from app.services.state import AgentState, AgentStateHistory"
   ]
  },
  {
   "cell_type": "code",
   "execution_count": 3,
   "metadata": {},
   "outputs": [],
   "source": [
    "# project_id = \"20563b61-7818-474b-9641-c40757bbd3fe\"  # test1\n",
    "project_id = \"cc6bca8a-df5d-43d5-a931-875113df1f50\"  # test2\n",
    "# Project_id = \"f6db0cbe-e7af-4300-8335-01ba4ffdbb93\"  # small test\n",
    "# 实例化agent\n",
    "from app.services.cache import Cache\n",
    "cache = Cache(project_id)\n",
    "from app.services.storage import Storage\n",
    "storage = Storage(project_id)"
   ]
  },
  {
   "cell_type": "code",
   "execution_count": null,
   "metadata": {},
   "outputs": [],
   "source": [
    "await cache.clean_up()"
   ]
  },
  {
   "cell_type": "code",
   "execution_count": null,
   "metadata": {},
   "outputs": [],
   "source": [
    "# 存储状态\n",
    "await cache.save_agent_state(agent_state_1)"
   ]
  },
  {
   "cell_type": "code",
   "execution_count": null,
   "metadata": {},
   "outputs": [],
   "source": [
    "# 状态和状态历史 获取， 验证是否存储成功\n",
    "agent_state, agent_state_history =  await cache.get_agent_state()\n",
    "print(agent_state)\n",
    "print(agent_state_history)"
   ]
  },
  {
   "cell_type": "code",
   "execution_count": null,
   "metadata": {},
   "outputs": [],
   "source": [
    "# 检查django storage 数据是否存储成功\n",
    "data = await storage.get_from_django(params={'fields': 'agent_state_history'})\n",
    "print(data)\n",
    "print(type(data))"
   ]
  },
  {
   "cell_type": "code",
   "execution_count": null,
   "metadata": {},
   "outputs": [],
   "source": [
    "# 删除缓存\n",
    "key = cache.get_cache_keys().get('agent_state_history')\n",
    "from app.core.redis_helper import RedisClient\n",
    "await RedisClient.delete(key)\n"
   ]
  },
  {
   "cell_type": "code",
   "execution_count": null,
   "metadata": {},
   "outputs": [],
   "source": [
    "# 缓存数据是否还在？ 理论上应该不在\n",
    "data = await RedisClient.get(key)\n",
    "print(data)"
   ]
  },
  {
   "cell_type": "code",
   "execution_count": null,
   "metadata": {},
   "outputs": [],
   "source": [
    "# 检查django storage 数据是否还在？  理论上应该在\n",
    "data = await storage.get_from_django(params={'fields': 'agent_state_history'})\n",
    "print(data)\n",
    "print(type(data))"
   ]
  },
  {
   "cell_type": "code",
   "execution_count": null,
   "metadata": {},
   "outputs": [],
   "source": [
    "# 使用 cache的clean up来删除\n",
    "await cache.clean_up(['agent_state_history'])"
   ]
  },
  {
   "cell_type": "code",
   "execution_count": null,
   "metadata": {},
   "outputs": [],
   "source": [
    "# 理论上，缓存和storage 数据都不在了\n",
    "data1 = await RedisClient.get(key)\n",
    "print(data1)\n",
    "data2 = await storage.get_from_django(params={'fields': 'agent_state_history'})\n",
    "print(data2)\n",
    "print(type(data2))"
   ]
  },
  {
   "cell_type": "markdown",
   "metadata": {},
   "source": [
    "#### 测试文档"
   ]
  },
  {
   "cell_type": "code",
   "execution_count": 4,
   "metadata": {},
   "outputs": [],
   "source": [
    "raw_document = {\n",
    "    'type': 'doc',\n",
    "    'content': [\n",
    "        {\n",
    "            'type': 'paragraph',\n",
    "            'content': [\n",
    "                {\n",
    "                    'type': 'text',\n",
    "                    'text': 'raw_document_content'\n",
    "                }\n",
    "            ]\n",
    "        }\n",
    "    ]\n",
    "}"
   ]
  },
  {
   "cell_type": "code",
   "execution_count": null,
   "metadata": {},
   "outputs": [],
   "source": [
    "data = {\n",
    "    'key_name': 'raw_document',\n",
    "    'content': raw_document}\n",
    "print(type(data))\n",
    "print(data)"
   ]
  },
  {
   "cell_type": "code",
   "execution_count": null,
   "metadata": {},
   "outputs": [],
   "source": [
    "await cache.save_document('raw_document', raw_document)\n"
   ]
  },
  {
   "cell_type": "code",
   "execution_count": null,
   "metadata": {},
   "outputs": [],
   "source": [
    "# 缓存数据是否还在？ 理论上应该不在\n",
    "key = cache.get_cache_keys().get('raw_document')\n",
    "data = await RedisClient.get(key)\n",
    "print(data)"
   ]
  },
  {
   "cell_type": "code",
   "execution_count": null,
   "metadata": {},
   "outputs": [],
   "source": [
    "# 删除缓存\n",
    "key = cache.get_cache_keys().get('raw_document')\n",
    "from app.core.redis_helper import RedisClient\n",
    "await RedisClient.delete(key)\n"
   ]
  },
  {
   "cell_type": "code",
   "execution_count": null,
   "metadata": {},
   "outputs": [],
   "source": [
    "# 缓存数据是否还在？ 理论上应该不在\n",
    "data = await RedisClient.get(key)\n",
    "print(data)"
   ]
  },
  {
   "cell_type": "code",
   "execution_count": null,
   "metadata": {},
   "outputs": [],
   "source": [
    "doc = await cache.get_document('raw_document')\n",
    "print(doc)"
   ]
  },
  {
   "cell_type": "code",
   "execution_count": null,
   "metadata": {},
   "outputs": [],
   "source": [
    "doc_storage = await storage.get_from_django(params={'fields': 'raw_document'})\n",
    "print(doc_storage)\n",
    "print(type(doc_storage))\n"
   ]
  }
 ],
 "metadata": {
  "kernelspec": {
   "display_name": "bidlyzer_env",
   "language": "python",
   "name": "python3"
  },
  "language_info": {
   "codemirror_mode": {
    "name": "ipython",
    "version": 3
   },
   "file_extension": ".py",
   "mimetype": "text/x-python",
   "name": "python",
   "nbconvert_exporter": "python",
   "pygments_lexer": "ipython3",
   "version": "3.12.1"
  }
 },
 "nbformat": 4,
 "nbformat_minor": 2
}
