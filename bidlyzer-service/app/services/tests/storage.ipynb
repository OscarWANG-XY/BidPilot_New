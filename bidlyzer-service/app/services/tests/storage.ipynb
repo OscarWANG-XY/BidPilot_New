{
 "cells": [
  {
   "cell_type": "code",
   "execution_count": null,
   "metadata": {},
   "outputs": [],
   "source": [
    "# 获取当前notebook的绝对路径\n",
    "import sys, os\n",
    "from pathlib import Path\n",
    "current_path = Path.cwd()  # 或者使用 %pwd magic命令\n",
    "project_root = current_path.parents[2]  # 如果notebook在project_root/notebooks/下\n",
    "print(\"notebook所在的路径：\", current_path)\n",
    "print(\"project_root：\", project_root)\n",
    "sys.path.append(str(project_root))\n",
    "import FastAPI_setup"
   ]
  },
  {
   "cell_type": "code",
   "execution_count": 2,
   "metadata": {},
   "outputs": [],
   "source": [
    "project_id = \"20563b61-7818-474b-9641-c40757bbd3fe\"  # test1\n",
    "# project_id = \"cc6bca8a-df5d-43d5-a931-875113df1f50\"  # test2\n"
   ]
  },
  {
   "cell_type": "code",
   "execution_count": 3,
   "metadata": {},
   "outputs": [],
   "source": [
    "# 构建实例\n",
    "from app.services.storage import Storage\n",
    "storage = Storage(project_id)"
   ]
  },
  {
   "cell_type": "markdown",
   "metadata": {},
   "source": [
    "#### 测试 URL的提取"
   ]
  },
  {
   "cell_type": "code",
   "execution_count": null,
   "metadata": {},
   "outputs": [],
   "source": [
    "# 获取招标文件URL\n",
    "result_url = await storage.get_tender_file_url()\n",
    "print(result_url)\n",
    "print(type(result_url))\n",
    "print(result_url.url)"
   ]
  },
  {
   "cell_type": "markdown",
   "metadata": {},
   "source": [
    "#### 测试 get_from_django"
   ]
  },
  {
   "cell_type": "code",
   "execution_count": null,
   "metadata": {},
   "outputs": [],
   "source": [
    "# 注意一下fields里，不能出现空格，否则会报错\n",
    "params = {'fields': 'agent_state_history,raw_document,review_suggestions'}\n",
    "results = await storage.get_from_django(\n",
    "    params=params\n",
    ")\n",
    "print(results[\"raw_document\"])\n",
    "print(results[\"agent_state_history\"])\n",
    "print(results[\"review_suggestions\"])"
   ]
  },
  {
   "cell_type": "markdown",
   "metadata": {},
   "source": [
    "#### 测试 save_to_django"
   ]
  },
  {
   "cell_type": "code",
   "execution_count": 6,
   "metadata": {},
   "outputs": [],
   "source": [
    "data = {\n",
    "    \"review_suggestions\": {\n",
    "        \"name\": \"test1\",\n",
    "        \"description\": \"test1\"\n",
    "    },\n",
    "}"
   ]
  },
  {
   "cell_type": "code",
   "execution_count": null,
   "metadata": {},
   "outputs": [],
   "source": [
    "await storage.save_to_django(data)"
   ]
  },
  {
   "cell_type": "code",
   "execution_count": null,
   "metadata": {},
   "outputs": [],
   "source": [
    "# 注意一下fields里，不能出现空格，否则会报错\n",
    "params = {'fields': 'agent_state_history,raw_document,review_suggestions'}\n",
    "results = await storage.get_from_django(\n",
    "    params=params\n",
    ")\n",
    "print(results[\"raw_document\"])\n",
    "print(results[\"agent_state_history\"])\n",
    "print(results[\"review_suggestions\"])"
   ]
  },
  {
   "cell_type": "code",
   "execution_count": null,
   "metadata": {},
   "outputs": [],
   "source": [
    "await storage.clear_storage(clear_fields=\"review_suggestions\")\n",
    "# 注意一下fields里，不能出现空格，否则会报错\n",
    "params = {'fields': 'agent_state_history,raw_document,review_suggestions'}\n",
    "results = await storage.get_from_django(\n",
    "    params=params\n",
    ")\n",
    "print(results[\"raw_document\"])\n",
    "print(results[\"agent_state_history\"])\n",
    "print(results[\"review_suggestions\"])"
   ]
  }
 ],
 "metadata": {
  "kernelspec": {
   "display_name": "bidlyzer_env",
   "language": "python",
   "name": "python3"
  },
  "language_info": {
   "codemirror_mode": {
    "name": "ipython",
    "version": 3
   },
   "file_extension": ".py",
   "mimetype": "text/x-python",
   "name": "python",
   "nbconvert_exporter": "python",
   "pygments_lexer": "ipython3",
   "version": "3.12.1"
  }
 },
 "nbformat": 4,
 "nbformat_minor": 2
}
