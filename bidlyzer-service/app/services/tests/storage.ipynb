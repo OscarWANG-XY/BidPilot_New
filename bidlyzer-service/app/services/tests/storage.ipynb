{
 "cells": [
  {
   "cell_type": "code",
   "execution_count": null,
   "metadata": {},
   "outputs": [],
   "source": [
    "# 获取当前notebook的绝对路径\n",
    "import sys, os\n",
    "from pathlib import Path\n",
    "from pprint import pprint\n",
    "current_path = Path.cwd()  # 或者使用 %pwd magic命令\n",
    "project_root = current_path.parents[2]  # 如果notebook在project_root/notebooks/下\n",
    "print(\"notebook所在的路径：\", current_path)\n",
    "print(\"project_root：\", project_root)\n",
    "sys.path.append(str(project_root))\n",
    "import FastAPI_setup"
   ]
  },
  {
   "cell_type": "code",
   "execution_count": 28,
   "metadata": {},
   "outputs": [],
   "source": [
    "project_id = \"20563b61-7818-474b-9641-c40757bbd3fe\"  # test1\n",
    "# project_id = \"cc6bca8a-df5d-43d5-a931-875113df1f50\"  # test2\n",
    "# Project_id = \"f6db0cbe-e7af-4300-8335-01ba4ffdbb93\"  # small test\n"
   ]
  },
  {
   "cell_type": "code",
   "execution_count": 3,
   "metadata": {},
   "outputs": [],
   "source": [
    "# 构建实例\n",
    "from app.services.storage import Storage\n",
    "storage = Storage(project_id)"
   ]
  },
  {
   "cell_type": "code",
   "execution_count": null,
   "metadata": {},
   "outputs": [],
   "source": [
    "# 获取招标文件URL\n",
    "result_url = await storage.get_tender_file_url()\n",
    "print(result_url)\n",
    "print(type(result_url))\n",
    "print(result_url.url)"
   ]
  },
  {
   "cell_type": "code",
   "execution_count": null,
   "metadata": {},
   "outputs": [],
   "source": [
    "# 测试数据清空\n",
    "await storage.clear_storage(clear_fields=\"review_suggestions\")"
   ]
  },
  {
   "cell_type": "code",
   "execution_count": null,
   "metadata": {},
   "outputs": [],
   "source": [
    "# mock data 数据结构\n",
    "content = {\n",
    "    \"type\": \"doc\",\n",
    "    \"content\": [\n",
    "        {\n",
    "            \"type\": \"paragraph\",\n",
    "            \"content\": [\n",
    "                {\n",
    "                    \"type\": \"text\",\n",
    "                    \"text\": \"Hello, world!\"\n",
    "                }\n",
    "            ]\n",
    "        }\n",
    "    ]\n",
    "}\n",
    "\n",
    "test_data = {\n",
    "    \"key_name\": \"review_suggestions\",\n",
    "    \"content\": content\n",
    "}\n",
    "pprint(test_data)"
   ]
  },
  {
   "cell_type": "code",
   "execution_count": null,
   "metadata": {},
   "outputs": [],
   "source": [
    "# 测试数据存储\n",
    "await storage.save_to_django(test_data)"
   ]
  },
  {
   "cell_type": "code",
   "execution_count": null,
   "metadata": {},
   "outputs": [],
   "source": [
    "# 测试数据提取\n",
    "params = {'fields': 'review_suggestions'}\n",
    "results = await storage.get_from_django(\n",
    "    params=params\n",
    ")\n",
    "print(type(results))\n",
    "print(results)\n",
    "pprint(results['content'])"
   ]
  }
 ],
 "metadata": {
  "kernelspec": {
   "display_name": "bidlyzer_env",
   "language": "python",
   "name": "python3"
  },
  "language_info": {
   "codemirror_mode": {
    "name": "ipython",
    "version": 3
   },
   "file_extension": ".py",
   "mimetype": "text/x-python",
   "name": "python",
   "nbconvert_exporter": "python",
   "pygments_lexer": "ipython3",
   "version": "3.12.1"
  }
 },
 "nbformat": 4,
 "nbformat_minor": 2
}
