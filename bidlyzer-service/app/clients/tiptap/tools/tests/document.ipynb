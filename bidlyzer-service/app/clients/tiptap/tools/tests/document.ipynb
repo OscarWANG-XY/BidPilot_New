{
 "cells": [
  {
   "cell_type": "markdown",
   "metadata": {},
   "source": [
    "#### 前期准备"
   ]
  },
  {
   "cell_type": "code",
   "execution_count": null,
   "metadata": {},
   "outputs": [],
   "source": [
    "# 获取当前notebook的绝对路径\n",
    "import sys, os\n",
    "from pathlib import Path\n",
    "current_path = Path.cwd()  # 或者使用 %pwd magic命令\n",
    "project_root = current_path.parents[4]  # 如果notebook在project_root/notebooks/下\n",
    "print(\"notebook所在的路径：\", current_path)\n",
    "print(\"project_root：\", project_root)\n",
    "sys.path.append(str(project_root))\n",
    "import FastAPI_setup"
   ]
  },
  {
   "cell_type": "code",
   "execution_count": 2,
   "metadata": {},
   "outputs": [],
   "source": [
    "project_id = \"20563b61-7818-474b-9641-c40757bbd3fe\"  # test1\n",
    "#project_id = \"cc6bca8a-df5d-43d5-a931-875113df1f50\"  # test2"
   ]
  },
  {
   "cell_type": "code",
   "execution_count": null,
   "metadata": {},
   "outputs": [],
   "source": [
    "from app.services.structuring.cache import Cache\n",
    "cache = Cache(project_id)\n",
    "raw_document = await cache.get_document('raw_document')\n",
    "h1_document = await cache.get_document('h1_document')\n",
    "h2h3_document = await cache.get_document('h2h3_document')\n",
    "intro_document = await cache.get_document('intro_document')\n",
    "final_document = await cache.get_document('final_document')"
   ]
  },
  {
   "cell_type": "code",
   "execution_count": null,
   "metadata": {},
   "outputs": [],
   "source": [
    "print(\"raw_document:\",type(raw_document), len(raw_document))\n",
    "print(\"h1_document:\",type(h1_document), len(h1_document))\n",
    "print(\"h2h3_document:\",type(h2h3_document), len(h2h3_document))\n",
    "print(\"intro_document:\",type(intro_document), len(intro_document))\n",
    "# print(\"final_document:\",type(final_document), len(final_document))"
   ]
  },
  {
   "cell_type": "markdown",
   "metadata": {},
   "source": [
    "#### 验证 get_all_nodes_with_position\n"
   ]
  },
  {
   "cell_type": "code",
   "execution_count": null,
   "metadata": {},
   "outputs": [],
   "source": [
    "from app.clients.tiptap.tools import get_all_nodes_with_position\n",
    "nodes = get_all_nodes_with_position(raw_document)\n",
    "print(len(nodes))\n",
    "from pprint import pprint\n",
    "pprint(nodes)"
   ]
  },
  {
   "cell_type": "markdown",
   "metadata": {},
   "source": [
    "#### 验证 get_paras_and_tables_md_with_position"
   ]
  },
  {
   "cell_type": "code",
   "execution_count": null,
   "metadata": {},
   "outputs": [],
   "source": [
    "from app.clients.tiptap.tools import get_document_md_with_position\n",
    "document_md = await get_document_md_with_position(raw_document)\n",
    "from pprint import pprint\n",
    "pprint(document_md)"
   ]
  },
  {
   "cell_type": "markdown",
   "metadata": {},
   "source": [
    "#### 验证 format_document_md\n"
   ]
  },
  {
   "cell_type": "code",
   "execution_count": null,
   "metadata": {},
   "outputs": [],
   "source": [
    "from app.clients.tiptap.tools import formatted_document_md_with_position\n",
    "formatted_md = await formatted_document_md_with_position(raw_document,50)\n",
    "print(type(formatted_md))\n",
    "from pprint import pprint\n",
    "pprint(formatted_md)"
   ]
  }
 ],
 "metadata": {
  "kernelspec": {
   "display_name": "bidlyzer_env",
   "language": "python",
   "name": "python3"
  },
  "language_info": {
   "codemirror_mode": {
    "name": "ipython",
    "version": 3
   },
   "file_extension": ".py",
   "mimetype": "text/x-python",
   "name": "python",
   "nbconvert_exporter": "python",
   "pygments_lexer": "ipython3",
   "version": "3.12.1"
  }
 },
 "nbformat": 4,
 "nbformat_minor": 2
}
