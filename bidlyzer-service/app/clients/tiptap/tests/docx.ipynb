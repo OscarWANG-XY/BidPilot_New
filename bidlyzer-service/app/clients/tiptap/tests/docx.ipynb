{
 "cells": [
  {
   "cell_type": "code",
   "execution_count": null,
   "metadata": {},
   "outputs": [],
   "source": [
    "# 获取当前notebook的绝对路径\n",
    "import sys, os\n",
    "# import asyncio\n",
    "# import nest_asyncio\n",
    "# nest_asyncio.apply()\n",
    "from pathlib import Path\n",
    "current_path = Path.cwd()  # 或者使用 %pwd magic命令\n",
    "project_root = current_path.parents[3]  # 如果notebook在project_root/notebooks/下\n",
    "print(\"notebook所在的路径：\", current_path)\n",
    "print(\"project_root：\", project_root)\n",
    "sys.path.append(str(project_root))\n",
    "import FastAPI_setup"
   ]
  },
  {
   "cell_type": "markdown",
   "metadata": {},
   "source": [
    "## tiptap / docx转化测试"
   ]
  },
  {
   "cell_type": "code",
   "execution_count": null,
   "metadata": {},
   "outputs": [],
   "source": [
    "#doc_path_win = \"C:/Users/huiwa/Downloads/文本分析测试/test_files/parts_doc_chap3 - 1pages_无嵌套 .docx\"\n",
    "#doc_path_win = \"C:/Users/huiwa/Downloads/文本分析测试/test_files/parts_chp1_short.docx\"\n",
    "#doc_path_win = \"C:/Users/huiwa/Downloads/文本分析测试/test_files/parts_doc_chap3 - 1pages_有嵌套.docx\"\n",
    "#doc_path_win = \"C:/Users/huiwa/Downloads/文本分析测试/caseTest/Case6_中国区零食包框架供应商采购项目招采文件.docx\"\n",
    "doc_path_win = \"C:/Users/huiwa/Downloads/文本分析测试/test_files/实战：招标文件-第1包：一级压榨花生油 - 副本.docx\"\n",
    "#doc_path_win = \"C:/Users/huiwa/Downloads/文本分析测试/test_files/parts_chp3.docx\"\n",
    "#doc_path_win = \"C:/Users/huiwa/Downloads/文本分析测试/test_files/parts_chp3 p1.docx\"\n",
    "\n",
    "# 转换为WSL路径\n",
    "doc_path_wsl  = doc_path_win.replace(\"C:\", \"/mnt/c\").replace(\"\\\\\", \"/\")\n",
    "print(f\"WSL路径: {doc_path_wsl}\")\n",
    "\n",
    "\n",
    "import os\n",
    "print(f\"文件是否存在: {os.path.exists(doc_path_wsl)}\")"
   ]
  },
  {
   "cell_type": "code",
   "execution_count": null,
   "metadata": {},
   "outputs": [],
   "source": [
    "from app.clients.tiptap.docx import docx_to_html\n",
    "html_content = await docx_to_html(doc_path_wsl)\n",
    "from pprint import pprint\n",
    "pprint(html_content)"
   ]
  },
  {
   "cell_type": "code",
   "execution_count": null,
   "metadata": {},
   "outputs": [],
   "source": [
    "from IPython.display import display, HTML\n",
    "display(HTML(html_content))"
   ]
  },
  {
   "cell_type": "code",
   "execution_count": null,
   "metadata": {},
   "outputs": [],
   "source": [
    "from app.clients.tiptap.docx import docx_to_tiptap_json\n",
    "json_content = await docx_to_tiptap_json(doc_path_wsl)\n",
    "from pprint import pprint\n",
    "pprint(json_content)"
   ]
  }
 ],
 "metadata": {
  "kernelspec": {
   "display_name": "bidlyzer_env",
   "language": "python",
   "name": "python3"
  },
  "language_info": {
   "codemirror_mode": {
    "name": "ipython",
    "version": 3
   },
   "file_extension": ".py",
   "mimetype": "text/x-python",
   "name": "python",
   "nbconvert_exporter": "python",
   "pygments_lexer": "ipython3",
   "version": "3.12.1"
  }
 },
 "nbformat": 4,
 "nbformat_minor": 2
}
