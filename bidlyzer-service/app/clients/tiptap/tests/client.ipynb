{
 "cells": [
  {
   "cell_type": "code",
   "execution_count": null,
   "metadata": {},
   "outputs": [],
   "source": [
    "# 获取当前notebook的绝对路径\n",
    "import sys, os\n",
    "from pathlib import Path\n",
    "current_path = Path.cwd()  # 或者使用 %pwd magic命令\n",
    "project_root = current_path.parents[3]  # 如果notebook在project_root/notebooks/下\n",
    "print(\"notebook所在的路径：\", current_path)\n",
    "print(\"project_root：\", project_root)\n",
    "sys.path.append(str(project_root))\n",
    "import FastAPI_setup"
   ]
  },
  {
   "cell_type": "code",
   "execution_count": 2,
   "metadata": {},
   "outputs": [],
   "source": [
    "project_id = \"20563b61-7818-474b-9641-c40757bbd3fe\"  # test1\n",
    "#project_id = \"cc6bca8a-df5d-43d5-a931-875113df1f50\"  # test2"
   ]
  },
  {
   "cell_type": "code",
   "execution_count": null,
   "metadata": {},
   "outputs": [],
   "source": [
    "from app.services.planning.step_funcs.get_structure_context import GetStructureContext\n",
    "structure_context = GetStructureContext(project_id)\n",
    "final_document = await structure_context._get_final_document()\n",
    "print(final_document)"
   ]
  },
  {
   "cell_type": "markdown",
   "metadata": {},
   "source": [
    "#### 验证 json to md"
   ]
  },
  {
   "cell_type": "code",
   "execution_count": null,
   "metadata": {},
   "outputs": [],
   "source": [
    "from app.clients.tiptap.client import TiptapClient\n",
    "tiptap_client = TiptapClient()\n",
    "md_result = await tiptap_client.json_to_markdown(final_document)\n",
    "print(md_result)"
   ]
  },
  {
   "cell_type": "code",
   "execution_count": null,
   "metadata": {},
   "outputs": [],
   "source": [
    "from IPython.display import display, Markdown\n",
    "display(Markdown(md_result))"
   ]
  },
  {
   "cell_type": "markdown",
   "metadata": {},
   "source": [
    "#### 验证 json to html"
   ]
  },
  {
   "cell_type": "code",
   "execution_count": null,
   "metadata": {},
   "outputs": [],
   "source": [
    "from app.clients.tiptap.client import TiptapClient\n",
    "tiptap_client = TiptapClient()\n",
    "html_result = await tiptap_client.json_to_html(final_document)\n",
    "print(html_result)"
   ]
  },
  {
   "cell_type": "code",
   "execution_count": null,
   "metadata": {},
   "outputs": [],
   "source": [
    "from IPython.display import display, HTML\n",
    "display(HTML(html_result))"
   ]
  },
  {
   "cell_type": "markdown",
   "metadata": {},
   "source": [
    "#### 验证 html_to_json:  这个已经验证过了，因为docx转为tiptap json格式，就是用的这个工具"
   ]
  },
  {
   "cell_type": "markdown",
   "metadata": {},
   "source": [
    "#### 验证 html_to_markdown"
   ]
  },
  {
   "cell_type": "code",
   "execution_count": null,
   "metadata": {},
   "outputs": [],
   "source": [
    "from app.clients.tiptap.client import TiptapClient\n",
    "tiptap_client = TiptapClient()\n",
    "md_result = await tiptap_client.html_to_markdown(html_result)\n",
    "# print(md_result)\n",
    "from IPython.display import display, Markdown\n",
    "display(Markdown(md_result))"
   ]
  },
  {
   "cell_type": "markdown",
   "metadata": {},
   "source": [
    "#### 验证 markdown_to_json"
   ]
  },
  {
   "cell_type": "code",
   "execution_count": null,
   "metadata": {},
   "outputs": [],
   "source": [
    "from app.clients.tiptap.client import TiptapClient\n",
    "tiptap_client = TiptapClient()\n",
    "json_result = await tiptap_client.markdown_to_json(md_result)\n",
    "from pprint import pprint\n",
    "pprint(json_result)\n"
   ]
  },
  {
   "cell_type": "markdown",
   "metadata": {},
   "source": [
    "#### 验证 markdown_to_html\n"
   ]
  },
  {
   "cell_type": "code",
   "execution_count": null,
   "metadata": {},
   "outputs": [],
   "source": [
    "from app.clients.tiptap.client import TiptapClient\n",
    "tiptap_client = TiptapClient()\n",
    "html_result = await tiptap_client.markdown_to_html(md_result)\n",
    "from IPython.display import display, Markdown\n",
    "display(Markdown(html_result))"
   ]
  }
 ],
 "metadata": {
  "kernelspec": {
   "display_name": "bidlyzer_env",
   "language": "python",
   "name": "python3"
  },
  "language_info": {
   "codemirror_mode": {
    "name": "ipython",
    "version": 3
   },
   "file_extension": ".py",
   "mimetype": "text/x-python",
   "name": "python",
   "nbconvert_exporter": "python",
   "pygments_lexer": "ipython3",
   "version": "3.12.1"
  }
 },
 "nbformat": 4,
 "nbformat_minor": 2
}
