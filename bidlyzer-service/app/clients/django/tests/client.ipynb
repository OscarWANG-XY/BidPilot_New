{
 "cells": [
  {
   "cell_type": "code",
   "execution_count": null,
   "metadata": {},
   "outputs": [],
   "source": [
    "# 获取当前notebook的绝对路径\n",
    "import sys, os\n",
    "from pathlib import Path\n",
    "current_path = Path.cwd()  # 或者使用 %pwd magic命令\n",
    "project_root = current_path.parents[3]  # 如果notebook在project_root/notebooks/下\n",
    "print(\"notebook所在的路径：\", current_path)\n",
    "print(\"project_root：\", project_root)\n",
    "sys.path.append(str(project_root))\n",
    "import FastAPI_setup"
   ]
  },
  {
   "cell_type": "code",
   "execution_count": 2,
   "metadata": {},
   "outputs": [],
   "source": [
    "project_id = \"20563b61-7818-474b-9641-c40757bbd3fe\""
   ]
  },
  {
   "cell_type": "code",
   "execution_count": 3,
   "metadata": {},
   "outputs": [],
   "source": [
    "from app.clients.django.client import DjangoClient\n",
    "django_client = DjangoClient()\n",
    "result = await django_client.get_tender_file_url(project_id)"
   ]
  },
  {
   "cell_type": "code",
   "execution_count": null,
   "metadata": {},
   "outputs": [],
   "source": [
    "from pprint import pprint\n",
    "pprint(result)"
   ]
  },
  {
   "cell_type": "code",
   "execution_count": null,
   "metadata": {},
   "outputs": [],
   "source": [
    "# # 测试视图：获取项目招标文件URL project_views.py 里的 def get_tender_file_url(self, request, pk=None):\n",
    "\n",
    "# 用户用于测试\n",
    "from django.contrib.auth import get_user_model\n",
    "User = get_user_model()\n",
    "# test_user = User.objects.create_user(\n",
    "#     username='testuser',\n",
    "#     email='test@example.com',\n",
    "#     password='testpassword',\n",
    "#     phone='13800138000'  # 添加手机号参数\n",
    "# )\n",
    "test_user = User.objects.get(phone='18501771516')\n",
    "\n",
    "# 项目id用于测试\n",
    "project_id = \"20563b61-7818-474b-9641-c40757bbd3fe\"\n",
    "\n",
    "# 构造请求\n",
    "from django.urls import reverse\n",
    "url = reverse('project-get-tender-file-url', kwargs={'pk': project_id})\n",
    "print(url)\n",
    "from rest_framework.test import APIRequestFactory, force_authenticate\n",
    "factory = APIRequestFactory()\n",
    "request = factory.get(url)\n",
    "force_authenticate(request, user=test_user)\n",
    "\n",
    "# 视图测试\n",
    "from apps.projects.views.project_views import ProjectViewSet\n",
    "view = ProjectViewSet.as_view({'get': 'get_tender_file_url'})\n",
    "response = view(request, pk=project_id)\n",
    "print(response.data)"
   ]
  }
 ],
 "metadata": {
  "kernelspec": {
   "display_name": "bidlyzer_env",
   "language": "python",
   "name": "python3"
  },
  "language_info": {
   "codemirror_mode": {
    "name": "ipython",
    "version": 3
   },
   "file_extension": ".py",
   "mimetype": "text/x-python",
   "name": "python",
   "nbconvert_exporter": "python",
   "pygments_lexer": "ipython3",
   "version": "3.12.1"
  }
 },
 "nbformat": 4,
 "nbformat_minor": 2
}
