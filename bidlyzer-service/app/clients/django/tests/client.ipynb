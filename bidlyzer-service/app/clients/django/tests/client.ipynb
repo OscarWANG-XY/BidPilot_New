{
 "cells": [
  {
   "cell_type": "code",
   "execution_count": 1,
   "metadata": {},
   "outputs": [
    {
     "name": "stdout",
     "output_type": "stream",
     "text": [
      "notebook所在的路径： /home/oscarwang/BidPilot_new/bidlyzer-service/app/clients/django/tests\n",
      "project_root： /home/oscarwang/BidPilot_new/bidlyzer-service\n",
      "FastAPI_setup.py 执行完毕\n"
     ]
    }
   ],
   "source": [
    "# 获取当前notebook的绝对路径\n",
    "import sys, os\n",
    "from pathlib import Path\n",
    "current_path = Path.cwd()  # 或者使用 %pwd magic命令\n",
    "project_root = current_path.parents[3]  # 如果notebook在project_root/notebooks/下\n",
    "print(\"notebook所在的路径：\", current_path)\n",
    "print(\"project_root：\", project_root)\n",
    "sys.path.append(str(project_root))\n",
    "import FastAPI_setup"
   ]
  },
  {
   "cell_type": "code",
   "execution_count": 2,
   "metadata": {},
   "outputs": [],
   "source": [
    "project_id = \"20563b61-7818-474b-9641-c40757bbd3fe\""
   ]
  },
  {
   "cell_type": "code",
   "execution_count": 3,
   "metadata": {},
   "outputs": [
    {
     "name": "stderr",
     "output_type": "stream",
     "text": [
      "ERROR:app.clients.django.client:Django服务请求失败: Client error '401 Unauthorized' for url 'http://localhost:8000/api/projects/20563b61-7818-474b-9641-c40757bbd3fe/get_tender_file_url/'\n",
      "For more information check: https://developer.mozilla.org/en-US/docs/Web/HTTP/Status/401\n"
     ]
    },
    {
     "ename": "Exception",
     "evalue": "Django服务请求失败: Client error '401 Unauthorized' for url 'http://localhost:8000/api/projects/20563b61-7818-474b-9641-c40757bbd3fe/get_tender_file_url/'\nFor more information check: https://developer.mozilla.org/en-US/docs/Web/HTTP/Status/401",
     "output_type": "error",
     "traceback": [
      "\u001b[0;31m---------------------------------------------------------------------------\u001b[0m",
      "\u001b[0;31mHTTPStatusError\u001b[0m                           Traceback (most recent call last)",
      "File \u001b[0;32m~/BidPilot_new/bidlyzer-service/app/clients/django/client.py:34\u001b[0m, in \u001b[0;36mDjangoClient._make_request\u001b[0;34m(self, endpoint, data, method)\u001b[0m\n\u001b[1;32m     33\u001b[0m \u001b[38;5;66;03m# 检查请求状态\u001b[39;00m\n\u001b[0;32m---> 34\u001b[0m \u001b[43mresponse\u001b[49m\u001b[38;5;241;43m.\u001b[39;49m\u001b[43mraise_for_status\u001b[49m\u001b[43m(\u001b[49m\u001b[43m)\u001b[49m\n\u001b[1;32m     36\u001b[0m \u001b[38;5;66;03m# 安全地处理json方法，支持同步和异步\u001b[39;00m\n",
      "File \u001b[0;32m~/miniconda3/envs/bidlyzer_env/lib/python3.12/site-packages/httpx/_models.py:829\u001b[0m, in \u001b[0;36mResponse.raise_for_status\u001b[0;34m(self)\u001b[0m\n\u001b[1;32m    828\u001b[0m message \u001b[38;5;241m=\u001b[39m message\u001b[38;5;241m.\u001b[39mformat(\u001b[38;5;28mself\u001b[39m, error_type\u001b[38;5;241m=\u001b[39merror_type)\n\u001b[0;32m--> 829\u001b[0m \u001b[38;5;28;01mraise\u001b[39;00m HTTPStatusError(message, request\u001b[38;5;241m=\u001b[39mrequest, response\u001b[38;5;241m=\u001b[39m\u001b[38;5;28mself\u001b[39m)\n",
      "\u001b[0;31mHTTPStatusError\u001b[0m: Client error '401 Unauthorized' for url 'http://localhost:8000/api/projects/20563b61-7818-474b-9641-c40757bbd3fe/get_tender_file_url/'\nFor more information check: https://developer.mozilla.org/en-US/docs/Web/HTTP/Status/401",
      "\nDuring handling of the above exception, another exception occurred:\n",
      "\u001b[0;31mException\u001b[0m                                 Traceback (most recent call last)",
      "Cell \u001b[0;32mIn[3], line 3\u001b[0m\n\u001b[1;32m      1\u001b[0m \u001b[38;5;28;01mfrom\u001b[39;00m\u001b[38;5;250m \u001b[39m\u001b[38;5;21;01mapp\u001b[39;00m\u001b[38;5;21;01m.\u001b[39;00m\u001b[38;5;21;01mclients\u001b[39;00m\u001b[38;5;21;01m.\u001b[39;00m\u001b[38;5;21;01mdjango\u001b[39;00m\u001b[38;5;21;01m.\u001b[39;00m\u001b[38;5;21;01mclient\u001b[39;00m\u001b[38;5;250m \u001b[39m\u001b[38;5;28;01mimport\u001b[39;00m DjangoClient\n\u001b[1;32m      2\u001b[0m django_client \u001b[38;5;241m=\u001b[39m DjangoClient()\n\u001b[0;32m----> 3\u001b[0m result \u001b[38;5;241m=\u001b[39m \u001b[38;5;28;01mawait\u001b[39;00m django_client\u001b[38;5;241m.\u001b[39mget_tender_file_url(project_id)\n",
      "File \u001b[0;32m~/BidPilot_new/bidlyzer-service/app/clients/django/client.py:64\u001b[0m, in \u001b[0;36mDjangoClient.get_tender_file_url\u001b[0;34m(self, project_id)\u001b[0m\n\u001b[1;32m     62\u001b[0m endpoint \u001b[38;5;241m=\u001b[39m \u001b[38;5;124mf\u001b[39m\u001b[38;5;124m\"\u001b[39m\u001b[38;5;124mapi/projects/\u001b[39m\u001b[38;5;132;01m{\u001b[39;00mproject_id\u001b[38;5;132;01m}\u001b[39;00m\u001b[38;5;124m/get_tender_file_url/\u001b[39m\u001b[38;5;124m\"\u001b[39m\n\u001b[1;32m     63\u001b[0m \u001b[38;5;66;03m# 使用GET方法获取文件URL\u001b[39;00m\n\u001b[0;32m---> 64\u001b[0m \u001b[38;5;28;01mreturn\u001b[39;00m \u001b[38;5;28;01mawait\u001b[39;00m \u001b[38;5;28mself\u001b[39m\u001b[38;5;241m.\u001b[39m_make_request(endpoint, data\u001b[38;5;241m=\u001b[39m\u001b[38;5;28;01mNone\u001b[39;00m, method\u001b[38;5;241m=\u001b[39m\u001b[38;5;124m'\u001b[39m\u001b[38;5;124mget\u001b[39m\u001b[38;5;124m'\u001b[39m)\n",
      "File \u001b[0;32m~/BidPilot_new/bidlyzer-service/app/clients/django/client.py:50\u001b[0m, in \u001b[0;36mDjangoClient._make_request\u001b[0;34m(self, endpoint, data, method)\u001b[0m\n\u001b[1;32m     48\u001b[0m \u001b[38;5;28;01mexcept\u001b[39;00m \u001b[38;5;167;01mException\u001b[39;00m \u001b[38;5;28;01mas\u001b[39;00m e:\n\u001b[1;32m     49\u001b[0m     logger\u001b[38;5;241m.\u001b[39merror(\u001b[38;5;124mf\u001b[39m\u001b[38;5;124m\"\u001b[39m\u001b[38;5;124mDjango服务请求失败: \u001b[39m\u001b[38;5;132;01m{\u001b[39;00me\u001b[38;5;132;01m}\u001b[39;00m\u001b[38;5;124m\"\u001b[39m)\n\u001b[0;32m---> 50\u001b[0m     \u001b[38;5;28;01mraise\u001b[39;00m \u001b[38;5;167;01mException\u001b[39;00m(\u001b[38;5;124mf\u001b[39m\u001b[38;5;124m\"\u001b[39m\u001b[38;5;124mDjango服务请求失败: \u001b[39m\u001b[38;5;132;01m{\u001b[39;00me\u001b[38;5;132;01m}\u001b[39;00m\u001b[38;5;124m\"\u001b[39m)\n",
      "\u001b[0;31mException\u001b[0m: Django服务请求失败: Client error '401 Unauthorized' for url 'http://localhost:8000/api/projects/20563b61-7818-474b-9641-c40757bbd3fe/get_tender_file_url/'\nFor more information check: https://developer.mozilla.org/en-US/docs/Web/HTTP/Status/401"
     ]
    }
   ],
   "source": [
    "from app.clients.django.client import DjangoClient\n",
    "django_client = DjangoClient()\n",
    "result = await django_client.get_tender_file_url(project_id)\n",
    "\n",
    "\n"
   ]
  },
  {
   "cell_type": "code",
   "execution_count": null,
   "metadata": {},
   "outputs": [],
   "source": [
    "# # 测试视图：获取项目招标文件URL project_views.py 里的 def get_tender_file_url(self, request, pk=None):\n",
    "\n",
    "# 用户用于测试\n",
    "from django.contrib.auth import get_user_model\n",
    "User = get_user_model()\n",
    "# test_user = User.objects.create_user(\n",
    "#     username='testuser',\n",
    "#     email='test@example.com',\n",
    "#     password='testpassword',\n",
    "#     phone='13800138000'  # 添加手机号参数\n",
    "# )\n",
    "test_user = User.objects.get(phone='18501771516')\n",
    "\n",
    "# 项目id用于测试\n",
    "project_id = \"20563b61-7818-474b-9641-c40757bbd3fe\"\n",
    "\n",
    "# 构造请求\n",
    "from django.urls import reverse\n",
    "url = reverse('project-get-tender-file-url', kwargs={'pk': project_id})\n",
    "print(url)\n",
    "from rest_framework.test import APIRequestFactory, force_authenticate\n",
    "factory = APIRequestFactory()\n",
    "request = factory.get(url)\n",
    "force_authenticate(request, user=test_user)\n",
    "\n",
    "# 视图测试\n",
    "from apps.projects.views.project_views import ProjectViewSet\n",
    "view = ProjectViewSet.as_view({'get': 'get_tender_file_url'})\n",
    "response = view(request, pk=project_id)\n",
    "print(response.data)"
   ]
  }
 ],
 "metadata": {
  "kernelspec": {
   "display_name": "bidlyzer_env",
   "language": "python",
   "name": "python3"
  },
  "language_info": {
   "codemirror_mode": {
    "name": "ipython",
    "version": 3
   },
   "file_extension": ".py",
   "mimetype": "text/x-python",
   "name": "python",
   "nbconvert_exporter": "python",
   "pygments_lexer": "ipython3",
   "version": "3.12.1"
  }
 },
 "nbformat": 4,
 "nbformat_minor": 2
}
