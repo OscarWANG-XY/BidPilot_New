{
 "cells": [
  {
   "cell_type": "code",
   "execution_count": 1,
   "metadata": {},
   "outputs": [
    {
     "name": "stdout",
     "output_type": "stream",
     "text": [
      "notebook所在的路径： /home/oscarwang/BidPilot_new/bidlyzer-service/notebooks\n",
      "project_root： /home/oscarwang/BidPilot_new/bidlyzer-service\n"
     ]
    }
   ],
   "source": [
    "import sys, os\n",
    "from pathlib import Path\n",
    "from pprint import pprint\n",
    "import asyncio\n",
    "import nest_asyncio\n",
    "nest_asyncio.apply()\n",
    "\n",
    "# 获取当前notebook的绝对路径\n",
    "notebook_path = Path.cwd()  # 或者使用 %pwd magic命令\n",
    "print(\"notebook所在的路径：\", notebook_path)\n",
    "\n",
    "# 方法1a：如果你知道项目根目录的相对位置\n",
    "project_root = notebook_path.parent  # 如果notebook在project_root/notebooks/下\n",
    "print(\"project_root：\", project_root)\n",
    "sys.path.append(str(project_root))\n",
    "\n",
    "# 导入必要的库\n",
    "import json\n",
    "import httpx\n",
    "from fastapi.testclient import TestClient\n",
    "\n",
    "# 导入我们的应用\n",
    "from app.main import app"
   ]
  },
  {
   "cell_type": "code",
   "execution_count": 2,
   "metadata": {},
   "outputs": [
    {
     "name": "stderr",
     "output_type": "stream",
     "text": [
      "DEBUG:asyncio:Using selector: EpollSelector\n",
      "INFO:httpx:HTTP Request: GET http://testserver/ \"HTTP/1.1 200 OK\"\n"
     ]
    },
    {
     "name": "stdout",
     "output_type": "stream",
     "text": [
      "状态码: 200\n",
      "响应内容: {'message': 'Welcome to Bidlyzer Service'}\n"
     ]
    }
   ],
   "source": [
    "# 创建测试客户端\n",
    "client = TestClient(app)\n",
    "\n",
    "# 测试根路由\n",
    "response = client.get(\"/\")\n",
    "print(f\"状态码: {response.status_code}\")\n",
    "print(f\"响应内容: {response.json()}\")"
   ]
  }
 ],
 "metadata": {
  "kernelspec": {
   "display_name": "bidlyzer_env",
   "language": "python",
   "name": "python3"
  },
  "language_info": {
   "codemirror_mode": {
    "name": "ipython",
    "version": 3
   },
   "file_extension": ".py",
   "mimetype": "text/x-python",
   "name": "python",
   "nbconvert_exporter": "python",
   "pygments_lexer": "ipython3",
   "version": "3.12.1"
  }
 },
 "nbformat": 4,
 "nbformat_minor": 2
}
