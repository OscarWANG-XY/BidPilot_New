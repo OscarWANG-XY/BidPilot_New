{
 "cells": [
  {
   "cell_type": "code",
   "execution_count": 1,
   "metadata": {},
   "outputs": [],
   "source": [
    "\n",
    "import sys\n",
    "# 添加项目根目录到路径，假设notebook文件在项目根目录的notebooks文件夹中\n",
    "sys.path.append('..')\n",
    "\n",
    "# 导入必要的库\n",
    "import json\n",
    "import httpx\n",
    "from fastapi.testclient import TestClient\n",
    "\n",
    "# 导入我们的应用\n",
    "from app.main import app"
   ]
  },
  {
   "cell_type": "code",
   "execution_count": null,
   "metadata": {},
   "outputs": [],
   "source": [
    "# 创建测试客户端\n",
    "client = TestClient(app)\n",
    "\n",
    "# 测试根路由\n",
    "response = client.get(\"/\")\n",
    "print(f\"状态码: {response.status_code}\")\n",
    "print(f\"响应内容: {response.json()}\")"
   ]
  }
 ],
 "metadata": {
  "kernelspec": {
   "display_name": "bidlyzer_env",
   "language": "python",
   "name": "python3"
  },
  "language_info": {
   "codemirror_mode": {
    "name": "ipython",
    "version": 3
   },
   "file_extension": ".py",
   "mimetype": "text/x-python",
   "name": "python",
   "nbconvert_exporter": "python",
   "pygments_lexer": "ipython3",
   "version": "3.12.1"
  }
 },
 "nbformat": 4,
 "nbformat_minor": 2
}
