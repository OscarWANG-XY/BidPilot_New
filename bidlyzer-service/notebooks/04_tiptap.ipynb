{
 "cells": [
  {
   "cell_type": "code",
   "execution_count": null,
   "metadata": {},
   "outputs": [],
   "source": [
    "import sys, os\n",
    "from pathlib import Path\n",
    "from pprint import pprint\n",
    "import asyncio\n",
    "import nest_asyncio\n",
    "nest_asyncio.apply()\n",
    "\n",
    "# 获取当前notebook的绝对路径\n",
    "notebook_path = Path.cwd()  # 或者使用 %pwd magic命令\n",
    "print(\"notebook所在的路径：\", notebook_path)\n",
    "\n",
    "# 方法1a：如果你知道项目根目录的相对位置\n",
    "project_root = notebook_path.parent  # 如果notebook在project_root/notebooks/下\n",
    "print(\"project_root：\", project_root)\n",
    "sys.path.append(str(project_root))\n",
    "\n",
    "# 导入必要的库\n",
    "import json\n",
    "import httpx\n",
    "from fastapi.testclient import TestClient\n",
    "\n",
    "# 导入我们的应用\n",
    "from app.main import app"
   ]
  },
  {
   "cell_type": "code",
   "execution_count": 2,
   "metadata": {},
   "outputs": [],
   "source": [
    "complex_html = \"\"\"\n",
    "    <h1>Complex Document</h1>\n",
    "    <p>This document contains <strong>bold</strong>, <em>italic</em>, and <u>underlined</u> text.</p>\n",
    "    <ul>\n",
    "        <li>List item 1</li>\n",
    "        <li>List item 2</li>\n",
    "    </ul>\n",
    "    <blockquote>\n",
    "        <p>This is a quote</p>\n",
    "    </blockquote>\n",
    "    <pre><code>console.log('Hello World');</code></pre>\n",
    "    \"\"\""
   ]
  },
  {
   "cell_type": "code",
   "execution_count": null,
   "metadata": {},
   "outputs": [],
   "source": [
    "from app.tiptap.client import TiptapClient\n",
    "\n",
    "\n",
    "client = TiptapClient()\n",
    "JSON = asyncio.run(client.html_to_json(complex_html))\n",
    "pprint(JSON)\n"
   ]
  }
 ],
 "metadata": {
  "kernelspec": {
   "display_name": "bidlyzer_env",
   "language": "python",
   "name": "python3"
  },
  "language_info": {
   "codemirror_mode": {
    "name": "ipython",
    "version": 3
   },
   "file_extension": ".py",
   "mimetype": "text/x-python",
   "name": "python",
   "nbconvert_exporter": "python",
   "pygments_lexer": "ipython3",
   "version": "3.12.1"
  }
 },
 "nbformat": 4,
 "nbformat_minor": 2
}
